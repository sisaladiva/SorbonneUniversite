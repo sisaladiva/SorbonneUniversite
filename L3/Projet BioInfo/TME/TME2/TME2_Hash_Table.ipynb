{
 "cells": [
  {
   "cell_type": "markdown",
   "metadata": {
    "id": "rvIXzvLp90be"
   },
   "source": [
    "Nom Etudiant 1: Assia MASTOR\n",
    "Nom Etudiant 2: Maimouna ABDERAHMAN"
   ]
  },
  {
   "cell_type": "markdown",
   "metadata": {
    "id": "MoRHY5QImaqy"
   },
   "source": [
    "# TME 2 : Projet Detection de motifs - Hash Table\n",
    "\n",
    "Nous allons développer des algorithmes pour chercher de motifs dans les données de ChipSeq de C. glabrata.\n",
    "Pour commencer nous allons d'abord produire des données artificielles qui nous permettront de tester rapidement nos algorithmes. Ensuite nous allons chercher les motifs dans C. glabrata et analyser les résultats.\n",
    "\n",
    "## Partie A : Recherche de pattern (motifs) identiques\n"
   ]
  },
  {
   "cell_type": "markdown",
   "metadata": {
    "id": "bmMkaXpwmaq9"
   },
   "source": [
    "1\\. Faites une fonction pour générer aléatoirement des séquences artificielles, puis générer t=10 séquences de n=41 nucléotides chacune. Toutes les lettres peuvent être équiprobables pour la génération des séquences."
   ]
  },
  {
   "cell_type": "code",
   "execution_count": 2,
   "metadata": {
    "id": "c8RaBfm0maq-"
   },
   "outputs": [
    {
     "name": "stdout",
     "output_type": "stream",
     "text": [
      "['CAACACTC', 'TCCTATAG', 'GAGTCCGT']\n"
     ]
    }
   ],
   "source": [
    "import random\n",
    "\n",
    "nuc = ('A', 'C', 'G', 'T')\n",
    "\n",
    "t=10 #nombre de sequences\n",
    "n=41 #longueur des sequences\n",
    "#Pour un simple teste\n",
    "t=3 #nombre de sequences\n",
    "n=8 #longueur des sequences\n",
    "\n",
    "def generateRandomSequence(n:int, upper=False):\n",
    "    \"\"\"\n",
    "    Genere une séquence nucléotidique aléatoire \n",
    "    entrée n : longueur de la sequence\n",
    "    entrée upper : bool, si True les nucléotides seront minuscule, False majuscule\n",
    "    sortie sequence : une séquence nucléotidique aléatoire \n",
    "    \"\"\"\n",
    "    sequence = \"\"\n",
    "    \n",
    "    for i in range (n):\n",
    "        tmp=random.choice(nuc)\n",
    "        sequence =sequence+tmp\n",
    "        \n",
    "    if upper== True:\n",
    "        sequence= sequence.lower()\n",
    "    return sequence\n",
    "\n",
    "def generateRandomSequences(n:int, t:int):\n",
    "    \"\"\"\n",
    "    Genere plusieurs séquences nucléotidiques aléatoires \n",
    "    entrée n : longueur des sequences\n",
    "    entrée t : nombre de sequences\n",
    "    sortie sequences : liste de sequences nucléotidiques aléatoires \n",
    "    \"\"\"\n",
    "    sequences = []\n",
    "    \n",
    "    for i in range (t):\n",
    "        tmp=generateRandomSequence(n,False)\n",
    "        sequences.append(tmp)\n",
    "        \n",
    "    return sequences\n",
    "    \n",
    "seqs = generateRandomSequences(n, t);\n",
    "\n",
    "print (seqs)\n"
   ]
  },
  {
   "cell_type": "markdown",
   "metadata": {
    "id": "PcesMqoNmarD"
   },
   "source": [
    "2\\. Nous allons maintenant implanter dans les séquences artificielles generés avant un motif de taille `k`=9 à des positions aléatoires (choisies uniformément le long de la séquence). \n",
    "Bonus : on considère une proportion ``f``=0.9 de séquences qui possèdent le motif."
   ]
  },
  {
   "cell_type": "code",
   "execution_count": 3,
   "metadata": {
    "id": "7lVbiVK7marF"
   },
   "outputs": [
    {
     "name": "stdout",
     "output_type": "stream",
     "text": [
      "\n",
      "Modified sequences: ['CAgccACACTC', 'TCCgccTATAG', 'GAGgccTCCGT']\n"
     ]
    }
   ],
   "source": [
    "# taille des motifs k = 9\n",
    "k = 3 \n",
    "# frequences d'occurences des motifs f = 0.9 \n",
    "#f = 0.9 # Pour le bonnus\n",
    "f = 1\n",
    "\n",
    "import random\n",
    "\n",
    "\n",
    "def insertMotif(sequence, motif, position):\n",
    "    return sequence[:position] + motif + sequence[position:]\n",
    "\n",
    "def implantMotifs(motifs:str,  sequences:list, f=1):\n",
    "    \"\"\"\n",
    "    Insérer un motif dans des positions aléatoires des séquences\n",
    "    entrée motifs : motif qui va être implanté dans les séquences\n",
    "    entrée f : fréquence d'implantation si 1 toutes les sequences contiendra un motif\n",
    "    entrée séquences : liste de sequences\n",
    "    sortie modified_sequences: liste de séquences ayant le motif implanté\n",
    "    \"\"\"\n",
    "   \n",
    "    modified_sequences     = []\n",
    "    \n",
    "    for seq in (sequences): #Boucle sur la liste de sequences, pour chaque seq création d'une liste de position choisie aléatoirement \n",
    "        listepos=[]\n",
    "        for i in range(f):\n",
    "            listepos.append(random.randrange(len(seq)))\n",
    "            \n",
    "        seqtmp=seq\n",
    "        #print(listepos) #État de la liste avant trie :\n",
    "        listepos.sort(reverse = True) #Trie listepos par ordre croissant\n",
    "        #print(listepos) #État de la liste aprés trie\n",
    "        \n",
    "        for pos in listepos: #Boucle sur les positions et insertion du motif en commancant par la fin de la seq cad les positions les plus grandes\n",
    "            seqtmp = insertMotif(seqtmp, motifs, pos)\n",
    "        modified_sequences.append(seqtmp)\n",
    "        \n",
    "    return modified_sequences\n",
    "\n",
    "# Generate motifs\n",
    "def generateMotifs(k, nM):\n",
    "    return [generateRandomSequence(k, False) for rs in range(nM)]\n",
    "\n",
    "#Test\n",
    "#print (implantMotifs(\"lolll\",[\"012345678910111213\",\"bbbbbbbbbb\",\"cccccccccc\",\"dddddddddddd\"],1))\n",
    "\n",
    "motif = generateRandomSequence(3, True)\n",
    "motif_implanted_seqs = implantMotifs(motif,  seqs, f)\n",
    "print (\"\\nModified sequences:\", motif_implanted_seqs)\n"
   ]
  },
  {
   "cell_type": "markdown",
   "metadata": {
    "id": "xiIkrujLmarJ"
   },
   "source": [
    "3\\. Faites une fonction pour chercher les $m$ motifs de taille $k$ les plus fréquents dans l'ensemble des séquences. Tester cette fonction sur un l'ensemble de séquences avec le motif implanté génère dans les questions précédentes. Faite aussi une fonction qu'affiche les $top$ motifs les plus fréquents. "
   ]
  },
  {
   "cell_type": "code",
   "execution_count": 4,
   "metadata": {
    "id": "LPsYkRG1marK"
   },
   "outputs": [
    {
     "name": "stdout",
     "output_type": "stream",
     "text": [
      "{'TAA': 3, 'AAG': 1, 'AGT': 1, 'GTA': 1, 'TAT': 2, 'ATA': 1, 'CTA': 1, 'ATC': 1}\n",
      "{'TAA': 3, 'TAT': 2}\n"
     ]
    }
   ],
   "source": [
    "def searchMotifs(k:int, sequences:list):\n",
    "    \"\"\"\n",
    "    Cherche les motifs de taille k dans un ensemble de séquences\n",
    "    entrée k : taille du motif\n",
    "    entrée séquences : liste de sequences\n",
    "    sortie motifs: dictionnaire de motifs, clé=motif, valeur = fréquence d'observation\n",
    "    >>>searchMotifs(3, ['TAAGTAA', 'TATAA', 'CTATC'])\n",
    "    {'TAA': 3, 'AAG': 1, 'AGT': 1, 'GTA': 1, 'TAT': 2, 'ATA': 1, 'CTA': 1, 'ATC': 1}\n",
    "    \"\"\"\n",
    "    motifs  = {};\n",
    "    \n",
    "    for seq in sequences:\n",
    "        for imot in range(len(seq)-k+1): #Boucle sur indice de 0 à l'indice = taille de la sequence - taille du motif + 1 = indice du dernier motifs de taille k de la séquence\n",
    "            \n",
    "            tmp=\"\"\n",
    "            for n in range(k):\n",
    "                tmp= tmp+seq[imot+n]\n",
    "                \n",
    "            if tmp not in motifs.keys(): \n",
    "                motifs[tmp]= 1\n",
    "            else:\n",
    "                val= motifs[tmp]\n",
    "                val+=1\n",
    "                motifs[tmp]=val\n",
    "                \n",
    "    return motifs\n",
    "\n",
    "def getTopMotifs(motifs:dict(), top:int):\n",
    "    \"\"\"\n",
    "    renvoyer les top motifs le plus frequent\n",
    "    entrée motifs: dictionnaire de motifs, clé=motif, valeur = fréquence d'observation\n",
    "    entrée top : les top plus frequent \n",
    "    sortie motifsfreq: dictionnaire contenant les top motifs les plus fréquents, clé=motif, valeur = fréquence d'observation\n",
    "    >>>getTopMotifs({'TAA': 3, 'AAG': 1, 'AGT': 1, 'GTA': 1, 'TAT': 2, 'ATA': 1, 'CTA': 1, 'ATC': 1}, 2)\n",
    "    {'TAA': 3, 'TAT': 2}\n",
    "    \"\"\"\n",
    "    motifsfreq  = {}\n",
    "    \n",
    "    valDicoSorted= sorted(motifs.values(), reverse = True) # Permet liste des valeurs du dico triées par ordre croissant\n",
    "    valDicS = sorted(list(set(valDicoSorted)), reverse = True) # Suppresion des doublons dans valDicoSorted\n",
    "    tmp= valDicS[0]\n",
    "    \n",
    "    for tp in range(top):\n",
    "        if tp < len(valDicS):\n",
    "            tmpVal = valDicS[tp] \n",
    "            \n",
    "            #Récupère tt item du dico admettant pour valeur tmpVal et donc motif dans le top et les ajoutes au dico résultat\n",
    "            for k,v in motifs.items():\n",
    "                if v == tmpVal :\n",
    "                    motifsfreq[k]=v  \n",
    "    \n",
    "    return motifsfreq\n",
    "\n",
    "#Test\n",
    "motifsFound = searchMotifs(3, ['TAAGTAA', 'TATAA', 'CTATC'])\n",
    "print (motifsFound)\n",
    "#{'TAA': 3, 'AAG': 1, 'AGT': 1, 'GTA': 1, 'TAT': 2, 'ATA': 1, 'CTA': 1, 'ATC': 1}\n",
    "\n",
    "topMotifs = getTopMotifs(motifsFound, 2)\n",
    "print (topMotifs)\n",
    "#{'TAA': 3, 'TAT': 2}"
   ]
  },
  {
   "cell_type": "markdown",
   "metadata": {
    "id": "G8Hw-Zj6marM"
   },
   "source": [
    "4\\. Quell est la complexité de votre algorithme?"
   ]
  },
  {
   "cell_type": "markdown",
   "metadata": {
    "id": "3uvvJvCKmarN"
   },
   "source": [
    "<font color='blue'>\n",
    "La compléxité de notre algorithme dépend de la taille des entrées, la taille du dictionnaire (n) et des motifs (m) ainsi que top une constante conditionant notre boucle for.\n",
    " \n",
    "- Notre boucle for a pour compléxité pire cas top*(n*m) (Car : top * compléxité len() + top * (n*m))\n",
    "- (2* compléxité sorted()) + compléxité list() + compléxité set() + commpléxité boucle for = O(n^2)+ O(m)+O(m) + top*(n*m) = top*(n*m)+m+(n^2)\n",
    "    \n",
    "Finalement notre fonction getTopMotifs a pour compléxité pire cas : n(m^2)top + n^2 \n",
    "    \n",
    "Pour ce qui est de searchMotifs, len(sequences)*(Pour chaque seq dans sequences sa taille donc total somme taille des séquences dans la list de sequence)\n",
    "\n",
    "</font>"
   ]
  },
  {
   "cell_type": "markdown",
   "metadata": {
    "id": "H8HebyHumarO"
   },
   "source": [
    "5\\. Certains motifs sont reverse complémentaires. Implanter des motifs reverse complémentaires dans les séquences déjà générés et en suite chercher ces motifs. Attention: vous devez réutiliser les fonctions développés précédemment, pas besoin de définir des nouvelles fonctions. "
   ]
  },
  {
   "cell_type": "code",
   "execution_count": 5,
   "metadata": {
    "id": "O_zGqHAFmarO"
   },
   "outputs": [
    {
     "name": "stdout",
     "output_type": "stream",
     "text": [
      "Sequences seq d'entrée : \n",
      " ['CAACACTC', 'TCCTATAG', 'GAGTCCGT']\n",
      "Liste seqs avec des motif reverse compl implanter pour chaque séquence : \n",
      " ['CgagtgttAACACTC', 'TCctataggaCTATAG', 'GAGTCCGacggactcT']\n",
      "Liste avec indice de début trouver pour chaque motif reverse compl implanter (en minuscule) ds la sequence : \n",
      " [[1], [2], [7]]\n"
     ]
    }
   ],
   "source": [
    "import re\n",
    "\n",
    "def reversecompl(seq:str):\n",
    "    \"\"\"Renvoie le brin complémentaire d’une séquence.\n",
    "    entrée : sequence de nucléotides (brin sens)\n",
    "    sortie : sequence de nucléotides (brin complementaire)\n",
    "    >>> reversecompl('AACGTGGCA')\n",
    "    'TGCCACGTT'\n",
    "    \"\"\"\n",
    "\n",
    "    compl = {'A': 'T', 'C': 'G', 'G': 'C', 'T':'A','a': 't', 'c': 'g', 'g': 'c', 't':'a'}\n",
    "    rev_compl = \"\"\n",
    "    for i in seq:\n",
    "        if i in compl.keys() :\n",
    "            rev_compl = compl[i]+ rev_compl\n",
    "        else :\n",
    "            print(\"Erreur ce(s) nucléotide(s) n'existent pas : \"+i)\n",
    "            return\n",
    "    return rev_compl\n",
    "\n",
    "def reversecomplList(seq):\n",
    "    res=[reversecompl(sq) for sq in seq]\n",
    "    return res\n",
    "    \n",
    "#print(reversecompl('AACGTGGCA'))\n",
    "#print(reversecomplList(motif_implanted_seqs))\n",
    "\n",
    "def randomimplantReverCompl(seq):\n",
    "    \"\"\"Implémente pour chaque sequence de la liste un motif reverse complémentaire en minuscule de taille t aléatoire à un indice tirer aléatoirement entre 0 et taille sequence - 1\n",
    "        Retourne une liste avec des mootif reverse compl implentés \n",
    "    \"\"\"\n",
    "\n",
    "    indRandom=0 #Sert pour créer de façon aléatoire le motif\n",
    "    motifàreverseCompl=''\n",
    "    t = random.randint(0, len(seq[0])) #Pour que la taille du motif reverse comple implanter ne soit plus grand que toute la séquence, car choix du motif de taille t dont le reverse comple est implémenter est fait en prenant aléatoirement u indice entre 0 et taille de la seéquence- taille motif fixé aléatoirement\n",
    "    LseqRes=[]\n",
    "    LseqResTMP=[]\n",
    "    \n",
    "    print(\"Sequences seq d'entrée : \\n\",seq)\n",
    "    for sq in seq :\n",
    "        indRandom = random.randint(0, len(sq)-t)\n",
    "        #print(\"Indice début choix motif à reverse compl \",indRandom)\n",
    "        motifàreverseCompl=sq[indRandom:indRandom+t+1] #Sélection du motif\n",
    "        motifreverseCompl = reversecompl(motifàreverseCompl.lower()) #Motif en minuscule pour permettre d ele recherché par la suite\n",
    "        #print(\"Motif Reverse complémentaire à partir de cet indice\", motifreverseCompl)\n",
    "        \n",
    "        #Implantation du motif reverse compl\n",
    "        LseqResTMP = implantMotifs(motifreverseCompl,[sq],1)\n",
    "        #print(LseqResTMP)\n",
    "        LseqRes=LseqRes+LseqResTMP #Ajout de la sequence avec motif implanter\n",
    "        LseqResTMP=[]\n",
    "    \n",
    "    return LseqRes\n",
    "\n",
    "listeAvecMotifreverse=randomimplantReverCompl(seqs)\n",
    "print(\"Liste seqs avec des motif reverse compl implanter pour chaque séquence : \\n\",listeAvecMotifreverse)\n",
    "\n",
    "def randomimplantReverCompl(seq):\n",
    "    \"\"\"Fontion qui recherche début et fin du motif reverse complémentaire implanté pour chaque séquence de la liste de sequence en entrée, retourne sous forme de liste de n-uplet\n",
    "    \"\"\"\n",
    "    tmpMotif=[]\n",
    "    listeRes=[] #Liste de liste de n'uplet, avec indicde de début et fin pour tout les motifs trouver de la sequence \n",
    "    \n",
    "    for sq in seq :\n",
    "        tmpMotif= re.findall('[atgc]+',sq) #Récupère tt les motifs reverse comple implanter en minuscule dans la sequence, cela dit par défaut randomimplantReverCompl implante un seul motif donc ds la liste tjr un seul motif pour la séquence considérer\n",
    "        #print(tmpMotif)\n",
    "        \n",
    "        listeTmp=[]\n",
    "        indicedeb=0\n",
    "        for motif in tmpMotif: #Pour chaque motif dans la sequence récupère indice de début\n",
    "            indicedeb=sq.find(motif)\n",
    "            listeTmp.append(indicedeb)\n",
    "            \n",
    "        listeRes.append(listeTmp) #Ajout à la liste resultat\n",
    "    \n",
    "    return listeRes\n",
    "\n",
    "res = randomimplantReverCompl(listeAvecMotifreverse)\n",
    "print(\"Liste avec indice de début trouver pour chaque motif reverse compl implanter (en minuscule) ds la sequence : \\n\",res)\n",
    "    "
   ]
  },
  {
   "cell_type": "markdown",
   "metadata": {
    "id": "RyUhiM2XmarQ"
   },
   "source": [
    "\n",
    "## Partie B : Recherche de motifs identiques sur vos données"
   ]
  },
  {
   "cell_type": "markdown",
   "metadata": {
    "id": "qjjE5tq9marQ"
   },
   "source": [
    "1\\. Le fichier \"C_glabrata_1000bp_only.fasta\" contiens les séquences régulatrices pour tous les gènes de votre organisme. Nous avons pris les 1000bp en amont du codon start. Chercher les 50 motifs de taille 7 les plus fréquents dans les deux brim de votre génome."
   ]
  },
  {
   "cell_type": "code",
   "execution_count": 6,
   "metadata": {
    "id": "-r1ASCFYmarR"
   },
   "outputs": [
    {
     "name": "stdout",
     "output_type": "stream",
     "text": [
      "\n",
      "\n",
      "Voici le top 50 des motifs de taille 7 les plus fréquents dans les 2 brims du génome ^^\n",
      " {'TTTTTTT': 16043, 'AAAAAAA': 16043, 'ATTTTTT': 5930, 'AAAAAAT': 5930, 'TATATAT': 5892, 'ATATATA': 5892, 'AATTTTT': 4926, 'AAAAATT': 4926, 'TTTTTTC': 4708, 'GAAAAAA': 4708, 'AAAATTT': 4613, 'AAATTTT': 4613, 'TTTCTTT': 4576, 'AAAGAAA': 4576, 'TATTTTT': 4480, 'AAAAATA': 4480, 'AAGAAAA': 4295, 'TTTTCTT': 4295, 'TTTTTCA': 4129, 'TGAAAAA': 4129, 'AAAATAA': 4074, 'TTATTTT': 4074, 'AAATAAA': 4044, 'TTTATTT': 4044, 'TTTTATT': 3999, 'AATAAAA': 3999, 'TTCTTTT': 3991, 'AAAAGAA': 3991, 'TATATAA': 3932, 'TTATATA': 3932, 'ATATATT': 3802, 'AATATAT': 3802, 'TTTTTTG': 3771, 'CAAAAAA': 3771, 'AAAAAAG': 3714, 'CTTTTTT': 3714, 'AGAAAAA': 3668, 'TTTTTCT': 3668, 'ATAAAAA': 3642, 'TTTTTAT': 3642, 'AAATATA': 3568, 'TATATTT': 3568, 'TATTATT': 3553, 'AATAATA': 3553, 'AAAATAT': 3483, 'ATATTTT': 3483, 'TAAAAAA': 3465, 'TTTTTTA': 3465, 'TTTATAT': 3369, 'ATATAAA': 3369, 'TCTTTTT': 3265, 'AAAAAGA': 3265, 'AATATAA': 3135, 'TTATATT': 3135, 'AAATATT': 3132, 'AATATTT': 3132, 'ATATAAT': 3124, 'ATTATAT': 3124, 'TTGAAAA': 3112, 'TTTTCAA': 3112, 'ATAATAT': 3103, 'ATATTAT': 3103, 'AACAAAA': 3072, 'TTTTGTT': 3072, 'TTTGAAA': 3070, 'TTTCAAA': 3070, 'AAATAAT': 3062, 'ATTATTT': 3062, 'ATAATAA': 3048, 'TTATTAT': 3048, 'ATAAATA': 3047, 'TATTTAT': 3047, 'AAACAAA': 3041, 'TTTGTTT': 3041, 'TAATATA': 3031, 'TATATTA': 3031, 'AAAACAA': 3011, 'TTGTTTT': 3011, 'TATAATA': 3003, 'TATTATA': 3003, 'ACAAAAA': 3002, 'TTTTTGT': 3002, 'AGAAGAA': 2962, 'TTCTTCT': 2962, 'AAGAAGA': 2938, 'TCTTCTT': 2938, 'TTCAAAA': 2836, 'TTTTGAA': 2836, 'TAATATT': 2813, 'AATATTA': 2813, 'AATAAAT': 2812, 'ATTTATT': 2812, 'AATTGAA': 2777, 'TTCAATT': 2777, 'AAGAAAT': 2759, 'ATTTCTT': 2759, 'GAAAAAT': 2759, 'ATTTTTC': 2759, 'ATTTTAT': 2735, 'ATAAAAT': 2735, 'TAAAATA': 2681, 'TATTTTA': 2681}\n",
      "\n",
      "\n",
      "BONUS, fréquence motif TGATTCAT : 298\n"
     ]
    }
   ],
   "source": [
    "import time\n",
    "\n",
    "k=7\n",
    "feq=10\n",
    "top= 50\n",
    "genome = \"C_glabrata_1000bp_only.fasta\"\n",
    "\n",
    "\n",
    "def readFasta(fastaFileName):\n",
    "    \"\"\"\n",
    "    Read a fasta file\n",
    "    entrée fastaFileName: nom du fichier fasta\n",
    "    sortie sequences: liste contenant toutes les sequences du fichier\n",
    "    \"\"\"\n",
    "    sequence = []\n",
    "    file = open(genome, \"r\")\n",
    "    sequence = []\n",
    "    for s in file:\n",
    "        if s[0] != \">\":\n",
    "            sequence.append(s.strip().upper())\n",
    "    return sequence\n",
    "\n",
    "sequences = readFasta(genome)\n",
    "brincompl = reversecomplList(sequences)\n",
    "fusionListebrin1et2 = sequences + brincompl\n",
    "\n",
    "#dicoMotifBr1= searchMotifs(k, sequences) #Dico de tt les motifs de taille 7 récupérer ds brim 1\n",
    "#dicoMotifBr2= searchMotifs(k, brincompl)\n",
    "#top50Motif7BR1 = getTopMotifs(dicoMotifBr1,50)\n",
    "#top50Motif7BR2 = getTopMotifs(dicoMotifBr2,50)\n",
    "dicoMotifBr1ET2= searchMotifs(k, fusionListebrin1et2) #Dico de tt les motifs de taille 7 récupérer\n",
    "top50 = getTopMotifs(dicoMotifBr1ET2,50)\n",
    "\n",
    "#print(\"Voici le top 50 des motifs de taille 7 les plus fréquents dans le brin 1 ^^\\n\",top50Motif7BR1)\n",
    "#print(\"\\n\\nVoici le top 50 des motifs de taille 7 les plus fréquents dans le brin 2^^\\n\",top50Motif7BR2)\n",
    "print(\"\\n\\nVoici le top 50 des motifs de taille 7 les plus fréquents dans les 2 brims du génome ^^\\n\",top50)\n",
    "\n",
    "dicoMotifTaille8 =searchMotifs(8, fusionListebrin1et2)\n",
    "print(\"\\n\\nBONUS, fréquence motif TGATTCAT :\", dicoMotifTaille8['TGATTCAT']) \n"
   ]
  },
  {
   "cell_type": "markdown",
   "metadata": {
    "id": "0e5fdIztmarS"
   },
   "source": [
    "2\\. Quel sont les trois motifs de taille 7 les plus frequents? Pensez vous que ces motifs correspondent à de facteur de transcription connus? Justifier votre reponse."
   ]
  },
  {
   "cell_type": "markdown",
   "metadata": {
    "id": "8Zyhn6-PmarS"
   },
   "source": [
    "<font color='blue'>\n",
    "\n",
    "Les trois motifs de taille 7 les plus fréquents sont : \n",
    "\n",
    "\n",
    "{'TTTTTTT': 16043, 'AAAAAAA': 16043, 'ATTTTTT': 5930, 'AAAAAAT': 5930,'TATATAT': 5892, 'ATATATA': 5892}, 3 motif et leur reverse complémentaire.\n",
    "    \n",
    "Il s'agit de motif peu complexe présent à une grande fréquence et donc trés probablement connus, cela dit ils n'ont pas certainement une signification biologique. \n",
    "\n",
    "En revanche le motif 'ATATATA', fait penser à la TATA box ! Cette séquence d'ADN codée TATA se situe à environ 25 nucléotides en amont du premier nucléotide transcrit et sert en partie de lieu de reconnaissance à l'ARN polymérase chez les eucaryotes.\n",
    "\n",
    "</font>"
   ]
  },
  {
   "cell_type": "markdown",
   "metadata": {
    "id": "NVUbnuGDmarT"
   },
   "source": [
    "<font color='black'>\n",
    "3\\. BONNUS: Le motif TGATTCAT correspond au facteur de transcription Gcn4 qui est trés souvant trouvé dans le genome de levures. Est-ce que vous avez trouvé ce motif? Si oui avec quel frequence?\n",
    "\n",
    "Oui nous avons trouver le motif et à une fréquence de 152 pour TGATTCAT (Taille 8)\n",
    "    \n",
    "\n",
    "</font>"
   ]
  },
  {
   "cell_type": "code",
   "execution_count": 7,
   "metadata": {
    "id": "ZeMVGLjVmarT"
   },
   "outputs": [
    {
     "name": "stdout",
     "output_type": "stream",
     "text": [
      "BONNUS : Fréquence et classement du motif motifGcn4 TGATTCA de taille 7  (1185, 597)\n",
      "BONNUS : Fréquence et classement du motif motifGcn4 TGATTCAT de taille 8 (298, 594)\n",
      "L'énoncée de la question précédente nous donnait un motif de taille 8 pour motifGcn4, ce qui n'est pas le cas du bonnus\n"
     ]
    }
   ],
   "source": [
    "motifGcn4 = ['TGATTCA']\n",
    "\n",
    "def searchGivenMotif(motifsTrouve, motifSpecifique):\n",
    "    \"\"\"\n",
    "    Cherche une liste de motifs specifiques dans un dictionaire de motifs trouvés\n",
    "    entrée motifsTrouve : dictionnaire de motifs, clé=motif, valeur = fréquence d'observation\n",
    "    entrée motifSpecifique: un motif specifique à chercher\n",
    "    sortie frequence : la frenquence du motif\n",
    "    sortie ranking : dans quelle position le motif a été trouvé\n",
    "    \"\"\"\n",
    "    frequence = 0; ranking = 0\n",
    "    \n",
    "    for k,v in motifsTrouve.items(): \n",
    "        if k == motifSpecifique[0] :\n",
    "            frequence = v\n",
    "            \n",
    "            #Recherche du classement \n",
    "            valDicoSorted= sorted(motifsTrouve.values()) # Permet liste des valeurs du dico triées par ordre croissant\n",
    "            valDicS = sorted(list(set(valDicoSorted)), reverse = True) # Suppresion des doublons dans valDicoSorted\n",
    "            \n",
    "            ranking = valDicS.index(v)+1 #Nous récupérons l'indice qui fait ainsi référence au classement auquel nous ajoutons 1 car les indices commmencent à 0\n",
    "            \n",
    "    if frequence == 0 :\n",
    "        print(\"Le Motif specifique recherché ne figure pas ds le dictionnaire\")\n",
    "    \n",
    "    return frequence, ranking\n",
    "\n",
    "Res = searchGivenMotif(dicoMotifBr1ET2, motifGcn4)\n",
    "print(\"BONNUS : Fréquence et classement du motif motifGcn4 TGATTCA de taille 7 \",Res)\n",
    "\n",
    "Res2 =searchGivenMotif(dicoMotifTaille8, ['TGATTCAT'])\n",
    "print(\"BONNUS : Fréquence et classement du motif motifGcn4 TGATTCAT de taille 8\",Res2)\n",
    "print(\"L'énoncée de la question précédente nous donnait un motif de taille 8 pour motifGcn4, ce qui n'est pas le cas du bonnus\")\n"
   ]
  },
  {
   "cell_type": "markdown",
   "metadata": {
    "id": "Ibm0Eja2marU"
   },
   "source": [
    "4\\. Les motifs peu complexes (avec par exemple 5, 6 ou 7 fois la même lettre) sont courants dans les génomes, ils n'ont généralement pas de signification biologique. Dans le context de ce projet, vous pouvez eliminer aussi les motifis ayant deux lettre repetés, comme par exemple AGAGAGA. Faites une fonction pour éliminer les motifs peu complexes, _i. e._ qui ont au moins $m$ fois la même lettre ou qui ont deux lettre consecutive répétés. Dans quel position vous trouver Gcn4 apres enlever les motifs peu complexes?</font>. "
   ]
  },
  {
   "cell_type": "code",
   "execution_count": 8,
   "metadata": {
    "id": "cFkaqI39marU"
   },
   "outputs": [
    {
     "name": "stdout",
     "output_type": "stream",
     "text": [
      "**** Test avant clean des motifs peu complex  {'AAAAAAA': 8385, 'TTTTTTT': 7658, 'ATATATA': 3096, 'ATATATAC': 3096, 'ATTTGTTT': 2970, 'ATTTTTGTTT': 2970}\n",
      "**** Test aprés clean des motifs peu complex  {'ATATATAC': 3096, 'ATTTGTTT': 2970}\n"
     ]
    }
   ],
   "source": [
    "def removeLowComplexe(motifs):\n",
    "    \"\"\"\n",
    "    Enleve les motifs peu complexe ayant \n",
    "    entrée motifs: dictionnaire de motifs, clé=motif, valeur = fréquence d'observation\n",
    "    sortie motifsClean: dictionnaire de motifs sans les motifs peu complexe.\n",
    "    \"\"\"\n",
    "    motifsClean = {}\n",
    "    \n",
    "    nb = 5 #Nombre maximum de lettre répétées\n",
    "    motifsClean = {}\n",
    "    \n",
    "    for k,v in motifs.items(): #Boucle sur les couples key value du dico\n",
    "        SetDesCaractèresComposantsLeMotif = set(k) #Suppression des doublons du motifs afin d'obtenir un set avec que les différents caractères qui le compose\n",
    "        lenSet = len(SetDesCaractèresComposantsLeMotif)\n",
    "        compteur = 0\n",
    "        \n",
    "        if lenSet >= 3:#si le motif k admet moins de 3 caractères différents il est ignorer car focément 2 meme lettres répétées ou la meme lettre est répétée plusieur fois à la suite \n",
    "            #Test pour savoir si un mm caractère du motif n'est pas présent plus de 5 fois à la suite\n",
    "            nbOccurence= 0\n",
    "            for car in SetDesCaractèresComposantsLeMotif :\n",
    "                nbOccurence = k.count(car*5)\n",
    "                \n",
    "                #Si le car est présent 5 fois à la suite ou plus, on sort du for car le motif est peu complex sinon on incrémente le compteur qui si atteint taille lenSet de caractère du motif implique que le motif n'est pas peu complex et on l'ajoute au dictionnaire résultat\n",
    "                if nbOccurence > 0 :\n",
    "                    break\n",
    "                \n",
    "                else :\n",
    "                    compteur  = compteur + 1\n",
    "                \n",
    "                #Si compteur = len du set on ajoute le motif au dico et on sort \n",
    "                if compteur == lenSet :\n",
    "                    motifsClean[k]=v\n",
    "    \n",
    "    return motifsClean\n",
    "\n",
    "#dicotop10= getTopMotifs(dicoMotif,10)\n",
    "#print(dicotop10)\n",
    "\n",
    "dicotest = {'AAAAAAA': 8385, 'TTTTTTT': 7658,'ATATATA': 3096,'ATATATAC': 3096, 'ATTTGTTT': 2970,'ATTTTTGTTT': 2970}\n",
    "print(\"**** Test avant clean des motifs peu complex \",dicotest)\n",
    "dicoclean = removeLowComplexe(dicotest)\n",
    "print(\"**** Test aprés clean des motifs peu complex \",dicoclean)\n",
    "\n"
   ]
  },
  {
   "cell_type": "markdown",
   "metadata": {
    "id": "MrAPyMcPmarV"
   },
   "source": [
    "5\\. Le fichier \"Sequence_by_Peaks_G*.fasta\" contiens les regions de peak trouvé par ChipSeq, qui contient probablement le Facteur de Transcription que nous cherchons. Apliquer les fonctions precedents pour chercher les 3 motifs les plus fréquents dans les deux brim. Il faut bien evidement enlever les motifs peu complexe."
   ]
  },
  {
   "cell_type": "code",
   "execution_count": 14,
   "metadata": {
    "id": "wIHGDtXDmarW"
   },
   "outputs": [
    {
     "name": "stdout",
     "output_type": "stream",
     "text": [
      "Recherche de motifs de taille  8  ...\n",
      "\n",
      "Suppression des motifs peu complexe ... \n",
      "\n",
      "Le TOP 3 des motifs les plus fréquents dans les deux brins sont (Certains motifs sont présents à de meme fréquence donc partagent le podium) : \n",
      "\n",
      "{'CTCATCGC': 893, 'GCGATGAG': 879, 'GCTCATCG': 837}\n"
     ]
    }
   ],
   "source": [
    "k=8\n",
    "feq=5\n",
    "top= 30\n",
    "\n",
    "genome = \"Sequence_by_Peaks_1.fasta\"\n",
    "sequence = readFasta(genome)\n",
    "brincompl = reversecomplList(sequences)\n",
    "fusionListebr1et2 = sequence + brincompl\n",
    "\n",
    "print(\"Recherche de motifs de taille \",k,\" ...\\n\")\n",
    "listeMotifs = searchMotifs(k, fusionListebr1et2)\n",
    "\n",
    "print(\"Suppression des motifs peu complexe ... \\n\")\n",
    "motifsFiltre = removeLowComplexe(listeMotifs)\n",
    "#print(motifsFiltre)\n",
    "\n",
    "print(\"Le TOP 3 des motifs les plus fréquents dans les deux brins sont (Certains motifs sont présents à de meme fréquence donc partagent le podium) : \\n\")\n",
    "Top = getTopMotifs(motifsFiltre, 3)\n",
    "print(Top)\n",
    "\n",
    "#Test pr savoir fréquence des motifs présent avec certitude ds le fichier et de taille 8\n",
    "#print(\"\\nTest pour vérifier fréquences des motifs présent avec certitude dans le fichier Sequence_by_Peaks_1.fasta : \\n\")\n",
    "#print(motifsFiltre['TTTGCTCA'])  #Sur Brin1\n",
    "#print(motifsFiltre['CTCATTGG'])  #SurBrin1\n",
    "#print(motifsFiltre['CTGATTGG'])  #SurBrinCompl\n",
    "#print(motifsFiltre['TCCGCGGA'])  #SurBrinCompl\n",
    "#print(motifsFiltre['TCCGTGGA'])  #SurBrinCompl\n",
    "#print(motifsFiltre['CAGCAAAA'])  #SurBrin1\n",
    "#print(motifsFiltre['CGGATCCG'])  #SurBrin1\n",
    "\n",
    "#Motif de taille k=7\n",
    "#print(motifsFiltre['TGCACCC'])\n",
    "\n",
    "#Motif de taille k=10\n",
    "#print(motifsFiltre['CCTTNAGGGT'])"
   ]
  },
  {
   "cell_type": "markdown",
   "metadata": {
    "id": "MEBziFExmarX"
   },
   "source": [
    "6\\. Ulitser la base YEASTRACT : http://www.yeastract.com/formsearchbydnamotif.php pour chercher les motifs. \n",
    "Avez vous une indication pour le facteur de transcription impliqué ?\n"
   ]
  },
  {
   "cell_type": "code",
   "execution_count": null,
   "metadata": {},
   "outputs": [],
   "source": [
    "Pour les motifs de taille 8 éventuellement présent, voici les fréquences auquel on les retrouve sur les 2 brins : \n",
    "'TTTGCTCA':165\n",
    "'CTCATTGG':81\n",
    "'CTGATTGG':75\n",
    "'TCCGCGGA':9\n",
    "'TCCGTGGA':48\n",
    "'CAGCAAAA':192\n",
    "'CGGATCCG':35\n",
    "Aucun d'eux ne figure dans le top3 des motifs de taille 8 le splus fréquents : {'CTCATCGC': 893, 'GCGATGAG': 879, 'GCTCATCG': 837}\n",
    "    \n",
    "    \n",
    "Motif Aft1 de taille 7 :\n",
    "'TGCACCC' :130\n",
    "Il ne figure pas non plus parmi le top 3 des motifs de taille 7 les plus fréquents : {'TTTTCAA': 1633, 'TTTCAAA': 1580, 'TTTGAAA': 1507}\n",
    "      \n",
    "    \n",
    "Motif Zap de taille 10 :\n",
    "Ce motif n'a pas du tout été trouvé et n'est donc associé à aucune valeur dans le dictionnaire associé aux différents motifs en valeur leur nb d'occurrence comptabilisée.\n",
    "{'AGCTCATCGC': 483, 'GCGATGAGCT': 466, 'GCTCATCGCA': 419}\n",
    "    \n",
    "Hash Table est malheureusement un algorithme qui prend pas en compte les mutations dans le motif.\n",
    "Finalement, nous pouvons conclure que notre motif est soit Aft1 soit l'un des motifs de taille 8... il est trop  tôt  pour conclure."
   ]
  }
 ],
 "metadata": {
  "colab": {
   "provenance": []
  },
  "kernelspec": {
   "display_name": "Python 3 (ipykernel)",
   "language": "python",
   "name": "python3"
  },
  "language_info": {
   "codemirror_mode": {
    "name": "ipython",
    "version": 3
   },
   "file_extension": ".py",
   "mimetype": "text/x-python",
   "name": "python",
   "nbconvert_exporter": "python",
   "pygments_lexer": "ipython3",
   "version": "3.11.2"
  }
 },
 "nbformat": 4,
 "nbformat_minor": 1
}
