{
 "cells": [
  {
   "cell_type": "markdown",
   "metadata": {
    "id": "981-NdKA_huf"
   },
   "source": [
    "# TME 3.1 : Greedy Profile Motif Search \n",
    "\n",
    "\n",
    "## Recheche de pattern (motifs) en utilisant les algoritmes randomisés\n",
    "\n",
    "Les algorithmes randomisés prendre des décisions aléatoire plutôt que déterministes.\n",
    "l'algorithme s'exécute différemment à chaque fois. Ils sont couramment utilisés dans situations où aucun algorithme exact et rapide est connu. Nous allons d'abord implémenter l'algorithm Greedy Profile Motif Search.\n"
   ]
  },
  {
   "cell_type": "markdown",
   "metadata": {
    "id": "5z3a_1W0_huk"
   },
   "source": [
    "1\\. Nous allons réutiliser les fonctions du precedent pour générer `t` séquences artificielles de taille `n`, et implanter dans chaque séquence un motif de taille `k` à des positions aléatoires avec `v` substitutions choisies aléatoirement. Nous allons faire varier le motifs dans 50% de cas."
   ]
  },
  {
   "cell_type": "code",
   "execution_count": 189,
   "metadata": {
    "id": "6UbcF5N2_hul"
   },
   "outputs": [],
   "source": [
    "import random\n",
    "import numpy as np\n",
    "\n",
    "nuc = ('A', 'C', 'G', 'T')\n",
    "\n",
    "k=5 #taille de motif\n",
    "v=1 #nb de positions variable dans le motif\n",
    "t=3 #nb de sequences\n",
    "n=10 #longuer des sequence\n",
    "f= 0.5 #frequence de variation du motif.\n"
   ]
  },
  {
   "cell_type": "code",
   "execution_count": 24,
   "metadata": {
    "id": "IplKLaGL_hun"
   },
   "outputs": [
    {
     "name": "stdout",
     "output_type": "stream",
     "text": [
      "GCg\n",
      "tcaca\n",
      "['TTGACccaca', 'AGACtcacaC', 'TtcacaCAAG']\n",
      "['TTGACCCACA', 'AGACTCACAC', 'TTCACACAAG']\n"
     ]
    }
   ],
   "source": [
    "from math import floor\n",
    "\n",
    "def insertMotif(sequence, motif, position):\n",
    "    return sequence[:position] + motif + sequence[position:]\n",
    "\n",
    "def generateRandomSequence(n, upper=True):\n",
    "    \"\"\"\n",
    "    Génère une séquence nucléotidique aléatoire \n",
    "    entrée n : longueur de la sequence\n",
    "    entrée upper : bool, si True les nucléotides seront en majuscule, False minuscule\n",
    "    sortie sequence : une séquence nucléotidique aléatoire \n",
    "    \"\"\"\n",
    "    sequence = \"\"\n",
    "    \n",
    "    for i in range (n):\n",
    "        tmp=random.choice(nuc)\n",
    "        sequence =sequence+tmp\n",
    "        \n",
    "    if upper== False:\n",
    "        sequence= sequence.lower()\n",
    "    return sequence\n",
    "\n",
    "def modifierMotif(motif, nbpos,  upper=True):\n",
    "    \"\"\"\n",
    "    Modifie nbpos positions d'un motif aléatoirement \n",
    "    entrée motif: motif à modifier\n",
    "    entrée nbpos: nombre de positions\n",
    "    entrée upper : bool, si True les nucléotides modifiés seront majuscule, False minuscule\n",
    "    sortie motifM: motif modifié\n",
    "    \"\"\"\n",
    "    motifM = list(motif)\n",
    "    tmp=''\n",
    "    randind=0\n",
    "    up=upper\n",
    "    \n",
    "    listIndDéjaMODIF=[]\n",
    "    \n",
    "    for pos in range(nbpos): #On modifie autant de position possible que la taille du motif le permet \n",
    "        if pos < len(motifM)-1:\n",
    "            #Tirer un caractere aléatoire tmp parmi atgc et l'insérer à la posiion randind choisie aléatoirement \n",
    "            tmp = generateRandomSequence(1, up)\n",
    "            randind= random.randint(0, len(motif)-1)\n",
    "            \n",
    "            #Pour ne pas modifier à 2 reprises à un meme indice\n",
    "            if randind in listIndDéjaMODIF: #On doit tirer un nouvel indice aléatoirevement\n",
    "                \n",
    "                indConnue = True\n",
    "                while indConnue:\n",
    "                    randind= random.randint(0, len(motif)-1)\n",
    "                    if randind not in listIndDéjaMODIF:\n",
    "                        indConnue = False\n",
    "            \n",
    "            #Modification à la position choisit aléatoirement\n",
    "            motifM[randind]=tmp\n",
    "            listIndDéjaMODIF.append(randind)\n",
    "        \n",
    "    return \"\".join(motifM)\n",
    "\n",
    "\n",
    "#tester la fonction modifierMotif\n",
    "print (modifierMotif(\"acg\", 2,True))\n",
    "\n",
    "\n",
    "def implantMotifVar(k, v, t, n, f):\n",
    "    \"\"\"\n",
    "    Génère des séquences aléatoires et les implante des motifs variables (un motif par séquence)\n",
    "    entrée k: taille du motif\n",
    "    entrée v: nombre de variations\n",
    "    entrée t : nombre de séquences \n",
    "    entrée n : longueur des séquences\n",
    "    entrée f : frequence de variation du motif.\n",
    "    sortie DNA : matrice de dimension txn avec les motifs implantés\n",
    "    REMARQUE : La taille totale des séquences plus motif doit être égal à t, pensez à générer de séquence aléatoire de taille t-k pour pouvoir implanter un motif de taille k\n",
    "    \"\"\"\n",
    "    sequences = []\n",
    "    motifRand=generateRandomSequence(k,False)\n",
    "    print('Motif à implanté : ',motifRand)\n",
    "    motifTMP=''\n",
    "    seqTPM=''\n",
    "    tailleSeqSanMotifImplanté = n-k\n",
    "    positionRand=random.randint(0,tailleSeqSanMotifImplanté)\n",
    "    \n",
    "    #Détermine nb de séquence pour lesquelles le motif implanté ne doit pas varier, dans f des cas le motif ne doit varier\n",
    "    SeqAvecVarDeMotif= floor(f*t) #Partie entiére inférieure \n",
    "    Compteur=0\n",
    "    \n",
    "    for sep in range(t): #Création des séquences avec le motif générer qui varie de v base et pour une fréquence f\n",
    "        seqTPM=generateRandomSequence(tailleSeqSanMotifImplanté,True) #Sequence en majuscule\n",
    "        \n",
    "        #Choix du motif\n",
    "        if Compteur == SeqAvecVarDeMotif: \n",
    "            #Stop l'insertion de Motif avec variation\n",
    "            motifTMP=motifRand\n",
    "        else: \n",
    "            motifTMP= modifierMotif (motifRand,v,False)        #Motif en minuscule\n",
    "            Compteur = Compteur+1\n",
    "        \n",
    "        #Insertion du motif dans la seq et ajout à la liste résultante cad la matrice\n",
    "        seqTPM= insertMotif(seqTPM, motifTMP, positionRand)\n",
    "        sequences.append(seqTPM) #list(seqTPM)\n",
    "    \n",
    "        #Initialisation d'une position pour insérer motif de la prochaine séquence \n",
    "        positionRand=random.randint(0,tailleSeqSanMotifImplanté) \n",
    "        \n",
    "    return sequences\n",
    "\n",
    "adn = implantMotifVar(k, v, t, n, f)\n",
    "print (adn)\n",
    "\n",
    "adn  = [(\"\".join(s)).upper() for s in adn]\n",
    "print (adn)"
   ]
  },
  {
   "cell_type": "markdown",
   "metadata": {
    "id": "NoPjFWpM_huq"
   },
   "source": [
    "2\\. Faire une fonction pour sélectionner des positions de départ aléatoirement `s = (s1, …,st)`.\n"
   ]
  },
  {
   "cell_type": "code",
   "execution_count": 29,
   "metadata": {
    "id": "WwUeYNeJ_hur"
   },
   "outputs": [
    {
     "name": "stdout",
     "output_type": "stream",
     "text": [
      "[4, 5, 4]\n"
     ]
    }
   ],
   "source": [
    "#creating vector s\n",
    "#Get t random positions from 0 to n - k\n",
    "def generateRandomS(sequences, k):\n",
    "    \"\"\"\n",
    "    Génère un vecteur de position aléatoires\n",
    "    entrée sequences: matrice de dimension txn contenant les sequences\n",
    "    entrée k: taille du motif\n",
    "    sortie s: vecteur de position aléatoires, une position par séquence\n",
    "    REMARQUE les positions doivent être inférieur à n-k, ou n est la taille de sequence\n",
    "    \"\"\"\n",
    "    s = []\n",
    "    \n",
    "    for sq in (sequences):\n",
    "        if len(sq)-k > 0:\n",
    "            randind= random.randint(0, len(sq)-k)\n",
    "            s.append(randind)\n",
    "    return s\n",
    "\n",
    "s = generateRandomS(adn, k)\n",
    "print (s)"
   ]
  },
  {
   "cell_type": "markdown",
   "metadata": {
    "id": "vwTv0oVD_hut"
   },
   "source": [
    "3\\. Extraire les motifs en utilisant le vecteur `s`, et construire un profile (matrice de fréquence). \n"
   ]
  },
  {
   "cell_type": "code",
   "execution_count": 36,
   "metadata": {
    "id": "GMC6y17y_hut"
   },
   "outputs": [
    {
     "name": "stdout",
     "output_type": "stream",
     "text": [
      "['CCCAC', 'CACAC', 'CACAA']\n",
      "[[0. 2. 0. 3. 1.]\n",
      " [3. 1. 3. 0. 2.]\n",
      " [0. 0. 0. 0. 0.]\n",
      " [0. 0. 0. 0. 0.]]\n"
     ]
    }
   ],
   "source": [
    "#extract sequences from seqs\n",
    "def extractSeqs(s, seqs, k):\n",
    "    \"\"\"\n",
    "    Extraire les motifs des séquences à l'aide de positions s\n",
    "    entrée s: vecteur contenant les positions de départs\n",
    "    entrée seqs: matrice de dimension txn contenant les séquences\n",
    "    entrée k: taille du motif\n",
    "    sortie motifs: liste de motifs de taille k extrait des séquences\n",
    "    \"\"\"\n",
    "    motifs = []    \n",
    "    \n",
    "    for ind in range(len(seqs)) :\n",
    "        sq=seqs[ind]\n",
    "        deb= s[ind]\n",
    "        \n",
    "        motif= sq[deb:deb+k] #Extraction du motif\n",
    "        motifs.append(motif) #Ajout du motif à la liste résultante\n",
    "   \n",
    "    return motifs\n",
    "        \n",
    "motifs = extractSeqs(s, adn, k)\n",
    "print (motifs)\n",
    "\n",
    "#Construire un profile = matrice de fréquence\n",
    "def profile(motifs, k, nuc):\n",
    "    \"\"\"\n",
    "    Construire une matrice de fréquence de dimension k x |nuc|\n",
    "    entrée motifs: liste de motifs\n",
    "    entrée k: taille du motif\n",
    "    entrée nuc: alphabet\n",
    "    sortie MF: matrice de fréquence\n",
    "    \"\"\"\n",
    "    #nuc = ('A', 'C', 'G', 'T')\n",
    "    q = len(nuc)\n",
    "    PWM = np.zeros((q, k))\n",
    "    \n",
    "    for mot in motifs :\n",
    "        for i in range (k): #i=indice colonne\n",
    "            indLigne = nuc.index(mot[i]) #indiceLigne\n",
    "            PWM[indLigne,i]=PWM[indLigne,i]+1\n",
    "            \n",
    "    return PWM\n",
    "\n",
    "MF = profile(motifs, k, nuc)\n",
    "print(MF)                       "
   ]
  },
  {
   "cell_type": "markdown",
   "metadata": {
    "id": "zIw6koU2_huu"
   },
   "source": [
    "4\\. Transformer la matrice de fréquence en PWM. Il faut diviser chaque élément par la somme de ses colonnes."
   ]
  },
  {
   "cell_type": "code",
   "execution_count": 41,
   "metadata": {
    "id": "wOH5mbkA_huv"
   },
   "outputs": [
    {
     "name": "stdout",
     "output_type": "stream",
     "text": [
      "[[0.         0.66666667 0.         1.         0.33333333]\n",
      " [1.         0.33333333 1.         0.         0.66666667]\n",
      " [0.         0.         0.         0.         0.        ]\n",
      " [0.         0.         0.         0.         0.        ]]\n"
     ]
    }
   ],
   "source": [
    "def generatePWM(MF):\n",
    "    \"\"\"\n",
    "    Transforme la matrice de fréquence en PWM\n",
    "    entrée MF: matrice de fréquence\n",
    "    sortie PWM: matrice de probabilité (poids positions)\n",
    "    \"\"\"\n",
    "    \n",
    "    PWM = MF\n",
    "    nbLigne = len(MF)\n",
    "    nbColonne = len(MF[0])\n",
    "    \n",
    "    #Calcule du nombre fréquence par colonne (En réalité le nombre de fréquence = nb de ligne dans la matrice)\n",
    "    freq = []\n",
    "    for c in range(nbColonne):\n",
    "        tmp=0\n",
    "        for l in range(nbLigne):\n",
    "            tmp=tmp + MF[l,c]\n",
    "        freq.append(tmp)\n",
    "   \n",
    "    #Pour chaque ligne on boucle sur les colonne et divison chaque cellule par fréquence de sa colonne\n",
    "    for l in range(nbLigne): \n",
    "        for c in range(nbColonne):\n",
    "            PWM[l,c]=MF[l,c]/freq[c]\n",
    "    \n",
    "    return PWM\n",
    "\n",
    "PWM = generatePWM(MF)\n",
    "print(PWM)"
   ]
  },
  {
   "cell_type": "markdown",
   "metadata": {
    "id": "ThOfxUGq_huw"
   },
   "source": [
    "5\\. Faire une fonction pour calculer la probabilité d'un motif de taille `k` selon une PWM.\n"
   ]
  },
  {
   "cell_type": "code",
   "execution_count": 60,
   "metadata": {
    "id": "ZUNbTtum_huw"
   },
   "outputs": [
    {
     "name": "stdout",
     "output_type": "stream",
     "text": [
      "0.0\n"
     ]
    }
   ],
   "source": [
    "def probability(PWM, motif):\n",
    "    \"\"\"\n",
    "    Calcul la probalité d'un motif selon PWM\n",
    "    entrée PWM: matrice de probabilité (poids positions)\n",
    "    entrée motif: motif\n",
    "    sortie prob: probalité Prob(motif|PWM)\n",
    "    \"\"\"\n",
    "    prob = 1\n",
    "    nuc = ('A', 'C', 'G', 'T')\n",
    "    \n",
    "    for col in range(len(motif)):\n",
    "        indLigne = nuc.index(motif[col]) #indiceLigne\n",
    "        #print(PWM[indLigne,col])\n",
    "        prob= prob* PWM[indLigne,col]\n",
    "\n",
    "    return prob\n",
    "\n",
    "prob = probability(PWM, \"AAACA\")\n",
    "print (prob)"
   ]
  },
  {
   "cell_type": "markdown",
   "metadata": {
    "id": "aqLjmxrx_hux"
   },
   "source": [
    "6\\. Faire une fonction pour calculer le pMostProbkmer d'une séquence, voir un exemple dans les slides de cours."
   ]
  },
  {
   "cell_type": "code",
   "execution_count": 77,
   "metadata": {
    "id": "-_GDK4mQ_huy"
   },
   "outputs": [
    {
     "name": "stdout",
     "output_type": "stream",
     "text": [
      "0 \n",
      "\n"
     ]
    }
   ],
   "source": [
    "def pMostProbkmer(PWM, k, sequence):\n",
    "    \"\"\"\n",
    "    calcul la position du k-mer le plus probable dans la séquence\n",
    "    entrée PWM: matrice de probabilité (poids positions)\n",
    "    entrée k: taille du motif\n",
    "    entrée sequence: séquence nucleotidique\n",
    "    sortie s: la position la plus probable \n",
    "    \"\"\"\n",
    "    maxProb = 0\n",
    "    s = 0 # position du k-mer le plus probable dans la sequence\n",
    "    \n",
    "    for i in range(len(sequence)-k+1): \n",
    "        tmp= probability(PWM, sequence[i:i+k]) #Fenètre glissante pour calculer proba du motif considérer dans la sequence en fct de PWM\n",
    "        #print(\"indice :\",i,\"proba motif: \",tmp)\n",
    "        if tmp>maxProb: #Màj en cas d'un motif plus probable déterminer\n",
    "            maxProb=tmp\n",
    "            s=i  \n",
    "        \n",
    "    return s\n",
    "s = pMostProbkmer(PWM, k, \"GCCGGATACT\") #Du G et T dans chaque motif de la fentre glissante, conséquence le motif à la proba la plus importante reste celui de debut avec indice 0 pr départ\n",
    "print (s, \"\\n\")\n",
    "\n",
    "#s = pMostProbkmer(PWM, k, \"GCCGGCCCAA\")\n",
    "#print (\"Test cette fois en mettant le dernier motid rencontrer à un motif plus probable (Effectivement c'eest le bon indice qui est renvoyer) : \",s)"
   ]
  },
  {
   "cell_type": "markdown",
   "metadata": {
    "id": "QwXuMhNn_huy"
   },
   "source": [
    "7\\. Faire une fonction pour obtenir les nouvelles positions de départ `s = (s1, …,st)`, c’était à dire les positions qui contiens les k-mer le plus probables."
   ]
  },
  {
   "cell_type": "code",
   "execution_count": 78,
   "metadata": {
    "id": "G3neuRM9_huz"
   },
   "outputs": [
    {
     "name": "stdout",
     "output_type": "stream",
     "text": [
      "[4, 5, 2]\n"
     ]
    }
   ],
   "source": [
    "def getNewS(PWM, k, sequences):\n",
    "    \"\"\"\n",
    "    Trouve les nouvelles positions des k-mer le plus probables\n",
    "    entrée PWM: matrice de probabilité (poids positions)\n",
    "    entrée k: taille du motif\n",
    "    entrée sequence: séquence nucleotidique\n",
    "    sortie s: vecteur avec les positions les plus problables\n",
    "    \"\"\"\n",
    "    s = []\n",
    "    \n",
    "    for sq in sequences:\n",
    "        tmp=pMostProbkmer(PWM, k, sq)\n",
    "        s.append(tmp)\n",
    "\n",
    "    return s\n",
    "\n",
    "ns = getNewS(PWM, k, adn)\n",
    "print (ns)"
   ]
  },
  {
   "cell_type": "markdown",
   "metadata": {
    "id": "WoETBPxq_huz"
   },
   "source": [
    "8\\. La condition d’arrêt de l'algorithme est le non changement de la matrice de fréquence d'une itération à l'autre, \n",
    "faire une fonction pour comparer deux matrices et détecter le changement. \n",
    "Faire aussi une fonction pour obtenir le score d'une matrice de fréquence : la somme de max de chaque colonne"
   ]
  },
  {
   "cell_type": "code",
   "execution_count": 119,
   "metadata": {
    "id": "NUDOYB6A_hu0"
   },
   "outputs": [
    {
     "name": "stdout",
     "output_type": "stream",
     "text": [
      "0 [4, 5, 2]\n",
      "13.0\n",
      "True\n"
     ]
    }
   ],
   "source": [
    "def changeProfile(P1, P2):\n",
    "    \"\"\"\n",
    "    Compare deux matrice\n",
    "    entrée P1: matrice de fréquence\n",
    "    entrée P2: matrice de fréquence\n",
    "    sortie: True si les matrices sont différents, False au contraire\n",
    "    \"\"\"\n",
    "    \n",
    "    #Comparaison des matrices de fréquence\n",
    "    difference=0\n",
    "    nbligne=min(len(P1),len(P2))\n",
    "    nbcol=min(len(P1[0]),len(P2[0]))\n",
    "    \n",
    "    for l in range(nbligne):\n",
    "        for c in range(nbcol):\n",
    "            if P1[l,c] != P2[l,c]:\n",
    "                difference=difference+1\n",
    "                break\n",
    "        if difference >= 1:\n",
    "            break\n",
    "    \n",
    "    if difference == 0:\n",
    "        return False\n",
    "    \n",
    "    return True\n",
    "\n",
    "def getScore(MF, k):\n",
    "    \"\"\"\n",
    "    Renvoie le score de MF, la somme des max de chaque colonne\n",
    "    entrée MF: matrice de fréquence\n",
    "    entrée k: taille du motif\n",
    "    sortie sc: score\n",
    "    \"\"\"\n",
    "    sc = 0\n",
    "    nbLigne = len(MF)\n",
    "    nbColonne = len(MF[0])\n",
    "    \n",
    "    for c in range(nbColonne):\n",
    "        MAX=0\n",
    "        for l in range(nbLigne):\n",
    "            #print(MF[l,c])\n",
    "            if MF[l,c]>MAX:\n",
    "                MAX=MF[l,c]\n",
    "        #print(\"Sortie\")\n",
    "        sc= sc + MAX\n",
    "        #print(\"Valeur sc =\", sc)\n",
    "\n",
    "    return sc\n",
    "\n",
    "ns = getNewS(PWM, k, adn)\n",
    "print (s, ns)\n",
    "\n",
    "#MF = profile(motifs, k, nuc)\n",
    "sc = getScore(MF, k)\n",
    "print (sc)\n",
    "\n",
    "#Test fonction changeProfile\n",
    "MFtest1=np.array([[3, 2, 0, 3, 1],[3, 1, 3, 0, 2],[0, 0, 0, 0, 0],[0, 0, 0, 0, 0]])\n",
    "MFtest2=np.array([[3, 2, 0, 3, 1],[3, 1, 3, 0, 2],[0, 0, 0, 0, 0],[0, 0, 0, 0, 9]])\n",
    "#print(MFtest1)\n",
    "#print(MFtest2)\n",
    "print(changeProfile(MFtest1, MFtest2))"
   ]
  },
  {
   "cell_type": "markdown",
   "metadata": {
    "id": "QhO7GPfn_hu0"
   },
   "source": [
    "9\\. Implementer l'algorithme ``GreedyProfileMotifSearch`` en utilisant les fonctions precedentes. \n",
    "BONUS: Pour ameliorer la performance vous pouvez abandonner les positions qui génèrent des motifs peu complexes."
   ]
  },
  {
   "cell_type": "code",
   "execution_count": 123,
   "metadata": {
    "id": "s3wvHQUp_hu0"
   },
   "outputs": [
    {
     "name": "stdout",
     "output_type": "stream",
     "text": [
      "['TTGACCCACA', 'AGACTCACAC', 'TTCACACAAG']\n",
      "['GACCC', 'TCACA', 'CACAC']\n"
     ]
    }
   ],
   "source": [
    "def GreedyProfileMotifSearch(sequences, k):\n",
    "    \"\"\"\n",
    "    Implémente l'algorithme GreedyProfileMotifSearch \n",
    "    entrée sequences: matrice de dimension txn contenant les séquences \n",
    "    entrée k : taille du motif \n",
    "    sortie s : vecteur de positions de départ ayant le meilleur motif \n",
    "    sortie bestScore : le score associé à s\n",
    "    \"\"\"\n",
    "    #NOUS ENVISAGEONS D'OPTIMISER LA FONCTION POUR IGNORER LES MOTIFS PEU COMPLEX, APRÉS LE DÉPOT\n",
    "    \n",
    "    nuc = ('A', 'C', 'G', 'T')\n",
    "    bestScore = 0\n",
    "    \n",
    "    s = generateRandomS(sequences, k)\n",
    "    motifs=extractSeqs(s, sequences, k) #Liste des motifs plus probable\n",
    "    MF=profile(motifs, k, nuc) #Détermine le Profile/MF\n",
    "    PWM=generatePWM(MF) #Détermine la matrice de proba associée\n",
    "    score =getScore(MF,k) #Score associé à la MF courante déterminer par les motifs les plus probables(P-most probable k-mers) jusqu'à présent obtenue\n",
    "    \n",
    "    #Variables temporaires pour les itérations\n",
    "    tmpS=getNewS(PWM, k, sequences)\n",
    "    tmpMotifs=extractSeqs(tmpS, sequences, k)\n",
    "    tmpMF=profile(tmpMotifs, k, nuc)\n",
    "    \n",
    "    while score>bestScore:\n",
    "        bestScore= score\n",
    "        \n",
    "        if (changeProfile(MF, tmpMF)): #Profil sont différents\n",
    "            #Cas bestscore < score : on continue l'algo\n",
    "            if getScore(tmpMF,k) > bestScore:\n",
    "                \n",
    "                #Màj des paramètres liés au motif les plus probables de nos séquances\n",
    "                bestScore=getScore(tmpMF,k)\n",
    "                motifs=tmpMotifs\n",
    "                MF=tmpMF\n",
    "                PWM=generatePWM(MF) #Génère une new matrice de proba pour déterminer une nouvelle matrice de position\n",
    "    \n",
    "                #Anticipation de la prochaine itération en mettant à jour les variables temporaires\n",
    "                tmpS=getNewS(PWM, k, sequences)\n",
    "                tmpMotifs=extractSeqs(tmpS, sequences, k)\n",
    "                tmpMF=profile(tmpMotifs, k, nuc)\n",
    "                score=getScore(tmpMF,k)\n",
    " \n",
    "            #cas score < bestscore\n",
    "            else :\n",
    "                break\n",
    "        \n",
    "        else: #Profil ont pas change on stop l'algo entre 2 itérations\n",
    "            break\n",
    "              \n",
    "    return s, bestScore\n",
    "\n",
    "print (adn)\n",
    "s, bestScore = GreedyProfileMotifSearch(adn, k)   \n",
    "motifs = extractSeqs(s, adn, k)\n",
    "print (motifs)\n",
    "        "
   ]
  },
  {
   "cell_type": "markdown",
   "metadata": {
    "id": "xvo0wA0R_hu1"
   },
   "source": [
    "10\\. Avez vous trouvez le motif implanté? Rexécuter l’algorithme plusieurs fois pour le trouver. "
   ]
  },
  {
   "cell_type": "markdown",
   "metadata": {
    "id": "tQw_6g6I_hu1"
   },
   "source": [
    "Reponse:\n",
    "\n",
    "'tcaca' est notre motif implanté dans 50% de nos séquences sans variation et nous le retrouvons effectivement ^^"
   ]
  },
  {
   "cell_type": "markdown",
   "metadata": {
    "id": "hFC52cFb_hu1"
   },
   "source": [
    "11\\. Vous avez certainement observer que l’algorithme ne produire pas toujours la même sortie et que les résultats dépendent de la sélection aléatoire des positions de départ `s`. Pour augmenter nous chances de retrouvez les bons motifs, nous allons implémenter une version itérative ``GreedyProfileMotifSearchIte`` \n",
    "qui a chaque fois sauvegarde `s` et le score du profile associé à `s`, après `I` itération, l’algorithme renvoie le vecteur `s` ayant le plus grand score."
   ]
  },
  {
   "cell_type": "code",
   "execution_count": 136,
   "metadata": {
    "id": "RN4HsjUX_hu2"
   },
   "outputs": [
    {
     "name": "stdout",
     "output_type": "stream",
     "text": [
      "{13.0: [0, 3, 2], 11.0: [0, 4, 5], 8.0: [0, 2, 5], 14.0: [5, 4, 4], 10.0: [0, 4, 4], 12.0: [3, 1, 4], 9.0: [0, 0, 0]}\n",
      "\n",
      "Clé : Score de la matrice de fréquence / Valeur : Motifs les plus probables  associés à ce score  :\n",
      "\n",
      "{13.0: ['TTGAC', 'CTCAC', 'CACAC'], 11.0: ['TTGAC', 'TCACA', 'ACAAG'], 8.0: ['TTGAC', 'ACTCA', 'ACAAG'], 14.0: ['CCACA', 'TCACA', 'CACAA'], 10.0: ['TTGAC', 'TCACA', 'CACAA'], 12.0: ['ACCCA', 'GACTC', 'CACAA'], 9.0: ['TTGAC', 'AGACT', 'TTCAC']}\n"
     ]
    }
   ],
   "source": [
    "def GreedyProfileMotifSearchIte(sequences, k, It):\n",
    "    \"\"\"\n",
    "    Implémente l'algorithme GreedyProfileMotifSearch iteratif\n",
    "\t  entrée séquences: matrice de dimension txn contenant les séquences\n",
    "\t  entrée k: taille du motif \n",
    "    entrée It: nombre d'iterations\n",
    "    sortie positions: dictionnaire clé=score, valeur= vecteur s \n",
    "    sortie consensus: dictionnaire clé=score, valeur= sequence consensus du motif\n",
    "    \"\"\"\n",
    "       \n",
    "    #NOUS ENVISAGEONS D'OPTIMISER LA FONCTION POUR IGNORER LES MOTIFS PEU COMPLEX, APRÉS LE DÉPOT\n",
    "    \n",
    "    pos = {}\n",
    "    consensus = {}\n",
    "    \n",
    "    for i in range(It):\n",
    "        (s, bestScore) = GreedyProfileMotifSearch(sequences, k)\n",
    "        pos[bestScore]=s\n",
    "        consensus[bestScore]=extractSeqs(s, sequences, k)\n",
    "        \n",
    "    return pos, consensus\n",
    "\n",
    "\n",
    "s, consensus = GreedyProfileMotifSearchIte(adn, k, 50)\n",
    "\n",
    "print (s)\n",
    "print(\"\\nClé : Score de la matrice de fréquence / Valeur : Motifs les plus probables  associés à ce score  :\\n\")\n",
    "print (consensus)"
   ]
  },
  {
   "cell_type": "code",
   "execution_count": 137,
   "metadata": {
    "id": "S7DtjmxjCyQ-"
   },
   "outputs": [
    {
     "name": "stdout",
     "output_type": "stream",
     "text": [
      "['CCACA', 'TCACA', 'CACAA']\n",
      "['TTGAC', 'CTCAC', 'CACAC']\n"
     ]
    }
   ],
   "source": [
    "#Affiche les sequence consensus de top motifs\n",
    "def printTopFMotifsScore(consensus, top):\n",
    "\n",
    "    motifsSort = sorted(consensus.keys())\n",
    "    motifsSort.reverse()\n",
    "    for i in range(top):\n",
    "        print (consensus[motifsSort[i]])\n",
    "\n",
    "printTopFMotifsScore(consensus, 2)\n"
   ]
  },
  {
   "cell_type": "markdown",
   "metadata": {
    "id": "js7TuAsB_hu2"
   },
   "source": [
    "12\\. Tester algorithme  ``GreedyProfileMotifSearchIte`` sur vos données de chipSeq. N'oubliez pas de chercher les motifs dans le brin complémentaire et faire un merge de résultats."
   ]
  },
  {
   "cell_type": "code",
   "execution_count": 138,
   "metadata": {
    "id": "8um7xWi4URGv"
   },
   "outputs": [],
   "source": [
    "def reverseComplement(seq):\n",
    "    seq_dict = {'A':'T','T':'A','G':'C','C':'G'}\n",
    "    return \"\".join([seq_dict[base] for base in reversed(seq)])"
   ]
  },
  {
   "cell_type": "code",
   "execution_count": 191,
   "metadata": {
    "id": "-M8y_sOS_hu3"
   },
   "outputs": [
    {
     "name": "stdout",
     "output_type": "stream",
     "text": [
      "['AGAGCCCA', 'ACTGGAGT', 'GAAGACTA', 'GCTCTTCA', 'TGGCTTTG', 'CAGTGTTA', 'ATCAAGTG', 'GCTCGCAG', 'GGAAGGGT', 'CTCCTGCC', 'TAATGATG', 'AAAGGGCA', 'CATGGGGA', 'AGTTGTGT', 'TTCTAGGG', 'TATTTGAC', 'GTATTAGC', 'TTGCATCT', 'ATGAATGC', 'GAAAGAGA', 'AAGCACTG', 'ATCCGTTA', 'AAGATTAC', 'GGGCGTTG', 'ATATCCGA', 'CTAATATC', 'AACCACCA', 'GGTGCAAT', 'GGTGAGCC', 'TTGAGGTG', 'GAACAGAA', 'CAAGTAAG', 'TTTCCTTA', 'CAAGTACA', 'TCTTTCTG', 'AAAAGAAG', 'ACTACTGT', 'GCATGTGT', 'ACACAACC', 'TACCAAAC', 'ACTCACAC', 'CAGCAATT', 'AGGGTGTA', 'TTGTCATT', 'CTTGCAAA', 'CTTCTGAC', 'TAAAAAAT', 'GTATATTG', 'GGTGTGTA', 'GACAGATT', 'AAGCCAAC', 'AAGAAAGA', 'AACCCCAT', 'ATCTTTGT', 'GCACGGCG', 'TTTTTTAT', 'CTAAGAAA', 'GCAGAGGA', 'CGGTAAAC', 'AGTGCGAG', 'TTCCTGGG', 'TCATTTAC', 'GTAACAAT', 'GATGCAAG', 'GACTTCCT', 'GAACACAT', 'ATGTTTTT', 'TTTAATTT', 'ATAAAATT', 'AGTAAAGA', 'TGACCCGA', 'ATTAGTTG', 'TACAGCTT', 'AGTAGCTG', 'ATATATTT', 'GGTGAAAT', 'GCTTATTT', 'TAATAAAA', 'TATACCGA', 'ATATAAAA', 'GCTTAATA', 'TTAAATAA', 'CTAAGTTA', 'ATACATAT', 'AATCCCTA', 'TGCTACTA', 'TTTATTAC', 'ATTTCTTA', 'CAAATTTT', 'ATTAAGAT', 'TCTTTATT', 'TATGTCTA', 'TTAGTTGT', 'TAACATTA', 'ATTTTGAT', 'GGTTTTTT', 'AATATTCT', 'AAGGACAA', 'TGCCATGC', 'TATATTTA', 'AATGTTGG', 'ACTGTATT', 'ATGAAAAA', 'GACACCGA', 'TAGCTTGT', 'CGATTGAG', 'GCCTATAT', 'TTGCTAAA', 'CAAAGTGT', 'AATCAAAT', 'GCAGCATA', 'GTATACAA', 'ATTAGGGT', 'AATTTGAG', 'CAGAAGCT', 'GTATTGCC', 'GTTAAGTC', 'TATTACTT', 'ACTGATTA', 'CAATAGGG', 'CTATCAAG', 'TTAAAAGA', 'TGTGCTGT', 'GTGTCGGA', 'CTCCTCTG', 'CTGTTCTT', 'AACAAACG', 'ATGTGGTA', 'GTTGCAGC', 'GAATAGAT', 'AGAAAATA', 'GGCAAAAA', 'TCCCCTCT', 'AAACTAGA', 'TAACTAAC', 'GAGGTGGT', 'AGTGCAAT', 'TGGTGGAC', 'TTGTGTAA', 'TAGTATTT', 'ATGCCAAC', 'CATCACAA', 'GCTTTTTA', 'CGTTTAGT', 'GCTCTACA', 'AAGAGAGA', 'CCACTCGT', 'TTTCAGCG', 'GTTCAGGT', 'ATTGTTTT', 'TAAACATT', 'AATAACAC', 'TTGAAGTC', 'TTTTGGGG', 'CTATATAC', 'TGTGTAAC', 'AGAAAGAT', 'TACAGAAG', 'CTCTATCT', 'CAAAAGTG', 'GCGGGACA', 'GAAAAGAA', 'TTTGCACC', 'CACCGGAC', 'GAGAGGGT', 'GCAAAACT', 'GGAAAGCA', 'ACTGGACA', 'AATGCCCA', 'CAAATGTA', 'TGGTGCTG', 'ATAGAAGC', 'ATGGGGGG', 'GAAAGCCC', 'AACGCTCG', 'AATCCGCG', 'AAGTCAAC', 'GCTAATGA', 'CTAACTCT', 'TTGTTGAT', 'GTAATTCG', 'CCGATATC', 'TTGTATTT', 'CTTATTGC', 'GGAGATGG', 'TAGTATAG', 'ACAACACA', 'GGTATATA', 'TCAAAGTT', 'TCAAGACA', 'AGCAAATG', 'CCCTCCAT', 'TAGAGATT', 'AGCCTAAG', 'ACGGGGAA', 'ATCATCCA', 'CTTGCTGA', 'TTAAAAAT', 'AAGGAGCC', 'TAAAATAC', 'ACTTTGGT', 'ATGTATAC', 'CTGTAAAT', 'ATCGCAAG', 'CTATGCGC', 'TTATCATT', 'TTCCCATC', 'TATTCAAC', 'AGGGTGTA', 'AAACTATT', 'ACTATACT', 'TAACGGCT', 'TGAATAGA', 'TGCTATCC', 'GATTGTCT', 'ATATCTTC', 'TAGCGGAG', 'TCTGTGTG', 'TTCTGACA', 'CTATACAA', 'GTAAAATT', 'ACCTGGCT', 'TTCTATTT', 'TGCAGCAT', 'TGTTATTT', 'CATTCCTA', 'CAAAGTTG', 'TCTTTTTC', 'TTATCACG', 'TAGATAAC', 'TTACACTC', 'GAAAGTTT', 'AAACGGGT', 'GCACCTTC', 'ATCAAAAA', 'GAGTGGAT', 'CACGTAAG', 'ATTCACCT', 'GTTAACTC', 'GGATAAAA', 'AAGTCTCG', 'TTTCCAAC', 'GTTTATTC', 'AATTAATG', 'CGGCACCG', 'GTTGATAG', 'GTCAAAGA', 'ATAGGAGA', 'AATTTTTC', 'TTTGAAAT', 'GAGCAGCA', 'CCTCATCT', 'ACATTGAA', 'CTGAAAGC', 'TGAAAGAA', 'CTTGGCAG', 'CCCAATCC', 'ATTCCCAC', 'TTATACTG', 'TACCCATG', 'TTGAAAAT', 'TCTGGGAC', 'ATCATCCT', 'GGGGCAGA', 'ACGGCCCC', 'GCCCCCTC', 'CCGTTTCT', 'TGTATTTA', 'AGCTATTG', 'CAGAAACC', 'AGTGATAA', 'TTCATGAG', 'TTAGTCTA', 'TTGTATTA', 'AGAGTATT', 'AGCTAGTG', 'CTGGGCTC', 'CTTTATTT', 'TCAAATGG', 'TCTTAGTA', 'GGGAAACA', 'TTGACCTA', 'CCCCCCAT', 'AGAAACCT', 'ACACAAAA', 'TCGAGTGC', 'GAAGACTG', 'ACAAGAGA', 'AGTTTTAC', 'CTCCTCGC', 'TTCGAGCG', 'GCATTTTC', 'GTAGAGAG', 'TTCTGTGA', 'ATGGTGTA', 'ATAGTGGG', 'AACGGGCA', 'TAGACATT', 'AGAGATTA', 'AAGTAAAC', 'TTCACGCA', 'CATAACGT', 'GGGGGAAC', 'AGAAACAT', 'CTATTATT', 'CCGCACCC', 'ACCGATAA', 'AAAAGTAG', 'AAACTTGA', 'CTTGTATG', 'TCCGGTCT', 'TTTAAGTA', 'GTTAAAAC', 'CCCAGTCA', 'TTACTGAT', 'TTAAGGCT', 'CTCTATGC', 'ATGACATG', 'GTGTGCAC', 'ATTGATCT', 'AAAGCATG', 'AGTTGTAC', 'ATCACAGA', 'GCAGATTC', 'ACATCTCT', 'GTTGTAAG', 'TTGTGTTG', 'AAATACCA', 'GAGAATAT', 'CATTTGTA', 'CTTTTCTT', 'TCCTTACC', 'AATAACTG', 'TAGTAATT', 'CAGAAGAG', 'TTTAACCG', 'CTCTGCTA', 'GCTATTTT', 'TCATCGAG', 'TTCTACAT', 'ACTTTAAG', 'GTATACCA', 'GCGAACCG', 'AAGTGGGA', 'ATAAGGAA', 'AGTCCTCG', 'GCTTTTTG', 'TATATCGG', 'TTTGCGGT', 'TAGAATAA', 'ACAAAAGC', 'ATGAAAAA', 'ACGGCGCT', 'AGGGTGAA', 'ACCTATTT', 'TTTTCTTT', 'AGCCAATA', 'AAGTTCCT', 'TTCTTTAT', 'GAACAAGA', 'AAACCGGT', 'ACCTGTGC', 'ATTGAGGG', 'GTGTTGAA', 'TATCTAAG', 'CCTTGTAC', 'TCAAATAG', 'ACTGCGGG', 'AAAACCGG', 'CCTGGAAG', 'CCTGTATA', 'CTGTTAGT', 'CCTCCGTA', 'TTCAGTAC', 'TTATTAAA', 'AGATAATT', 'ACCATCAA', 'CTAGCACT', 'ACAAAGCA', 'CTTTGCAG', 'GTCTAGTG', 'AAATATCC', 'CTGGTCTT', 'ATTATACT', 'AGACTTCT', 'TTTGAACT', 'AAGTTCAG', 'TACTATTG', 'CTGTACCC', 'GTGCAAGA', 'AGTACTGT', 'AAAAACAC', 'AGAAAAGG', 'AAGTAAAC', 'TAGAACCA', 'AGCACGGA', 'GGCCCTAC', 'TAAGAGGT', 'CTACGCTC', 'AAAGTTTG', 'GTTTCATC', 'TCTTCTTC', 'AGGATATT', 'AGCCATAG', 'AAGAAAAC', 'CCCCCCCA', 'CCATCTCT', 'CCTTCTCT', 'TTCTCCTT', 'AGCCGGGT', 'ATCCCCAC', 'CCCGAATG', 'TTCCCTTA', 'ACCTTCCC', 'CTACGGGT', 'CTATCACA', 'ATAGGTGG', 'AGCGTAGA', 'GAAACCTG', 'CTCTTAGA', 'TACTAGTA', 'TTTGTCTT', 'TCGATGCC', 'AACGATGG', 'ACAACATA', 'ATACAGAA', 'ACCATTGC', 'AGGACTTG', 'CCTCAATT', 'ATAAAGAG', 'AAAAGTTT', 'AGCTAATA', 'TTGGTCTA', 'AAAAGTTT', 'TTAATAGT', 'ACCTTGCT', 'TTTATTTT', 'AATAATTG', 'CCTTAGCG', 'AAACCATG', 'GAATCTTG', 'ACATTGTA', 'AAAGAGAC', 'GGATGGAG', 'AGAAGTTA', 'CGTTTATT', 'ATAGAGAA', 'TAATTTTA', 'AATCTGTC', 'TGTTGGCT', 'GTCGTAAA', 'TGCTATCA', 'AAAGATAC', 'GTACGTAC', 'CCCGGATG', 'TCCCAAAA', 'AACTGGGC', 'TCAGTTTA', 'CAAGAAAG', 'CGAAGCTT', 'TTTTACAA', 'AGCCTTTG', 'GTGGTAGA', 'ATGATCCA', 'TTGCGTGA', 'AAAACATG', 'AAAATATA', 'CTAGCCCT', 'ATATATAT', 'GTTTTTAA', 'CTATACTA', 'AATAATAA', 'TAACATTG', 'TGTTGGTA', 'AGATGCCA', 'GTATCAGC', 'ATCTATAA', 'ATACCTGA', 'TATTTTTG', 'ATATTAAG', 'AATATATA', 'ATAAATTA', 'CTTAACTA', 'TTTCTACC', 'GCACAAGA', 'AGTAATAA', 'AACCAGTA', 'TGAATTAC', 'CATAATAT', 'AAACCTTT', 'CAGCCATA', 'ATTGATTA', 'TCCAAAAC', 'TTAATAGA', 'GCAATTGT', 'TCAAATTC', 'GTACTACT', 'AATGATAC', 'AATATATA', 'ACCAACAT', 'CTGCATAT', 'AGGTTTTT', 'ATCGAACC', 'CACGTAAG', 'CTTTTGTT', 'CAAATATA', 'AATGACAG', 'CTCTGCGA', 'AAAGTACC', 'AACATCGT', 'CTTACTGT', 'TAGTTTGT', 'TTTTAGGG', 'CTTGTTCA', 'CCTTAATT', 'ACACAAAG', 'CTGAAGTA', 'ATTCGGCC', 'TATTCTCT', 'TCAAGGCG', 'AAACCTTT', 'AAAAGTAC', 'CCTCTGGA', 'TGTCGACA', 'TTCTTCGT', 'TTTAATTG', 'TACCACAT', 'AACCTATT', 'TGGGGAGA', 'TCAAAAAT', 'AAGGGGTT', 'AGGAAAGC', 'TGGCTCAC', 'GTGTCAAG', 'AAAGAGCA', 'CCATCTTA', 'TCATGACC', 'ATATATGA', 'TATGCTTG', 'TCCGAGAA', 'CCTCTTCT', 'ATACCAAT', 'GTATCAAA', 'TAACCTTT', 'ATTACGAA', 'TCATCTTC', 'TAAGGCTT', 'GAAGTGGT', 'AGAATTGA', 'TTCTACTG', 'CAATTTTA', 'AGCTCCTT', 'AATAACAA', 'CTGGCATT', 'ATGCAGCA', 'GCTTTTCT', 'GATTGCTT', 'AAATCTGG', 'CTTTTGTT', 'CGTTGTAC', 'TGTGCGCA', 'TAAAAAGA', 'CTGTGTGT', 'GAAGGAAG', 'TTTTTTTG', 'GCTTTCCA', 'TTGTGAGT', 'GTTATATG', 'AATCATGA', 'ATTTTTGC', 'ACCAGAGA', 'TGAAAGCA', 'CACTGCTG', 'TGCGCCCC', 'GTCCCCGC', 'CATACATC', 'CAACCTAT', 'AAAGAGGG', 'ATCGTCGC', 'TACTGAAA', 'CCCGCCCC', 'CAAAACTG', 'CATATAGC', 'ATGATCTA', 'ATGGTAAA', 'TGTGTGTT', 'ACCAAACC', 'CGGAGAGA', 'TCAGGTTG', 'ACAGTGTC', 'GTGGCGGA', 'TTCGGTGC', 'TCTGCAAT', 'ATTCCCCG', 'AACTGGGT', 'ACTTTCAT', 'TTTTAATT', 'TAAGGAAT', 'TTCCTTTG', 'GACAACGA', 'ATACAATG', 'TTCTTCAA', 'GTACTTGC', 'CTTATTTC', 'TTATATTT', 'TTCTCGAT', 'CCTTTTCT', 'CAGATGTA', 'CTTTCTAG', 'GAAGGGAA', 'CTGGTTCT', 'ATGGTATT', 'AAAAAGGA', 'TGGAACAA', 'AGAAAACT', 'ATTTAAAC', 'CACCTTTG', 'CTTCGTTG', 'CTTGATTA', 'AGTCGTTC', 'AATTGCAA', 'TAGAACAA', 'AATTATAG', 'ATAACATG', 'GTATGGCA', 'CAGCCAAC', 'TAAAAAGG', 'GACAAGGC', 'GCTCAAGG', 'GACGGCAG', 'CGAACTTT', 'ACCCGTTT', 'TGGGTTAG', 'GGCCATTT', 'TATTCCCT', 'GGCTACGG', 'GAATGGTT', 'TGTTGTTA', 'GCAGCGGC', 'TGTTTACC', 'GAAACTGG', 'CAAAATAT', 'TAGAACGT', 'ACATTGTA', 'TCAACTTG', 'TGTTTTAA', 'CGAAATAA', 'TTTTTGGA', 'GATAAACC', 'GCTTATTC', 'AGAGAAAT', 'CCTCTTTC', 'AGATTACC', 'CACTCTGT', 'CGGGCTGC', 'CTCAAAAA', 'GGCCAGCA', 'AGCAGTAT', 'AAACACAT', 'TTTGGTCT', 'GCGAGGAG', 'GTGAGGAT', 'TTTCTGCC', 'TGCAGGTG', 'TGATTGCA', 'GAAACCAG', 'TCAACATA', 'GAAGTTGT', 'GGCATCAG', 'ATATTATC', 'CATGTAAG', 'TCTTGCTG', 'CTAATCCC', 'TGAATAAC', 'AAGGCTTG', 'TATCGAAC', 'AGAGAAGG', 'AATACTGC', 'GCCCTTTA', 'TTATTTTT', 'CAATCACA', 'GGGGGATA', 'ACAAAGCG', 'AATATCCA', 'CGGTGGTT', 'CTTTCCGT', 'AATAGTAC', 'TCAAAACT', 'GTGAAATC', 'ACTTCTGC', 'CCAAGAAA', 'TCGTATGT', 'CTTCACTT', 'CATAAATC', 'CGGCGATC', 'CCGTTTCA', 'CTAGGTCA', 'GTTTCATG', 'ACATATTT', 'TTGAGAAT', 'TGCTGTAT', 'AGATACAG', 'TTTCTGAT', 'ACTGGGCA', 'CGGGAAAA', 'CCTTATCG', 'TGGGTGTA', 'ATGTGATT', 'GACTAGAA', 'ATAGCATT', 'GTTTCTAC', 'AGTGAAAT', 'AAATGTCA', 'AGATCAGT', 'CTTAACAA', 'AAAAATTT', 'GAAACCCT', 'GAATGTCT', 'CATTCTGA', 'AAACAAAA', 'GACAAAGA', 'CTGCTGTG', 'ATGGAAAT', 'CAAGGCCA', 'GTTCATTG', 'TTTCCTAA', 'GCAAAAAG', 'TTTTTTTT', 'CCCTACAT', 'TGCACAAC', 'CCCGAGAC', 'ACAGTTAT', 'CCCTTAGA', 'GCACTACG', 'TTAAACGA', 'TGTTCTAG', 'ATAGCATA', 'CCATTGTG', 'AAAATAGA', 'TGTTCGAT', 'CCCCCCCA', 'ATCTATAT', 'AAAACAAA', 'TGTTAGCA', 'GACATTTG', 'TATTTCTT', 'CTTCGCCT', 'TGAATAGT', 'GGGCTTTG', 'GCTTTTGT', 'CAGCGTCT', 'GTTGTTTA', 'GCTGATTA', 'TGTAATTA', 'ACGAACTG', 'TTGAGAAA', 'AACGCATT', 'GCATACAA', 'TCTTCCGC', 'TGGGCGGG', 'CCTCAGCC', 'CTTTGTGT', 'AGCACTAC', 'CGTGCAGT', 'ATGCAGAG', 'GAAGGGTT', 'GTAACCCC', 'CGCGGGGT', 'CACGATAG', 'ACAATAAA', 'GCTTTTGG', 'CAAAAAAT', 'ACCGACTT', 'TAACTAAG', 'GCAAATAT', 'CATGAGCT', 'GTGATTTA', 'TCGTCGTT', 'TTTGGGAC', 'CAGTTAAA', 'AGACTTGG', 'AATGGAAC', 'TGTGCATA', 'TCTGTTTG', 'CGATCGTC', 'GAAAAGGA', 'CTAAAGTT', 'GTACAGCC', 'ACATCTTT', 'CTTTGATA', 'ACATTTTG', 'GACTCCAT', 'AAGTTTAC', 'CCGTACTG', 'CTATTTCC', 'TACACTCT', 'TGGCAGGC', 'CAAACTAA']\n",
      "['TTGTTCTT', 'CCCCAAAC', 'TAAAACGT', 'TTTGCCTT', 'ATAAAACA', 'ACTGCAGT', 'CTAGATCA', 'GCCTTTGT', 'GTGGGACC', 'TCTCCTGA', 'GCTACACT', 'CCGGAATT', 'TGTGGGTG', 'CCATTGTG', 'AAATATAA', 'CTAGTGTA', 'AATGTATG', 'CTCAATTG', 'AAATATAA', 'AAAATTAG', 'TACATCCC', 'CCTACTAG', 'CGCTTTGC', 'TTGTAGCG', 'ACTTTGAC', 'AATCCAAT', 'TATTCAAC', 'ATTGGTAG', 'TAGTCTAA', 'AAAAATTG', 'TCTTTATG', 'CAAGTAAG', 'ATATATTA', 'ATAACAGA', 'TCTTTCTG', 'AAGAAGAT', 'AAAAGAAA', 'GAGAGGGA', 'TGCTGCTT', 'AGGAATAC', 'CTCACACA', 'TGCCTTGA', 'ACAATGTA', 'AGTAGGTG', 'TTCTTGAT', 'TCTTGAAA', 'ATTAAAAT', 'ATGCTCGA', 'AAAAAGTT', 'AACATGAC', 'TTGCCGAC', 'AATTTCCT', 'ATCGATAG', 'CTTTTGTC', 'TCGTACAA', 'CAAGTAGA', 'GTTTCCTC', 'TTTATGTA', 'CGGAGAAT', 'AGTCCCGA', 'TTCGGCGG', 'TGTAAAAC', 'GCTTAAAA', 'TGCAAGAG', 'CCGGGTGC', 'ATTAAAGT', 'GTTTTTAG', 'TGCCAGCA', 'TTATATTT', 'ATATATAT', 'ATCGAACA', 'GTAAGGTA', 'TCTTATTA', 'GTGTTACA', 'TTTTAATT', 'TATTGTAT', 'AGTATGAT', 'TCTTTATA', 'TCAGGAAA', 'ATTAAGGA', 'CTTAATAT', 'TACATAAA', 'ATTATTTA', 'AGCATTCG', 'ATATATAT', 'AATTTGTA', 'GTAACTTG', 'GTTTACAT', 'TCAAATTT', 'CATTTTCA', 'TCACCTAG', 'TAGAATTA', 'AATGATTT', 'TTAATTGG', 'GTATTTTG', 'CAGAAGTA', 'GAATTTGA', 'CCTGTTGA', 'TAGAATGA', 'TACACTAT', 'ATTTCCAA', 'CTACATTA', 'AAAATACT', 'CACATGAC', 'GATAAGAA', 'AAAGTGCA', 'TTGGCAGG', 'TGTCATTG', 'TTACTTTT', 'GGGCAGCA', 'GATAACAT', 'GTAAATAA', 'CCCTAACT', 'ACATTAAT', 'AAGATGTC', 'GGAGGATT', 'TTAGCACA', 'CAAATATG', 'ATGCCATT', 'TCAGGGAG', 'TTATATTC', 'TATTATTT', 'TTATAGTT', 'GAGTCATT', 'GAGCCACA', 'TCTCAGTT', 'CAAACGGG', 'TCAGAACG', 'GTCTCTCT', 'AAGGAACA', 'TAAGGGGG', 'AAGAGAAG', 'CCCTCTTA', 'CTCACAGG', 'TCTTGGTA', 'TGCTCAGC', 'GTGCAATG', 'ATTGTGAG', 'GTAGTAAA', 'AGCACAAG', 'GCACCAGT', 'GAGGAAAA', 'GTTTCCTG', 'CTCATTTT', 'ACCAGGCA', 'CAGACTGA', 'GAGGCACG', 'TGTGCAAA', 'CACGGAAG', 'AATTCTTT', 'GAACAAAA', 'TATGAGTT', 'GAAACCCT', 'TTAAGTTG', 'TCCCCCCG', 'GTATTTGG', 'CAGTTAGA', 'CAAGCACG', 'TGAGTGGT', 'AAAATCGA', 'TTTTGTAC', 'AATAAAAG', 'ATATGAGA', 'AAGAAACA', 'AGTTCCTT', 'AAAACTGC', 'TGGATACC', 'AACTCACA', 'ACAACGCG', 'TATATTAG', 'GTATGGCT', 'ATATAGCC', 'AAGAATGG', 'TACCAGCA', 'AAAGACAG', 'TATATTAC', 'CGAATTTC', 'TTTCATTA', 'TTCACATA', 'TATTCGTA', 'AATGCAGA', 'CTAGGGCA', 'ACACTACT', 'ACCTCCGG', 'GCAGTTGG', 'GTAGTATA', 'CAACACAA', 'ATACAATT', 'ATTCTCTC', 'ACATGAAC', 'CACTGTGC', 'CCCAATAG', 'TTGCATAG', 'ATGGCAGT', 'ATTCCACG', 'ACATTTTA', 'TGCTGAGC', 'GCATTTCC', 'ATACCTGG', 'CTGGAGTT', 'ACAAATTC', 'GCAGCAGG', 'AGGTAATA', 'CTAGACTA', 'TTAACAAG', 'CATATTGA', 'CATCCCAT', 'AGACATAA', 'ATACATCT', 'ATTTTCTG', 'TATTCTCT', 'GTATTCCT', 'TAGAATAC', 'GTGCTATC', 'CCGTGCGG', 'ACCCACAA', 'CATCGCTA', 'AGTCAACT', 'ATTCATTG', 'ATGGCCAA', 'AACTCTTG', 'AATTGGAA', 'ATCATTGC', 'GTTTGCAG', 'AAATGTTC', 'CTGATTTG', 'TTTTTCTA', 'ACTTTTAA', 'CTCGTTGC', 'ATAACAAC', 'GGGTGCAA', 'AGAACAAA', 'ACCTTTCA', 'ACCGTCCT', 'TCCTGCAC', 'TTATTAAG', 'TTCCGTAG', 'ACCTCTAC', 'ACAACAAC', 'AAGAGTCA', 'CATGGAGA', 'CGACCAAG', 'TGTATTAT', 'AAAAACTC', 'AGTCCCGG', 'TCTTGAAC', 'AGTTAAAA', 'TGGCATAT', 'AAATGAAT', 'AAAATATT', 'AAAAATGG', 'GGGGATCT', 'GTCAGTCT', 'AGCTGAAA', 'CTTCTCAG', 'CCCGATGT', 'TTTGAGGC', 'TGCTGTTG', 'CAGTAAAT', 'CACGTAAT', 'GGATCCGG', 'TCTGGGAC', 'AGAATATC', 'CAGCTGCA', 'GAGACACC', 'GTGCAATC', 'TTGTTCAT', 'TTGCACAC', 'ACAAGCCA', 'GAATGATG', 'AATTTTAT', 'TTGGACTA', 'TTGGCAGT', 'TATTATTC', 'TATAATAT', 'TGCTTTAC', 'ACCAGAGT', 'CACACAGA', 'GAAGTTAC', 'GGAATTGG', 'AAATGAAA', 'TTTAATTG', 'CAGATATC', 'CACACAAA', 'ATGGATAT', 'ATTTTCTC', 'TTACGGAA', 'ATTCAAAC', 'GCAAGACC', 'TTTCACGC', 'GAAAAGCA', 'TATTTATT', 'CGAGTACG', 'TTTCGGAG', 'AGGTGCAC', 'GTCAAATA', 'AGCCTTTT', 'ATTAGATC', 'TCCAAACC', 'TCCATATT', 'AACATATT', 'AGGGCCAT', 'TGAGGATT', 'AACATGAC', 'ACCTTCCA', 'AACTCAGT', 'TAAGGAAC', 'ACAACACA', 'AAGAATCA', 'CTAGTCTT', 'GTAAACAT', 'TCTAACTG', 'TGGAAATA', 'TTGATGAT', 'AGAGCAGA', 'GTTAAGGC', 'TCGAAAAT', 'TAGGGTTT', 'TTTGAGAA', 'GATTGATC', 'TGATATTT', 'AGACGATT', 'TATAATCA', 'CTCAATGT', 'TCAACAAT', 'GCTAATCT', 'GGAAACCA', 'GAAAATAC', 'CCCTCTCT', 'GGAAGTGC', 'CATGTGTT', 'GTCCTTAC', 'GGCAATAA', 'CCCGGCAT', 'ACTCTCTG', 'GAGTCATA', 'AGAGTGGA', 'CCAAACTC', 'TGGGTGCG', 'TACAACTC', 'GAGTTCGC', 'CTTGAAAC', 'TTGCAGCA', 'AAGAAGGA', 'TGCTTGCT', 'TGCGTTCC', 'CTACCTTC', 'AGGTCCAC', 'TTTTGTTA', 'TTTACAGT', 'AGCAAGAA', 'GTACACAG', 'GGGAATTG', 'GCAGTTAA', 'GTCACCAT', 'TTATTTGT', 'GGGCCTTA', 'CATAAGTT', 'GACGCTGG', 'AGAAACAG', 'GTCCCGCC', 'GGTCTAAA', 'GATGAGGT', 'TTGGGTGT', 'CCCACTGC', 'CAGGCATC', 'AAGAACCC', 'ATCGAGTC', 'CCCCTTCC', 'AGGTGGGC', 'TAATCTTC', 'TCAAAATT', 'TATGGATT', 'GAAGTCGG', 'TGACTTAG', 'GGATGAAG', 'TTACCATC', 'TAGCACTC', 'GACGAGAC', 'CCCAAAGA', 'GCACCTTT', 'GTTTCAAA', 'AACGTGCA', 'CGCATTAT', 'ATATCTAA', 'AACCAGAT', 'ATTTTCCT', 'TAAGAGGT', 'AAAATAAA', 'GAATGTAA', 'AAGAAAAA', 'TAGAGCTT', 'ATTTTGAT', 'AGAGAGGA', 'CTGTAAAT', 'CCCAAAAA', 'GCCCTACA', 'ACAGAAAA', 'CTTAGTTT', 'TGGAAGAG', 'ATTCATTC', 'AGTCCCAT', 'ATTGGATA', 'CTCAAAGC', 'AGGGTGCA', 'ACCTGCCA', 'GCGAGCAA', 'CCTGGGTC', 'AGAACAAG', 'TGTTCAAT', 'TCTTCCCC', 'TCCCGAAT', 'AGCAACAC', 'CCCTAGAA', 'ATTCATTT', 'ACATTAGC', 'CGTAACGT', 'AGCTTGAT', 'TTCTCTTT', 'TAGTTCTT', 'GATGATTA', 'GCTTGCAA', 'CTGAACTC', 'GGAGGGGG', 'CAATTGCC', 'CATACAAA', 'ACCATTGC', 'GTTTAGAC', 'CTCAATTT', 'GTGTAAAC', 'AAAAGTGT', 'ATTGAGAA', 'AGAAAAGA', 'ACTTGAAA', 'TCTAATCT', 'GTAGTGCA', 'CAGCTTCT', 'GAACTCTG', 'GAACTTGA', 'TCAAGGAG', 'ATTGCTGT', 'TAATGTGG', 'AAAGAGAC', 'GCGATGAG', 'TTACCGTC', 'AATGTCAT', 'CAATAGAG', 'TTTTACAC', 'GTAAAAAG', 'GGCAATTT', 'TTCAGCAG', 'GGCGATGA', 'AGTTACTT', 'ATATGGTT', 'CTGCGTGT', 'GCTAGTTT', 'TTTAACTG', 'GATGACTA', 'TGATCTCG', 'AAGCTTCG', 'TTTATCGG', 'TATGATGG', 'GCATACAT', 'CATGATCC', 'ATTGCGTG', 'CTGGTTTG', 'GCTGGCAC', 'ACGCTAGC', 'TTAATATA', 'GCTTTCGG', 'ATTTATCT', 'AATAAGAA', 'TATTGAAG', 'ATAAATGT', 'TTTTAGAA', 'AGCATCTA', 'AAATTAGA', 'ATTTAATA', 'AGAGCTAT', 'TAGTAAAC', 'TAATAGGT', 'TATTGATT', 'CAATTGAG', 'ATATATAT', 'AAGCTTTA', 'ATATTGAC', 'CATCAATA', 'ATACCTGT', 'TATGTTCT', 'AAAGAAAA', 'ACAATTCA', 'ATACATTG', 'GTTAATCC', 'TAAATATA', 'ATACAAAT', 'CATTAATA', 'TATCAGTA', 'CATGATTA', 'ATATATTT', 'TAATCTTG', 'TTTATAAC', 'GGAGACAG', 'TCATGTGG', 'TTGATATA', 'GGCAATTT', 'GAGGGCCT', 'CCATTTTA', 'CCCACAGA', 'ACTTCTCT', 'GACAGAGT', 'TTACTGTT', 'GTTGGACT', 'AAGTGCTG', 'ATTCTTTT', 'ATCAGCCA', 'AACCACAC', 'TCGGCCGA', 'CACAGAAT', 'ACGAACAG', 'CGTGTCAA', 'AAATAATA', 'TAAAAGTA', 'TCTGGAAA', 'TCAGTGAC', 'ACAGAGAA', 'TTTTGTAT', 'CGAATAAC', 'ACTGAAAT', 'CAACATGG', 'TAGCTAAC', 'AGCTCTAT', 'TATAAGAG', 'TAATACAG', 'CTTGTCTG', 'ACCACCTC', 'CATCCGCA', 'GGGCTCTA', 'ATTTCCGA', 'CTACACTT', 'GCTGAACT', 'TTTCCTCT', 'AAACATTT', 'CAACAGAT', 'CAGCTCCT', 'TTCCTGAT', 'AAGGGAAT', 'TTACAACT', 'AACAAATG', 'TGCCGAAA', 'TAGTTTAA', 'GGTGCTCA', 'AACCCATT', 'AAACGGTG', 'CGTATATA', 'CCCCGTCC', 'TCGTATCT', 'TCGCTTCT', 'CATATACT', 'TCGATTTT', 'CCCGCAAG', 'TTCTTTTC', 'AATGTGGT', 'TTCTGTCC', 'CTCCGAGG', 'TCTCGGTT', 'CAACTTCA', 'TGGAAGAC', 'TCCAACGT', 'ACAAAGCT', 'GCACCAGG', 'CATAGTGC', 'CCACAGTT', 'GAGAAGCA', 'ATAGATCG', 'AGGCGGGT', 'TATGCTCG', 'AAATGGGA', 'AAAAAGAG', 'TTGCTACC', 'ATCTGTGA', 'CAATGTCT', 'GTGTGAGT', 'ATATAAAG', 'ATCTCCAA', 'CTATACTA', 'AGTCTAGT', 'CGGAATGG', 'AAAAAAAT', 'GCTCAGGT', 'TCTCTTCG', 'GGTGTGGC', 'TTCGGTGC', 'CTCTTAGG', 'CCGTGCTT', 'GCGTCAAT', 'TGACTTAG', 'ATTAATTA', 'TGATTCAT', 'AAAGTTGA', 'ACGAATTT', 'TGGTATAC', 'CAGTATCC', 'AGTACTTG', 'AATCAGCA', 'TCTTCAAT', 'GGAAAATC', 'CCCACTCT', 'ACACCTTT', 'GTAAAGAA', 'AGGAGTAT', 'ACATGTAA', 'GGCTATGG', 'AAGAAAAA', 'AGACAATC', 'TCTACTTC', 'AAGAACAT', 'TGACTCTA', 'TCTGACAG', 'ATTTCCTT', 'GCAGAATT', 'CCTTTACC', 'TTAGGTAT', 'ATCTTGCT', 'ATCTGAGA', 'GTCTACTG', 'AGTCCAAC', 'GTATATGT', 'TATACGGC', 'CAGGCTCA', 'TGCTATAT', 'TCTCTACG', 'TAAGGACC', 'GAGCTGGG', 'GGTAGTGC', 'TGGGAAAA', 'ACCGAGAT', 'AGGTGAAT', 'ACTTGACA', 'CTGTGGTA', 'TCTCCATG', 'TGGTTTAT', 'TCATTTTT', 'TAACGGAA', 'TTGTACCG', 'AATATAAT', 'TTTTAACT', 'TATCTATC', 'TTCATTTA', 'TTTTATGA', 'ATATGGGT', 'TCACAATA', 'CTTTCCCG', 'AAATATTC', 'ACGATTTG', 'GTGCTCAC', 'GTGTCTGG', 'AGCGCCCA', 'AACCGGGT', 'ATGATCGC', 'AATCTTCC', 'GCATTTTG', 'CGGACGGC', 'GCAGCTGA', 'GACTTCTC', 'CTCAGAGT', 'CAAGTTAT', 'GTAAATTA', 'CCCAGTCA', 'GATGGGGG', 'ACTGGAGG', 'AAATCTAG', 'GTTAAATA', 'AATCCCTC', 'AACAATAC', 'ACCTTGGC', 'AATGGGTG', 'CGAAATTA', 'CAAAATTG', 'TTATATAT', 'ATATTTTT', 'ATTTTAGG', 'CTGTGTGT', 'GTGTGTGC', 'AATATCCA', 'CTCGAGAA', 'TGTCATCG', 'AAATAGTA', 'GGTCTTGC', 'CGAGGAGC', 'CCTGAGAT', 'TAATGCAC', 'TGCACACA', 'TGCCTAAA', 'AGCACAAT', 'AAGGCTTT', 'AAAGGCTT', 'TTGTTATC', 'CTGTTTCA', 'CAGAATTC', 'GATCTACG', 'ATGGCCCT', 'GCTGTATA', 'GAGAAGAG', 'TGTTTCTG', 'AGGGGCCT', 'TTATGCAG', 'TGTGTTGT', 'ATCAAGTT', 'TAAACTAG', 'ATAACAAT', 'GTTAGATC', 'TTAACACT', 'ATCAAAGT', 'AAAGCAGA', 'AGCCTTAA', 'ATAGAGTT', 'CTAGTAAT', 'GGTTAACT', 'GATTTACT', 'TCAATTAT', 'CCTCTTAC', 'TGAAAAAT', 'GATTTGTG', 'ACAAAGAG', 'GTTTAAAC', 'CGGTTTTA', 'ATACGTCA', 'CCTTTTTT', 'GGGAAGTG', 'GATCTCTC', 'GCCCGAGA', 'ACTAAATA', 'GTCTGTAA', 'CGCACTAC', 'AACGATTG', 'ACCCAAGA', 'ACCAAAGC', 'GTCTTTAT', 'GAGTTGTA', 'AACCAAAA', 'ATACACAA', 'TCTATATA', 'CCCACTTT', 'GAAGTCCT', 'GGACATTT', 'AGCGATAC', 'AGTGTAAC', 'GGAATTCT', 'TAAAATAA', 'ACTCTTTC', 'TTCCCACC', 'CTAGGGGA', 'ACTGCCTG', 'TATTTCAA', 'AGAGGGTT', 'AAACGAAC', 'TTGTACAA', 'AGCATACA', 'CGCTTCAC', 'TTTGGGCG', 'GTGGCACA', 'GACCTCAT', 'TTCAACAC', 'GATACTAC', 'TAGTACAA', 'CTTAAAAC', 'GTTCGTAT', 'CGTGGAAG', 'TAGCCTTC', 'ATTTCACT', 'GGTGTAAA', 'CATATTTT', 'CCGACTTC', 'TTTAATAA', 'TTTTTTCA', 'CTGAAATG', 'TTAGTTAC', 'ACTAAAGA', 'TGCCTTTA', 'AATCAATA', 'TACAATTC', 'CGACTTAA', 'GTAAATCG', 'TTTGTTAT', 'TCGTCTCA', 'TTGGAAGT', 'ATAGTATT', 'GTAAGGGT', 'CCGTACGC', 'TCTTTGAT', 'TTTGTGAG', 'TGAAAAAT', 'GCAGTTAA', 'GTGCTCTC', 'ACTGTGCA', 'GTAGCCTT', 'GCGTTTTC', 'GAGCGTAG']\n",
      "['GCCCACAG', 'GAATGAGT', 'AGTAACAC', 'TCCAATCA', 'GGCTTTGA', 'TGAACTGC', 'GGGGGTGG', 'TCTGTGTG', 'GAGAAGGA', 'CTGAATGA', 'ATAATGAT', 'GGGGAAGA', 'CGGGAAGT', 'CTAGTAAG', 'GAAGGTAA', 'GGGATGAG', 'AGCGCTAA', 'AATACCGC', 'CCGTTAAT', 'CAGTAAAA', 'CACTGTGC', 'TATCCCGC', 'CAAAGATT', 'GATAAGGG', 'GGCATTGG', 'TATTGAGA', 'CAACCACC', 'AATGGTAC', 'TAAACAAG', 'CCTATAAC', 'CCTAAGGC', 'AGTTCTCC', 'GAGCACAA', 'AAATCCAC', 'GCCTTAAA', 'AGAAAAGA', 'CTTGCTCT', 'AAATAAAA', 'CTGCTACT', 'GACTAGTC', 'ATGGTTTT', 'CTTGAACA', 'GGGAGGAG', 'ATAGAAGT', 'CTTGATCT', 'AAAACTTG', 'AAAAAATA', 'CAGATCAA', 'TTAGCTTG', 'AGATTTAG', 'CCAAGGTC', 'TCTAGCTG', 'ATTCATCG', 'CCTCAAGT', 'TTACCCTT', 'TTTACCCG', 'TTCTTCCT', 'TGTAGCAT', 'GGGTATCA', 'TTTGGCTT', 'TTCGGTTC', 'TCATTTAC', 'TTTACCAT', 'CAATTAGA', 'GTAAGACT', 'ACAATGAA', 'ATGCACAT', 'AAATATAT', 'AAGGATAC', 'TATTAATT', 'CAAAATTA', 'GATTAGTT', 'TTATTATT', 'ATTATTAG', 'TTATACCA', 'ATTGTATC', 'AGAGCTTA', 'ATATATAA', 'AGGTATGT', 'ATAAGGAA', 'GCACTTTG', 'AAATTATA', 'TATTATTT', 'TGTAATCG', 'AAATACGC', 'AATCTAAG', 'TATACTAA', 'TGTTTATG', 'CAAATATT', 'TATGCATG', 'ATTATGGT', 'GAATTGTA', 'GCTGTTTT', 'TTTTGGAT', 'TATTAGTA', 'GTGATCAT', 'TATTCTGA', 'GACAATTA', 'GCCATGCC', 'ATAAATAT', 'TTAATTGT', 'AAGCAGGT', 'ATATATTT', 'CGATATCG', 'TCAATAGC', 'CGTCAACT', 'TACCACTG', 'AGTACACA', 'GGACTTAG', 'TCAAATTC', 'AAAAAAGA', 'AGCTGGAA', 'AGGGTTCC', 'TTTGAGTT', 'GCACCCTG', 'TTGCCTAT', 'TATTAGCA', 'AAGCGGAT', 'GAATGTTT', 'GCTAGTTA', 'AGTTATAC', 'TTTTTATT', 'TTGCTGTG', 'CAAACCCA', 'GTGGCTTC', 'TCTCTGTT', 'GTGCGATT', 'GAAACTAA', 'TCTCTCAT', 'TAACAAGG', 'AGAAAAAC', 'TGGTTTGC', 'TTCTTTTT', 'AAATGTGA', 'AACTAACC', 'CGATGCGT', 'CAATGGGC', 'TGAGCTTT', 'TGCTCGAA', 'TTGCCAGG', 'ATACGGAG', 'AATGGTGA', 'AAAAAATG', 'GTATCTGT', 'AAAAAGTA', 'GCTCGGTG', 'ACTCGTCT', 'TCAAAAAT', 'CGACATTT', 'TTCGGCAT', 'TTGTTCCC', 'TTAAAATT', 'CTTAGAAG', 'ACCGTTTT', 'CAGCACAT', 'GGGTGTGC', 'GAAGAAAA', 'ACAGACAA', 'GAGCAAGT', 'AAAAAACC', 'GTACAACG', 'AAAAGAAA', 'CTGAGAAG', 'TAGGTCTT', 'GTGGATGA', 'ACAAAAAA', 'GAAGTTGG', 'TTCCAATA', 'AAAAGACT', 'CATGTATA', 'TCCTGGTG', 'GAGAGTAA', 'CGGCCGAC', 'ACTGTAAA', 'CCCTGGAA', 'CATGTGTA', 'TGCGAGCA', 'ATAGGTTG', 'TTAATACA', 'TAATGGCG', 'TCGAAAGA', 'TACAGACA', 'GTATTTCT', 'TTTGGTTT', 'CACCCGGT', 'TACTATAC', 'ACACACAA', 'GTTAACGG', 'TCTCTCCG', 'GAAGTCGG', 'ATGACATA', 'CCAATAGA', 'GAACTCCT', 'AGCCTAAG', 'GGGCAAAG', 'TTCGATAA', 'CCACTAAG', 'CTAAATAA', 'ATTGTTAC', 'TCTGGAGT', 'CAGAACAC', 'GAAAAGGC', 'GGATACTG', 'ACAAAAAT', 'TGACATGT', 'AAGATACT', 'ATTCAAAA', 'GGAAAGAC', 'AAGCAAAT', 'AACTATTC', 'CTCCTCTT', 'TAACGGCT', 'AAATTTCT', 'ATCCTTTT', 'ATTGTCTT', 'GTAGACAA', 'AGCGGAGC', 'TCGGGTAA', 'GAAATGGC', 'CTATACAA', 'TATCTAAT', 'TTTGCAAT', 'TGTTCTAT', 'TCAAGTAC', 'AGTTCATC', 'GCCATACC', 'TTCCAAGT', 'TATACATA', 'GCTTTCTC', 'ATGAAAGC', 'ATATATTG', 'AAAGTTTC', 'TACTCTTT', 'TCAACCCA', 'ACTACCCT', 'CTAAGGGA', 'ATCTCGGT', 'CATTCACC', 'TAACTCGA', 'ATACCACA', 'AACAGCAA', 'TACTTCAA', 'ATGAAGAT', 'AAAAAACT', 'TAACGATA', 'GTATTATA', 'TGACGATG', 'GCAAGGTT', 'AAAAAATT', 'ATTAGAAA', 'AATGGCAC', 'CCTTTCGT', 'TTGGGAAC', 'CTGAAAGC', 'GAGTGTCT', 'TAGGACGA', 'TTTGAGGC', 'CACCTTCG', 'CTCTCCCC', 'TATTTCAT', 'AAAATATT', 'AACTCTGG', 'GCCGTCCG', 'GCTGCACC', 'AACAGGAA', 'CCCCCTCG', 'ACAACTTC', 'AATTGTCT', 'CAGCTATT', 'GGACACCC', 'TTATGGAT', 'ATAGGAGT', 'CCATATGG', 'TGTGCATC', 'ATGGGTGC', 'TAAAGCAG', 'TTGCAATT', 'TCTTGCAC', 'GCACCCAA', 'TATAAAGG', 'ATTTGAAA', 'CAAGCTAG', 'AAACACAC', 'GTCCCCGC', 'TATTTATC', 'AGAACCAC', 'AAGACGCA', 'CATTATTC', 'ATAGTCAT', 'GTAGGTAG', 'GTGGGATG', 'TTTTTCTT', 'AGACGAGT', 'ACAATGCT', 'ACAAATAT', 'GCAGAGTC', 'AACGGGCA', 'TTGCTCTG', 'ATTAACTT', 'GTAAACTT', 'AATACGTA', 'ACAGCAAT', 'AACTGTAT', 'TACAAGGT', 'GCCCAGTT', 'TTTTTTCC', 'CATCGCAT', 'TAGTATTG', 'CATTTGCT', 'CCTGCTTC', 'AGATGTTA', 'ATTCAACA', 'AGGGAAGA', 'TCCCCCAG', 'TTGAACTT', 'ACTTTTAT', 'TTCTATTA', 'ACATTACT', 'TTACTCAA', 'AAGTAAAT', 'CAAAACTC', 'ACTGAGGT', 'AGAGACTG', 'GCATCCTG', 'ACAATCAC', 'TGCTAATC', 'TAAGAAAG', 'GTCATATT', 'TACTTGAG', 'GATGTAGG', 'AGCATGTG', 'TGTGCCTG', 'TAACTGTG', 'GACACCCG', 'TGCTCAGA', 'CCTTGCCC', 'TGATCTTG', 'CACGGCTT', 'CATCGAGG', 'AACTCTGA', 'CTATGAGA', 'ATGGAAGC', 'ATATATGT', 'AGTGGGAA', 'AAAAGGAC', 'TTCCACCC', 'GTATGTAT', 'TACACTAT', 'TTCCAATT', 'TAAGACCT', 'AGCCGACA', 'GAAAAAAA', 'CTCCAAAC', 'GATGCCAA', 'TGTAATTA', 'ATGTTGAA', 'ACTTTCTC', 'GTTCAGTC', 'GGTTCTTT', 'AGCAATAT', 'AAAGTCAA', 'GGAGGCAG', 'TTAATTAA', 'ATGCAGCA', 'AGCTGCTT', 'TACAGGCA', 'ATAGGGCA', 'CACAACTG', 'TCCACCCC', 'TTCTATCG', 'TTTTATTA', 'TTCTCCAA', 'ACTCGGTT', 'GTTTCTTC', 'ACCATCTT', 'TGCTGGAC', 'GCTTGATA', 'AAACTAGC', 'ACACACAT', 'ATCTTTGC', 'CACCTTTG', 'TCTTCTGC', 'ATACCCTT', 'CATTTAAA', 'ATATAATA', 'AAAAAATG', 'CATTATTC', 'ATCAATCT', 'CATACCCT', 'GTAGAGAG', 'GGGACTAT', 'AAAAAAAC', 'GTTGCACT', 'TCCATGTG', 'CTCAAACG', 'GAAAACAC', 'AGCTAAAC', 'CACACAGA', 'CTACGCTC', 'TCTGTTGT', 'TTCACTCC', 'CATACAAC', 'CAATTTCT', 'TTTTATTG', 'GGGTGCAA', 'TTCACTAA', 'CCCATCTC', 'CCTTCTCT', 'GTTCTCCT', 'ACGGAGTT', 'GCATATGC', 'TGCAAAAC', 'CTTTGAGT', 'CCGGTTTC', 'CATTTCCA', 'CTTTCACC', 'GATGCAAG', 'TCTAAGCA', 'CTTTTTCT', 'GTAAATTT', 'GGGATGAT', 'TCTTTGTC', 'GCAACGCT', 'TATCCCAA', 'CAAATGTC', 'TGGTTGAA', 'TTTGTAAT', 'ATTATTTA', 'TCTTGGGT', 'CGTACTGC', 'AGTTTTTT', 'AAAAGATA', 'GTGGATTT', 'ACTTCAAA', 'TCTTCTTT', 'TGCACAGA', 'ACACATGC', 'GAACTCTG', 'TTTGGAAC', 'CAAAACCA', 'GAATCTTG', 'CCCACTTT', 'CATCAACT', 'AGAAAAGT', 'AGTATGGT', 'TTACTACA', 'GCAAAAAA', 'TTTTTTAC', 'ATTAACTT', 'TTGGTCGG', 'AATAAAGG', 'TCGATGGG', 'GCATGAAT', 'CACTATAT', 'ATTCTCTG', 'GCGAGTCG', 'GGCGCTCC', 'TTTCATGG', 'CGCACTCG', 'GCCCAGGA', 'ATGATAAG', 'AGTGCTGT', 'CATACATG', 'TATCTGGA', 'GTTATATC', 'ACGAGAAG', 'AATATATT', 'ATAATTTT', 'TAATTAAT', 'GGGTCAAT', 'CAACTAAT', 'TTATGCAT', 'AATAATAA', 'ATCCAGGA', 'ATACAATA', 'TCAGCATC', 'TATTATTA', 'AATACACC', 'CTTGTTTT', 'AAGCATTG', 'ATAGGTAC', 'ATTAATAT', 'ACTTCATA', 'TATTTTCT', 'ATTTCTAT', 'TAATAAAT', 'TGTAAACC', 'CCATAAAA', 'ATAATATG', 'ACATACAA', 'TAGTTAAT', 'AAACAGCA', 'CTCCAATT', 'ACTTGTTA', 'CTTCTGAT', 'TCATCAGG', 'CCGCAGTA', 'GTAATGAT', 'GTTCTTAA', 'TTAATGGT', 'ATTTTATA', 'TTCATGCA', 'TCTGCGAT', 'TATAACTA', 'GGGCAATT', 'CTGCCAAT', 'TACTGCAT', 'CGATTACC', 'TTGATTAT', 'TACAATGT', 'AGAACAGC', 'CAAATTCA', 'ATGTCTAA', 'TCTTGTTC', 'AGGCAATA', 'AAACCACA', 'CGTGGCCA', 'ATAATCAG', 'GAACAGAG', 'AAAATGCC', 'CTACGAGT', 'AAGTACAA', 'CCTCTGGA', 'TGGCTCCC', 'CAGAGAAG', 'GACAAGTC', 'CTTCACCA', 'ATAATTGT', 'GTTCCTTG', 'CCCCTTAT', 'GCCTTCTC', 'TTATAAGA', 'CTCACACC', 'ACCAAGAA', 'TAACGCAT', 'ACCATCAA', 'GGGTGCAC', 'TTCGAGCA', 'GATACTTA', 'GCCATCTT', 'GTAATTGT', 'CATTTTTT', 'ACAAAAAC', 'CTTTCGTA', 'AAATCAGT', 'TTTTGGTC', 'AACGCTGA', 'AGCTTCCG', 'TGTCTCTA', 'CTGTAGTT', 'TATTTCCC', 'CCCTTAGG', 'CTTGATTG', 'CTGGCATT', 'CCAAATAC', 'TTTTTTTT', 'CGATTGCT', 'ACTCAGAG', 'TTTGGTTT', 'CAAAAAGG', 'TGAATGTT', 'TCTCAGAT', 'GTTCTGTC', 'CTTTGAAG', 'TGCATTGC', 'CAACTTCA', 'TCCAGTTA', 'ATATGAGT', 'TGAGCTAA', 'GATTTTTG', 'ATTACTCT', 'CACCCGAC', 'ACAGTAAC', 'GTCTTTTC', 'ATTTAGTG', 'GACTTCCA', 'TTAGCAAC', 'TAATATGT', 'GTTGCTAC', 'ATCAGATC', 'CTGTACCC', 'CAAAACTG', 'CGGAGGTG', 'TCTTGCAC', 'AAACCATA', 'TGTGGTGT', 'AAAAGTCG', 'TGAGGAAA', 'CGCTCAGG', 'CTATGTAA', 'AATGGAGG', 'TCTATGCT', 'GCAATCTC', 'CCACTAAA', 'TCTAAAAT', 'GCTTTCTC', 'AAATGCAT', 'CTACATCT', 'GAAAGTTG', 'ACATGAAC', 'ATTCGTAC', 'ATATTACC', 'TGTTTCAC', 'CGACTTAT', 'AAGAGTAG', 'GTGAAGCA', 'TTCTTGAC', 'AAGGTAAA', 'CCTCTTTC', 'ATGCCAAG', 'TAAACTGC', 'TTCGGAGT', 'ATGAATCA', 'TCTGTGAG', 'GTTTCTTT', 'TTGCTCCG', 'CGCACATA', 'CAGAATCC', 'AAGGTATA', 'ACAAGCAG', 'GCCAGGTT', 'AAATAGAA', 'TTGCTATG', 'TTTCTAAG', 'TGGTTCCA', 'TTTGGAAG', 'GTTATTTT', 'GGCTTGAC', 'TATCCTGC', 'GATGAGTG', 'ACTTTCGG', 'GTATTGCT', 'AGGGTGTT', 'CCTTTTTG', 'AAAAGCAG', 'AGGGACCG', 'GGCTATGG', 'ATTTATCT', 'GCCTTTCT', 'TCCGAGAC', 'TATTGACA', 'TTTTTTCT', 'TTTGTGTA', 'GTGCCGGG', 'ATGTATAG', 'AAGCCGTA', 'TATCATAG', 'TTGTTGTA', 'ATAAACTG', 'GCTTATTC', 'CGAAAGGA', 'ACACAATG', 'TACCCTAA', 'AGACACTC', 'TAATTATA', 'TGAAGAGA', 'GTGTTTTG', 'CGGGGGAG', 'AAATATTA', 'CAATATTT', 'CATTTTGC', 'AGCCGGAC', 'ACAGATGC', 'TCGGTGTT', 'TTGCACTG', 'GTGCGCAT', 'ACATTTGA', 'GGATACAA', 'AGTTTAGG', 'AAAATTAT', 'TTCAACCT', 'AACTGATA', 'CCGGTACC', 'TATTTTTC', 'CTGCTTTA', 'ACACTCTG', 'GAATGGGG', 'ATACTGCC', 'ACCCAATT', 'GCTGTTTC', 'ACCTAAAT', 'TGGGGGGA', 'CACAACAA', 'AGAAAGAG', 'GAGAAAAT', 'TCGATTGC', 'GTGGATAT', 'ATAACGAA', 'CAACTGCC', 'TTCCCTTG', 'TGCACCCG', 'GCAGAAAT', 'CAGCATTG', 'TTGTAGCA', 'AAGAGATG', 'TTCATCTT', 'TATTGTAA', 'CGCCTGTT', 'ACACCCAG', 'GAATAGCT', 'AAGCTAAC', 'TAGTGCTG', 'TCATGTTT', 'ATAGGCAT', 'AAAAAAGT', 'GTCACTTC', 'ACTACTTT', 'TCTTATCA', 'AGGTTGGT', 'ATAGCATT', 'TGAATTGA', 'GTGGGTTT', 'ATTGTCAT', 'GAATAATC', 'ACACCAAT', 'ATAATAGA', 'AAACCCTA', 'AATCCATT', 'CGAAGACT', 'GCAGTGAG', 'TTGACAAA', 'ACTGCTGT', 'AATCTGCA', 'AGATGACA', 'CTCCTTAC', 'AAGATAGA', 'GTTAGTAA', 'TTTTTTTT', 'GGAAGTGA', 'TGCACAAC', 'ACGGAAAA', 'GCCGATCT', 'GGGGATCC', 'AGAGAGTA', 'GGACCGGC', 'AACAGCAC', 'ACCAAAAT', 'GTGTCTTT', 'TAGAAACT', 'GCTTAAAG', 'TTCAAGCA', 'CGATCACC', 'GTCCCGAT', 'CTCTTATC', 'GTGGAACG', 'ATACCAGT', 'TTCTTTTC', 'TGATAAGT', 'CATTCTAT', 'TTTCCTTT', 'CCATGGGT', 'GCCGTTTG', 'ATTAACTG', 'AATAACAA', 'AAAGAAAA', 'AAATTTGA', 'AGACTGAA', 'CTGGATTT', 'CTTTGTTC', 'TGTGTACA', 'TCCTCAGC', 'TAAGACCT', 'CTGCATTT', 'GCAGCTAC', 'TTTTCAAA', 'GGTGCCCT', 'TATAGTAC', 'CTCCCTGT', 'CTGTCTAA', 'AAAGGAAA', 'AATACAGG', 'GAGTACAA', 'AATGACAT', 'AATTTAGA', 'AATACCAT', 'TGGTATCA', 'GCAGAGAG', 'TCCTGCTT', 'TGATGCCT', 'AATGGAGT', 'GGATATTT', 'CCTCAAGT', 'ATAATGCG', 'GCATGAGT', 'TTAGTTCA', 'AAAAAAGA', 'AGGTTCTA', 'TTTTATTT', 'CACTGTGA', 'ATAATTTT', 'TGCTGCTT', 'TCTAAGTG', 'GTTTACTT', 'TGAGTGTT', 'TATCCGTG', 'TGCACCGT', 'TTGAAAGT', 'TCAAACTA']\n",
      "['AAGTACAA', 'GTTGAGAT', 'GAAGACTA', 'TAAGACTT', 'TTGAGTGG', 'AAATTGCA', 'GTGGGGGG', 'CATTCTTT', 'GGGGAAGG', 'TATCTTGT', 'CTTACCCG', 'CCCGGAAT', 'GGTTGCGC', 'AGAGGCCT', 'CAAGGGAA', 'ATCACCCG', 'GCGCTAAT', 'TCTAATAC', 'CACGCCGT', 'CTCACAGT', 'CTTTTTCT', 'ATCCCTCT', 'CTACAAGA', 'CAATAAGA', 'TCCGAACC', 'TCCAATTT', 'GTATGTGT', 'GTGAGAAA', 'TTATTTTA', 'CAATAGTA', 'TACACGAA', 'AAAGAAAA', 'TAGCTCTA', 'TCTGTACC', 'TCGTTTCA', 'GGGAATAT', 'TACAGATG', 'ATTGAGAA', 'GGCCACCG', 'ACTAGTCT', 'CTCCTTGA', 'ACAAGATT', 'AAAGTGGG', 'TTTTTTTG', 'TTTTCTCT', 'AAAAAACT', 'CTAAAATT', 'AAAATTGT', 'TGGTGTGT', 'GAATCAAA', 'AAGGAAGC', 'GAAAGAAA', 'TCATCGCC', 'CCCTCAAG', 'GTGTGGTT', 'TATGTTTT', 'GAGCTGCG', 'ATCAGAAG', 'AAATAAAG', 'GCACCCTT', 'GGCGGTTG', 'ATATGTGC', 'GTAACAAT', 'TAGATGAA', 'CAGGTTTC', 'TCATTAAA', 'AGCAAAAA', 'ATTTAATA', 'ACGTAGAA', 'AATATATT', 'AAAGCATA', 'AGTTGTGG', 'TTTGTATG', 'TCAATACT', 'CATCCAGA', 'CACATATT', 'GATGCTGA', 'CTTTATAG', 'GACTCAGG', 'CGGCAAAA', 'GCTTAATA', 'TTATTATA', 'AATTTATT', 'TGAATACA', 'TTCAATGG', 'TTCGATTC', 'GTAACTTG', 'TTAGTGAT', 'TATGCATT', 'GATGTACA', 'CATATTGC', 'TGTAGGTG', 'ATTAGTTG', 'AGTTATGC', 'ATTGCAGA', 'GAAGTAAT', 'GAATCATA', 'CAATTAAG', 'ACAATAAA', 'ATATATAA', 'CCATTAAT', 'GCAGTTAT', 'TTTTTTAT', 'AGGGTTCG', 'AGTTTAGT', 'TGCCGTTG', 'GTTACCAC', 'GTACACAG', 'CAAAGTGT', 'AATAATCA', 'TGGTGAAA', 'AAGGTAAA', 'CTGACCAC', 'TCCCTAAA', 'ACACGAAA', 'TTTGATTT', 'AAAAGTCC', 'GACTATTA', 'CGAACTGA', 'AATAGACT', 'CTATCGCC', 'TTGTACTC', 'TTGTTTCG', 'ATTGCTTA', 'GGAGCCAC', 'CCACGAAG', 'TGACTTGT', 'GCCGAAAC', 'TAGGTTTG', 'ATACATTT', 'GGATGACA', 'TACACCCC', 'AATATTAT', 'GTATTACA', 'TATACTTG', 'TCGGCTGG', 'AGCAATGG', 'CCTTATCA', 'AAAAGCTG', 'GAACCTTG', 'GGAGTTCA', 'AACTATCA', 'CCTGCTTT', 'TTTAGTAC', 'ACGACGAG', 'TCGGTGCG', 'CCGAATAT', 'AGCCTTAA', 'GGAAGCTA', 'ACTAGAGA', 'GGGACAAC', 'ATTAAAAT', 'GAAGTCTC', 'CAAAACAC', 'AGGTACTA', 'CGGACGGG', 'AGAGATAG', 'CAATCGTG', 'TCTGAGTG', 'GACGATCT', 'CTTACATT', 'AAAACTGG', 'GCACCTTC', 'ACAGTCCT', 'TTCCTTCC', 'ATGAGGAA', 'AAACTGAA', 'ATCAAGAT', 'CCTCCTCC', 'TTATATTA', 'CCGAATCC', 'ATGCACTA', 'AAAATCTT', 'AAGCCCGA', 'ACCATCTT', 'AGGACATG', 'GGAACGAA', 'TTTCATTA', 'ATACACCC', 'TAATGGCG', 'ACCTAGCT', 'TCCTGTTG', 'GCAGTTTT', 'GGACCTAA', 'CGTGCACC', 'TTATGGTG', 'TCCGACTA', 'ATTCAATT', 'GAATTACT', 'CTCCATGA', 'CAAATGAC', 'CACCCCTC', 'CACCCCAT', 'TATGGCAG', 'ATGAACTC', 'CACCCAGT', 'GTCACTTG', 'TAAAAACC', 'ATGAGATG', 'ACTTTTGA', 'ATGGTAAG', 'ACCATGAA', 'CTTTGTCA', 'AAATAAGA', 'TGTCAATA', 'TAAGATAC', 'TTTCCCAT', 'GGAAAGAC', 'CAAAGGTG', 'ACCTAGAA', 'TTCTCCCC', 'TTCACTTT', 'AGCCTCTG', 'AAGTAGTG', 'TCACAGAC', 'GTTTTCTT', 'TTAGCGGA', 'TGTATGTG', 'CGAAATGG', 'ACAGTTAT', 'CGACTTAT', 'GGTAAAGG', 'CATCGGTT', 'TGGCCTTT', 'TCAAGTGC', 'AAACACTA', 'CCAAGTTG', 'TTTTTATA', 'TCGTTGCC', 'GCCTGCAG', 'CACTCATC', 'CAAAGCAA', 'CTTTAGAG', 'GAGATACT', 'GCACCTCT', 'GGGGTTTT', 'CGTAGCCT', 'GCCAAAAG', 'TGGTAGGG', 'AGAGAGCT', 'ACAAAAGA', 'TATATAAA', 'AGAAAAAA', 'GTTCTAAA', 'ATAACGAT', 'ATTATATT', 'AGAGGACT', 'AGATAGGA', 'AAAAATTC', 'AATTTAGA', 'GAATAAGC', 'ATCTGTCA', 'CGTCAGTC', 'TGCGGGTG', 'AATCGTGT', 'GTACTATA', 'CATTTGTT', 'ACCTTCGC', 'GGAAAAGA', 'GTAAAAAG', 'AAAGATAA', 'AACTCTGG', 'GCAGAATT', 'CAGAAAAA', 'CCGAGAAG', 'GTACGACA', 'ACCCTGGT', 'CTTGCACA', 'CAAAGACA', 'GATGCTAC', 'TTATGGAT', 'ATAGGAGT', 'TGCAAGTA', 'TTGTATAA', 'GGTGCCGT', 'TCCTGCTT', 'GTCTTGGG', 'TAATTTCG', 'AGTTACTG', 'CATTCCGT', 'AAACAGCT', 'TTTAGGTG', 'ACACACAG', 'AAAATGCG', 'CACAAAAA', 'TTTCTCGA', 'ACCAACCG', 'AATCATAT', 'GTTTTGAC', 'CGCAGGGC', 'TCTGTGTT', 'TGGCATTT', 'GTGCAACA', 'CGTTCTGT', 'GTGTAGCG', 'GCCGGACG', 'AAGATGAA', 'TCATTACA', 'AATGTCAT', 'GTACAGAA', 'AACATATT', 'ATACAGCA', 'GCACTACA', 'AGGACCTC', 'CTATTATT', 'CCCTTCTA', 'GTGACACC', 'ATGCGGAA', 'ATGACGAC', 'CAACCTGC', 'ATCATTGT', 'TTAAGTAA', 'GAAATATT', 'AGATTGGT', 'TACTGATC', 'CTTCTTTT', 'AAGAACTC', 'GTAACATT', 'AAAAGACA', 'AATTTTAA', 'GGATGGGT', 'TCTTTGTC', 'AGCAGTTG', 'CCCCTAAG', 'CTCAACAA', 'AACAGAGG', 'GAGATTGA', 'TTTTGCTT', 'CTGGCTGT', 'AGGAAGAT', 'GGAGAAGA', 'CCTGAACC', 'CGGCATTC', 'AGGTCAAA', 'TAGTGCGT', 'AACCGGCT', 'CTATGGGT', 'TGAATTTT', 'ATGAGAGT', 'ATTTCGTT', 'GGCATCGA', 'TGGAAGCA', 'CGAGGAAA', 'CAAAGAAA', 'AATAGAAG', 'TCCACCCC', 'CTTCATTT', 'CATAGTGC', 'GTTATTGA', 'TTAATAGA', 'GGAAAGTG', 'TCTGGTGG', 'ACTGGGAA', 'TTGCAGTT', 'CTGTTGTT', 'GTTCGTTT', 'TATTTCAG', 'TATTTTTA', 'ACTCCAAA', 'AACAAGAA', 'CATTTGTC', 'AGGAAATA', 'ATCATCTC', 'CAGCATGA', 'CCCACTGC', 'TGGATCAA', 'GAAATTAC', 'ATATATCA', 'CACGGACA', 'CTGGAAGG', 'ATCCTGTA', 'AATTCTCC', 'CCTCCGTA', 'GTGCAGTT', 'ATGCTCAA', 'ATATTTGC', 'TCATTTCA', 'CTCTCTGC', 'AAGCAGGA', 'AAAGGCAT', 'CCTTTGTT', 'ATCCAAAT', 'AGGATACC', 'ACACTATG', 'ATAATAAT', 'CTGAGACG', 'ACTTTCAT', 'CCGGGTAA', 'TCGCTATT', 'TCACAGTG', 'GGAAGAAA', 'CATTGCCA', 'GTTGCACT', 'AAAAAAAA', 'GTAGTGTC', 'ACAGTAAA', 'AGAAAAAA', 'GCCACACA', 'CTCTTTCT', 'TGTACTTG', 'CCATGGGA', 'CAGTTTTA', 'ATATTCAA', 'TCTCAAAG', 'AACGAGAA', 'CAACAAAG', 'AATGATAG', 'TACTATTC', 'AGGAGAAC', 'AACCGAAG', 'CATATGCA', 'GGTACGAG', 'TTCCCTTA', 'AAATATAA', 'GTCAAATA', 'CCAGATTC', 'ATGCGCGG', 'GCTTGTCT', 'TTTTTCTC', 'AGTCAGTA', 'TACTAACG', 'TTGTCTTT', 'TTTTCGAT', 'CAACGATG', 'AAATGTCT', 'AGTTGGTG', 'TATTTTTG', 'CGGCTCAC', 'TTCTACTA', 'ATTCGTGT', 'TTTTTTTC', 'GAGCAAAT', 'TTGATAGT', 'AATTGCAG', 'TTTTTCCG', 'CTGTTTCT', 'CCTGCAGC', 'GTATGGTT', 'ATTTTCTA', 'CATATTCA', 'TAAAATAT', 'CTCCCACT', 'CTATAGCC', 'AGATCAAG', 'AGCTATTA', 'ATTTTTTA', 'TATACAAT', 'ACACACCA', 'ATTTCCTG', 'TCAATTTG', 'AAATTTAT', 'GAGTACCC', 'TGTGACAA', 'CAAAGGGT', 'CGGGTAAA', 'TTCTTAGA', 'CACCCGTT', 'TTCATGGA', 'CTCGGGAC', 'GATGTACT', 'TACAACAA', 'GTAAATGG', 'GATGGGTG', 'GTAATCCA', 'TTAAGTTA', 'GCTTCTAA', 'GCTGCTGG', 'CCATTATG', 'CTTTACTA', 'TCAATTAA', 'ATATATTT', 'ATGCATTT', 'TAATAACA', 'GAATCAGA', 'TTTTAGAA', 'AATCCTAA', 'AAATTAGA', 'ATTTCCTG', 'TATCCTTA', 'TTAAATAG', 'TTATGTAT', 'AATTAATA', 'ATATTTTA', 'TTAGGGAT', 'GATGACTA', 'TAATTAAT', 'TGTAAACC', 'TGAATTAC', 'TCTCATAA', 'ATATACAT', 'TTCTAATC', 'GTCCTACA', 'ATTGTTAA', 'CTACTAAT', 'ATACCTTT', 'CACCATTA', 'AATAATCT', 'TAGGCATG', 'ACATATAG', 'TTATTTAA', 'ACCAGCAC', 'TAAAAAAT', 'AGGCCCGA', 'TTCCTATG', 'TCGTTGGC', 'GTGGTAAC', 'TTTTTTTC', 'GTCCACAC', 'ATTTGATT', 'GAGACAGA', 'AGCTAAGA', 'CAGTTTGG', 'TTTGTTTT', 'CTCATCAT', 'CAAAAGTC', 'AGAAAGGA', 'GCCGACGT', 'CGGCCGAC', 'ATAACTAG', 'GTATTGTA', 'ATCTTTTA', 'ACAATACA', 'TTCCCCTC', 'AGTGACAC', 'ACAGTGAA', 'GACAAGTC', 'CAACGTTC', 'CAAAGAGA', 'TTTTGATA', 'AAAAGTTG', 'TGAAAGTG', 'AGAGGGGA', 'TTTTCTTG', 'TTCTTTTT', 'CACCACTT', 'ACCTCGCA', 'TTTGGGTG', 'TTCGAGCA', 'AAATACTA', 'GGTACTGG', 'ATAGTTTC', 'TTTTTTTT', 'AGATACTG', 'GAGCAATT', 'GCCAATGA', 'AGACGAGT', 'GCTGAGAC', 'ATTCCGTG', 'GCGGATGA', 'GTGTTTGG', 'TTCCCAAA', 'CTCCTTCT', 'TATTTTTC', 'TTTCTCAG', 'ATGCAGCA', 'CTTGGGGA', 'TGTATTCT', 'AAATCTGG', 'TATACCCT', 'AAAGGCGT', 'TTTATTTT', 'TTCTTAGG', 'GAGAGACA', 'GAAGGAAC', 'TTGCTAAT', 'GTCCCAAC', 'CTTGTGTC', 'AACGTGGG', 'TAATATAA', 'TATATTAG', 'AGAGACAG', 'CCCCCCAT', 'ATTTACAG', 'TCTTTTCC', 'GTGCTACA', 'TATGCTCG', 'TGTTGTTA', 'ACGATCAG', 'ACAATAAA', 'CAAATCAG', 'CGCCGATA', 'CCGTAAGC', 'TAAAGTGA', 'ATCTACGG', 'ACCATAAC', 'CGGAATAC', 'ATGTGAAT', 'CTTGAGGA', 'TCTTATTA', 'GCTATGCT', 'CTATTGGG', 'TATGCTTT', 'TCTGCAAT', 'AATTTCGG', 'GATTTTAT', 'GAAATCTA', 'TGATGGAA', 'TACGCATT', 'GCTCAATG', 'AAAATCTC', 'TTGCACCT', 'AATATTCT', 'ATGAATTC', 'GAATATTG', 'TATGTTAA', 'CCAGGGGG', 'ATGTCTTT', 'GCTTTCCG', 'TTCCGTGA', 'CATCTTGT', 'TTTTATAT', 'ATGGATGA', 'TCATTTAC', 'ACGTTTAT', 'TAAGAAAA', 'TCAAGCTT', 'ACACAGAT', 'CACAATAA', 'GGTATAAC', 'TTTACTCT', 'AGAAATTG', 'TGATTTTA', 'TGTATTAT', 'TGAACTTT', 'CATCAAAT', 'TCCAGAGG', 'CATTAAAA', 'ACAAGGCA', 'CAGGCTCA', 'ATACTTAT', 'TTAAAAAA', 'CCCTACCC', 'GTTTAGGT', 'TGCAACAA', 'ATTTTGTT', 'CGTGGAGG', 'CTTTCATG', 'GTGCATTT', 'CTGTGGTA', 'CTTTTGTT', 'GAAGTAAG', 'CAAAATAT', 'TTAGAACG', 'CCCTAAAC', 'TCAACTTG', 'TCTGTTTT', 'TCATAGTA', 'ATGGAAAA', 'TAATATTT', 'TAAACCAG', 'TTCACAAT', 'GCTTTCCC', 'TATTCCAC', 'ACACACTC', 'TCTTAATT', 'GGTCTTTG', 'AGGTGAGT', 'CCCTTTCA', 'CTCAAACA', 'TCTTTTGG', 'GCAAGTCC', 'TTCTTTCT', 'TGCAGCTG', 'TCGACTTC', 'TCAGAGTT', 'GCATAGTA', 'TAAATTAA', 'CAATACAT', 'GTGTCCTA', 'TATTATCA', 'CTCCTATT', 'TTAAATAG', 'AGAATAAT', 'TATTTTTC', 'GAGATGAG', 'GTAGTATC', 'GTGTGAGC', 'GCCCATTT', 'AGCACCCA', 'TTTCCCTC', 'TTAGGTCA', 'GATGGGGG', 'TTTTCTCT', 'CAGAAAGA', 'CCCAGCAG', 'TCATCGAT', 'TAGTACAT', 'ACATAAAA', 'GCATGAGA', 'TTCCTGAA', 'GCCCTTTG', 'AATTTTTT', 'TTCTCCCC', 'TTGCTAAA', 'AAGGCTTT', 'TAGTATGC', 'TAGGTCAT', 'CTCTTTTT', 'AGACGAAA', 'TACGTATT', 'TATTTCCG', 'AAGAAAAG', 'GAGAGAGG', 'TTGGAAGG', 'ACTGAGTT', 'CTAATATG', 'AGATTCAT', 'TGTCGTCA', 'TCATACAA', 'TGACATCA', 'AATCAAAA', 'GGCTTTCT', 'CAGCAAAT', 'TTGGAAAG', 'TAAGCAAC', 'AAAATTTT', 'AATGTTAC', 'TTATAGTG', 'ATCGAAGA', 'AATATCAA', 'ACCTCTTA', 'TTTGCTCT', 'GGGATCTC', 'AAACAAAG', 'AAACTGCA', 'CAATGATT', 'TTTGGTAT', 'GATATTCT', 'CTTTACAT', 'GTGCTTTT', 'TGGGAGGG', 'ATAGCTCC', 'CCGGGGAT', 'GGAGAAGC', 'GCAAGGAA', 'ATCATGGT', 'AGCCGTGT', 'CCCATTGT', 'AAATAGAG', 'AGAGTGTT', 'ATGGTATA', 'CCTCGGTT', 'CAAAAACA', 'TTATCCAA', 'TAACCCTC', 'GTAGCTGT', 'ACCGTGGA', 'AAAACCGC', 'AGTAGGTC', 'ATCCTCTG', 'TTCCCACC', 'TTATGTTT', 'AACCTTCA', 'ATTACAAG', 'AAAACAAA', 'AAATTTCA', 'AGGAACTT', 'TGTTTGCG', 'TTCTCTTT', 'CACACACT', 'CCAAGCCT', 'CAGAGATG', 'AGATTCAT', 'AGCAAAGC', 'GAGGATGC', 'TGATTCTA', 'ATCCGTTC', 'CGCGGGGT', 'CTAAGCAG', 'GATAACAA', 'GGGTGTAA', 'GGATTTAA', 'AAATGACA', 'CTTTTCGC', 'TGCAAATA', 'GCTGAAAT', 'CAGAGAGT', 'ACTAAAGA', 'ATTACTAT', 'TGCAGGCA', 'ACAACTTA', 'GTTAGGCT', 'TGCATAGT', 'TTATATTA', 'TAATAGAT', 'CCTGAACT', 'TAGTTTAC', 'GGGTATGC', 'CTTACATC', 'TACAGATC', 'CTTTCTTT', 'CAGTGTTG', 'CATGGAAC', 'CATTTACA', 'TATCCGTG', 'TTGTAGGG', 'GGTTGCCT', 'AAGAGCGT']\n",
      "['GTCTTCTG', 'AGTGAATG', 'AGACTACA', 'CTTCAAAG', 'TTGAGTGG', 'TCTTTTCT', 'GGGGGTGG', 'TTTCAGTG', 'AGCACAGT', 'TTCTCTCC', 'AAAACTTA', 'AAGAGACT', 'TTGCGCAT', 'CCAGAGGC', 'TCTAGGGG', 'CTATTTGA', 'TCCAATAA', 'GCATGTAC', 'ATCACTTG', 'TTAGAAGC', 'CGTCTCAA', 'AGTTGATT', 'CTACAAGA', 'CATCGATA', 'GCACTACT', 'ATATCTAT', 'TCTGTTTG', 'TCACCTTG', 'AGGTGAGC', 'CCAAGAAC', 'CCTATCTC', 'GGTTTACA', 'TTCTCAAT', 'CTAAATCC', 'GCATCGTT', 'TATTAAAG', 'TCTGTGCA', 'TGAGAAAT', 'ACTCCAGA', 'GAAAATGA', 'GATGGTGC', 'TGCCTTGA', 'ATAAGCTA', 'TGGGCTAT', 'ATCACTCA', 'GTAATAGC', 'TATTTGTA', 'AGTGAAAA', 'TTGGATTT', 'TAGTCAGG', 'AGGAAGCC', 'AAGACAAT', 'TACTCAAC', 'TCAAATTT', 'GGTTGCAC', 'ATGTTTTC', 'TCTCTTCT', 'AGTTAAAC', 'AATCCATG', 'GTCCCGAG', 'TGGCGTGG', 'ATATTCAT', 'TTTACCAT', 'TTAGATGA', 'GAATTCAG', 'CAATGAAC', 'ATGCACAT', 'CAAAATTT', 'GAATTAAT', 'TAATTTAA', 'GTTGCAAA', 'TTAGTTGT', 'TTATTTGT', 'TTATTAGA', 'GATTTGGT', 'CTATGGCA', 'TCACATCA', 'AAAATCTA', 'CAGGTATG', 'GGATAAGG', 'TAGTATAA', 'ATATTAAA', 'TTATATCT', 'TAAAATAT', 'AGGTAAAT', 'TTCGATTC', 'TGCTTTCA', 'GATGGTGT', 'CTATGCAT', 'GATGTACA', 'TCATATAG', 'TAGAATTA', 'ATTAGTTG', 'CATTATCA', 'TTATTAGT', 'TTAATTTA', 'TTGAATCA', 'TTCAGTAG', 'CCTAAATT', 'TTATTAAG', 'TGATTGGT', 'GTTTAGTT', 'ACTTGATG', 'GCCTTTCG', 'CATAGGAA', 'ATTTGAAC', 'CCTCCCAC', 'TAGAGTAT', 'GAGCAAGG', 'TTGGGTAC', 'TGTACGAT', 'AAGTATAC', 'AGCTTCAT', 'ACAAAGAT', 'TGTCAAAC', 'CAATTAAG', 'CATTGGCA', 'GTGGGATA', 'ATTATTCT', 'TTCTACTA', 'ACGCAGTT', 'TTCGGTAG', 'TATAGTTG', 'CGGAAGAG', 'CCGCACCC', 'TCTCTGTT', 'CTTGTCTT', 'GATATGAT', 'ATTATCTC', 'ATCAAAAA', 'AATAAGAA', 'AAAAAACA', 'TGTTTTTT', 'AAAATTTC', 'CAGACAAG', 'GGTCAGGG', 'CAACTTTG', 'ATTGTGAG', 'GAGCTCAT', 'TTCGAACC', 'GGACAGCA', 'GGAATGGT', 'AAAAAAAT', 'AGTACCTA', 'CCGATCAA', 'AGAGAGAT', 'CACGGAGA', 'GTCTCAGC', 'GATAGTCT', 'TCAATTCT', 'TTGTTCCC', 'TTGCTTCT', 'CTGTACAA', 'CTGGGAGA', 'ATACGGCA', 'ATTTGGGA', 'AGATACGA', 'ACCAAATT', 'ATCTTCTA', 'ACGATCTC', 'CTATCTTA', 'ATACAGCA', 'TCTGAGAA', 'AGAGAGAG', 'CAAAACTT', 'TGACAAAA', 'GTGCTGGA', 'GACTATCG', 'AATGTAAA', 'AAATGTAT', 'ATAACAGA', 'AGATGCAC', 'GTCTGCTT', 'CCGACACC', 'GGGCGCAA', 'CAAGAACA', 'TCTGGAAG', 'TTTTCCTT', 'CGACTGAT', 'TTATTTTA', 'CGTCGAAA', 'TAGGGCAC', 'GTTTTGTA', 'GGTTTTGG', 'AACTCCAC', 'GTGTAGTA', 'CACACCAC', 'ACGACTTT', 'CGAACTCC', 'AAAGCAAC', 'TGCGGGCA', 'AAGCAAAC', 'TCTGCACC', 'CCTAAGAG', 'TAATAAAC', 'GACGCCAT', 'AACAAACT', 'AATTAATA', 'TACTCCAT', 'TAAAATAC', 'GAGATTTT', 'AGTACGAA', 'GTCAATTT', 'ATTGTGAA', 'CTATGACA', 'AGAGATAA', 'ACCCCCTG', 'GACATAAT', 'GTATATAC', 'TTACTGCG', 'CTCTTGGC', 'AATTCGTT', 'TGAATAGA', 'CAAGAATT', 'AGATGCAG', 'CCATGCTG', 'TCGCTAAA', 'CAACTAAA', 'TGTCAGAA', 'CTTTTGAC', 'CTCTTGGG', 'TACCATCA', 'ATCGGTTT', 'CATTGGCC', 'CTCTAGAC', 'ACACTATT', 'AACTACCT', 'AATAACGA', 'TTTTTTAT', 'CCTTGAGC', 'TGCAATTA', 'AAGCAACA', 'CAAACGGG', 'CCTTCTTT', 'AAGGCAAT', 'CTTTTTCC', 'AACATCCC', 'CACCTCTA', 'AACAACAA', 'AGCCGCTG', 'GCCTAAAG', 'ATGTAGAG', 'GAGATGAG', 'AATTAATG', 'TGGTGGGA', 'CTAGTATT', 'TGGAGTCA', 'TATAGCAA', 'CAACAAAA', 'ATTAGAAA', 'AAAGAATA', 'CTGTCACC', 'GGGAACGG', 'TTGCTGTG', 'AGTGTGTA', 'TAAGACAA', 'CAAAGACC', 'GCTGCTGG', 'CTCTCTCC', 'GACCATGT', 'AAAAGATA', 'CGCGGCCA', 'CAACGGCA', 'CCGTACAG', 'AGAGAAGT', 'ACTACTAT', 'CAATTGAC', 'ATTGTCTC', 'CTCCAGCT', 'TACAGTGA', 'GTGATAAT', 'CTAGCTTA', 'TACCAGCA', 'TACCATAT', 'TAAGAGTA', 'GATCTGCT', 'AGATACTA', 'TTTATTTC', 'TAATAAAG', 'GTGCTTGT', 'TAAAAAAT', 'TAATTGTA', 'AGATATCC', 'GAAACCTA', 'TGACCAAA', 'AGCTATTT', 'TGAAATCA', 'ACCAATAT', 'TTGCAAGA', 'CATGCTCC', 'GTGTTCAG', 'GGCCTAAA', 'GAGTGTGT', 'CTTATGTT', 'TGCACAGT', 'CTTGATAA', 'GACATACT', 'AGGGGTGT', 'GCCACCGC', 'AAATATGT', 'CCAATTAT', 'ATCGGAAA', 'GAACTGTA', 'TTACAAGG', 'TCCAACTT', 'CCTTCTAA', 'TAAGGAAC', 'ACATGAAT', 'GTATCTGG', 'ACCCATTT', 'ATAGATGT', 'ATTTAAGA', 'TCACTCCA', 'ATGATAAT', 'AGAGAATG', 'CTGTCACC', 'CTCTATGC', 'GGTTTTTT', 'TGCACTAT', 'GAATTTTA', 'GTTTTATC', 'TACTGAGG', 'CACAGAGC', 'AGCATCCT', 'GCTTTGTT', 'TGTAAGGA', 'GGAGATTG', 'ACGTCATA', 'ACAACTAC', 'TCGGAACG', 'AAGCACCC', 'ATCTACGT', 'CCATGGAT', 'AACCACGC', 'TTAGTGCT', 'TTGCCCAT', 'GGATGGCC', 'GGTTTGAC', 'CGAGGTGC', 'TCTACATT', 'TGTAGTTG', 'CCTGGGGG', 'TATATAGA', 'TTTTTGCA', 'TTCTTTTT', 'CACCCCCC', 'CTTTTTGT', 'TGTGATAG', 'TTAATTTT', 'GTTTCAAA', 'AGCCGACA', 'TAATCTGA', 'GAATTGGG', 'GTTAATCA', 'ACCATAAT', 'GTTCGTTT', 'TTTCTTAC', 'AGTCTTCG', 'CTTTAACT', 'ACAAAGAG', 'AACCGGTG', 'TTGGGCTG', 'TTGAGGGT', 'GTGTAAAA', 'GATAGCTA', 'TACAGGCA', 'GAACCCTT', 'CGAACGGA', 'GTGATACA', 'CGTTTCTG', 'ATCTTCAA', 'TTACACCC', 'AATCCTCC', 'ATTCTATG', 'TCGCTTAT', 'TTGCTTGA', 'CACTTGCA', 'AGCACTCT', 'ACAAAAAA', 'ACAGTCAG', 'ACTGCACC', 'AGTTGTTT', 'GGATACCC', 'GCATTATA', 'TGCATAAC', 'CGATCGTC', 'TTGTTAAA', 'TTCAATCA', 'CTTACAAT', 'ACAGTGCA', 'TGATCTGT', 'AAAGCAGC', 'ATTTTGAT', 'AAAAAAAA', 'GTTCCCTG', 'CACCCAAA', 'AAGGCTAC', 'AAAAAAAG', 'TCTTTCTT', 'CAAGAACA', 'ACTCCAGT', 'AGTCCCAT', 'GATATTCA', 'TGGCTGCA', 'TGCAGTTC', 'AAGTTCAC', 'CACAGAAA', 'TCCTGGGT', 'ACAGAACA', 'GTAGCCGG', 'CTTTGAGG', 'ACCATGCT', 'AGAAGATA', 'TTATATTT', 'TCCACTAC', 'CTAATACG', 'GTCAATTG', 'CCTTATAT', 'GTTTTGAA', 'AGTTCTTT', 'GCTGTGCG', 'TTTGTCTT', 'GCATTTTC', 'GTTACAAC', 'TCAATAAT', 'CAGATAAG', 'CCTACCAA', 'TCGGGTTA', 'GATTCACA', 'CCTTAGGT', 'CTTTCTTA', 'ATTTGTGC', 'CTTTGGTC', 'CCTTTTTT', 'TTATTGAC', 'CTGTTTCT', 'CAGCAGCT', 'GTGGAATA', 'AGTTTGGT', 'AACCATGT', 'TATAAGAA', 'TTGCTACA', 'CTTCTATG', 'GAGTGATA', 'CGTCAGAA', 'TCATATAG', 'TCAATATA', 'TTTTACAC', 'AGACCTAT', 'TGGCCTTG', 'CAGCTAGA', 'ATTGGTGG', 'ACAAAGAT', 'CGGCATCT', 'CAGAAAAG', 'TTAGAAGA', 'CCTGTCTA', 'AGTTTACC', 'AACAAGAA', 'AACCGAAG', 'GTGCACAT', 'TTGACGAC', 'CATCTAAT', 'CCGGAAAC', 'TAAGTTAT', 'CGGCTACG', 'ATAATAAT', 'TTGTATTA', 'TTTAAATT', 'CGTTTTTA', 'ATCTTTCA', 'TTTATGCA', 'TCACCACC', 'CCAAAGAA', 'ACAATATG', 'AATAAGCT', 'TTATTAAT', 'CTACTAAC', 'TTTTTGCC', 'CTTAAATA', 'GGTACACC', 'ATTTATTA', 'TTACAAAA', 'TATTAGGG', 'TCGAACTT', 'ACAAGTTA', 'TCATCAAT', 'ATGCATAG', 'CATATATC', 'AGAAAAAT', 'TACAATTC', 'CATGTCCT', 'CCTCCAAT', 'ATGCTAAA', 'GTATGATC', 'ATAAAATC', 'TTGTATCA', 'ATACAGCT', 'AAGAATAT', 'ATCATTAA', 'TAACTAAA', 'ATTTTATT', 'GAAAGGCC', 'CTTACTTC', 'GCAATTTC', 'TAACAAAT', 'ACTGCATA', 'CGATTACC', 'AGTACCCA', 'TTCACCAT', 'ATATTATT', 'TTCAGTTT', 'TTGTTTCT', 'CATCTTGT', 'CCCATCTT', 'CTTTTACT', 'TTTTTGCC', 'TCGGGTAG', 'TGGTAGTA', 'TGCCAGAG', 'TTAGATCT', 'TCGAAACA', 'CACCCATA', 'GCACACGG', 'AACAGTGA', 'AATTGAGG', 'TGAGAGCA', 'AGAGATAA', 'TGTATATT', 'AGTTGTTT', 'GTGTATTT', 'AGAAAAAA', 'TTTTTCTT', 'TGCTCTTG', 'TCACCCAG', 'CCATCTTA', 'ACGTGGGT', 'TTTACTAC', 'CTTGGTTG', 'CAGGTACT', 'TGTGATGT', 'TTTTGGTA', 'CACAAAAA', 'GAGCAATT', 'GCTCTTAA', 'TTCGGCAT', 'ACTGAAAT', 'CGTGTAGC', 'AAAACAAT', 'TGTTTGGG', 'CTTCTTTG', 'TTCTAAGC', 'AAAACGGT', 'CGGGGGGA', 'CCCGTCCG', 'CGTATCTT', 'ACTGATCT', 'CGGGGGGA', 'CTACACTT', 'AGATAGCG', 'TGCTGTAT', 'GAAGGTGC', 'CTCTCTCT', 'GCTCCGAG', 'TTGCAGTT', 'CTCTAAGG', 'AAGACATG', 'CCAACGTG', 'AATCATGA', 'CTGTTATA', 'AGTGTTAT', 'CAAGATTT', 'TTCCTGCA', 'TTCTGTCT', 'CTGTTCTT', 'ATGCTCGC', 'AACGAAAT', 'AGGATCAA', 'TATTCATA', 'GTGATATA', 'TGTTTCCC', 'GTAGTGTG', 'TGTCCGGA', 'CTGCATTG', 'TAAACCAT', 'TGTTGTGT', 'AATATGTG', 'GGAGCAAA', 'TTTTTCTT', 'AGCTATGC', 'GTGGCGGA', 'ACAGAATG', 'CTCTTCTG', 'CCCCGTGG', 'GTCAATGG', 'CTACGGCC', 'ATGTATCG', 'GGTATTTG', 'TATTTTAT', 'TTTATATA', 'ATACATAC', 'AGCTTCGT', 'CCATATAG', 'GAATATTG', 'ATTTTTCT', 'GGTTCTCG', 'CTCTCTGA', 'AAGGTAAA', 'TTTCCGTG', 'GGAGTATA', 'AAAAGCCG', 'ATCCGTTA', 'GGATAGCA', 'GCATCTTC', 'TTGTCTAC', 'TTCACCTC', 'TCTATTAC', 'AATTGAGT', 'GCATGGTT', 'AAGCAGAA', 'AGAAATTG', 'AAAACCGA', 'TGCTGCAA', 'TGAAAATC', 'AATCAGTC', 'GGTAGAAA', 'TTTTCATT', 'TAGTTTAT', 'GTTGTTCA', 'GCAGACGG', 'TTTGAAAC', 'TTAAGGAC', 'CGGAGGGT', 'GCCATTTC', 'GCTATTCC', 'TTGTCTGT', 'GATTGCGG', 'ATCTATAT', 'TCTCTTTA', 'GCTGTTTA', 'GAAACTGG', 'TTTTTATC', 'GGTCACCC', 'CCACCACA', 'ACTTGGTA', 'TAACTATG', 'TTTATATA', 'TTTTGGAA', 'ATTTTTTA', 'GGTGCCAT', 'TACCCAGT', 'AATCACAC', 'TCCACAGC', 'TACACACT', 'ACCGATCA', 'ATGTATTA', 'CCAGCAGC', 'CGGGGGAG', 'TGGGTATA', 'GTCTCTAC', 'TTTGGGCG', 'TTTCTTTC', 'TCTGCCCC', 'TTTATTTA', 'AACTGCGA', 'CATAGTAG', 'GATTCGTG', 'TGGAGAGA', 'AGGCATCA', 'CGATATTA', 'ACATGTAA', 'TTGCAACC', 'CACCACCG', 'TAACGGCA', 'TTAGATGT', 'CACACTCT', 'TGGGGGTG', 'ATACCCAA', 'AGACGGAA', 'TCATTTTT', 'GCACCTAA', 'TCGTCATC', 'CGGGGACT', 'ATCCATGT', 'TCACGGTG', 'GTCAGTCT', 'ATGCAATG', 'AAATCCAT', 'GTGAAATC', 'CCTGAGAT', 'TCATCTCT', 'GTACTCGT', 'CAGAACGT', 'ACACCATA', 'AAAGGTGA', 'TTCATCTT', 'AATGACAT', 'TGACATCA', 'AGACGAAA', 'GATCTACG', 'GTTATGAA', 'CTGTATAT', 'CTGATCAA', 'GTACTAAG', 'TTGAGAAA', 'AATGCGAT', 'CCAATACT', 'CAGTCCCA', 'GCTGAAAA', 'TCTACGTA', 'AGAAGGTT', 'TTAGTTGT', 'TGACTGGG', 'GATTGGAA', 'ATAAGCAA', 'ATTAAATT', 'GTCTATCA', 'CCATTTTT', 'CAATTCAT', 'TTTTACCC', 'GGATGTTT', 'CAACTGCT', 'TCTTAGGG', 'AATCCGGT', 'CCTCCCAG', 'TGTGGCGG', 'TTTCTATA', 'TCAAGTAG', 'TCCGTTCC', 'GCTTTTCT', 'CGAGCCCG', 'TGGCTACT', 'CTGTAAAT', 'GCACTAAT', 'AAATTTAG', 'ACAGCACC', 'GCAAAATT', 'TCTCCGCA', 'AAAATAGA', 'GAGTGTTC', 'AATGCTTC', 'CATATATC', 'TCTTGTTT', 'TTTTCGCT', 'TAGTTATT', 'ACATACCA', 'CGCCTATC', 'TCTGGGGT', 'GGCTTTGA', 'CTATCCTC', 'ACAGCGTC', 'GGGAATTA', 'ACCTTCAC', 'AATAACAA', 'AAAAGAAA', 'AAATAAAT', 'TACAATCC', 'AAAGATAA', 'TTTGTTCT', 'ACTTATCA', 'TGTAGTGG', 'AATCGCAG', 'GGGCATTT', 'GGTGCTCC', 'GCTGCATT', 'AACCTTAA', 'TCGATCCG', 'GGGGTGTC', 'ACGATGCC', 'GACTAATA', 'GGGTGTAA', 'ACAAAAAA', 'CTTGACTA', 'AGACATAT', 'ACCATATT', 'TTTGGCAT', 'TATAGCGC', 'TTTGTCTC', 'TGGGACTG', 'GTGCAGTT', 'GCAGAAGA', 'CAATGGAA', 'TGCGAGTA', 'AGATATTA', 'GTTCATAC', 'AACTTGGA', 'ATAGTATT', 'GGAATAGC', 'CATTCTTA', 'CCTATTCA', 'ACATTTTG', 'TGCTACAG', 'AAAGTTTA', 'TACCCATT', 'TATTTCCT', 'TACACTCT', 'TACTCTTT', 'CAAACTAA']\n",
      "['ATCAAGAG', 'AAACATAA', 'AGTTCTCC', 'CTTCTATC', 'GAACGGGG', 'CTTTCTGA', 'AGCGCTTT', 'TGTTACGT', 'GAGAGAAG', 'GCCGGAAG', 'AAAAACTT', 'TGCCCCTC', 'TGGGTGTG', 'TTTTCAGT', 'GTAATTCT', 'TCGTTGCA', 'CGTATTAG', 'TACTCAAT', 'GTGCAGGC', 'CATTCAAA', 'TCTCAAGG', 'GTACCCTC', 'CGTTTGCA', 'GATAAGGG', 'TCCGAACC', 'GCTAGGCA', 'TATACTAT', 'GTGTGAGA', 'GATAAATA', 'GCCTATAA', 'TAAGGCAG', 'AAAAAAAC', 'TTCCTTAT', 'AGTAGATA', 'AAGTTACA', 'AAAGTCAA', 'CTTGCTCT', 'GCTGCTGC', 'ACAACCAT', 'TAGAAAAT', 'GTCTCCTT', 'TGTGATTT', 'AGGAGGGT', 'GGTTCTCT', 'ATCGCTGT', 'ACCATACT', 'TATACTAA', 'AATTTCTC', 'TAAAAAAA', 'AATAGGTC', 'AAGGAAGC', 'TTTACGAC', 'CGATAGTG', 'AGTAACTC', 'TCGTACAA', 'GCTTTTTT', 'TTCCTCTT', 'TTCGTTTA', 'AATCCATG', 'CTTCCAGT', 'GGCTTCTC', 'ATTCATTA', 'GTCGTCAA', 'TTGATGCA', 'TGAACCTA', 'TATCATTA', 'CAAACCAG', 'ATTTTAAT', 'AAGGATAC', 'TATATATT', 'ATATGATC', 'ATAAATCT', 'GCTATTTT', 'TATTAGAT', 'GGTCATCC', 'GGTATATG', 'TTCTGCTA', 'TTTAATAA', 'ATTATTAA', 'GGCAAAAA', 'CCGCACTT', 'TAATACAT', 'AGTAGGTA', 'TAAGTTAT', 'TAAATATA', 'AAGTTCGA', 'TGATTAAT', 'ACATAATT', 'TGCATTAT', 'GTACAATA', 'TATTGCTA', 'GATTAGAA', 'TAATAATC', 'ATTAATTG', 'TAGCATTA', 'TATTATTT', 'AATATTCT', 'CTGCGGTG', 'AGCTGTAT', 'ATTTTATA', 'TTAAATAA', 'AGCAGGTG', 'TATATTTT', 'TTTCGCCA', 'GTTATATA', 'TTTGAACA', 'AATCAACT', 'AAATGGCG', 'AGCAAGGA', 'TATCCTCT', 'ATGGTGAA', 'ATGTTAAT', 'AAGCTTCA', 'CATCTTAG', 'CACCCTGA', 'CTCGCTGA', 'TTCTTCAT', 'TAAGCGGA', 'ACGTCGGC', 'CAATAGGG', 'CATTACTC', 'TTTTTATT', 'TTGTACTT', 'GGTGTCGG', 'CATTCTCC', 'TCTCTGTT', 'TATCTGAA', 'TAACTGCT', 'AATTATCT', 'ATCAAAAA', 'TAAGAAAA', 'AAAAAACA', 'TTTCTTTT', 'GTAAACGG', 'AGAAATGT', 'TGGTTATA', 'GTTGCGAG', 'GCACCCAA', 'GTGTAGTA', 'AGCATAAG', 'GAGAGACA', 'TGTCGAAT', 'AAAAAAAT', 'CCATGTTC', 'TGAATTGC', 'TACGTCAT', 'GAATATTC', 'GCAAATGG', 'TCGACATT', 'ACCCGCAA', 'AAGAACAA', 'GCTTCTCA', 'CAATGGGT', 'ATATCAAA', 'CCCCCCGT', 'TCCGGACG', 'GACAGTTA', 'CACGGGTA', 'TATATGGA', 'AAAATCGA', 'CATTTTTG', 'GTACAAAA', 'TGCACCTT', 'TCTCACCG', 'CAGAGAAC', 'TTGACAAA', 'TTGGAAAG', 'CTGGACAC', 'GCGATTCT', 'CATTGTAT', 'CATAAAAA', 'AATAACAC', 'TGTGTCTG', 'TCTTGCAG', 'GCGAAAGA', 'AACAGGTG', 'GAACGAAT', 'GATAGGTT', 'CCTGATCG', 'TTTAAATG', 'AATAGATT', 'ATCCTGTT', 'CTACTCAC', 'TTTGGTTT', 'GCAGTTGG', 'AGAGCATA', 'CAACACAA', 'TTATACAA', 'CCGTCGAA', 'CAAAAAAT', 'AGTAACTT', 'CATTTACA', 'TAGAGATT', 'GCAGAGAG', 'GAAATTCC', 'CCCAGTTC', 'GAAACAAA', 'GATACATA', 'CAAATACC', 'TTCAACTT', 'GGTAAGTT', 'TATCATCA', 'GGTAATAT', 'ATACAAAA', 'TCGCACTA', 'GAAAAATC', 'TTCCCATC', 'CAAGAAAA', 'CAAATGTT', 'CCTAGAAA', 'CCCCCATA', 'TTCGTTAG', 'ATAGACAA', 'TAAGTAAA', 'TCATGTTT', 'AATATCTT', 'AGCAAGCT', 'AATAGAGT', 'CGAAATGG', 'CCAACCAT', 'TCTTGGGT', 'GAAATGAG', 'AATCAAGG', 'TCAACTTT', 'GTTATTTT', 'TGATGCCA', 'TGGAAATT', 'CTTTTTAA', 'CGTTTTTA', 'GGATACAT', 'ATATATTG', 'AAGCAACA', 'ACCTTTCA', 'TACCTAAA', 'TTGCACCT', 'ATAGCTTT', 'GTAAGCAC', 'AATCCCAC', 'AACAGTCA', 'GAGAGCTG', 'AACTGCAC', 'TCAATATG', 'TATTTATG', 'ATGAAAAA', 'GATAGGTT', 'TGCTAGTA', 'TCATGACG', 'AGATAGGA', 'GCTACAAC', 'AAAAAAAG', 'GCAGCACT', 'ATACCAAC', 'TGCAATAC', 'AGCTGAAA', 'GAGGGATC', 'TAAGACAA', 'ATACATTT', 'CTCACCTT', 'AAGAGAGG', 'AATATTTC', 'GATGAGTT', 'TTGGTCTC', 'CCCTCTGG', 'GCTGCATC', 'ACCGAGAA', 'CTACTACT', 'CACCCTGG', 'TACACGCT', 'GGGTCAGA', 'TGATGCCT', 'TCAACAGA', 'CATGAGAG', 'GCTTGGCA', 'AGGTACCG', 'TCACGCTT', 'TCTAAAGC', 'GTGTCTTG', 'CCCTTCTC', 'AGTTACTG', 'AGTACTGG', 'TGAAATTT', 'CAGTGTGA', 'CCATCACA', 'AGTGCAAA', 'TTTATCAT', 'TCTCGAGT', 'TCGATGAC', 'AAATGTAC', 'CGTTATCA', 'GCACAGAG', 'CGAGCGTT', 'GCGGGTGC', 'GCAGGGCT', 'TTTTTAGG', 'TGTGCTAC', 'CCGGACGC', 'ATACTGGC', 'TGGGATTA', 'GAGATTAA', 'TAGAAAAT', 'GGTGAAAG', 'TCGGAAAT', 'TTCTTAAT', 'ATGACATA', 'TTGCCCAG', 'CCTTCTAA', 'TCCATATT', 'GAAACACA', 'TTGCTATA', 'TTCTTAAT', 'ATGCTATC', 'CAACAACC', 'AGAAAGCC', 'CAATTCCC', 'CAATTTAG', 'CACCTATT', 'TCGAAGAA', 'TACATTAC', 'ACATTCTA', 'ATCTTTTT', 'AAAGCATG', 'CAGTTGTA', 'ATCACAGA', 'CCTCCCCC', 'ATTGCTGA', 'GGAGGGTG', 'TAGGAAAC', 'TATCGTAT', 'AGGAAAAA', 'CAGAATAA', 'TTAGAAAA', 'CCTCCCAG', 'GCATTCCT', 'GCTGTACT', 'GCCATCCA', 'TTAACCGG', 'CTATGGGT', 'CTGTGTCT', 'TAAGTTCT', 'CTGAGTTT', 'CGCCTTTG', 'GTTGGGGG', 'AGAGCGAA', 'TTGCAGCC', 'GAGCGAAA', 'TGTGCGTT', 'AAGAAATA', 'CGTGATGT', 'CAATTTTA', 'CCTACTCA', 'GTGGATAG', 'AATGAAAA', 'GGACACAC', 'GGTGAAGG', 'CACCATAA', 'TTTCTATA', 'ATTGTTGT', 'CGCAGCTT', 'TTACTCCA', 'ACCAGCAA', 'TGTCGGAG', 'CAGAGAAG', 'GATTGAGG', 'TTGAAATG', 'CTGTAGTA', 'CTGCATAT', 'CCTGTTTT', 'TAGTACTA', 'CCACGGAC', 'CCTGGAAG', 'TTATTAGT', 'GCACCTGT', 'TAGTATTC', 'TCATTTTC', 'ATTATGCT', 'TAGATAAT', 'CATGCCAA', 'AACTAGCA', 'AAAAGTAA', 'GCGCCTTC', 'CATTTAAC', 'CACTATAA', 'ATATTGTC', 'ATACTAAC', 'TAACAAAC', 'ATCGTCTA', 'AACTTCCA', 'CTGTGCGC', 'TCCCGAGA', 'GTGCAAGA', 'AAGACAAA', 'GGGAAAAA', 'AGGCTGTA', 'TGTGAAAG', 'AAACGTTC', 'TAGTGGGT', 'GTGTAAGG', 'GAGGTGAC', 'TCTTTCTT', 'TTACTGTG', 'ATGTTTGG', 'TTCTGTAG', 'GCCAAGTC', 'CCCCGTTC', 'GAGAAAAG', 'CAACAAAG', 'CAAAACCA', 'TGGATCAA', 'CTTCCGGC', 'CATTATTG', 'GCTGTGTG', 'ACCATGCT', 'TAGAACAG', 'ACCCCGGT', 'GAAAAAAT', 'CCAGATTC', 'GTGGCTGT', 'GCGTAGAG', 'CTCCGAAA', 'AAAAGCAG', 'AGTAGGAG', 'TGCGAATG', 'GCTACAAC', 'TTATCCCA', 'ATTGCCTA', 'ATACAAAC', 'AAGGTGAA', 'TCACCTAT', 'GTTGTATA', 'CTGCCTTA', 'TTCAATAG', 'AGAAGTAA', 'ACTTTGGT', 'GGAAAATC', 'GCAGTTGA', 'TGTTTCTT', 'ATCATTCA', 'AAAATAAT', 'TAGAACTT', 'TATTCAAC', 'GAATCTTG', 'TCCCACTT', 'AAAAGAGA', 'AATTGCAT', 'CTATCAAG', 'ATATTTTT', 'AGAGAAAT', 'CTTCCCTT', 'GATTCCCA', 'GAAGTCCT', 'CAATGGAG', 'GAAATACA', 'CCGGGTGC', 'ATATATAT', 'AGCCGGGT', 'GTCGCAGC', 'TTTTTCCT', 'GGGTGGGT', 'ACTCGGGA', 'TACTAATG', 'AATATTTG', 'ATGGTAAA', 'ATGAAATC', 'AACCTGCT', 'GTTATATC', 'TAAGGGTC', 'GGTTAGGA', 'TAATTTTA', 'TCTTTACT', 'AACCATCT', 'CTATCTGC', 'GGTAATTT', 'GTTTCTAT', 'TAAAATAT', 'AACCAATA', 'CTAGTATC', 'ATATCTAT', 'TCTACTAA', 'CTTAATTA', 'GGTGTTTT', 'TATAATAA', 'AAATAATA', 'TATGTATT', 'TATATGTT', 'ATTTCTAC', 'AAATAAAC', 'ATCCATAA', 'TACCTGTT', 'TCCATTTG', 'TATAAACC', 'ATAGTTAA', 'AGCATGTC', 'GCTGGCAT', 'AGAACTAC', 'AAAAAACC', 'CATATTTT', 'TAATAATC', 'TTAGGTAA', 'ATATAGTT', 'GCCATATC', 'ATATCATA', 'AAATATAA', 'TCAGGTAG', 'ATATATAA', 'TCATCTCA', 'TTTTCAAG', 'TTTTAGCA', 'CACTTTGG', 'CAACTTCT', 'CTTACAAT', 'TATTTTGC', 'AGTGGTCA', 'TTAATGTC', 'TTGACATC', 'CCTTAATT', 'ATGAAGAA', 'AAGCTGAA', 'CTTTCAAT', 'AGCCATAC', 'ATGCCAGA', 'TTTTATTA', 'AATACAAC', 'ACTCTTCC', 'TCGACATG', 'TTCGTGGA', 'GATAGTTT', 'GCTTCACC', 'TTGTCTTT', 'GAGAAATG', 'TTCTTATT', 'TTTGCCTT', 'TTGAGAGG', 'GCCGTTTA', 'TACCAAGA', 'GCATCGCT', 'CCATCAAA', 'GGCTGTCC', 'CAAAACCC', 'GACAAGGT', 'CAGGTACT', 'TTGTGATG', 'TTTTTTTG', 'AAACACAG', 'CTTCTGTA', 'ATCTCTCT', 'CTTCAACA', 'AAACGCTG', 'TATTCCGT', 'AGTAATCT', 'TTGTCCCG', 'CCCAAATG', 'ACCCATTG', 'GTGTTTTG', 'GGCATTTC', 'TGTCAGTG', 'TGGGGAAC', 'GTGCTTGT', 'CTCTGGTA', 'TCGATTTT', 'CCGGGTGT', 'TTTCTTGC', 'CACTGCGT', 'TCGAAGCA', 'TTTGGTTC', 'TTTTTTTT', 'ATAAGTCA', 'ATGATGAT', 'CAGAATCG', 'ATCATGAG', 'CTTCTGTT', 'GACAGTTC', 'CCCCCCAT', 'ACCATGCT', 'CCACGACT', 'TCCCCGCG', 'TTCCTTTC', 'GATAATGA', 'AGGGTGTA', 'GCCATTAT', 'CAAAATCT', 'CGGTGCCC', 'TGTGAGTT', 'TATATAAA', 'ATGATCTA', 'CTACACCA', 'ATAGTCGG', 'TGTGAATA', 'CTTTGAGG', 'TTTTAGTT', 'AGTTACTG', 'GGGTGTGG', 'GCAGAGGA', 'ACTGCCAT', 'TGTTAGTT', 'CTGGTTTC', 'TTTGCTTT', 'TATCGGTT', 'TCATACTA', 'AAAGTATT', 'TGAACTTA', 'TACCTGCT', 'ATTTACAG', 'AGGCTGTT', 'ACTTATTT', 'TAAGAGTA', 'TTGTCTAT', 'TTCGTGCC', 'CCGATTAC', 'TTGAATAC', 'TCTTGTAT', 'AACGAATT', 'CTATCCGT', 'GATCAGGA', 'GAAGTGAA', 'ATGGTTTC', 'AAGAATTT', 'CATACACC', 'TCGACTTC', 'AAAGGGAA', 'ATTTTACT', 'ATTTATAT', 'GATTTTAG', 'TAGTACTT', 'AGATGAAC', 'TTAGGAAT', 'TTTCCAGA', 'AATCGTTA', 'AGAATAAA', 'AGGATATG', 'TACAATTG', 'TTGTTAAA', 'AGTTTGCC', 'AAGCCTGG', 'AAGACAGT', 'AAGCTATT', 'TGGAGGCT', 'AAATGGTA', 'ACTTGACA', 'TTTCTGGG', 'TTCTCTCC', 'AAATTGAA', 'CATAAATA', 'ATCTTTAG', 'TCCCACCA', 'AGCATTAT', 'TTGACTCC', 'TATCTATC', 'AATTCATT', 'ATTCTCTT', 'TGCTCATT', 'GGTATATA', 'TGCAGACT', 'AAATATTC', 'TACACACT', 'CTGCCAAG', 'TGTATTAG', 'AAGCGAAG', 'GGGGGGCG', 'ATATGTGT', 'TTATCTTT', 'AGTCCCAG', 'AGCCAGAG', 'GCAGCTGA', 'CTTTTATT', 'TTGCACTG', 'AAATGGAA', 'CGTAAATA', 'GTCTTTGG', 'CATCATTC', 'TTAGGAAA', 'GCTACTCC', 'TAAGGTTA', 'CTTTCGGA', 'TTATTTTT', 'CAGGAGAT', 'GTCCCAAG', 'TAAGTGAA', 'GGCCTCGA', 'CAAGCACC', 'AAATGCTC', 'GCACCTAA', 'GTGATGGA', 'TTTCTGCG', 'CTGTTTGG', 'AAATAGCT', 'TTGGTGTG', 'AATAATGC', 'TCCATGAC', 'AGCCCTGC', 'ATGCCACT', 'GGAAAATG', 'GCCCTTCG', 'CCTTCACT', 'GCACCTAT', 'GCGATCTT', 'TATTTATT', 'TTGTAATG', 'ATCTCTTT', 'TTTTCTAT', 'ATCTACGT', 'TTGCTGTA', 'TGGCTTGT', 'TGTTTCTG', 'AGGCATGA', 'CAAAACTG', 'CAAAATGC', 'TGCGAGAT', 'TGTCGTCA', 'TGGGTGTT', 'ACCGGATA', 'ATGCCTCA', 'TTCCCTCC', 'ATCATCAA', 'TTAGAATA', 'CAAAAGAA', 'CATAGAGT', 'CATGTCAT', 'CACACCTT', 'AGACTATT', 'TTATCCAT', 'TACTGTTT', 'CTGTGATT', 'TGGGATCT', 'GAGATGTG', 'ATGAGCGC', 'TACAATGA', 'ATTTGGTA', 'TGTGCTAC', 'GAAGTGAT', 'TAAATCTC', 'GCCCGAGA', 'AGGAATGC', 'TATTAAGG', 'GTGAGGAG', 'TTAAACGA', 'GCACCCAT', 'AACCAAAA', 'CTCATCTG', 'CAAAATAG', 'CAAAGGCG', 'CCCCCAGG', 'GGTTCGCT', 'TTTCCCAC', 'TTAGCAAG', 'CATGGCGA', 'TACCAGTT', 'GTTGGGCA', 'GTATGAAT', 'TTTTACTG', 'TTCCTTTC', 'TTCTTCCT', 'TGTTTATG', 'ATCATTTT', 'GTGCAATA', 'AACTGAAA', 'TGAAATTT', 'AACGCATT', 'ATACAAAA', 'ATATTGCT', 'ACAAATGG', 'TTCTCTGC', 'GTACAGAG', 'GCTGCATT', 'AATAGTGA', 'GTAGTACA', 'AAAGAAGG', 'GTATCATG', 'CCCGGTTT', 'AAACTTTC', 'GAAGATTA', 'GACATATT', 'TTAACCGA', 'CGACTTCG', 'TAAGTCAG', 'TATTGCAA', 'AATATGGT', 'TAGTTTCT', 'GCCTTCCT', 'ACTGATAC', 'TGTTAAAC', 'AACAACTT', 'CAAGACCA', 'CATAGTGT', 'TATGATTT', 'TCAAATCT', 'AAAGAAAA', 'GAGATTGA', 'ATTGTAAG', 'TTGCACTG', 'ACCGTTTC', 'GCTTTTTT', 'ATTACACA', 'TTTTTTAC', 'GTAGCGCT', 'CACTATTT', 'CCTTACAC', 'TTTCTGTG', 'AGCGTAGA']\n",
      "['CCTCTTCC', 'CATGGCCC', 'CACTCGTT', 'GCTCTTCA', 'ATAAAACA', 'CTTTCTGA', 'CAGGTGGC', 'CAGTGGTT', 'TGGGACCC', 'TGTTCTCC', 'CAATAATG', 'CAAAGGGC', 'GGGAATGT', 'TCTATCTT', 'GGGTGCAA', 'AATAGACT', 'ATGATTGG', 'GCCACCTA', 'CGTTAATC', 'GAGAAAAA', 'CAAGGGAA', 'TACCCTCG', 'TGCCCGTT', 'CACGCAAT', 'ACTTTGAC', 'TTGTACCT', 'TTGAAATA', 'AGAAATTG', 'CGATAAAT', 'GAACTTTC', 'CCTAAGGC', 'ACAAGTAA', 'GAGCAAAT', 'TCTTTTCT', 'CTTTCTGC', 'AGATTAGA', 'GCTCTGGG', 'GGGCATGT', 'CTACTCCA', 'AGGTTACA', 'TCACACAT', 'TTCTTATA', 'AGGGTAGA', 'TTTGTCAT', 'AATTTTCT', 'GATTTTGA', 'GTAGTAAA', 'CGACTTTT', 'GGGAAAAG', 'ATGTGAAA', 'CAAAGGAA', 'CATTGAAG', 'CTCAACTG', 'TGTCACAC', 'GAAAGGTC', 'TTCTTTTC', 'GGAAGAGC', 'TTATGTAG', 'GGGTATCA', 'TCTTGTTG', 'TCAGGCTT', 'TCATTTAC', 'GCACTACC', 'TTATCAAT', 'CCTAAGAT', 'TTAAAGTA', 'AATGCAAA', 'CCAGCAGC', 'CTAGCGTT', 'ATGAAATA', 'GACCCGAA', 'TATATGTT', 'AAATGCAT', 'TATTAGAT', 'CTGGATTT', 'CTATGGCA', 'ATGCTGAT', 'ATGGTAAA', 'GGAAATAA', 'CAAAAATA', 'GCTCAATG', 'TATATTTA', 'TAATCAAT', 'TTAGCTCA', 'ATATATTT', 'TAGAAATA', 'TTAATTAT', 'AGTGATGG', 'ATTTTAAC', 'AACATATT', 'CTTTATTT', 'TTTTGTAT', 'TTCACAAT', 'CATTAGGA', 'AGCATTAT', 'TATTATTT', 'TTTATTAA', 'TATTAGAT', 'TACCTAAA', 'TTTATATA', 'AATGTTGG', 'CATTAGTA', 'TGGGCTGT', 'CCGATGTA', 'AGCCTTAT', 'TGCCGTTG', 'AAATCAAC', 'AGTATGCA', 'GTTTCTGT', 'GGGTACTT', 'TATTGATA', 'TAAATAAT', 'ACCACTTC', 'ATCATCAG', 'TTCAATGA', 'ATTTCAAT', 'GTGGTTTG', 'TGGCAAAA', 'ATTATACA', 'TCTGTTCG', 'TGACACGC', 'CTTGTACT', 'TTTAGTTG', 'GCTTATAT', 'CAGGGAGC', 'GTTCACTG', 'AAATACAA', 'ATATAAGA', 'TTATCTCT', 'ATTCTGGA', 'CCTGGATG', 'CACCCCTT', 'CCCTCTTA', 'AACGGCTG', 'TAACAGAC', 'TGCGTTAT', 'GCGAGGTA', 'TTTGTGCA', 'GTGCTCGA', 'CAAGTGTA', 'AGAGTGTC', 'AAAGCTTA', 'ATAAATGT', 'GCCAATGG', 'ACGAAAGG', 'CACTTAAG', 'TGAGGCAC', 'CTCAGCGT', 'AATACGGA', 'TTTTTTGA', 'AAGCACTG', 'ACCACAAT', 'GGACACGC', 'GAGACTGG', 'AGCACATC', 'AACACCCT', 'AAGAAAGA', 'ACAGACAA', 'TACCAGAG', 'AAAAGACG', 'GCGGGACA', 'CACAATTA', 'CACATTAC', 'TCTCTCAC', 'CTTCCTTC', 'AAAACTGC', 'AGTTGGGA', 'CTCATCAA', 'TTCTGAGC', 'TTGACATG', 'ACAGAAGC', 'GTATAGAA', 'CCTTGTGT', 'ACACCACT', 'GGCGAAAG', 'AGCCAGGA', 'GAAAGGAA', 'AAAAGTTC', 'TGATCCTG', 'TTTATGAA', 'CTAGCTTT', 'AGTTGATC', 'GTCTACAA', 'CTTATTGC', 'CCACCCCC', 'CATACTAT', 'CAACACAA', 'ATACAATT', 'CGTCGAAC', 'TCAAGACA', 'AAGAGACA', 'AAAGCAAA', 'GGGCACCG', 'GCGGTAGA', 'GTTAATGA', 'AATCATCC', 'GGTAGATT', 'TGCATTTC', 'TTAGTATG', 'GCACACAC', 'GATTTTAT', 'CAACAAGT', 'TGCCTTAA', 'AAGTACTA', 'ACAAGTTC', 'GTAAAGAA', 'CCCCCTGG', 'AGAGTGGG', 'TACATCTG', 'AACACCTA', 'GGCATACC', 'AGGATCAA', 'CAAAGTGC', 'GAATTTAC', 'CATAAACG', 'TATGAGTT', 'TTGATAAA', 'AGAGTCAA', 'TGGTTGAG', 'GTTATACC', 'TGCATTAT', 'GAGCAATT', 'ATCTTATC', 'TCAACTTT', 'CAAAATGT', 'CACTATTT', 'GTTGGACT', 'TCTAAATG', 'GTTTTTAT', 'ATCCTTGA', 'TATATATT', 'CGAAGCAT', 'CTCTTTGG', 'CCCAGCTC', 'ACCCTATC', 'TTCCCAAT', 'TAACATCC', 'CCAAAACA', 'TAGATAAA', 'GGCATAAG', 'CAAAAGAT', 'CCAGTTTC', 'GAAGATAA', 'GATAATTA', 'GTGGGAGT', 'GGTCTATA', 'CAAAGAGA', 'AGATAGAG', 'GCTCTTTA', 'AAGAGAAT', 'TGTGGAAA', 'CACCTCAT', 'CCATTGTG', 'AAAGCAAC', 'ACTAGCAA', 'TTGATCGG', 'TTGTTACC', 'GTTGGCCC', 'CCGGTTAT', 'GATATACA', 'GATAATCC', 'CTCGCCCA', 'GCTGCAGA', 'AAGAAGGA', 'AAACAAAC', 'CCTCGCAG', 'TGTTCATT', 'TGGTTAAT', 'AGATGTAT', 'ACTATCTT', 'GTGATAAT', 'TGAAACTA', 'AGTACCAG', 'AAGCAACT', 'GAGTATTG', 'TATCTATG', 'CAGTTGCA', 'CTTATTTC', 'AATAAAGC', 'TAGTACTG', 'CAAGAGGG', 'TAAGTGGA', 'CACAGAGA', 'AGAGAAAA', 'TATTTATC', 'GAGCTATT', 'ACCAACCG', 'ATACAACG', 'TCATGGAT', 'AGGGCTAG', 'AAAGCAGA', 'GAGATGAA', 'ACGTCATG', 'TCTATTTT', 'AGCAAATG', 'CCTTGATA', 'ATTTACAT', 'TTGCTCTG', 'ATGTCATG', 'GAATGCAC', 'CACCCAAT', 'CTATACAG', 'AGGATTCG', 'CAAGGTTT', 'TTATTGCC', 'CAACACAA', 'TCATCGCA', 'TCTCGCAG', 'AACTTGAT', 'TAATGTTT', 'CTATCCGG', 'CTTTTGAT', 'GTGTTAAA', 'CCAGATTG', 'AGCAGAGA', 'ATTTTCTT', 'CACACACT', 'CATAGATG', 'GGGGACAA', 'TTTTGAAT', 'ACCTCACT', 'AAACAGTA', 'ATAATCAC', 'TCCTCCCC', 'CTACCGGA', 'CACTGGGA', 'TGTTGTCT', 'CTTTTTTG', 'AAATTGAG', 'GAAGTGCG', 'AGATTTAG', 'TCTACGTC', 'GGCATTCC', 'CCTTAATA', 'ACTAGGCC', 'TTTAACCG', 'CAGAGTGG', 'GGACAACA', 'GAGGTGCG', 'CATTTCGT', 'CTTCTATG', 'AAGCATTA', 'AACCGAGG', 'GACAAAGA', 'ACAAGATA', 'TGTGCGTT', 'AAATACAG', 'GTGATAGC', 'ATTTTAAC', 'AGACCTAC', 'ACAGAGGA', 'TCTAATCT', 'CCCCTAGA', 'ATTCAAGG', 'TCTTATTG', 'TTTCTTTT', 'CTGACTTT', 'CAGTCTTC', 'ACCTATTT', 'AGCGGAAG', 'TCCCGCCC', 'GGCACACC', 'ATGAGGTC', 'ATATGTGT', 'ACCCACTG', 'AAATGCAG', 'GAATCACC', 'CTGTAGTA', 'CCTTCCAC', 'TTTTGGGG', 'GTGCAGAG', 'ACACCCTG', 'TAGGGCAT', 'TTTTATTA', 'TATTAAAG', 'AATATTTG', 'ACTTGCAT', 'AAGAAACT', 'GACGAGAC', 'ATCACTGA', 'ATTGATTC', 'CAAATATC', 'CATTGCTG', 'TATGCACA', 'TAATATTA', 'CGATCGTC', 'CCCACAAC', 'CTGTGCGC', 'GGAAAAAT', 'ACAGTGCA', 'AGGGACTA', 'AAAAAGCA', 'CAACACTG', 'TTTCAGAG', 'TTTGAGAG', 'CCCAAAAA', 'CAAAGCAA', 'GGTGACGT', 'TCTTAGTT', 'AGAGGTTC', 'TCACTCCA', 'AACAGTTA', 'ATATTCAA', 'ACTCAAAT', 'CAATTCAG', 'CACCTGCC', 'AGAAATAC', 'TTCCTTCT', 'TGCTGTAG', 'CCGAAGTT', 'TCAGAGAC', 'ACCCACAT', 'TCCCTTAC', 'CCTAGAAT', 'TCACAGAA', 'TAGCGCTA', 'CATGCGCG', 'CGGCGTGC', 'CTCTTTCT', 'TAACTCTT', 'TGTAGTGT', 'GCGAATGG', 'GCACCTGG', 'GGACAAGG', 'AAATTGGA', 'ACACATAC', 'ACCAATTT', 'GGGTTATA', 'ACTATTGT', 'TTAGGTAA', 'AAAAGTGT', 'ATAAGGAA', 'TGATAGTG', 'GCAGAAAG', 'ACTTTAAT', 'TTTCATCT', 'CTGCAGCA', 'CAAAGCAG', 'GTTTGGTA', 'CGGTACCG', 'ATCACACC', 'TTCGTTGC', 'CTTCTATG', 'TGAGTGAT', 'AAACCAAA', 'TTAATGTC', 'AAGTCGAG', 'TACACACC', 'TATTAACT', 'TGTTGGCT', 'ATAAAGGA', 'TGAGTACC', 'TCTGTGTG', 'ATATGGTT', 'CCCGGATG', 'CGCTAGTT', 'CCTGTCTA', 'TATGCTTT', 'AGAAAGGG', 'GAACCGAA', 'CAACAATA', 'TAGTGCTG', 'GATAACTC', 'TGCACCCG', 'GTGAATTA', 'GGTTTGCA', 'TAATAATA', 'TTTAAACC', 'TCATCTTT', 'ATGCTTTC', 'GATTTATC', 'ACTGGTAA', 'GTTTCTAT', 'ATGTTGGT', 'ATGCCATA', 'CTAGTATC', 'CCATCTTA', 'ATAATTTA', 'CTTGTTTT', 'ACTATAAC', 'ATTTAAAT', 'TTAAGATA', 'ACCTTTCG', 'CACAAGCG', 'TGTAATAG', 'TTAGTATA', 'TAAATTTC', 'ATAGCCAT', 'TGTTCTAC', 'ATATAAAC', 'TTCTAATC', 'AAATATTG', 'TATAACCA', 'CAAAATAC', 'CCTTTTCT', 'AATAACAT', 'TCTTAATT', 'ATACAGCT', 'TATAAATA', 'ATCTGATG', 'CAGCACCT', 'AAAAAATA', 'TTCAGGTA', 'ATAAGGCT', 'ATCGGGCA', 'GGTAACAA', 'TTTTTTCG', 'CTGCGATT', 'TAGAGAAA', 'TGCTAAGA', 'TTACTGTT', 'ATATAGTT', 'CACCATTG', 'AATGGCAT', 'GATCAGCC', 'GTGCTAAT', 'CCATTATC', 'CATAAACA', 'TAGAACTA', 'GTATTGTA', 'TTTTATTA', 'ATTCGAAA', 'TTGGGTTT', 'TGTCGACA', 'AGAGAAGA', 'AAGACAAG', 'CGGCGCAT', 'AAGAAATG', 'TTCCAGAA', 'TTTTCTCA', 'TTTTTGCC', 'GAAAAAGA', 'TAATACAG', 'TATGCTCT', 'TCAAGGCA', 'ATCAAAGT', 'CTCTAGGC', 'CACCTATA', 'CAAGACAA', 'TGGTGCTG', 'TAATTGTG', 'GAAACATT', 'GAGCAAAT', 'ATCGGCTC', 'GTTCCTGA', 'GGAATATT', 'CTGAAACG', 'TGTCGAAG', 'TGCCGAAA', 'AACAAGTT', 'ATTGCACC', 'AGCGTGTC', 'TTGATTGG', 'GTGCCGTA', 'TGTTACAC', 'AATCATTG', 'ATTTGGTT', 'TTTGGTAG', 'CGTCTTTT', 'TTTTGTGG', 'CTCTACTA', 'ACTTCTCA', 'TCTCTCTG', 'AAGTTTTG', 'TGCTAATT', 'ACTTCAAT', 'TGATAGAG', 'TGGAATAT', 'AATACAAA', 'TTCTGTTA', 'TATTACAT', 'CCCCCATT', 'ACCATGCT', 'CCGAGCGT', 'GTGCTACA', 'ACAGCCAC', 'CGACATAA', 'CAAAAAGA', 'TCATAAAT', 'ATATATCT', 'CAGGATCA', 'ATAGAAAT', 'CCGGTATG', 'CTGTCTTG', 'ACTACACC', 'GTGTGTTG', 'AAAAAGTC', 'TTTGAGGA', 'TCCGACTT', 'GCAGGTCG', 'CGTCTATT', 'AGAGGAGT', 'ATGCCCGA', 'TTTGAGTT', 'AGTTGTCT', 'TTAATCTT', 'TAATTATT', 'AGGTATTT', 'AGTTGAAT', 'TAAAATCT', 'GCTGCCTT', 'TATTCTTC', 'CAACATTC', 'AACATGTC', 'TTTCAATA', 'AAGCACCA', 'TATGTCTT', 'CTGTTTCA', 'TTCCGTGA', 'TATGGGGG', 'ATTTTATA', 'TTTTCGGA', 'CATTTACT', 'TGACTTTT', 'AAAACTCA', 'TCAAGCTT', 'ATTACCCG', 'AATTTATT', 'CATGGTTG', 'AAGACTAT', 'TTGCTCAT', 'AGAACAAA', 'TATGTATT', 'ATAACATG', 'CAAATCAG', 'GAAGATAC', 'ATAAAAAG', 'ACGAGAAT', 'TTATCTAT', 'TGGCAATA', 'TAAAAAAA', 'GCCAAAGA', 'CAAGCCTG', 'AGCACAGA', 'GGAATCCA', 'AACGACTA', 'GGCTATGG', 'TCGAGTTA', 'TCTTCACT', 'ATCTTTTG', 'GTAAGTTG', 'TTTTTTTT', 'CGTAACGG', 'TATCGTTA', 'GAGCCTGT', 'TTCTCTTT', 'TGGCCAAT', 'AATTTAAT', 'TTTCAAAT', 'TTCCATTT', 'ATTTAGAT', 'TACTGCCT', 'ATTACCCT', 'GGATCCCT', 'CCTATCGG', 'ATTGGGTG', 'GGTGAGTG', 'GGGGGCGG', 'CATGATCG', 'GAGGGGAT', 'ATTTTGGG', 'CTTTCTTT', 'TTCTTTCT', 'GAAGGAGG', 'CTCAGAGT', 'ATGAACAA', 'AGAGACAA', 'TGTCTTTG', 'ACATCATT', 'ATTATCAC', 'AAACTTCA', 'CATATGGT', 'CGTGGAAT', 'TGAATAAC', 'AAGCAGGA', 'AATGGGTG', 'TTTAGAAT', 'AACTATGA', 'GCACCCAG', 'AACTGGAA', 'ACTTACAA', 'TCTGGTAT', 'AGGTATCT', 'CATGTATA', 'AGAAGGAT', 'GATTTCAT', 'GTGGATAT', 'ATCAGATG', 'ATTCAGCT', 'TTCCTTCC', 'AAGAAAAA', 'ACTCGTCT', 'GAAACATA', 'AATCAATT', 'GACTCTGC', 'TTTATTGC', 'TCACAGAG', 'TGTTTCAT', 'TTCTTAAG', 'CCACCTTT', 'GATTGCTG', 'GATACAGT', 'GAGAGAGG', 'AATGTTAA', 'AAAAAAGT', 'TTATGCAG', 'GATTCATG', 'AAGTTTTG', 'GAAGCAGG', 'CTTCGCAA', 'CTTAAAAT', 'TTAACACT', 'ATTTCTAC', 'TTGGAAAG', 'AGCAACCA', 'GTAAGTGT', 'ACCCTAGT', 'CACACCTT', 'AAGACTAT', 'GTGAGGTC', 'ACAAAGAA', 'TTTTGCTC', 'CATTGAGC', 'AAAGCAAA', 'TTTAAACT', 'TTTTGTGT', 'TGGTATTT', 'TCATCCCA', 'GTGATCTT', 'AACAGATC', 'GAGCCCGA', 'GAATGCCG', 'TTAGAGTT', 'GCCTAGTG', 'GACTCATT', 'GGTATGTT', 'CCCATGTT', 'TGTCTTTA', 'AAACTCAG', 'TGTTCGAT', 'CCCCCAGG', 'TCACCTGC', 'TTCTTTGT', 'TTGTTAGC', 'ACTCTGAT', 'TGTATTTC', 'GTGGACCT', 'ACAAAACC', 'GGTCTTAG', 'TTTCTTTT', 'TTCTTTTT', 'TGTTTTTC', 'ATTTTAAC', 'AATAAGAA', 'TAAAAGAA', 'ATAAATTT', 'AAGGAACT', 'ACTGGATT', 'CTTTCTCT', 'CCGGTTTT', 'TGGCACAG', 'GCAGTAAT', 'AAGCACTA', 'AGTGAAAA', 'CTGCATTT', 'TATTTGAA', 'AAAAAGAA', 'ATACGGTA', 'CTTCCAGG', 'TCCTCTGC', 'AGGTGCGA', 'CTGTAGAA', 'CTGAAAAT', 'TTAATAAG', 'AGCAATAC', 'GAAAGTGA', 'TACAAGTG', 'TTACTTTT', 'TACTATCA', 'TAAATGGA', 'ATAACTGA', 'GGGTATCC', 'TGCATAGT', 'AATTAATA', 'TTTTAGTT', 'AAAAAAGA', 'ACAGGATC', 'TAAGGGTA', 'CTCCGTAC', 'TTTCAGCT', 'GAAATGGC', 'TACACAGT', 'TAGACAGG', 'ATTTACAG', 'TGCTGATT', 'TCCCCTTC', 'GTGGTTGC', 'ACTAAGAA']\n",
      "['TGTTCTTG', 'GTGAATGA', 'GGACTGCA', 'TCCAATCA', 'CAATAAAA', 'TTCGTACA', 'CCTTCTAC', 'CAGAGATG', 'GGACCCAG', 'TTCTACAG', 'CGAGTGGT', 'AGTCTCTG', 'TTCGGGAA', 'TAGGTGCA', 'ACAAGGGA', 'GTATGGGA', 'TGTATGAT', 'CGCATGTA', 'AGGCGATC', 'AAAAGAGA', 'TTAAATTT', 'TGTACCTT', 'GTATGCCC', 'AATGCACC', 'TTTGACTG', 'TCAATCCA', 'AACTTGAA', 'GCTCCTAC', 'CCTTCTTA', 'ATACAACA', 'ATGTAGTT', 'GAGAGTTT', 'CTTTTCCT', 'ACAAGTAC', 'AACTTTTG', 'ACTGCAGA', 'CTCTGGGG', 'AAGGGCAT', 'AGCTGCTA', 'TTCTAAAG', 'ACACATGG', 'TGTTACGG', 'GAATAAGC', 'GCTATAGG', 'CTTTTCTC', 'ACTTCTGA', 'AATTTTAT', 'GCGTAAAA', 'GCTTGGTG', 'ATGTGAAA', 'AAATTGCC', 'CTTTATTC', 'CGCCACCA', 'TCAAGTAA', 'TGGTTGCA', 'GATTTACC', 'ACAGTTTC', 'GCCCAGTT', 'TCCGCAGG', 'GGCTTCCA', 'TTGGCGTG', 'AAAAACAA', 'CGTCAAAC', 'AATTTGTT', 'GAACCTAA', 'CAATTTCC', 'AGAACTTC', 'TATTTAAT', 'AAAGGATA', 'AATTAAAG', 'TTACTATG', 'TCTGATAT', 'ATAAATGC', 'TATTATTA', 'GATTTGGT', 'ATCTATTG', 'CACATCAT', 'AATAATAA', 'AAATAAAT', 'CTCGGCAA', 'GCAAAAAC', 'GTACCTAT', 'ATCTTAAT', 'ATATAAAA', 'TTCAAATC', 'GCTACTAT', 'GTCAATAT', 'ATTAGTGA', 'AATATTGA', 'CAAATGGA', 'TATTATGG', 'CTATGTCT', 'GGTTCACA', 'TATATTGG', 'ATTAACAA', 'ATTTGTAT', 'TAATGATA', 'GAAGGACA', 'TACCTAAA', 'TATTTTAT', 'GCATCAGA', 'TTCTACAT', 'TTTATCTT', 'ACCACATG', 'TACTCACA', 'GCCGTTGT', 'CACTGTTG', 'AAAAAAAA', 'GGGTGCAG', 'AAGTTGGG', 'AGCATATT', 'CTTAGCTG', 'TTCAAAAA', 'CCCTAAAA', 'AATGAACA', 'CTTTTGAT', 'ACATTGGC', 'GGCCGACT', 'ACGTCGGC', 'AATCCGAC', 'AGTTATAC', 'TAAAAAGG', 'ACTTGTAG', 'AAACCCAA', 'CGTGTGCT', 'TCTTCTCA', 'CAAAACTA', 'TAACTGCT', 'TCTCTTTG', 'ACAAGGAA', 'AAAATAAG', 'CCCCTTAA', 'TATTATGT', 'CTCCTCAC', 'AAAGAAAT', 'GTCAGGGT', 'GGATGGGG', 'GATTGTGA', 'GGTGTAGT', 'CTTAGCAC', 'CCTGAAGA', 'GAAAAGCT', 'TATCCGAT', 'GATACCAT', 'CGAGCCGA', 'ACGTCATT', 'CTCTGTTA', 'TGTCTCAG', 'AAGCTACA', 'GAGACAAT', 'AGAACAAA', 'TTATATGA', 'TCCGAAGA', 'ACCGTTTT', 'CGGCACAA', 'CCTACCCA', 'ATTGACAG', 'AGATCAGT', 'ACCTCTAT', 'GAAACAAA', 'ACATTTTT', 'TAGAGATT', 'TTACCTAA', 'AGGTCTTC', 'TTCGGGAC', 'AGGTGAAA', 'TTATTTTT', 'CACAAGAA', 'ATATTCCA', 'TTAGCTCA', 'TGCAAAAA', 'TACTCTTG', 'TGTCTGCT', 'ATGGTTAC', 'TCGGGGCG', 'TGTGTAGC', 'GCTGTTAG', 'TTATCTTT', 'ACATATTA', 'ATGGTAGC', 'AGCTTTCA', 'CAGAATTC', 'TCACACAC', 'ACCGGGAC', 'CCACACAA', 'TACCATAC', 'ACACAACA', 'CGGTTTGG', 'GTATCCCG', 'ATGAACTA', 'AAGAGACA', 'TGTTTTTA', 'TAGAGATT', 'GATTGTAG', 'ATAAACTA', 'GATAAAAT', 'AAAGCAAA', 'CCGATACA', 'ATACCTGG', 'AAAATACC', 'CCGAACTA', 'GTGCAATT', 'TTGTCAAT', 'TTCATCGC', 'TGACATGT', 'ATACTACT', 'GTAGATGG', 'TCAGAGAG', 'AAACAGGG', 'CGAGGGGA', 'CCTCTTCC', 'TTCCTGAA', 'TAACGGAT', 'AAGTAAAT', 'GTGCGGGA', 'AAAGAAAC', 'AATTCTTA', 'GCGTAATG', 'TCAGAAAT', 'GAAGGAAA', 'GTCTTTCC', 'AGAAATGG', 'GCTTCTTT', 'TAATACAT', 'TCAAAATG', 'ATTAGGCA', 'TGGACTGT', 'CATATACA', 'TATTGCTT', 'ATCATATC', 'CCGTCTGC', 'AAAGTTTC', 'GTCTTCAC', 'GAGATACT', 'CTGCACCC', 'AGACTTGA', 'AAATATCT', 'CTCTACCA', 'ACAGTCAA', 'AGTAGCCG', 'AAACAGCA', 'TGTAGAGG', 'AGATGAGA', 'TAATGGGT', 'CCGGTACA', 'CTCTTGAA', 'GAGGACTT', 'TACTATGA', 'GTTTCCAA', 'GGAAGAGA', 'CACCCATA', 'ATATATAC', 'GGGAAAGC', 'TGCGGGTG', 'AACTAGCA', 'GCACCGAT', 'AGACCCAG', 'TTTTACCT', 'CCCCGGAT', 'ATTTCATA', 'GAAAATAT', 'TGCCGCGG', 'CCTCACCA', 'CACACCCA', 'ATAAAAGA', 'CCCGTGCA', 'GTTCATTC', 'ATTTACGA', 'TGGTTGTT', 'TGCTACGA', 'GGATTTCC', 'GAAGTTTG', 'ATCACAAT', 'TCCGAAAG', 'TAAGAGTA', 'TCTAAAGC', 'TCGACAGA', 'GCTTTATT', 'GGCACCCA', 'CTGGGTGC', 'AGCGATGA', 'CTAGCTCA', 'GAATACCA', 'TGAGAGCT', 'GTCTCTTT', 'GAGATCCT', 'CAACCGAA', 'AATCATAT', 'GGATTTTA', 'TAGGTAGG', 'ATCTCAGG', 'TTTCTTGG', 'AGTACGTA', 'CTGTGATT', 'AGACATTT', 'AGAGTCAA', 'GATGAAAC', 'ACAAGGGG', 'TTTCCAAA', 'ATGTCAGG', 'ATTCTCAA', 'GCCATCGG', 'TACAAGCC', 'CAAGGTTT', 'AGTTTAAG', 'CAACTTTT', 'TTCTGGAA', 'GAGTCTAA', 'AAGATGGG', 'CTAGTTTA', 'TTGTTATG', 'ATTTAAGA', 'AACAATGG', 'GACAATTA', 'CTGATCTT', 'TTTCTTTT', 'ACACACAC', 'GATGACAT', 'GACATTCT', 'GAATTGAT', 'AAAGCATG', 'CAAAAACA', 'TTTTCCAC', 'ATCCTCCC', 'ATTTGCTT', 'CTGGGAGG', 'TACTTTGT', 'TGATGTGA', 'ATTGTGGG', 'TACAGGAA', 'AAAAGCAC', 'TGTGCCTG', 'TTGGCCGG', 'CGGCATAG', 'ATTTACTC', 'TTCCTTGC', 'GTGGATGG', 'CCTACACG', 'GGTCATCG', 'ACTTCTGA', 'TTTGTGGG', 'GTAAAGTT', 'GTTAGAAT', 'CACAGTGT', 'GCTAACAA', 'ACGGAATA', 'TAGAACTG', 'TATATCGG', 'TATTTTAA', 'ACCGTTTA', 'GCCGACAA', 'AAAAAAAA', 'AAACGGCG', 'GTTGCAGT', 'TTCATCAC', 'ATATTATT', 'GTTTCTTA', 'TGGATTGT', 'TCCAAAGA', 'CAGCAATA', 'TCGGAGGC', 'ACTACATG', 'CTTATCAT', 'TGAAATGC', 'ACCCACTG', 'CCTCTGCA', 'AGGTGAAA', 'GTTACATA', 'CTTCCACC', 'CATCGTTT', 'GTGAAATT', 'TCAAAATT', 'GCATTTAG', 'TTTCAGTT', 'AAGCGCGA', 'AGTTGCTG', 'GATACCAT', 'CATAGATT', 'CTTTAGTA', 'ATGATAGT', 'GGATTATT', 'CTCATATT', 'CATTGCTG', 'TACGATTT', 'TTCTAATA', 'TTCCAACC', 'TATTACTT', 'TGTAAACT', 'AAAAATAA', 'AAGAATGT', 'AAAGACAA', 'AAAAAAGC', 'TGATAAAT', 'GAAAGGTT', 'TGTCTACG', 'ATCCAATA', 'CTACCAAA', 'AAAAAGAG', 'TTTCTTAG', 'GCAAGAAC', 'GGCCATGG', 'CTGGAGAA', 'TGAAAAGG', 'ACGGGATC', 'GAGAAAAG', 'CCCCACTT', 'AAATACAA', 'ATCAAAAT', 'GGCAGGAG', 'CAACGACA', 'CAGTCTCT', 'TGCAAAAC', 'ACTAGCAA', 'TAAGAATT', 'TCATCCCA', 'TACTATCA', 'CAAGAACG', 'CATTCATA', 'TCTTTTCT', 'GATGTAAA', 'AGTGTAGC', 'CATACGTA', 'GTTTGGCA', 'AACGATGG', 'ACATAGAT', 'ATTTCAAG', 'TTTCTCAC', 'CTATTGCT', 'TCTTGGGT', 'AGGTAAGG', 'AAAAAGTT', 'AGATATTT', 'GATAGTGT', 'GTAACTTG', 'GAAATTGA', 'GCAAGTTT', 'ATACACAT', 'TATGGTTG', 'GGAACTCA', 'AGTCGGTA', 'TAATCTTT', 'CCTCCTCC', 'ACATCAAC', 'AGTGGGAT', 'CAAGAGTA', 'TTTTACTA', 'CTTGCAAT', 'TTTTTTAC', 'CTGTCATG', 'GTCGACCT', 'GAATAAAG', 'AATACAAT', 'GACAAAAG', 'TATATATA', 'CCGGATGG', 'ACAGAGAG', 'CTCTGCCT', 'TCATGGAT', 'CTCGCACT', 'AGGAAAGA', 'TTTTACAA', 'TAAGCCGT', 'TCTTGCAT', 'ATCTGGAA', 'GTGGGCTC', 'ATGAAATA', 'GGTTAGGA', 'TATATTAA', 'AACTCTTA', 'CTGTTCGA', 'TATATTTC', 'ATGATAAT', 'CCTCCAGC', 'TGGATGAC', 'TAAGTAGA', 'CCTACAAT', 'TATATCTA', 'ATACATTT', 'CCGAGTTC', 'TAGTAAAC', 'ATATTCTT', 'ATTAAATA', 'TGCTCTAC', 'CGCACCAC', 'TTCTACAA', 'AATAAATA', 'ATGTAAGA', 'AGCCATAA', 'ATATATCT', 'CAAATAAA', 'CATAGTTA', 'TAATACAT', 'TCCAAAAC', 'CTAAATCA', 'AAATAATA', 'TCAGAATA', 'GGTACTAC', 'CATTTAAT', 'ATATATAT', 'TTAATGGT', 'ATACAGTT', 'TAATAAAT', 'AGTCACCG', 'TAAGTCAT', 'GTTGACGG', 'AGTAGTTG', 'CTTTTTTT', 'AGTCCACA', 'ATAGTGAA', 'GTTTCTCT', 'CTAAGAAC', 'GTTTGTGT', 'CCATTGTT', 'GGCATTCT', 'ACCCATCT', 'GCTAATAA', 'ATTTGTAA', 'TTCGGGTA', 'AGCTGGTA', 'TAACTTGA', 'ATTAGATC', 'AATACAAC', 'TTCCCCTC', 'CGGAAGCC', 'AAGAACAG', 'TGAGGATG', 'GAGAGCAG', 'CAACACAA', 'TGATAACT', 'GTCATCCA', 'ATACGTTG', 'GAGAGGAA', 'GTTTTTCT', 'TTATTTAC', 'AACGCATC', 'TTCCCCCA', 'CAAAGCTC', 'ATTTCCGA', 'GATACTTA', 'CTTCAGGT', 'AAGCTTTT', 'AAGCGATA', 'GCCATTGG', 'GCAATTCA', 'CAGTCTGA', 'TTCGGCAT', 'AAACGCTG', 'CAGACCTG', 'CATTCGTG', 'TCTTCTAC', 'CACCTGTG', 'TCCTTTCA', 'GTCTCGGC', 'ACGGTGCT', 'ACCCCGTC', 'TTTCTTCG', 'CTTGTGCG', 'AAGATCCA', 'TTTGTTTC', 'TGTCCCGC', 'TGTATGAA', 'AAGGTGCA', 'AAGACCTA', 'GTTTGGTT', 'GCAGTTTT', 'AGTCATGT', 'AAGACATG', 'TTTTACAT', 'TGTGCCAA', 'TTTATATA', 'TTACATAG', 'GAAAGCAG', 'CACTGCTG', 'TTTCGCCT', 'ATATATAC', 'CACGACAG', 'GATAATGA', 'ATAAAAAG', 'ATCAACAA', 'ATTTGCGA', 'CCAACAGG', 'AAAACTGC', 'ATACATAT', 'CGGGGGTG', 'AGTATGGT', 'GTTGTGTG', 'CCGTTAAC', 'CGACGGAG', 'GATTTTAG', 'ATGCTATT', 'AAAAACAA', 'GGGGTGCA', 'TATCTACA', 'TGATTTGA', 'TAAAATGT', 'AATCTTTG', 'GGAAATGC', 'AATAATAG', 'TTCAAAAG', 'TGACAACG', 'TCGTACTT', 'TTGACAAA', 'CAACATTC', 'CAGTGAAT', 'ATGATTTT', 'ATTTTTTT', 'TTCGTGCC', 'GGCTTTCC', 'CCAGAAAA', 'TGCCAAGA', 'TAACGAAT', 'CTATTCAA', 'GAAAAAGA', 'AATCCCGC', 'TGTGGGTG', 'TCACCTCT', 'ACATACAC', 'GACTTCGT', 'CATTGTAT', 'GAATTAGA', 'CCTTTACC', 'AGTTAGGT', 'TGGAAATT', 'AAAAGAAA', 'CTAATTTG', 'CTTGGAAA', 'AGTGAAAA', 'GCAATATA', 'ATATGATT', 'CTATATGC', 'TGCTTCGT', 'TGCCAAAG', 'GTGCAGTA', 'AACAAGGG', 'CCCTCGGA', 'TCTGTGGA', 'GAGGTGAA', 'TCCCTACC', 'GCCTTTCT', 'TTTGCTGT', 'AGTAAGTT', 'TTTTCTCT', 'TTAATTAT', 'TCGAGAAA', 'TATAATGT', 'TTTGACTC', 'TATATAAT', 'TTTTTTGG', 'CTCTTCCA', 'AATTTTAA', 'TATATATT', 'CAATGTAT', 'TCCACAGC', 'TTGCTAGT', 'CTATCGGT', 'TGTATTAG', 'GTGGGAAT', 'CTTTTCCC', 'TATGTGTA', 'TATTTTCA', 'GTCCCAGA', 'TCTGCAGC', 'ATGCAGCT', 'AGGGAAGG', 'GCCTGCTC', 'AAAGTCAA', 'CATTTGAA', 'TACATCTG', 'GGGTGTCC', 'ACACCCAT', 'TTCAACCT', 'AAAGATTG', 'TGGTACCC', 'CAATACTC', 'CTTTAGAT', 'CGAATTGC', 'ATGGGGGT', 'GGCCTCGA', 'ACTAAGAA', 'TTTTTCAT', 'TGAGCTAG', 'TATCTGGT', 'GTGTGTGC', 'ATAAGGTT', 'CCCAGCAG', 'GCGTCTTT', 'TTCAAAGT', 'AGTCCGGT', 'TCAGCTAG', 'CCTGAGAT', 'TAATGCAC', 'GCCCTGCC', 'TGCCTAAA', 'TTTGCTAA', 'TGAAAGAG', 'AAATAGTA', 'GTTATCAC', 'TTTTTTGA', 'GTTTACTT', 'GCGTGAAT', 'AGCTAACG', 'GTATATTA', 'GAGAGAGG', 'TCTCACTT', 'AAAAATCC', 'GCGATGAG', 'TAAATTAG', 'CTTATAGC', 'CAGGTTGG', 'GCAAGACC', 'CTTAAATC', 'GGGTTTTA', 'GTTATTGA', 'AGAATAAT', 'GAAGCCTT', 'AGTGTTTC', 'AGTAATGT', 'GTAAAGGT', 'AAAAAAAG', 'ATAAAACT', 'TTGGATGT', 'ATTATATG', 'ATCTGCAG', 'AAGCAAAT', 'AGTGAAAT', 'CAATGATT', 'GTTTGCAA', 'ATAACAGC', 'CGCACTTC', 'TCTCTCCG', 'GCCCGAGA', 'TCCATGGC', 'ACTATTAA', 'TCTTCTGA', 'AAGATGGG', 'ATGTTCTA', 'ATAAGTCA', 'ACAACACC', 'AAAATAGA', 'CTCATAGA', 'GTTTCAAG', 'TATCTATA', 'CTGCAAAA', 'AGCAAGCA', 'GGGTGGAA', 'AGCTGTAT', 'CGTTGGGC', 'CAAAAATT', 'TATTAACT', 'TTTCTTTT', 'TTTCATTT', 'CAATTCCC', 'GGCATCAT', 'GAACCAAT', 'CATTTCAT', 'CAGAAAGA', 'GTGTAAAA', 'TTGCGCCA', 'TTCTTGAT', 'ACACTTGA', 'CATGTAGT', 'ATAAGTAA', 'CAAGTGAG', 'GGGTGCTC', 'TTTTGACA', 'ATAGGTGA', 'GCCCTAGA', 'ATACGGTA', 'AAACACCA', 'TTCACTAT', 'TAACAGGG', 'AAAAAATC', 'GAGGATTT', 'AGTCAGAT', 'ATTATCTA', 'ATCAAGCA', 'CGCAGAGA', 'CCTGTTAC', 'AATTTTCT', 'ATAATCCT', 'ATTTGGAT', 'TCCTCAAG', 'TGCCATAA', 'AATTATTA', 'TAGACGAT', 'AACGAAAA', 'TATTGCGC', 'CACCCCTT', 'CCCCCCGC', 'CTCTCCGT', 'TACGACAT', 'TCTAAGTG', 'CTCTGAAA', 'CGTTTGAG', 'TCACCCAC', 'CCCTTGCT', 'GGCAGGCA', 'AAAGAGCG']\n",
      "['AAATCAAG', 'CCCATGGC', 'TCTCCAGA', 'TTTTCAGC', 'CAGTAGAT', 'CCCTTTTT', 'TAGATCAA', 'TTCAGTGG', 'TGGGACCC', 'ATATCTTG', 'TTACCCGG', 'AGTCTCTG', 'TCATGGGG', 'CCATGCCA', 'GGTGCAAT', 'TCTCGTTG', 'GATAGTAG', 'ATCAAATT', 'AAGGCACG', 'AGAAAGAG', 'ACATCCCG', 'CTACACTA', 'GCTTTGCA', 'AGTTCAGG', 'CTGACCCC', 'TCCATATC', 'GTCCGATA', 'TAGAATCT', 'TTTAGTGG', 'TTTCAAAA', 'TTATGCAC', 'TATTGAAC', 'TCCTTATG', 'CACTATCA', 'GGCATCGT', 'TATTAAAG', 'AGGTAATG', 'GAAATAAA', 'AACCATAC', 'ACTAGTCT', 'GAAAAGGG', 'ATTAACAT', 'CGAAAGTG', 'AGTTGATG', 'CATTTCCC', 'TCTTGAAA', 'TAAATTTT', 'GCAGATCA', 'TTAGCTTG', 'AATAGGTC', 'AAGGACTT', 'TGGACTGC', 'TTCATCGC', 'TTTGTCAT', 'TTGTCGTA', 'CGGCTTTT', 'GCGGGAAG', 'TTACTTAG', 'AAACTGAG', 'ATAGCCGC', 'GCGGTTTG', 'AATCCATA', 'GGCTTAAA', 'TCTCAATT', 'ATGTAAGA', 'TTTCCAAG', 'AACTTCTC', 'ATTATTAT', 'TCATAATG', 'AAAGAATT', 'TAAAAACG', 'AGCTGGTT', 'TTTGTATG', 'TACTTCAT', 'AACATTTA', 'TATATGCT', 'TTTCACTT', 'AATTTAAT', 'GACTCAGG', 'AACGTTAG', 'TTACTAAA', 'ATTAAAGA', 'AATAATTG', 'AGAGCATT', 'TTTCAATG', 'TTACATAT', 'CTATTTGA', 'ATCAGTAT', 'GCTATGCA', 'ATATTATG', 'TATATTAT', 'TATGAATT', 'TATTTAGC', 'CATTAATT', 'TTAACAAG', 'TATTATCA', 'GGTGAACT', 'TACTGCGG', 'CTAAATTC', 'ATAATATT', 'TCCTGCTT', 'TGGTTGAA', 'AATATATT', 'ATGACACC', 'AAGTAAGC', 'TGCCGTTG', 'CAGGCCCT', 'AGAAAGCC', 'TCTGTGGG', 'TTCTCTAT', 'CTGACATG', 'AGTAAGGT', 'ACTAACAC', 'TTTTCCCT', 'GCCATTGT', 'TTCAATTA', 'GCACATTG', 'GTGGGATA', 'TTATGCCA', 'ACCAGCTA', 'ATTTTAGT', 'GTAGTTGT', 'AGTTGTAC', 'TCCACAGT', 'CACATGTC', 'CAGTTCAC', 'AAATACAA', 'TGATATGA', 'TAGGTTTG', 'TCTGGAAA', 'GTAATTTT', 'TCAACGTA', 'GGTGCAGA', 'TGTGAGCC', 'AAATGTAG', 'CGATGCGT', 'TAGTGCAA', 'GTGCACCC', 'TTTGTGCT', 'GCATAAGT', 'GCGAGAGT', 'AGAGGAAA', 'TTTTATAT', 'AGTACCTA', 'GCTCTACA', 'GTAGGGCC', 'CAAAATTG', 'GGCCAGTT', 'TTCAGGTC', 'ATCCGCAC', 'CTACAGTA', 'CATTTGGG', 'CTTAGAAG', 'TATATCAA', 'ACGGCACA', 'GACGGGGT', 'AAAAAAAA', 'AAGTTCCA', 'TTCTCCCT', 'AGTACAGG', 'ACGCCTTT', 'TACGGTGC', 'TCTGAGAA', 'CACACACA', 'ATAGTGGA', 'AAAACCGA', 'TTTTTGTG', 'AATAACTG', 'CGTTGGAT', 'CTCATTGT', 'AAGCACCC', 'AATAACAC', 'TGGTGTCG', 'GCAGCAGT', 'GAAGGCGA', 'GGTGTGTG', 'GAAAGGAA', 'GGCGTTTC', 'ATATTATT', 'AATAATAC', 'CGTCGAAA', 'ACAGAATT', 'TGTATTTC', 'TTATATAT', 'CAGTTGGA', 'CCATACCA', 'ACAATATG', 'CCCCATTC', 'TCAAGATC', 'AGAAAAAG', 'CTGCGAAG', 'TTACATCT', 'TAGAGATT', 'GCATTGTG', 'AATCACTT', 'ATTTTAGA', 'GAGCTGGC', 'GCATTTCC', 'TATGAGAT', 'TTTTGAAC', 'AATTCGTT', 'ATTGTATG', 'AAGCTTTC', 'CTAGACTA', 'TGGATAAA', 'TACTCTTA', 'ACGAAATT', 'TCAGAGAG', 'AATGTTTA', 'TCAATGGT', 'ATACAAGA', 'ACAAGAAC', 'TTTCTTGA', 'TTAAGTAA', 'CATGTTTG', 'AGTATTGC', 'GCAAGCTT', 'AATACAAC', 'GGCCGAAA', 'TGCGGATT', 'ATTCTGCT', 'ATTGGAAG', 'TTGCTTCT', 'CTCAAGTA', 'GTGCAGCC', 'GCCATACC', 'TGGCTGAG', 'AACTTTTT', 'CGTTTTTA', 'AGCATCTC', 'CATCCTGC', 'AGAACAAA', 'ACGGGTAG', 'CTCCGGAG', 'CTACCCTA', 'TATTAAGA', 'AGTAGTCG', 'CTCTACCA', 'CAATCATG', 'GAAAGGCA', 'ATGGAGAG', 'TCCAACTT', 'GCTAATGA', 'AAAGATAA', 'CCGGTACA', 'GGTCTATA', 'ATATCGTA', 'ATATAAAT', 'TACAACAA', 'TGTGGAAG', 'TAAAATTA', 'TGGGTACT', 'GGGAACGG', 'CAGAGCTG', 'TCTCAGTG', 'TAGGACGA', 'AATACATT', 'AAACACAT', 'ATGAAAGG', 'ACACATAT', 'ATCCCCTC', 'TGCAAAAT', 'CATGCCGT', 'ACAGCTGC', 'AGAGAAGT', 'AATCTACT', 'AATAACTT', 'TTACACGC', 'CTGGGTCA', 'CAGAAACC', 'TTTCCTAA', 'TGGACTAG', 'CCATATGG', 'AAATTCCA', 'TTATAATA', 'ATCTAAAG', 'CACCAGAG', 'CCCATTCT', 'CTCATAGT', 'TACTGGGC', 'AAAAATAT', 'AGCTCAAA', 'CCCCATCC', 'AGAGAAAA', 'ACCAAACA', 'AGCTATTT', 'TCAGAAAC', 'TCATATAC', 'TAGTCATG', 'ACAGAGAA', 'AGGAAGGA', 'TATTTTTT', 'GTTTACAA', 'TTTCGGAG', 'TTGATTTA', 'CCTTTCTG', 'AAGAAATG', 'TTTTGCTC', 'AGAGATTA', 'AATAGAAA', 'GGTGAAAG', 'CGTCCCTT', 'ACAAGCCA', 'TATATACT', 'CCACCACA', 'GCCCCTTC', 'GCACTTTC', 'CCCACTTT', 'GGAATGAC', 'GATACACA', 'AAGAATGC', 'AGAAACTA', 'TGGAAATA', 'GGTAGAAA', 'CCAATTTA', 'TGGTTGCT', 'AGAACTCT', 'AAGAGAAA', 'TCTAAAAA', 'CTCTATTT', 'AGGGATGG', 'TCCTAAAA', 'ATCACAGA', 'CTAAGAAA', 'TTCCTCTT', 'TGTAAGGA', 'ATTGTAGA', 'TCACTTTT', 'ACTACTTG', 'CGGATGTA', 'AGAAAAGC', 'ATTTTCCG', 'TATTTAGT', 'CATAGGTC', 'CCTCACTA', 'CTTGCCCA', 'CATGATCT', 'ACAACATG', 'TGGGTGTT', 'CTACAACT', 'GTAGTTGG', 'TTGGGGGA', 'CCGAGGAA', 'GGAAAGGT', 'AAGAAAGT', 'TCAGAGTG', 'TTTGTTTT', 'AGAAAAGA', 'TTGCGGTT', 'CAAACCGT', 'AAAGCCGA', 'AAGTACAC', 'GGGAATTG', 'AAGGGTGA', 'TACATTGA', 'TTATTCAG', 'ATTTATTT', 'ATTTTTAC', 'ATTGCACC', 'AGGAGAAA', 'GTGAAAAC', 'CAGGCTTG', 'AGGGCATC', 'AAAATAGT', 'TCAAGCAT', 'AACAGCCC', 'CCTGTTTT', 'TATCACAT', 'CTTCCACC', 'GGGGGGGG', 'TGCCTGAT', 'TTGAAATA', 'TTTTCTAC', 'TTAGTCAA', 'GTTATTAT', 'TTTGCAAT', 'TATTTCAT', 'TTAAATCA', 'TATAATCT', 'TAAAGGCA', 'GATTATTG', 'AGTCTTCT', 'CGCGTTAA', 'CTAACACT', 'AATAATAA', 'GCTTCCAA', 'TTTTCTTT', 'GGGTAAGA', 'GGGGTGCA', 'GCAAGATT', 'ACAAGAGC', 'ATGGGAAA', 'CGTTGCAC', 'CGTAAAAA', 'CAGGAGCG', 'GTGCACAG', 'AAGGGGAA', 'GCCACACA', 'TTCTTAGT', 'TTGATTTC', 'CAACAAAG', 'TATAGCAG', 'ATCTGATT', 'ACGGGATC', 'GTAACACT', 'TGTAGAAG', 'TCTGCGAG', 'TGTGCTTT', 'GACTGGCA', 'TTTAACGG', 'GCAGTCTC', 'ACCACCAT', 'CCCTTACT', 'TTCCCTTG', 'ACCTCATC', 'TTTCTACT', 'GCAAGAAC', 'GCCTGCAC', 'CGAAACCT', 'AACTCTTA', 'AATCAAAT', 'AATCTTTG', 'CCTGGGTG', 'ACAAGGTT', 'AATTTTTA', 'ATACAGAA', 'ACACCAAG', 'TACCCACT', 'CTCAATTT', 'AGGTTTAT', 'AGAAACTC', 'GAAGTAAA', 'GAAGTTTT', 'AACGATGC', 'TGACTTTA', 'CACCCCAG', 'CAGCAGCT', 'GTATGGTT', 'TTAGAACT', 'CCAAAACC', 'CAAGGCAA', 'ACTTTCGT', 'CACCTACT', 'GGACAGCG', 'AAGTTAAA', 'CTACAAAT', 'CTGCTTGC', 'TAAAATCC', 'AATCTGTC', 'AGAGCTTA', 'ACAGCTAG', 'CTAGAAAT', 'TGACAAAA', 'CTTTGTAC', 'GTTTTACC', 'CTATTCCC', 'GCACCCGT', 'GGGTTGAT', 'ACTACCAA', 'CTTCGAAT', 'CTATATTG', 'GGTTTGAC', 'ATCAATAA', 'AATTCAGG', 'TTAAGTTA', 'GTGCATTT', 'ACTGTTCC', 'TAGCCCTC', 'TATATATT', 'CGGGTCAA', 'CATATCAG', 'TAATGATA', 'AGAATGAA', 'ATGACCAA', 'AAATTTCA', 'AGTATCAG', 'ATTTTTAT', 'ACATTTAA', 'CCTTGTTT', 'TTAAATAG', 'CATTTAAA', 'AATATTGA', 'CTACCAAT', 'CCACAAGC', 'ACTATATG', 'CAGCATTA', 'AATTTCAT', 'CTGTTAAA', 'AATGCTAA', 'TACATACA', 'AATTCATA', 'TAATTGAT', 'TAATGATA', 'TATACTAA', 'TAAATTAA', 'ATCATTAA', 'ATTGTATC', 'GCTTCAAT', 'GTGTATAT', 'ATGCCATA', 'TAATGTAG', 'AAATATAA', 'TGGCGAAA', 'TACTTCTT', 'CTCAATCG', 'AGTTGATT', 'TCTAGATC', 'ATTACCAC', 'CTGATAAA', 'TGCTAAGA', 'TACCTTAC', 'AGTGGTCA', 'CTTTGTTT', 'CATTCTTT', 'GAAGTCCT', 'ATAAAGGA', 'AGATCCGC', 'GTAGTCGC', 'CTGATAAC', 'AATATAAC', 'TATTAGAT', 'ACTAAAAG', 'AAAAATGA', 'GTGCGGGA', 'GTTTCTTC', 'TTGAGGAT', 'TTCTTATA', 'TGTCTTTG', 'ACTTTCCA', 'TTCTCAGG', 'GCCTTCTC', 'AGAAAAAA', 'TTTTCTTG', 'ATTTCTTT', 'CAGCCGAT', 'CACAACCA', 'CTGTCCAC', 'TTTTACAC', 'TGGTTGAT', 'TCCGTATA', 'CATTCGAC', 'AATGAGGC', 'AAACACAG', 'ACTTTTTA', 'AATCAGTC', 'GAATATTC', 'AAGGCTTA', 'TTCCGTGT', 'GTCAAAAA', 'CCGGTTTC', 'GGTGCTCA', 'GCGTGTCC', 'GATATATT', 'GTATATAG', 'CACACCCT', 'CTTCTATC', 'CTGTATTC', 'TTGGTAGC', 'GTTCTACT', 'ACCCAAAC', 'TAATCTCT', 'AAAAGTAT', 'CTGTTCTG', 'AACCCTCT', 'AAAATTTG', 'TCAATTTT', 'GTTGTGAG', 'TTTTTACA', 'CAATCATG', 'TTCGGGTG', 'AGACAGTT', 'CGACACCA', 'GGGACACT', 'CCTTCTGT', 'ATATATAT', 'ACAGCCAC', 'AAAGATAA', 'GAAATAAT', 'TCAACAAC', 'AAGCTAGG', 'TGTACCCG', 'GACCGTAA', 'ATGTCCGG', 'ACGGGGGT', 'ACCATACT', 'TGTGTGTG', 'AGTAAATT', 'TTCGACGG', 'TGAAATCC', 'TAGCTATG', 'GGCGGAGA', 'AATCTATG', 'ACAATGCC', 'ATTTGAGT', 'GTTGTAAC', 'TTTGCTTT', 'TTTAGTTA', 'ACAATACG', 'TTTTATTT', 'TACCATTC', 'TGCACCTC', 'GTGTCCAA', 'CACCCAAC', 'ATTGTTTA', 'GTTATCTC', 'GGTTCTCG', 'GGATATTG', 'TTGAAGGT', 'GTTTTTCC', 'AAAATATC', 'GATCCTGG', 'GTACATGG', 'AGAAAAAG', 'CTAAGAAG', 'GCAGCATG', 'TTTAAACT', 'TTTGGTCA', 'TCCACACA', 'ATGGTTGG', 'AGACTATT', 'CAGGTTGA', 'AATAAAAC', 'CTTGCTAT', 'AAAAAGAA', 'TGGTATGG', 'AGGGCACA', 'TGAAAAAT', 'GCAATATA', 'CTATGTAT', 'CTTTGCTA', 'TTTTTTCA', 'AAAGGAAC', 'ATCTCTCC', 'GTGCAACA', 'GCTATTCC', 'TGCTTACG', 'GGCGTCTT', 'TGTTCGAG', 'TGACTCTT', 'GGCAGTGC', 'ATTGACAC', 'ATAAATAC', 'AACGTAAC', 'CCTAAACC', 'CTGTTCTA', 'AACTTCTC', 'ATCTATCA', 'TTTGGAAA', 'ATGATAAA', 'TAATTTTA', 'AAGTACCC', 'ATGTATTG', 'CTCTGCCA', 'ACTGAGAA', 'TTATAGTA', 'AAAAAGGT', 'GCAGCAGG', 'TTTCATCC', 'ACATGGTC', 'TCAATATT', 'GGCAATTT', 'ATGCCGTT', 'TTTCGTTT', 'TTTATCGA', 'GAGTTTGT', 'TTCAAATG', 'AAACATTT', 'TAACAACC', 'TCCTAACA', 'TATTATCA', 'CAAACTTC', 'AAGCAAAC', 'GTACCTAA', 'TAACAACA', 'CTTGACAC', 'CAGTAGTA', 'CTACGAAA', 'ATTTGATA', 'GCCCAGTA', 'CCCTCTTG', 'GAATTTTT', 'TTCTGTGT', 'CAAAGCGG', 'ATCCATGT', 'GAAAATAG', 'GTCAGTCT', 'GTGGATAT', 'TCAAAACT', 'TGCGTGAA', 'AACACAGA', 'TTACTTCA', 'ACGTACTC', 'GAAATCAC', 'TGCACCTA', 'GATCACAT', 'TTTCAAAA', 'CCCAAAGG', 'TTTCATGA', 'ACTTTCCT', 'GTGAATAG', 'AACGTTAT', 'AGGGGAAC', 'TTCTGATC', 'ACTAAGTT', 'TGTTGTGT', 'TGCTAATA', 'ATGAAAGT', 'TTTTGACG', 'TGTTAAAC', 'TCATAACA', 'GTTTCTAC', 'TTTAACAC', 'TTGTCATC', 'GATCAGTA', 'CAATAAAA', 'TCCTTTAT', 'TACAACTT', 'TTCTCAAA', 'CAAAATAG', 'AAAATATC', 'AGGAATCG', 'TTTAAATT', 'CTTAGGGG', 'TGACAAAG', 'AAAGATTA', 'GACAACAC', 'CTATACGT', 'GGATATTC', 'CTTTACAT', 'CTCTTCTC', 'GCAGGTTC', 'CTACTAAA', 'CTTAGAGT', 'CACTAATG', 'AGATGGAC', 'TGTTCTAG', 'AAAGCCGT', 'CTCATCTG', 'TCCAACGA', 'ACCCACAA', 'CCAGGTCC', 'GTTCGCTC', 'ACAAAATT', 'TCTTATCT', 'CATGGCGA', 'AAGGTAGC', 'CTTCGCCT', 'CAAAACCG', 'AGTAGGTC', 'TCCACTTT', 'TTCCTTTT', 'TTGTTTAT', 'TGGCTGAT', 'AGAACCAA', 'AGCCTGAA', 'GTCAGAAA', 'CGCATTTG', 'ATACAAAA', 'ACTTTCTC', 'GGGACTTA', 'TCTCTGCC', 'GTAATCAA', 'TACACACA', 'AATAGTGA', 'TGCTGCAT', 'ACCCGCAT', 'AAAGAAAG', 'TATGTATC', 'AGCCTTCC', 'CTCCTCTG', 'GGTGCGAT', 'GCCCTACC', 'CTGCACCG', 'AGTTGAGC', 'CATATTGC', 'GCATGAGC', 'ATAGCGCA', 'GACAGATT', 'AGAAGGCG', 'AGGCACTA', 'GATTTGGA', 'TAGGCTTA', 'GTTAGTAT', 'TTATTATT', 'AGACGATC', 'ATGAATAA', 'AGGATCTT', 'CCAGATTG', 'CATCTTTC', 'TGTCTTTG', 'GACATTTT', 'CACAGTGT', 'TCTTTCAC', 'TCCGTACT', 'CCTTTTTG', 'CGTTTAGC', 'CCTCTTAC', 'AGAAAGAG']\n",
      "['TTTGGTCT', 'GAATGAGT', 'ACAGAAGT', 'TTTGCTCT', 'TGCAATTT', 'GGTTTTCT', 'CTTTTGCT', 'CATTCTTT', 'GACCCAGG', 'CCTGAATG', 'TACCCGGC', 'TGGGGGGA', 'CATGGTGG', 'CAGAGGCC', 'ATATTTCC', 'GGATGAGG', 'TCCAATAA', 'TTACGTTA', 'TGGGATAT', 'GAAAAAGA', 'GGGAAAGC', 'TGATTTGA', 'AGATTACG', 'TGCACCCA', 'GGATAAGC', 'TTTCCATA', 'ACTTGAAA', 'TGGTACAT', 'AGTCCTTC', 'TAGTAGAA', 'AGGCAGTA', 'CTCCTATT', 'AATCCTGA', 'AAAAGGAA', 'AAGGCCTT', 'CCGTGGGA', 'TGCTCTGG', 'TGTATGAA', 'TGCTGCTT', 'AAACTCTA', 'GTACCGAC', 'ACAAATAT', 'CTATAGGG', 'TATAGGGT', 'CTTGCAAA', 'GACGGTAA', 'TTTGTAGT', 'CTATTGCA', 'ATTAATTT', 'ACTATCTT', 'GCCAACAA', 'GAAATTTA', 'CTCAACCC', 'CCTCAAGT', 'GGTCACGT', 'ATGTTTTC', 'CTAAGAAA', 'AGCATTCG', 'GGAAGAGG', 'GGCTTCCA', 'GGAATATT', 'ATATGTGC', 'CTACCAAG', 'TTAGATGA', 'TTCCTGAA', 'GAAGATAT', 'AAAATGCA', 'TAACCAAA', 'ATAAAATT', 'TTATAATA', 'TGACAAGA', 'ATGAAAGA', 'TATCATTA', 'CTTTGAAG', 'TATATTTT', 'TATATGCT', 'TATTTCAC', 'TATAGATA', 'GTATACCG', 'GCAAAAAT', 'GTGAACTC', 'ATATTAAA', 'ATTTATTA', 'GCTCAATT', 'ATGGTAGA', 'TTCTTGTG', 'TTTTGTAA', 'ATAATTAT', 'ATTTTTAT', 'CATCAGTA', 'GGTTTATA', 'AGAATTAG', 'TAGCAGGT', 'ATTAATTG', 'AACAAGTG', 'AGAAAAGG', 'ATGAATAT', 'TGCGGTGT', 'TATCATTA', 'ATTAAGAA', 'TCTGATTA', 'TACATTAG', 'AATACTTG', 'GAACCACA', 'AACTACTC', 'AACGATAT', 'ACCGCCTA', 'TCGCTGAT', 'TTAGTGGT', 'TTCTCTAT', 'TAGCAGCA', 'ATACTAAT', 'CTAACTGA', 'TTGACTGC', 'CTGCACCC', 'GGAGGATT', 'GTGGTTTG', 'GGCAAAAA', 'CCGAACTG', 'TGGCTAAT', 'ATTTTAGT', 'GGTAGTTG', 'CAATTGAT', 'TCGGAAGA', 'GGAACTTC', 'CCACGAAG', 'TCTAATGA', 'TGCTCTCA', 'GACAATTA', 'GAAAGTTA', 'GATAAGGG', 'CTTAAGAG', 'AGCTTTCC', 'CCAAGAAG', 'CTTGACAC', 'CTGGGTGA', 'CAATGGGC', 'CACCCAAA', 'ATATATAT', 'AACCTTGT', 'GAGACATG', 'CTATCAAT', 'TGCTTTTT', 'CAGACGTT', 'AGAAGCTA', 'ACTGATTT', 'AGATGAGG', 'AATGGTCA', 'AGTCTTAC', 'ATCATCCG', 'AACCGGGA', 'TGCAAAGA', 'AGGGGGAC', 'AAAACACG', 'CCCCCCGT', 'CGGGGTGG', 'TACGAAGA', 'AGAATACA', 'TTTTTTAC', 'AAGTGTAG', 'ACAAAAAA', 'GTACAAAA', 'TTTTGCAC', 'AGTCCTAG', 'GGATAGTG', 'ATTTTGAC', 'CATGACTT', 'CTCTATCA', 'ATATAACC', 'ATTTATAT', 'ATAACAGA', 'TGGTATAG', 'GTCGGCCG', 'CACTTCGC', 'TCTTTCGG', 'GGGACAAG', 'AAAGAAAG', 'GCTAATGA', 'TGATTCAC', 'ACATAATG', 'ATGCAGAT', 'GGCACCGA', 'CGGTCTAC', 'ATATTTGG', 'TCCACCCC', 'ATAATATA', 'CACACACA', 'CTTTTTTT', 'ATTTTTTT', 'TCGGATTT', 'AACTTACA', 'TGTTTTTA', 'AGCATAGA', 'CAGAGAGA', 'TAGTGGGC', 'ACTTAGAA', 'AACTTGCT', 'AAAGTTTG', 'GTATTGTT', 'ATAAAATA', 'CCGAACTA', 'AAAGGCAG', 'GTAATATA', 'CATCGCAA', 'ATGCGCTG', 'TGAAGAGA', 'CCCCCTGG', 'ATAAGATG', 'GAAAGTAA', 'ATCACGGA', 'ATACTCCT', 'GGATCAAT', 'TTTCATCC', 'AAGTAGTG', 'GTCATGTT', 'AAAACTAT', 'AGCTTGAT', 'CTGACCAA', 'GATACTCA', 'TTTTCCCT', 'TGTGCTGA', 'AGCGTTTT', 'CTTCTTTG', 'TCCATAGT', 'CAGCCTGT', 'CTAAAACA', 'TTTCCAAG', 'TTCACTTT', 'CAGATAAA', 'TGAGCCTG', 'TTGTATAA', 'GAGAGTAC', 'GTAATAAA', 'TCTTCTAC', 'TCTGTGCT', 'GAACAAAA', 'TTCGCTAA', 'TCTACCAT', 'ATAAATGC', 'AAAGAGAG', 'AACAGCAA', 'CATGTTCA', 'TGTATTAT', 'TAATTAAT', 'AATGTGGT', 'AATAATGC', 'TCGTACAT', 'AAGGTTAT', 'GCTCTTTA', 'TTAGAAAA', 'ATTAAAAA', 'TTTCGTTA', 'TGTGATTC', 'CTTGTGCG', 'CGTGTGAC', 'ACTATAAT', 'TTGAGGCA', 'GGGCGCTT', 'AAAGGGAA', 'GTGTTTGA', 'TGGAAGAT', 'AAATGCCT', 'AAAAGAAT', 'CACCCAGA', 'ACAGGAAC', 'TGTACGAC', 'AATTGACC', 'TTGCACAC', 'CAGACGTT', 'ACACCCCC', 'AATATCGT', 'GAAGTTTG', 'CTATTTAA', 'ATATTTGT', 'GCCGTTAT', 'TATCTATG', 'GAACCACC', 'CACTTATT', 'CAGTATTG', 'TAGTACTG', 'AATTTCAA', 'AATTCCAG', 'AAATACAG', 'CAGAAACC', 'ACAAAAAC', 'TTCTATTT', 'ACTGACAC', 'GCATTATT', 'GTGTAGTT', 'GCTCCTCG', 'AGGAAGGA', 'AAAGAGAT', 'GTGTGTGT', 'GCTGACGT', 'ATGATTGT', 'ACGCAAAG', 'AAGATGAA', 'GTGTATGA', 'TTACGGAA', 'AACTTAAG', 'GGTGGTGG', 'TTCATATG', 'CCAGTGAG', 'TTGATCAG', 'ACATTCAT', 'AGTACACA', 'TGCATAAG', 'CTAATTTA', 'TATCTAGC', 'GTATGATA', 'GATGTTAC', 'AGTAGAAA', 'GGAGGGAA', 'GATGATAA', 'CTAAATCC', 'TTTCCTGT', 'TTCGAAGA', 'GTTTCTGA', 'GCTGCAAA', 'TTTTTTTT', 'TGGATAAT', 'TTAAGACG', 'ACAGAAGA', 'AAGCATCC', 'TTGATCTC', 'TAAGGAGG', 'GTAAGAAA', 'TGATGTGA', 'GAGAATAT', 'AAGATGTA', 'GAAGAGCA', 'GGTCTCGG', 'GTTGGGCA', 'GGACACCC', 'TTTACTCT', 'CCTTGCCC', 'TACCATGA', 'CTTATGCT', 'GGGTGTTG', 'ACTTCTGA', 'TTTGTTAC', 'ATTACTTG', 'CAGGTGAT', 'TGGGAAAG', 'ACAAGATA', 'AGAGTGTG', 'CGCTTTTT', 'AAAGCGTG', 'ATCAATTA', 'AAACCGTT', 'AAAAGCAA', 'AGAAGACG', 'ACGGCGCT', 'TAATCAGC', 'TTATTGCA', 'TTTTAACC', 'TATTTCAG', 'GTACAAAT', 'TTTAACTT', 'GAAAGTGA', 'CATTTGTC', 'GGTCTAAA', 'CGATGAGG', 'AGCTAAAT', 'AGCTACTG', 'TGTACTAC', 'TCACCTAT', 'TCTTTTTC', 'GAGAAAAC', 'CTTAGACA', 'CATCGTGC', 'CAAAAGCA', 'AAAAATAT', 'ATCCTCCA', 'TACCATCT', 'GATGAAGA', 'TATCACTT', 'AATTTAAA', 'AAGTATAA', 'TGAAGAAA', 'GTTTAACA', 'AAGTCTTC', 'CTAATTTA', 'AAATTATG', 'TATAATAT', 'GAACTAAA', 'TTACTTTC', 'GATCCTGT', 'ATCTGGGG', 'TGCAAGAT', 'TCTGTACG', 'AGAAAATG', 'CTGTGTAA', 'GTGAAAGA', 'CCCTGTAA', 'AAACCAAA', 'CTTTGAGA', 'CTTTCAAA', 'TCTACGCT', 'AGACCAAA', 'ATTCACTC', 'AACGAGTG', 'CTTTGAAG', 'AAATTGCA', 'CAGAAAGA', 'AAGTTCAC', 'CACGGTAT', 'ACTGTGCT', 'TCCGGCCC', 'TGTTCAAT', 'TGTGTGCA', 'CTTCCCGA', 'GGCATGGT', 'AATTGCAC', 'ACTACGGG', 'CATCCAGA', 'TGCGCGGT', 'TAAGCATT', 'TTCTACTC', 'TAACTCTT', 'AGAGGGAT', 'AGCGTTGC', 'CTGAACTC', 'ATGCCAGT', 'TATGGAAA', 'TTGGTGGT', 'GTGAATTT', 'ATCTGCTT', 'GTTGTATA', 'CTGCCTTA', 'TAAACCTA', 'AAAAGATA', 'ATTTAGGT', 'TGCAGAAA', 'TCTTCTTT', 'GCTCTGCA', 'CAGCAGCT', 'ACTCTGGA', 'TTTGGAAC', 'AGACATAT', 'CACCGTAA', 'TTATTCAT', 'AATGACAA', 'AGAGAGAA', 'CAATAAAT', 'CATTTCGT', 'ATGCAAAA', 'AATTGGCT', 'CATGTTAT', 'TCGGCAAT', 'ATTCAGCA', 'CGATGAAT', 'AGGGAGAA', 'ACCACACT', 'TAAATCTA', 'CGAGTCGC', 'GCGCTCCC', 'TTCTCCGG', 'GACTGGAA', 'TGATGTAC', 'TTTTTTAT', 'ATTGTTAC', 'ATGAAATC', 'TCTTACAT', 'TATCTTCA', 'GTCGGCTA', 'ATTTTGGT', 'TATTAATT', 'TAATTAAT', 'AAGATCAT', 'GAAAACCA', 'ATGAAAAT', 'AAGTATTG', 'AATCCAGG', 'GGTTTTTT', 'TAGCAGAA', 'ATTAAATT', 'CACCTTCA', 'TCTTTATT', 'ATATATTA', 'CACCATTT', 'TAAATAAT', 'AAAACGAA', 'GTTATATT', 'AGAATCGA', 'AAGCAGCA', 'ATAATTAT', 'CATAGCCA', 'GCATGCAT', 'AATATAAA', 'CCATAGTT', 'TAAAACAG', 'ATTACCAA', 'CTAAATCA', 'ACCTTTTC', 'ACCATTAT', 'ACTGAAGT', 'AGGTAATG', 'TATATATA', 'TAAAGCAG', 'TAACTAAA', 'AAAAATAT', 'AGGTAGTC', 'AAACTACA', 'TCAATCGG', 'CACAACAG', 'ATTACTGC', 'GATTACCA', 'CTGCCCAA', 'TTTTCACC', 'AGTATTAA', 'CAAATTCA', 'AATGTCTA', 'CAGCTTCT', 'TCAAAAGT', 'AAGGACTT', 'TGAAGTAA', 'AGTTCGGG', 'TCGGATTA', 'GCCAGAGT', 'AGTACAAC', 'AAAGTACA', 'AATTGGGT', 'TCAGTGAC', 'ACAGTGAA', 'TTGTTTCA', 'CTGAGAGC', 'AAGAGAGA', 'GAATATTT', 'GGTAAAAG', 'TTTTTGCC', 'AGAAAAAG', 'TTTCTCAC', 'AACGGCTA', 'CCACCTCA', 'TACCTCGC', 'CAAAGCTC', 'CCTATATT', 'GCTAAGTC', 'ACATGTTG', 'CGACATAG', 'TTTTGGTA', 'TGGTATCA', 'GCAATTCA', 'TCTCTCTT', 'ATATTCGG', 'ACAACTGG', 'TGTCGAAG', 'TCGTGCGG', 'GGAACAAG', 'CAATTTTA', 'GCTCCTTC', 'CGGCTCTC', 'GGTGCTTT', 'CCCCGTCC', 'CCTTTCTT', 'CTGTGCAC', 'GGGAGGGA', 'AGATCGTC', 'GTAAGATA', 'ACCGTAAT', 'ACTGCGTC', 'TGTCCGGT', 'TCATCCAC', 'CCTTTTTT', 'CTTCAATT', 'CCAGTTAT', 'ATTGGAGG', 'CATTTGTC', 'AGCTCATT', 'CTTCTATA', 'GACACCAC', 'GCTTTCCT', 'ACTATAGA', 'GGCTGATG', 'CACTATGC', 'TGTTGTTA', 'GTTAGCTT', 'CGCCATTA', 'TATATCTG', 'CCAATGTC', 'ACAAAACT', 'CGGTATGT', 'GAAGGTGC', 'TAGTATAG', 'GTGTAGTC', 'GGGGTGCA', 'TTCGGGAT', 'CTCGCTCA', 'TGCTATGT', 'TTACGTAT', 'GGTGCCCT', 'CGATCTCT', 'ATTAACCG', 'CCAGTTGT', 'ACTTAGTG', 'ATTAATTA', 'TCATACTA', 'CTCAATGA', 'ATCGGTGT', 'TATACATA', 'TCAAATTG', 'TCACCCAA', 'GCGCATAG', 'TCTCTTCA', 'GAATTTCG', 'GGTTGAAT', 'AACATTTG', 'CAGAAAAT', 'ATGCCAAG', 'CTGCTAAC', 'ATTCAAGA', 'CAGGATAG', 'TTCTAAGA', 'GGTGCAAT', 'TTAAACTT', 'GGTTGTAT', 'GCCAATTG', 'TATTTCCT', 'TTCCTGGA', 'GCCAGGTT', 'TGAGCAAA', 'TATAGTAC', 'AGAACATT', 'CTAATTTG', 'TCCAACTT', 'AAAAATAT', 'AACGAGAA', 'GTTGTTCA', 'TGGCAATA', 'GGTGTTGC', 'AGTATTAA', 'TTTAGGTA', 'GCCATTTC', 'TGGGAAAA', 'GGAGGCTA', 'TTTCATGG', 'ACTGTTGT', 'TGTGGTAT', 'TGTTTACC', 'ATACCTCT', 'ATACACAA', 'TTTTCATC', 'AAACCTAT', 'TATCAACT', 'CCGTAAAA', 'TTTATATA', 'GGAAAAAT', 'TTTCAAAT', 'TTTCCATT', 'AGATGAGG', 'TCCCGTTC', 'TGTTGCTG', 'AGACACTC', 'ATTATAGT', 'GGTGGGGG', 'AGGGCCAA', 'AGTATAAC', 'CGCCACGT', 'TCTTCCAA', 'GTCCCAGA', 'ATGCCGTT', 'GTACGGGT', 'TTTTGGTT', 'TGCACGGG', 'GAACAAGT', 'TTAACCAA', 'GTCAATAG', 'TTCACTGT', 'AATACACC', 'GAAAACCT', 'TGTGATAG', 'CCCTCCGT', 'ACTCTTAT', 'TGACACAA', 'CTGGTGGT', 'GAAATAAG', 'ATAAGCTT', 'ATTCATGC', 'TATTTTTT', 'TGAGCTAG', 'TGTGTTTC', 'TCTCTTTC', 'TTGGTCAA', 'TAGCTCAA', 'TGCCAGTG', 'AATAGTAC', 'ACATAAAA', 'AGCTAGCC', 'TCTTCCTT', 'TCATCTCT', 'CAGAAATT', 'TCCCCTCC', 'ACAATCAT', 'GTCCGGCG', 'TCTTTCAA', 'TCTAGGTC', 'TTTTCCGT', 'AAGTTTAC', 'ACCACCTT', 'TATAGAAA', 'ATCCTCAC', 'GTAAATAG', 'AATAATAG', 'TCCGGGTG', 'GTGTCACT', 'TAAATTAG', 'GATGTCGT', 'TAGCTGAA', 'TGATGTAA', 'GTAGTAGT', 'GAAATATT', 'CAAAGTAC', 'TTCAATAA', 'AGGGACAC', 'ATTAAAAA', 'CCCTAGTA', 'TAAAGGTT', 'AAAATAGA', 'CAAAATAT', 'TCTCTCCT', 'TGCTGTGT', 'CAGGATGC', 'ATCAAGGC', 'AGATTAGC', 'TGATTTTT', 'AAAAGCAA', 'AGAGGGTT', 'CCCTACAT', 'ATGCTCTT', 'CAGGGACG', 'AGCTCCTG', 'CCAGTACA', 'ATGGCCTA', 'AAGATGGG', 'GGTATGTT', 'TAGCATAA', 'AACTTACA', 'GAGGAAAA', 'AGTGTTCG', 'AAGCACAT', 'TTTCCTCG', 'TTACCTTT', 'AGTCCTTT', 'CTCTGATA', 'AATGAAGG', 'GCACTATG', 'GTTAAAAT', 'GGTTTGAG', 'TTCTATCC', 'TCTATACA', 'TCCCAATT', 'CTGCCTGA', 'ATTTATTT', 'GAAAAAGC', 'TGAAATTT', 'GACTGAAC', 'GAGTAAGC', 'ACGGCACC', 'ATGGTACA', 'GCCTGTTC', 'CAGAGATG', 'ACACACAT', 'CGTGCAGT', 'ACAATGAA', 'CTATTTGA', 'TCGATCCG', 'GGTTTTCT', 'AAACACCA', 'GAAATTTC', 'ACAGGTGC', 'ACTACGGA', 'CTGGTACT', 'ATAACTAA', 'TTCATCCA', 'ATTTTGGC', 'TAGTTTCT', 'TTTGTCTC', 'TACTAAGA', 'GCGCGTTG', 'CTTATAGT', 'GACCAGCA', 'GGTGTAAA', 'TTGTTATG', 'AAAAAGTG', 'TTGGAAGT', 'CCCGGGGA', 'GCACCCCT', 'CTCTCTAC', 'GATAGTCC', 'ATGAGAAG', 'GTTGCTAC', 'TTTTTACG', 'AGTGTTCC', 'TTTGGGTG', 'GCTATTCA', 'TGTGGCAG', 'ACTAAGAA']\n"
     ]
    }
   ],
   "source": [
    "k=8\n",
    "n=80\n",
    "\n",
    "def readFasta(genome, n):\n",
    "    sequence = []\n",
    "    file = open(genome, \"r\")\n",
    "    sequence = []\n",
    "    for s in file:\n",
    "        if s[0] != \">\":\n",
    "            sequence.append(s.strip().upper())\n",
    "    sequenceStr = \"\".join(sequence)\n",
    "    #sequence = [sequenceStr]\n",
    "    sequence = [sequenceStr[i:i+n] for i in range(0, len(sequenceStr), n)]\n",
    "    sequenceRet = [x for x in sequence if x]\n",
    "    return sequenceRet\n",
    "\n",
    "genome = \"Sequence_by_Peaks_1.fasta\"\n",
    "\n",
    "sequencesChip   = readFasta(genome, n)\n",
    "t = len(sequencesChip)\n",
    "#print (sequencesChip[8], t, k)\n",
    "revSequences = [reverseComplement(m) for m in sequencesChip]\n",
    "\n",
    "sequencesChip = sequencesChip + revSequences\n",
    "#print(sequencesChip)\n",
    "s, consensus = GreedyProfileMotifSearchIte(sequencesChip, k, 20)\n",
    "printTopFMotifsScore(consensus, 10)\n"
   ]
  },
  {
   "cell_type": "code",
   "execution_count": null,
   "metadata": {},
   "outputs": [],
   "source": []
  }
 ],
 "metadata": {
  "celltoolbar": "Raw Cell Format",
  "colab": {
   "provenance": []
  },
  "kernelspec": {
   "display_name": "Python 3 (ipykernel)",
   "language": "python",
   "name": "python3"
  },
  "language_info": {
   "codemirror_mode": {
    "name": "ipython",
    "version": 3
   },
   "file_extension": ".py",
   "mimetype": "text/x-python",
   "name": "python",
   "nbconvert_exporter": "python",
   "pygments_lexer": "ipython3",
   "version": "3.11.2"
  }
 },
 "nbformat": 4,
 "nbformat_minor": 1
}
