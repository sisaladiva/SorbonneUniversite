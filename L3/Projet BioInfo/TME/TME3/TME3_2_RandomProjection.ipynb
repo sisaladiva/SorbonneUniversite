{
 "cells": [
  {
   "cell_type": "markdown",
   "metadata": {
    "id": "981-NdKA_huf"
   },
   "source": [
    "# TME 3.2: Projet Detection de motifs\n",
    "\n",
    "\n",
    "## Recheche de pattern (motifs) en utilisant les algoritmes randomisés\n",
    "\n",
    "Les algorithmes randomisés prendre des décisions aléatoire plutôt que déterministes.\n",
    "l'algorithme s'exécute différemment à chaque fois. Ils sont couramment utilisés dans situations où aucun algorithme exact et rapide est connu. Nous allons d'abord implémenter l'algorithm random Projections.\n"
   ]
  },
  {
   "cell_type": "markdown",
   "metadata": {
    "id": "5z3a_1W0_huk"
   },
   "source": [
    "1\\.  Nous allons réutiliser les fonctions du precedent pour générer t séquences artificielles de taille n, et implanter dans chaque séquence un motif de taille k à des positions aléatoires avec v substitutions choisies aléatoirement. Nous allons faire varier le motifs dans 50% de cas."
   ]
  },
  {
   "cell_type": "code",
   "execution_count": 2,
   "metadata": {
    "id": "6UbcF5N2_hul"
   },
   "outputs": [],
   "source": [
    "import random\n",
    "import numpy as np\n",
    "\n",
    "nuc = ('A', 'C', 'G', 'T')\n",
    "\n",
    "k=5 #taille de motif\n",
    "v=1 #nb de positions variable dans le motif\n",
    "t=3 #nb de sequences\n",
    "n=10 #longuer des sequence\n",
    "f= 0.5 #frequence de variation du motif.\n"
   ]
  },
  {
   "cell_type": "code",
   "execution_count": 3,
   "metadata": {
    "id": "IplKLaGL_hun"
   },
   "outputs": [
    {
     "name": "stdout",
     "output_type": "stream",
     "text": [
      "CTg\n",
      "Motif à implanté dans 50% des cas:  ggact\n",
      "['TggacgTCGG', 'CCCggactGG', 'CATggactGT']\n",
      "['TGGACGTCGG', 'CCCGGACTGG', 'CATGGACTGT']\n"
     ]
    }
   ],
   "source": [
    "from math import floor\n",
    "\n",
    "def insertMotif(sequence, motif, position):\n",
    "    return sequence[:position] + motif + sequence[position:]\n",
    "\n",
    "def generateRandomSequence(n, upper=True):\n",
    "    \"\"\"\n",
    "    Génère une séquence nucléotidique aléatoire \n",
    "    entrée n : longueur de la sequence\n",
    "    entrée upper : bool, si True les nucléotides seront en majuscule, False minuscule\n",
    "    sortie sequence : une séquence nucléotidique aléatoire \n",
    "    \"\"\"\n",
    "    sequence = \"\"\n",
    "    \n",
    "    for i in range (n):\n",
    "        tmp=random.choice(nuc)\n",
    "        sequence =sequence+tmp\n",
    "        \n",
    "    if upper== False:\n",
    "        sequence= sequence.lower()\n",
    "    return sequence\n",
    "\n",
    "\n",
    "def modifierMotif(motif, nbpos,  upper=True):\n",
    "    \"\"\"\n",
    "    Modifie nbpos positions d'un motif aléatoirement \n",
    "    entrée motif: motif à modifier\n",
    "    entrée nbpos: nombre de positions\n",
    "    entrée upper : bool, si True les nucléotides modifiés seront majuscule, False minuscule\n",
    "    sortie motifM: motif modifié\n",
    "    \"\"\"\n",
    "    motifM = list(motif)\n",
    "    tmp=''\n",
    "    randind=0\n",
    "    up=upper\n",
    "    \n",
    "    listIndDéjaMODIF=[]\n",
    "    \n",
    "    for pos in range(nbpos): #On modifie autant de position possible que la taille du motif le permet \n",
    "        if pos < len(motifM)-1:\n",
    "            #Tirer un caractere aléatoire tmp parmi atgc et l'insérer à la posiion randind choisie aléatoirement \n",
    "            tmp = generateRandomSequence(1, up)\n",
    "            randind= random.randint(0, len(motif)-1)\n",
    "            \n",
    "            #Pour ne pas modifier à 2 reprises à un meme indice\n",
    "            if randind in listIndDéjaMODIF: #On doit tirer un nouvel indice aléatoirevement\n",
    "                \n",
    "                indConnue = True\n",
    "                while indConnue:\n",
    "                    randind= random.randint(0, len(motif)-1)\n",
    "                    if randind not in listIndDéjaMODIF:\n",
    "                        indConnue = False\n",
    "            \n",
    "            #Modification à la position choisit aléatoirement\n",
    "            motifM[randind]=tmp\n",
    "            listIndDéjaMODIF.append(randind)\n",
    "        \n",
    "    return \"\".join(motifM)\n",
    "\n",
    "#tester modifMotif\n",
    "print (modifierMotif(\"acg\", 2))\n",
    "\n",
    "\n",
    "def implantMotifVar(k, v, t, n, f):\n",
    "    \"\"\"\n",
    "    Génère des séquences aléatoires et les implante des motifs variables (un motif par séquence)\n",
    "    entrée k: taille du motif\n",
    "    entrée v: nombre de variations\n",
    "    entrée t : nombre de séquences \n",
    "    entrée n : longueur des séquences\n",
    "    entrée f : frequence de variation du motif.\n",
    "    sortie DNA : matrice de dimension txn avec les motifs implantés\n",
    "    REMARQUE : La taille totale des séquences plus motif doit être égal à t, pensez à générer de séquence aléatoire de taille t-k pour pouvoir implanter un motif de taille k\n",
    "    \"\"\"\n",
    "    sequences = []\n",
    "    motifRand=generateRandomSequence(k,False)\n",
    "    print('Motif à implanté dans 50% des cas: ',motifRand)\n",
    "    motifTMP=''\n",
    "    seqTPM=''\n",
    "    tailleSeqSanMotifImplanté = n-k\n",
    "    positionRand=random.randint(0,tailleSeqSanMotifImplanté)\n",
    "    \n",
    "    #Détermine nb de séquence pour lesquelles le motif implanté ne doit pas varier, dans f des cas le motif ne doit varier\n",
    "    SeqAvecVarDeMotif= floor(f*t) #Partie entiére inférieure \n",
    "    Compteur=0\n",
    "    \n",
    "    for sep in range(t): #Création des séquences avec le motif générer qui varie de v base et pour une fréquence f\n",
    "        seqTPM=generateRandomSequence(tailleSeqSanMotifImplanté,True) #Sequence en majuscule\n",
    "        \n",
    "        #Choix du motif\n",
    "        if Compteur == SeqAvecVarDeMotif: \n",
    "            #Stop l'insertion de Motif avec variation\n",
    "            motifTMP=motifRand\n",
    "        else: \n",
    "            motifTMP= modifierMotif (motifRand,v,False)        #Motif en minuscule\n",
    "            Compteur = Compteur+1\n",
    "        \n",
    "        #Insertion du motif dans la seq et ajout à la liste résultante cad la matrice\n",
    "        seqTPM= insertMotif(seqTPM, motifTMP, positionRand)\n",
    "        sequences.append(seqTPM) #list(seqTPM)\n",
    "    \n",
    "        #Initialisation d'une position pour insérer motif de la prochaine séquence \n",
    "        positionRand=random.randint(0,tailleSeqSanMotifImplanté) \n",
    "        \n",
    "    return sequences\n",
    "\n",
    "adn = implantMotifVar(k, v, t, n, f)\n",
    "print (adn)\n",
    "\n",
    "adn  = [s.upper() for s in adn]\n",
    "print (adn)"
   ]
  },
  {
   "cell_type": "markdown",
   "metadata": {
    "id": "UO-2rHmt_hu3"
   },
   "source": [
    "2\\. Nous allons implémenter l'algorithme ``randomProjection``. D'abord, faites la fonction `getRandomFixePositions` pour générer une projection de p à k, voir un exemple dans les slides de cours. Faire aussi la fonction `generateKey` qui extrait les caractères du motif puis génère une cle qui représente la projection."
   ]
  },
  {
   "cell_type": "code",
   "execution_count": 4,
   "metadata": {
    "id": "72rT-OkS_hu3"
   },
   "outputs": [
    {
     "name": "stdout",
     "output_type": "stream",
     "text": [
      "[2, 4, 5, 6]\n",
      "2456\n"
     ]
    }
   ],
   "source": [
    "def getRandomFixePositions(p, k):\n",
    "    \"\"\"\n",
    "    Genere une projection de p vers k\n",
    "    entrée p: nombre de positions choisi pour la projection \n",
    "    entrée k: nombre de positions du motif original\n",
    "    sortie projection: liste de positions choisi aléatoirement\n",
    "    \"\"\"\n",
    "    projection = []\n",
    "    #count = 0\n",
    "    \n",
    "    for e in range(p):\n",
    "        p= random.randint(0, k-1)\n",
    "        #Pour ne pas avoir à 2 reprises un meme indice\n",
    "        if p in projection: #On doit tirer un nouvel indice aléatoirevement\n",
    "            projConnue = True\n",
    "            while projConnue:\n",
    "                p= random.randint(0, k-1)\n",
    "                if p not in projection:\n",
    "                    projConnue = False\n",
    "        \n",
    "        #Ajout de la projection à la liste\n",
    "        projection.append(p)\n",
    "    \n",
    "    return projection\n",
    "\n",
    "lR = getRandomFixePositions(4, 7)\n",
    "lR.sort()\n",
    "print (lR)\n",
    "\n",
    "def generateKey(projection, motif):\n",
    "    \"\"\"\n",
    "    extrait les caractères du motif et génère la cle de la projection\n",
    "    entrée projection : liste de positions qui represent la projection\n",
    "    entrée motif : motif de taille k\n",
    "    sortie cle : cle de la projection\n",
    "    \"\"\"\n",
    "    cle = \"\"\n",
    "    \n",
    "    for i in (projection):\n",
    "        if i< len(motif):\n",
    "            cle= cle + motif[i]\n",
    "    \n",
    "    return cle\n",
    "\n",
    "key=generateKey(lR, \"01234567\")\n",
    "print(key)"
   ]
  },
  {
   "cell_type": "markdown",
   "metadata": {
    "id": "NK0BhSs1_hu3"
   },
   "source": [
    "3\\. Implémenter l'algorithme ``randomProjection``. Bonnus : Pour ameliorer la performance vous pouvez abandonner les motifs de taille k peu complexes."
   ]
  },
  {
   "cell_type": "code",
   "execution_count": 42,
   "metadata": {
    "id": "yaDXNosb_hu3"
   },
   "outputs": [
    {
     "name": "stdout",
     "output_type": "stream",
     "text": [
      "{'TCGG': 1, 'AGGC': 2, 'AGCA': 1, 'CCAC': 1, 'CACG': 1, 'TCGC': 1, 'CGCC': 2, 'ACCA': 1, 'CCCG': 1, 'GCGT': 1}\n",
      "{'TCGG': ['TTAACGG'], 'AGGC': ['TAACGGC', 'TACCGGC'], 'AGCA': ['AACGGCA'], 'CCAC': ['ACGGCAC'], 'CACG': ['GCTCACG'], 'TCGC': ['CTCACGC'], 'CGCC': ['TCACGCC', 'ACCGGCC'], 'ACCA': ['CACGCCA'], 'CCCG': ['CCGGCCG'], 'GCGT': ['CGGCCGT']}\n"
     ]
    }
   ],
   "source": [
    "def randomProjection(k, p, sequences):\n",
    "    \"\"\"\n",
    "    Implémente l'algorithme randomProjection\n",
    "    entrée k : taille du motif\n",
    "    entrée p : nombre de positions de la projection \n",
    "    entrée sequences : matrice de dimension txn contenant les séquences \n",
    "    sortie motifs : dictionaire, cle = projection, valeur= frequence\n",
    "    sortie motifsSeq:  dictionaire, cle = projection, valeur= original motif\n",
    "    \"\"\"\n",
    "    motifs  = {}; \n",
    "    motifsSeq  = {}\n",
    "    \n",
    "    p=getRandomFixePositions(p, k)\n",
    "    p.sort()\n",
    "    #print(p)\n",
    "    \n",
    "    for s in sequences:\n",
    "        if len(s)>=k:\n",
    "            for i in range(len(s)-k+1):\n",
    "                motif = s[i:i+k]\n",
    "                key=generateKey(p, motif)\n",
    "                \n",
    "                if key in motifs.keys() and key in motifsSeq.keys():\n",
    "                    #Si la clé existe déja\n",
    "                    motifs[key]+=1\n",
    "                    motifsSeq[key]=motifsSeq[key]+[motif]\n",
    "                \n",
    "                else:\n",
    "                    #Si la clé n'existe pas\n",
    "                    motifs[key]=1\n",
    "                    motifsSeq[key]=[motif]\n",
    "    \n",
    "    return motifs, motifsSeq\n",
    "\n",
    "#motifsSort = sorted(motifs, reverse=True, key=motifs.get)\n",
    "\n",
    "adnTest = ['TTAACGGCAC', 'GCTCACGCCA', 'TACCGGCCGT']\n",
    "motifsProj, motifsSeq = randomProjection(7, 4, adnTest)\n",
    "print (motifsProj)\n",
    "print (motifsSeq)\n",
    "\n",
    "#motifsProj => {'TACG': 1, 'TCGC': 3, 'AGGA': 1, 'AGCC': 1, 'GCAG': 1, 'CACC': 1, 'CGCA': 1, 'AGGC': 1, 'CGCG': 1, 'CCCT': 1}\n",
    "#motifsSeq => {'TACG': ['TTAACGG'], 'TCGC': ['TAACGGC', 'TCACGCC', 'TACCGGC'], 'AGGA': ['AACGGCA'], 'AGCC': ['ACGGCAC'], 'GCAG': ['GCTCACG'], 'CACC': ['CTCACGC'], 'CGCA': ['CACGCCA'], 'AGGC': ['ACCGGCC'], 'CGCG': ['CCGGCCG'], 'CCCT': ['CGGCCGT']}"
   ]
  },
  {
   "cell_type": "markdown",
   "metadata": {
    "id": "RWMsME8t_hu3"
   },
   "source": [
    "4\\. Avez vous trouvez le motif implanté? Rexécuter l’algorithme plusieurs fois pour augmenter les chances de le trouver. "
   ]
  },
  {
   "cell_type": "markdown",
   "metadata": {
    "id": "gj5RGPey_hu4"
   },
   "source": [
    "reponse: Le motif implanté admet TCGC comme clé fixe associé à la projection car on constate que c'est la bucket la plus grande, dans votre exemple 3 motifs ont été trouvés... avec des variations du motif pour les positions non projetées.\n",
    "\n",
    "Puisque les projections sont aléatoires, nous parvenons à obtenir la clé TCGC mais pas avec les bonnes projections aléatoires pour retrouver le motif avec des variations.\n",
    "L'algorithme randomProjection demande donc d'être exécuter un grand nombre de fois avant de nous permettre d'obtenir un résultat satisfaisant.\n",
    "\n",
    "D'autres projections nous permettent tout de même de tirer des conclusions, par exemple la bucket la plus grande avec la projection [0, 2, 3, 6] permet de constater une unique clé qui a la plus grande fréquence càd 'TACC': 2,\n",
    "et 'TACC': ['TAACGGC', 'TCACGCC']. Ce qui nous donne une idée de l'allure du motif éventuellement, d'autant plus que ce phénomène se reproduit pour de nombreuse projection ou on a une unique liste (taille 2) plus longue que les autres qui ont tous une taille de 1.\n",
    "\n"
   ]
  },
  {
   "cell_type": "markdown",
   "metadata": {
    "id": "1DHZjpi4_hu6"
   },
   "source": [
    "5\\. Implémenter la version itérative de l’algorithme ``randomProjection``. "
   ]
  },
  {
   "cell_type": "code",
   "execution_count": 43,
   "metadata": {
    "id": "ku5JseaVqagY"
   },
   "outputs": [],
   "source": [
    "#Construire matrice de fréquence\n",
    "def profile(motifs, k, nuc):\n",
    "    \"\"\"\n",
    "    Construire une matrice de fréquence de dimension k x |nuc|\n",
    "    entrée motifs: liste de motifs\n",
    "    entrée k: taille du motif\n",
    "    entrée nuc: alphabet\n",
    "    sortie MF: matrice de fréquence\n",
    "    \"\"\"\n",
    "    #nuc = ('A', 'C', 'G', 'T')\n",
    "    q = len(nuc)\n",
    "    PWM = np.zeros((q, k))\n",
    "    \n",
    "    for mot in motifs :\n",
    "        for i in range (k): #i=indice colonne\n",
    "            indLigne = nuc.index(mot[i]) #indiceLigne\n",
    "            PWM[indLigne,i]=PWM[indLigne,i]+1\n",
    "    return PWM\n",
    "\n",
    "def getScore(MF, k):\n",
    "    \"\"\"\n",
    "    Renvoie le score de MF, la somme des max de chaque colonne\n",
    "    entrée MF: matrice de fréquence\n",
    "    entrée k: taille du motif\n",
    "    sortie sc: score\n",
    "    \"\"\"\n",
    "    sc = 0\n",
    "    nbLigne = len(MF)\n",
    "    nbColonne = len(MF[0])\n",
    "    \n",
    "    for c in range(nbColonne):\n",
    "        MAX=0\n",
    "        for l in range(nbLigne):\n",
    "            #print(MF[l,c])\n",
    "            if MF[l,c]>MAX:\n",
    "                MAX=MF[l,c]\n",
    "        #print(\"Sortie\")\n",
    "        sc= sc + MAX\n",
    "        #print(\"Valeur sc =\", sc)\n",
    "\n",
    "    return sc"
   ]
  },
  {
   "cell_type": "code",
   "execution_count": 49,
   "metadata": {
    "id": "WkfqvtsT_hu6"
   },
   "outputs": [
    {
     "name": "stdout",
     "output_type": "stream",
     "text": [
      "18.0 ['TAACGGC', 'TCACGCC', 'TACCGGC']\n"
     ]
    }
   ],
   "source": [
    "def randomProjIt(sequences, k, v, nuc, It):\n",
    "    \"\"\"\n",
    "    Implémente l'algorithme randomProjection version iteractive\n",
    "    entrée sequences : matrice de dimension txn contenant les séquences \n",
    "    entrée k : nombre de positions du motif\n",
    "    entrée v : nombre de positions de la projection \n",
    "    entrée nuc : alphabet\n",
    "    entrée It: nombre d'iterations\n",
    "    sortie score : meilleur score\n",
    "    sortie motifs :  liste de motifs associés au meilleur score\n",
    "    \"\"\"\n",
    "    #NOUS ENVISAGEONS D'OPTIMISER LA FONCTION POUR IGNORER LES MOTIFS PEU COMPLEX, APRÉS LE DÉPOT\n",
    "    \n",
    "    motifss = []; scores = 0\n",
    "    \n",
    "    for i in range(It):\n",
    "        (motifs, motifsSeq)=randomProjection(k, v, sequences)\n",
    "        keys= motifsSeq.keys()\n",
    "        \n",
    "        for ke in keys:\n",
    "            MF=profile(motifsSeq[ke], k, nuc)\n",
    "            scoretmp=getScore(MF, k)\n",
    "            \n",
    "            if scoretmp> scores:\n",
    "                scores= scoretmp\n",
    "                motifss= motifsSeq[ke]  \n",
    "                \n",
    "    return scores, motifss\n",
    "\n",
    "score, seqsMotif = randomProjIt(adnTest, 7, 4, nuc, 100)\n",
    "print (score, seqsMotif)\n",
    "\n",
    "#Nous retrouvons la bucket la plus longue de notre question precedente et donc le motif avec pour clé TCGC càd les positions 0,3,4 et 6^^\n"
   ]
  },
  {
   "cell_type": "markdown",
   "metadata": {
    "id": "JeBaa7f1_hu6"
   },
   "source": [
    "6\\. Tester l'algorithme  ``randomProjection`` sur vos données de chipSeq. N'oubliez pas de chercher les motifs dans le brin complémentaire et faire un merge de résultats. Puis générér le LOGO du motif trouvé."
   ]
  },
  {
   "cell_type": "code",
   "execution_count": 57,
   "metadata": {
    "id": "TqwsXVV7_hu4"
   },
   "outputs": [
    {
     "name": "stdout",
     "output_type": "stream",
     "text": [
      "AGGC\n",
      "0 AGGC - 2\n",
      "CGCC\n",
      "1 CGCC - 2\n",
      "TCGG\n",
      "2 TCGG - 1\n",
      "AGCA\n",
      "3 AGCA - 1\n",
      "CCAC\n",
      "4 CCAC - 1\n",
      "CACG\n",
      "5 CACG - 1\n",
      "TCGC\n",
      "6 TCGC - 1\n",
      "ACCA\n",
      "7 ACCA - 1\n",
      "CCCG\n",
      "8 CCCG - 1\n",
      "GCGT\n",
      "9 GCGT - 1\n",
      "['CTCACGC']\n"
     ]
    }
   ],
   "source": [
    "def reverseComplement(seq):\n",
    "    seq_dict = {'A':'T','T':'A','G':'C','C':'G'}\n",
    "    return \"\".join([seq_dict[base] for base in reversed(seq)])\n",
    "\n",
    "def complement(seq):\n",
    "    seq_dict = {'A':'T','T':'A','G':'C','C':'G'}\n",
    "    return \"\".join([seq_dict[base] for base in seq])\n",
    "\n",
    "def printTopFMotifsFreq(motifs, m, rev=False):\n",
    "    motifsRet = {}\n",
    "    motifsSort = sorted(motifs, reverse=True, key=motifs.get)\n",
    "    i = 0\n",
    "    while (i < m):\n",
    "        motifPrint = motifsSort[i]\n",
    "        print (motifsSort[i])\n",
    "        if rev:\n",
    "            motifPrint = reverseComplement(motifsSort[i])\n",
    "        print (i, motifPrint, \"-\", motifs[motifsSort[i]])\n",
    "        i = i + 1\n",
    "        \n",
    "printTopFMotifsFreq(motifsProj, 10)\n",
    "print (motifsSeq['TCGC'])"
   ]
  },
  {
   "cell_type": "code",
   "execution_count": 62,
   "metadata": {
    "id": "_FVlr-KYtsQB"
   },
   "outputs": [
    {
     "name": "stdout",
     "output_type": "stream",
     "text": [
      "TCTAATCCTTTAGGTATTACAGGTAATATGGATAGAATTGGAATGCATGGTTATTTCATTTTTAAAGATTTAATTACTGT 367 80 7\n",
      "4108.0 ['TATTTTT', 'TTTTATT', 'TATTGTT', 'TATTTGT', 'TTTTCAT', 'TCTTATT', 'TATTATT', 'TATTATT', 'TGTTATT', 'TATTATT', 'TTTTAAT', 'TATTCCT', 'TATTATT', 'TATTGGT', 'TCTTAGT', 'TATTGCT', 'TATTCCT', 'TATTATT', 'TATTGCT', 'TATTCTT', 'TCTTAAT', 'TTTTCTT', 'TATTTGT', 'TATTCTT', 'TATTCCT', 'TATTTAT', 'TATTCCT', 'TGTTATT', 'TATTATT', 'TTTTATT', 'TATTTAT', 'TATTACT', 'TATTATT', 'TATTTTT', 'TTTTTGT', 'TATTAGT', 'TGTTTAT', 'TGTTAAT', 'TATTTGT', 'TGTTATT', 'TTTTATT', 'TATTAAT', 'TGTTATT', 'TATTCCT', 'TGTTGAT', 'TGTTATT', 'TATTCAT', 'TTTTGCT', 'TATTCCT', 'TGTTATT', 'TATTGGT', 'TATTAGT', 'TTTTGAT', 'TATTAAT', 'TTTTTAT', 'TTTTATT', 'TATTATT', 'TATTTGT', 'TATTAAT', 'TATTAGT', 'TTTTAAT', 'TTTTCTT', 'TCTTCTT', 'TCTTAGT', 'TATTGAT', 'TATTTTT', 'TTTTTAT', 'TATTCAT', 'TTTTCAT', 'TCTTTAT', 'TATTTGT', 'TATTGCT', 'TGTTATT', 'TATTATT', 'TATTTTT', 'TTTTTGT', 'TATTGGT', 'TGTTATT', 'TATTATT', 'TATTGCT', 'TCTTATT', 'TGTTCAT', 'TATTTAT', 'TGTTGGT', 'TGTTCCT', 'TATTTAT', 'TGTTTCT', 'TATTAAT', 'TTTTGCT', 'TCTTCAT', 'TCTTTTT', 'TCTTTCT', 'TATTACT', 'TATTTAT', 'TATTGGT', 'TGTTTGT', 'TATTTTT', 'TTTTTCT', 'TTTTCTT', 'TCTTCTT', 'TTTTAAT', 'TCTTCTT', 'TGTTCTT', 'TCTTCTT', 'TCTTATT', 'TTTTGCT', 'TATTACT', 'TATTTAT', 'TATTTGT', 'TATTTAT', 'TTTTATT', 'TATTATT', 'TATTTCT', 'TCTTGTT', 'TGTTCAT', 'TTTTCAT', 'TCTTTAT', 'TTTTCTT', 'TCTTCCT', 'TGTTCAT', 'TCTTCTT', 'TATTCTT', 'TCTTTAT', 'TTTTCTT', 'TCTTTTT', 'TTTTTCT', 'TTTTCTT', 'TCTTTTT', 'TTTTGAT', 'TCTTATT', 'TATTTCT', 'TCTTTTT', 'TTTTTAT', 'TTTTCTT', 'TATTGTT', 'TGTTATT', 'TATTCAT', 'TTTTTTT', 'TTTTTTT', 'TTTTTAT', 'TATTGCT', 'TCTTATT', 'TATTATT', 'TTTTTTT', 'TTTTGCT', 'TTTTGGT', 'TATTTTT', 'TTTTACT', 'TCTTCCT', 'TCTTTTT', 'TTTTTCT', 'TTTTCTT', 'TCTTATT', 'TATTCCT', 'TGTTTCT', 'TTTTCAT', 'TATTGTT', 'TGTTACT', 'TATTTCT', 'TTTTGTT', 'TCTTGTT', 'TGTTATT', 'TCTTCAT', 'TATTACT', 'TGTTCCT', 'TATTGGT', 'TATTATT', 'TATTCAT', 'TTTTCAT', 'TCTTATT', 'TATTGTT', 'TATTAAT', 'TATTGGT', 'TTTTTGT', 'TTTTGTT', 'TGTTCGT', 'TTTTTGT', 'TATTTTT', 'TTTTTTT', 'TTTTTGT', 'TTTTTAT', 'TATTTCT', 'TATTCAT', 'TCTTTAT', 'TATTACT', 'TTTTGGT', 'TTTTATT', 'TTTTTGT', 'TGTTACT', 'TTTTCAT', 'TATTTAT', 'TATTATT', 'TATTACT', 'TTTTGAT', 'TTTTCAT', 'TTTTGAT', 'TATTCTT', 'TCTTGCT', 'TTTTTAT', 'TGTTCCT', 'TCTTGGT', 'TTTTGCT', 'TTTTTGT', 'TTTTGTT', 'TTTTACT', 'TTTTCAT', 'TTTTCAT', 'TATTAAT', 'TCTTAAT', 'TATTGAT', 'TTTTGGT', 'TTTTTCT', 'TTTTCTT', 'TCTTGAT', 'TCTTAGT', 'TGTTTCT', 'TATTTTT', 'TCTTTTT', 'TTTTGCT', 'TTTTCTT', 'TCTTTTT', 'TTTTTGT', 'TTTTGTT', 'TTTTTCT', 'TATTATT', 'TGTTTGT', 'TTTTATT', 'TATTGAT', 'TTTTGCT', 'TGTTTCT', 'TCTTTTT', 'TTTTGGT', 'TTTTCAT', 'TCTTTGT', 'TGTTCCT', 'TATTCTT', 'TTTTAAT', 'TGTTTAT', 'TTTTGCT', 'TCTTCTT', 'TTTTGGT', 'TATTGGT', 'TATTCAT', 'TGTTTCT', 'TTTTAGT', 'TTTTGCT', 'TTTTATT', 'TATTATT', 'TGTTTCT', 'TGTTTAT', 'TTTTGTT', 'TGTTCTT', 'TTTTGTT', 'TTTTGGT', 'TGTTCAT', 'TGTTACT', 'TATTTCT', 'TTTTCGT', 'TTTTTAT', 'TATTGCT', 'TTTTTTT', 'TATTTAT', 'TCTTCAT', 'TCTTTTT', 'TTTTGGT', 'TGTTAGT', 'TGTTATT', 'TGTTGCT', 'TATTGCT', 'TCTTGTT', 'TGTTTTT', 'TATTTTT', 'TTTTGCT', 'TCTTATT', 'TATTGCT', 'TTTTGCT', 'TATTAAT', 'TCTTAGT', 'TCTTGCT', 'TTTTCTT', 'TATTAGT', 'TTTTGCT', 'TTTTGAT', 'TTTTTAT', 'TTTTATT', 'TTTTCCT', 'TATTTTT', 'TTTTTGT', 'TTTTATT', 'TATTTAT', 'TGTTCTT', 'TCTTTAT', 'TCTTCCT', 'TTTTTGT', 'TTTTGTT', 'TGTTTTT', 'TTTTTGT', 'TGTTGTT', 'TTTTGAT', 'TCTTTTT', 'TATTATT', 'TATTGCT', 'TATTTCT', 'TTTTCCT', 'TTTTGCT', 'TGTTCCT', 'TATTCCT', 'TATTGCT', 'TTTTGCT', 'TGTTATT', 'TATTGGT', 'TTTTCCT', 'TGTTTCT', 'TGTTATT', 'TATTGAT', 'TGTTTCT', 'TTTTACT', 'TCTTGAT', 'TCTTTAT', 'TATTCCT', 'TATTTCT', 'TCTTCCT', 'TATTAAT', 'TCTTCTT', 'TATTATT', 'TTTTACT', 'TTTTAAT', 'TCTTGGT', 'TGTTCTT', 'TTTTATT', 'TTTTCCT', 'TGTTGTT', 'TGTTATT', 'TTTTAAT', 'TATTTTT', 'TTTTCGT', 'TGTTTGT', 'TTTTGTT', 'TATTGTT', 'TTTTTAT', 'TTTTTTT', 'TTTTTTT', 'TTTTTTT', 'TTTTTTT', 'TTTTCCT', 'TATTCTT', 'TTTTCAT', 'TATTTGT', 'TATTATT', 'TTTTCTT', 'TATTCTT', 'TATTATT', 'TTTTGTT', 'TGTTATT', 'TTTTTAT', 'TTTTATT', 'TATTATT', 'TATTTAT', 'TCTTTTT', 'TTTTGGT', 'TATTGTT', 'TTTTGTT', 'TGTTATT', 'TATTCGT', 'TATTGGT', 'TATTGGT', 'TTTTACT', 'TTTTAAT', 'TCTTTAT', 'TATTGCT', 'TATTGAT', 'TATTCAT', 'TATTCTT', 'TATTTTT', 'TTTTTAT', 'TATTACT', 'TTTTCCT', 'TCTTAAT', 'TATTGGT', 'TATTTGT', 'TTTTTGT', 'TTTTGTT', 'TATTTTT', 'TTTTAAT', 'TGTTATT', 'TATTTCT', 'TCTTCTT', 'TATTACT', 'TCTTCGT', 'TTTTTGT', 'TGTTGTT', 'TGTTTTT', 'TTTTCGT', 'TGTTGGT', 'TTTTAAT', 'TGTTACT', 'TATTTCT', 'TATTTCT', 'TATTCAT', 'TCTTAAT', 'TGTTACT', 'TGTTAAT', 'TGTTAAT', 'TGTTGCT', 'TGTTAAT', 'TCTTAAT', 'TTTTAAT', 'TATTATT', 'TATTAGT', 'TTTTAAT', 'TCTTAAT', 'TTTTCAT', 'TATTTGT', 'TATTATT', 'TATTAAT', 'TATTGCT', 'TTTTCTT', 'TCTTGTT', 'TGTTTGT', 'TGTTTAT', 'TTTTTTT', 'TTTTTTT', 'TTTTTTT', 'TATTATT', 'TATTGCT', 'TGTTGTT', 'TGTTTGT', 'TGTTTGT', 'TGTTTTT', 'TTTTTGT', 'TTTTGCT', 'TGTTAAT', 'TTTTGTT', 'TTTTCTT', 'TTTTTTT', 'TTTTTAT', 'TATTATT', 'TATTTAT', 'TTTTATT', 'TGTTGCT', 'TGTTTCT', 'TTTTTTT', 'TTTTTTT', 'TTTTTTT', 'TTTTTTT', 'TTTTAAT', 'TGTTGAT', 'TTTTTCT', 'TTTTCTT', 'TCTTTTT', 'TTTTTCT', 'TTTTGCT', 'TTTTCGT', 'TTTTCCT', 'TGTTTCT', 'TCTTGGT', 'TGTTTGT', 'TGTTTCT', 'TTTTCAT', 'TATTGTT', 'TGTTACT', 'TTTTTTT', 'TTTTTAT', 'TTTTATT', 'TCTTGGT', 'TGTTTAT', 'TATTTGT', 'TTTTGAT', 'TTTTCTT', 'TTTTCTT', 'TTTTTCT', 'TCTTTCT', 'TTTTTTT', 'TTTTCCT', 'TATTTCT', 'TTTTGAT', 'TCTTATT', 'TTTTTGT', 'TTTTGTT', 'TATTCGT', 'TGTTAAT', 'TATTGTT', 'TATTATT', 'TATTTTT', 'TCTTTTT', 'TTTTTTT', 'TCTTGTT', 'TGTTCCT', 'TCTTAAT', 'TGTTTTT', 'TTTTTCT', 'TATTGCT', 'TTTTGCT', 'TATTAAT', 'TATTGAT', 'TATTGTT', 'TGTTCTT', 'TATTGGT', 'TTTTCCT', 'TTTTTTT', 'TTTTTTT', 'TTTTTTT', 'TTTTACT', 'TATTTTT', 'TTTTGCT', 'TCTTCAT', 'TCTTAAT', 'TATTCTT', 'TATTGCT', 'TATTAAT', 'TTTTTTT', 'TATTTCT', 'TATTTAT', 'TTTTAGT', 'TTTTTCT', 'TATTATT', 'TATTAGT', 'TGTTTTT', 'TTTTCAT', 'TGTTTCT', 'TATTTTT', 'TTTTTAT', 'TATTTAT', 'TATTTGT', 'TGTTCAT', 'TTTTATT', 'TATTTTT', 'TTTTATT', 'TATTCTT', 'TTTTTTT', 'TTTTTTT', 'TCTTTTT', 'TTTTGCT', 'TATTACT', 'TTTTCCT', 'TTTTTTT', 'TTTTTTT', 'TTTTTTT', 'TTTTTTT', 'TTTTGCT', 'TATTTGT', 'TTTTTGT', 'TTTTGTT', 'TGTTGCT', 'TGTTTGT', 'TTTTTTT', 'TTTTACT', 'TATTGGT', 'TATTTCT', 'TTTTCTT', 'TCTTGCT', 'TATTGGT', 'TATTCAT', 'TTTTATT', 'TATTTAT', 'TGTTTCT', 'TGTTGTT', 'TCTTCAT', 'TCTTTTT', 'TTTTTTT', 'TTTTTTT', 'TTTTGCT', 'TTTTCCT', 'TTTTGAT', 'TCTTTGT', 'TTTTGCT', 'TTTTCGT', 'TATTTGT', 'TTTTGAT', 'TCTTCGT', 'TATTCTT', 'TCTTGAT', 'TATTGAT', 'TTTTGAT', 'TCTTCAT', 'TGTTATT', 'TTTTGGT', 'TCTTCCT', 'TTTTAGT', 'TCTTTGT', 'TTTTGGT', 'TATTCCT', 'TTTTAGT', 'TCTTGTT', 'TGTTAAT', 'TCTTCTT', 'TCTTTCT', 'TATTTGT', 'TATTTAT', 'TATTTTT', 'TCTTGCT', 'TTTTTCT', 'TTTTCTT', 'TTTTAAT', 'TTTTCGT', 'TTTTTCT', 'TGTTAAT', 'TTTTTTT', 'TTTTAAT', 'TTTTGGT', 'TCTTTCT', 'TGTTAGT', 'TTTTACT', 'TGTTATT', 'TATTTTT', 'TTTTTAT', 'TGTTAGT', 'TTTTGTT', 'TTTTTCT', 'TTTTCTT', 'TCTTGAT', 'TTTTGCT', 'TATTGTT', 'TGTTGAT', 'TTTTGGT', 'TGTTGTT', 'TGTTGTT', 'TGTTGTT', 'TTTTGAT', 'TGTTTAT', 'TTTTCGT', 'TTTTTTT', 'TTTTGCT', 'TATTTAT', 'TGTTGTT', 'TGTTTAT', 'TATTTCT', 'TCTTTTT', 'TGTTGCT', 'TATTAGT', 'TTTTGTT', 'TGTTTTT', 'TTTTGCT', 'TCTTTTT', 'TTTTTAT', 'TCTTTAT', 'TATTGGT', 'TGTTGTT', 'TATTTTT', 'TTTTGCT', 'TTTTGTT', 'TCTTTTT', 'TTTTTCT', 'TTTTCTT', 'TCTTGGT', 'TATTTCT', 'TCTTTTT', 'TTTTTTT', 'TTTTTTT', 'TTTTTAT', 'TTTTATT', 'TATTCCT', 'TTTTACT', 'TCTTTAT', 'TATTTCT', 'TCTTCTT', 'TCTTTGT', 'TTTTGGT', 'TTTTCGT', 'TTTTGCT', 'TCTTTTT', 'TTTTTTT', 'TTTTTCT', 'TTTTCTT', 'TATTAAT', 'TGTTCCT', 'TCTTCTT', 'TCTTCTT', 'TGTTAGT', 'TCTTCTT', 'TTTTTGT', 'TTTTGTT', 'TTTTTGT', 'TTTTGTT', 'TTTTTTT', 'TTTTTCT', 'TATTTTT', 'TTTTTAT', 'TTTTACT', 'TTTTTTT', 'TTTTGCT', 'TATTTTT', 'TCTTTTT', 'TTTTTTT', 'TTTTTTT', 'TTTTTTT', 'TTTTTTT', 'TTTTCTT', 'TCTTGCT', 'TATTTTT', 'TTTTGCT', 'TATTAAT', 'TATTGCT', 'TCTTTAT', 'TATTATT', 'TATTGCT', 'TCTTATT', 'TTTTGAT', 'TTTTTCT', 'TGTTGTT', 'TTTTGCT', 'TCTTACT', 'TTTTCTT', 'TCTTGGT', 'TTTTCTT', 'TCTTGCT', 'TTTTGCT', 'TATTGTT', 'TTTTAAT', 'TCTTCAT', 'TTTTTAT', 'TATTTTT', 'TCTTATT', 'TATTGCT', 'TCTTTAT', 'TATTCCT', 'TATTTAT', 'TATTCTT', 'TCTTTGT', 'TCTTAGT', 'TCTTAAT', 'TTTTGTT', 'TATTCTT', 'TCTTTCT', 'TGTTTGT', 'TATTCCT', 'TATTGCT', 'TCTTCGT', 'TATTCAT', 'TATTGCT', 'TGTTGCT', 'TATTCAT', 'TATTGCT', 'TTTTGCT', 'TGTTGCT', 'TATTGCT', 'TTTTCAT', 'TGTTCTT', 'TTTTGCT', 'TGTTTAT', 'TTTTCAT', 'TATTTTT', 'TTTTGCT', 'TTTTGCT', 'TGTTTAT', 'TATTTAT', 'TTTTCTT', 'TCTTTTT', 'TTTTTTT', 'TTTTGAT', 'TCTTTTT', 'TGTTAAT', 'TATTTTT', 'TTTTGCT', 'TGTTCGT', 'TTTTAGT', 'TCTTCAT', 'TCTTGCT', 'TCTTGTT', 'TGTTAAT', 'TATTTCT', 'TGTTGCT', 'TTTTTCT', 'TTTTCTT', 'TTTTGCT', 'TTTTGCT', 'TCTTTGT', 'TGTTTGT', 'TGTTTAT', 'TTTTTCT', 'TGTTTTT', 'TTTTCAT', 'TTTTGCT', 'TGTTCTT', 'TGTTATT', 'TTTTGAT', 'TGTTTCT', 'TTTTGTT', 'TGTTTTT', 'TATTTAT', 'TTTTACT', 'TTTTACT', 'TCTTTTT', 'TTTTTTT', 'TTTTTTT', 'TTTTTGT', 'TTTTTGT', 'TTTTGTT', 'TGTTGTT', 'TGTTGAT', 'TATTTTT', 'TTTTTTT', 'TTTTTAT', 'TATTTTT', 'TTTTCCT', 'TTTTTAT', 'TGTTAAT', 'TTTTGGT', 'TATTTGT', 'TGTTATT', 'TATTATT', 'TATTTTT', 'TTTTGCT', 'TATTGGT']\n"
     ]
    }
   ],
   "source": [
    "k=7; p=4; n=80\n",
    "\n",
    "def readFasta(genome, n):\n",
    "    sequence = []\n",
    "    file = open(genome, \"r\")\n",
    "    sequence = []\n",
    "    for s in file:\n",
    "        if s[0] != \">\":\n",
    "            sequence.append(s.strip().upper())\n",
    "    sequenceStr = \"\".join(sequence)\n",
    "    #sequence = [sequenceStr]\n",
    "    sequence = [sequenceStr[i:i+n] for i in range(0, len(sequenceStr), n)]\n",
    "    sequenceRet = [x for x in sequence if x]\n",
    "    return sequenceRet\n",
    "\n",
    "genome = \"Sequence_by_Peaks_1.fasta\"\n",
    "\n",
    "sequencesChip   = readFasta(genome, n)\n",
    "t = len(sequencesChip)\n",
    "print (sequencesChip[8], t, n, k)\n",
    "revSequences = [reverseComplement(m) for m in sequencesChip]\n",
    "\n",
    "sequences = sequencesChip + revSequences\n",
    "\n",
    "score, seqsMotif = randomProjIt(sequences, k, p, nuc, 100)\n",
    "\n",
    "print(score, seqsMotif)"
   ]
  },
  {
   "cell_type": "code",
   "execution_count": null,
   "metadata": {},
   "outputs": [],
   "source": []
  }
 ],
 "metadata": {
  "celltoolbar": "Raw Cell Format",
  "colab": {
   "provenance": []
  },
  "kernelspec": {
   "display_name": "Python 3 (ipykernel)",
   "language": "python",
   "name": "python3"
  },
  "language_info": {
   "codemirror_mode": {
    "name": "ipython",
    "version": 3
   },
   "file_extension": ".py",
   "mimetype": "text/x-python",
   "name": "python",
   "nbconvert_exporter": "python",
   "pygments_lexer": "ipython3",
   "version": "3.11.2"
  }
 },
 "nbformat": 4,
 "nbformat_minor": 1
}
