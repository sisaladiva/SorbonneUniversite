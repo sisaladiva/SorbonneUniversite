{
 "cells": [
  {
   "cell_type": "markdown",
   "metadata": {
    "id": "kZ4C6ycPO5V4"
   },
   "source": [
    "# TME 5.1 : Deep Learning - programmer et entraîner un neurone artificiel\n",
    "\n",
    "\n",
    "## Recherche de pattern (motifs) en utilisant de réseau de neurones\n",
    "\n",
    "Nous allons reprogrammer un neurone artificiel et l'algorithme de back propagation pour reconnaître un motif particulier \n",
    "Pour comprendre le principe nous utiliserons des données simulées générées à partir de matrice de fréquences d'un motif d'intérêt,\n",
    "étiquetées avec 1 (les séquences ne contiennent le motif) et des séquences aléatoires, étiquetées avec 0 (les séquences ne contiennent pas le motif).\n",
    "Notre objectif est de construire un classifieur capable de prédire si une séquence particulière contient le motif d'intérêt."
   ]
  },
  {
   "cell_type": "markdown",
   "metadata": {
    "id": "b9R-3AeT6_y8"
   },
   "source": [
    "## 1. Préparation de données\n",
    "1.1 Nous allons d'abord générer des données artificielles, un jeu de données de séquences ayant le motif (positives = label 1) et un jeu de données de séquences aléatoires (négatives = label 0). Pour générer les séquences positives, utilisez la matrice de fréquence du motif AGTATAG.Pour générer les séquences négatives une distribution uniforme ou les nucléotides sont choisis aléatoirement.Générer 100 séquences positives et 100 séquences négatives. "
   ]
  },
  {
   "cell_type": "code",
   "execution_count": 1,
   "metadata": {
    "id": "H8NocqR00-Nh"
   },
   "outputs": [
    {
     "name": "stdout",
     "output_type": "stream",
     "text": [
      "[[9.80392157e-01 1.16504854e-02 2.97619048e-03 9.85221675e-01\n",
      "  4.95049505e-03 9.71817298e-01 9.97008973e-04]\n",
      " [9.80392157e-03 7.76699029e-03 2.97619048e-03 2.95566502e-03\n",
      "  0.00000000e+00 9.71817298e-03 9.97008973e-04]\n",
      " [3.92156863e-03 9.70873786e-01 1.98412698e-03 6.89655172e-03\n",
      "  4.95049505e-03 1.26336249e-02 9.97008973e-01]\n",
      " [5.88235294e-03 9.70873786e-03 9.92063492e-01 4.92610837e-03\n",
      "  9.90099010e-01 5.83090379e-03 9.97008973e-04]]\n"
     ]
    }
   ],
   "source": [
    "import numpy as np\n",
    "import matplotlib.pyplot as plt\n",
    "\n",
    "motif_length = 7\n",
    "num_sample = 100\n",
    "\n",
    "MotifConsensus = \"AGTATAG\"\n",
    "\n",
    "freq = np.array([\n",
    "  [1000,  12,   3,  1000,   5,   1000,   1],\n",
    "  [10,    8,   3,   3,   0,    10,   1],\n",
    "  [4,   1000,   2,   7,   5,    13,   1000],\n",
    "  [6,    10,  1000,   5,   1000,   6,   1]], dtype=object)\n",
    "\n",
    "def generatePWM(MF):\n",
    "    \"\"\"\n",
    "    Transforme la matrice de fréquence en PWM\n",
    "    entrée MF: matrice de fréquence\n",
    "    sortie PWM: matrice de probabilité (poids positions)\n",
    "    \"\"\"\n",
    "    \n",
    "    nbLigne = len(MF)\n",
    "    nbColonne = len(MF[0])\n",
    "    PWM= np.zeros((nbLigne, nbColonne))\n",
    "   \n",
    "    #Calcule du nombre fréquence par colonne \n",
    "    fr = []\n",
    "    for c in range(nbColonne):\n",
    "        tmp=0\n",
    "        for l in range(nbLigne):\n",
    "            tmp=tmp + MF[l,c]\n",
    "        fr.append(tmp)\n",
    "    \n",
    "    #Pour chaque ligne on boucle sur les colonne et divison chaque cellule par fréquence de sa colonne\n",
    "    for l in range(nbLigne): \n",
    "        for c in range(nbColonne):\n",
    "            PWM[l,c]=MF[l,c]/fr[c]\n",
    "            \n",
    "    return PWM\n",
    "\n",
    "#Transformer freq en matrice de poids position\n",
    "PWM = generatePWM(freq)\n",
    "print(PWM)"
   ]
  },
  {
   "cell_type": "code",
   "execution_count": 2,
   "metadata": {},
   "outputs": [],
   "source": [
    "import random\n",
    "#nuc = ('A', 'C', 'G', 'T')        TEST \n",
    "#n= random.choice(nuc)\n",
    "#print(n)"
   ]
  },
  {
   "cell_type": "code",
   "execution_count": 3,
   "metadata": {
    "id": "fKLBM2sT3Ga7"
   },
   "outputs": [
    {
     "name": "stdout",
     "output_type": "stream",
     "text": [
      "POSSSSSSSS\n",
      " ['AGTATAGAAT', 'TAGTATAGAG', 'ATAGTATAGT', 'AGTATAGGCT', 'AGTATAGCGT', 'AGTATAGCAA', 'CTGAGTATAG', 'AGTATAGGCC', 'AAGTATAGTA', 'TCGAGTATAG', 'AGTATAGCCG', 'GGAGTATAGG', 'GTAGTATAGG', 'GCAGTATAGC', 'CGCAGTATAG', 'TAGTATAGTT', 'CTAGTATAGC', 'CCGAGTATAG', 'AGTATAGGCC', 'ACAGTATAGC', 'GCTAGTATAG', 'CGAGTATAGG', 'GAGTATAGCT', 'AGTATAGAGC', 'CAGTATAGTC', 'TAGTATAGAG', 'AGTATAGCCT', 'AGTATAGCAC', 'TAGTATAGTA', 'AGTATAGTGT', 'CCGAGTATAG', 'AGTATAGGGT', 'TAGTATAGTC', 'CGTAGTATAG', 'TAGTATAGAG', 'TGCAGTATAG', 'GTAGTATAGG', 'AGTATAGTAT', 'AATAGTATAG', 'GCAAGTATAG', 'GTAGTATAGT', 'GAAGTATAGT', 'AGTATAGACG', 'ATAGTATAGA', 'AAGTATAGAG', 'CTAAGTATAG', 'GAGTATAGTG', 'CAGTATAGGG', 'AGTATAGCAC', 'CACAGTATAG', 'CAAGTATAGA', 'TTAAGTATAG', 'GAGTATAGAG', 'AGCAGTATAG', 'CCAGTATAGC', 'AGAGTATAGT', 'GAGTATAGGT', 'AGTATAGCCC', 'TAGTATAGAG', 'CAGTATAGCC', 'TCAGTATAGC', 'GACAGTATAG', 'AGTATAGGAC', 'CAAGTATAGA', 'AGTATAGTAT', 'CGTAGTATAG', 'ACAGTATAGC', 'AGAGTATAGC', 'ACAGTATAGG', 'AGTATAGGTG', 'TAAGTATAGG', 'AGTATAGACT', 'CCTAGTATAG', 'ATTAGTATAG', 'CAGTATAGGC', 'ATTAGTATAG', 'AGTATAGTGT', 'ATAGTATAGG', 'AAGTATAGGT', 'TAGTATAGAC', 'ATAGTATAGG', 'TTAGTATAGG', 'AGTATAGCAT', 'CAGAGTATAG', 'TATAGTATAG', 'AGTATAGGAG', 'CACAGTATAG', 'TAAAGTATAG', 'AGTATAGGCA', 'AGTATAGTGT', 'AAGTATAGTT', 'AAGTATAGAC', 'AGTATAGTCC', 'GCAAGTATAG', 'AGTATAGATA', 'AGTATAGGCT', 'AGTATAGGCA', 'ATAGTATAGC', 'TCAGTATAGA', 'AGTATAGCCA']\n",
      "NEGGGGGGGG\n",
      " ['GCAGTGGTGT', 'CAGCAACGTC', 'GGTCTTTAGA', 'CTTTCTTGAA', 'ACCGTGCGGC', 'TTAACGCAGG', 'TCGGGGCTGC', 'CCGACAAAGA', 'TGCCTGCCAG', 'ACCCCGACGC', 'AATAGGGTCT', 'TGCACTCTCG', 'AATCATTCGG', 'ATGCCGATCC', 'ATCTCCTGGG', 'ATTGGCCGCC', 'GAGTCCTTCA', 'TATAGCATCG', 'ATGAAATTTC', 'GGTATTAGGC', 'GTGTCACGGC', 'AAAACCGGGC', 'TTCAATCGGT', 'TGAAGCCTAA', 'TTGTGCCACT', 'ACCAGCTCAA', 'CAGTTATGAG', 'CCCGCAGGTA', 'TAGGAAACGA', 'GTTGAATTCC', 'GGGGCACCCT', 'CACAGATAAA', 'GCGACCAATT', 'TTGTCCCCCA', 'GTAGCTCTCG', 'TCATCTGAGA', 'AGTGAAACGG', 'GCGATGGGTC', 'GATAACTGTG', 'GTCAAAGATT', 'CGTTCAAAGT', 'GTTGCAATGC', 'TGGCGGCCCT', 'TGCCTGCATA', 'TGGCCGTTAA', 'CTTCATGTGC', 'AACAATCAAC', 'TATCCCCGGA', 'ACCGCCAAAG', 'TTACCATTCA', 'CGGGTAGCGT', 'GTGCAACCCC', 'TTTATTGGTA', 'CCATTAATCT', 'AGCGTGTTTG', 'CCACAGGCCC', 'GTTCATATGC', 'ACTGGTACAA', 'ATTGAATTGA', 'ACCGCCAAAT', 'TCACCAGTTC', 'CCACAAGCTT', 'GGTTAGGGGC', 'GCTGAAAATT', 'AATTTGCAAA', 'TGGGGTCAAC', 'GTCTACTGCT', 'GGACTAATGA', 'TACCTTTGCG', 'ACCGCTGCAC', 'CCCACAGCTT', 'TGCACTACTC', 'ACTACAGATT', 'GTTAATGCCA', 'AAATTTTATT', 'AGGACGGCAA', 'AACCAGACCT', 'ACACATTCGG', 'TGATAGTCGA', 'GTTCAGGGCT', 'AAACGAAACC', 'GATGCCCCTG', 'GAGGTCTGCA', 'GAGGGATCCT', 'TATGTGCACC', 'AGACCGGTTA', 'CGTCGACGCG', 'GACGAGATGC', 'GGTACTGTGT', 'GAACAGTGCA', 'CAGCACACGA', 'GTAGATAGAC', 'TAGATGACGG', 'GCACTTGTCG', 'GTTCTAGGAA', 'GGCAGGCCCA', 'CGGCGTATAT', 'ATCGAGATGC', 'CACCGCTGAC', 'CCGATTGTTT']\n"
     ]
    }
   ],
   "source": [
    "def createArtSequences(freq, num_sample=100):\n",
    "    \"\"\"\n",
    "    Genere deux jeux de sequences: positives (ayant le motif) et negatives (aleatoires)\n",
    "    entrée PWM : matrice de poids position qui represent le motif d'interet\n",
    "    entrée num_sample : int, nombre d'echantillons\n",
    "    sortie pos : list contenant les sequences positives\n",
    "    sortie neg : list contenant les sequences negatives\n",
    "    \"\"\"\n",
    "    \n",
    "    #Par rapport à la matrice de fréquence d'entrée on détermine dans un premier temps le motif le plus probable pour l'implanté dans les séquences de classe 1 (pos)... on reconstruit le motif \n",
    "    #Pour ça on détermine pour chaque colonne de freq la proba la plus importante, si elle est est en posligne 1 = 'A', posligne 2='T', posligne 3='G', posligne 4='C'\n",
    "    \n",
    "    motif= ''\n",
    "    nuc = ('A', 'C', 'G', 'T')\n",
    "    nbLigne = len(freq)\n",
    "    nbColonne = len(freq[0])\n",
    "    for c in range(nbColonne):\n",
    "        indBestprob=0\n",
    "        Bestprob=0\n",
    "        for l in range(nbLigne):\n",
    "            if (freq[l,c]>Bestprob):\n",
    "                Bestprob=freq[l,c]\n",
    "                indBestprob=l\n",
    "        motif+=nuc[indBestprob]\n",
    "    #print(motif) C'est bien AGTATAG\n",
    "    \n",
    "    \n",
    "    #Boucle pour créer les 100 séquences pour pos et neg en paralléle\n",
    "    pos = []\n",
    "    neg = []\n",
    "    n=10 #TailleSéquenceGénerer REMETTRE À 80 PLUS TARD \n",
    "    lenmotif=len(motif)\n",
    "    lenseqpostmp= n-lenmotif #Taille de la séquence de classe positive sans le motif implanté\n",
    "    \n",
    "    for i in range(num_sample):\n",
    "        seqtmppos=''\n",
    "        seqtmpneg=''\n",
    "        for i in range (n):#Boucle pour créer 2 séquences en parallele cad une pour pos et une autre pour neg, la séquence pour pos aura le motif le plus probable d'aprés la matrice freq qui lui sera implanté aléatoirement   \n",
    "            #CasSéquencePourNeg\n",
    "            nucneg=random.choice(nuc)\n",
    "            seqtmpneg+=nucneg\n",
    "            \n",
    "            #CasSéquencePourPos\n",
    "            if (i<lenseqpostmp):\n",
    "                nucpos=random.choice(nuc)\n",
    "                seqtmppos+=nucpos\n",
    "                \n",
    "            #Ajout du motif à la sequence positive jusqu'à présent créer\n",
    "            if(i==lenseqpostmp):\n",
    "                #Implémentation aléatoire du motif en tirant aléatoirement un indice entre 0 et lenseqpostmp\n",
    "                randind= random.randint(0, lenseqpostmp)\n",
    "                seqtmppos= seqtmppos[:randind] + motif + seqtmppos[randind:]  \n",
    "        \n",
    "        pos.append(seqtmppos)\n",
    "        neg.append(seqtmpneg)\n",
    "        \n",
    "    return pos, neg\n",
    "\n",
    "pos, neg  = createArtSequences(freq, num_sample)\n",
    "print(\"POSSSSSSSS\\n\", pos)\n",
    "print(\"NEGGGGGGGG\\n\",neg)"
   ]
  },
  {
   "cell_type": "markdown",
   "metadata": {
    "id": "tCr-0uaz3WXr"
   },
   "source": [
    "1.2 Générer le vecteur y contenant les labels de séquences générer à la question précédente, séquences positives = label 1, et négatives = label 0. Pour simplifier les prochain calculs y doit être un numpy array de dimension (num_sample*2, 1)"
   ]
  },
  {
   "cell_type": "code",
   "execution_count": 4,
   "metadata": {
    "id": "TLSWIMGR3Z1I"
   },
   "outputs": [],
   "source": [
    "#Création de la matrice à num_sample*2 ligne et 1 colonne\n",
    "y= np.zeros((num_sample*2, 1))\n",
    "\n",
    "#Les labels sont tous à 0 initialement car np.zeros, ainsi on initialise les lignes de 0 à 99 avec un label positive \n",
    "nbLigne = len(y)\n",
    "nbColonne = len(y[0])\n",
    "\n",
    "for c in range(nbColonne):\n",
    "    for l in range(num_sample):\n",
    "        y[l,c]=1\n",
    "\n",
    "#print(y)"
   ]
  },
  {
   "cell_type": "markdown",
   "metadata": {
    "id": "3E_GVK6_Ac3w"
   },
   "source": [
    "1.3 Nous allons créer notre matrice X contenant deux features, pour simplifier x1 sera le nombre de AG et x2 le nombre de TA. Par exemple, pour la séquence AGAGTAG, x1 = 3 et x2=1"
   ]
  },
  {
   "cell_type": "code",
   "execution_count": 5,
   "metadata": {
    "id": "jxZ69YUP3eaJ"
   },
   "outputs": [
    {
     "data": {
      "image/png": "[encoded data removed]",
      "text/plain": [
       "<Figure size 640x480 with 1 Axes>"
      ]
     },
     "metadata": {},
     "output_type": "display_data"
    },
    {
     "data": {
      "image/png": "[encoded data removed]",
      "text/plain": [
       "<Figure size 640x480 with 1 Axes>"
      ]
     },
     "metadata": {},
     "output_type": "display_data"
    }
   ],
   "source": [
    "def createFeatures(trainSeqs:list, num_sample=100):\n",
    "    \"\"\"\n",
    "    Créer deux features pour chaque séquence: x1 = nombre de AG et x2 = nombre de TA \n",
    "    entrée trainSeqs : list de séquences \n",
    "    entrée num_sample : nombre d'échantillons \n",
    "    sortie X : numpy array contenant deux feature pour chaque séquence\n",
    "    \"\"\"\n",
    "    dim = (num_sample, 2)\n",
    "    X = np.zeros(dim)\n",
    "    lenliste=len(trainSeqs)\n",
    "    nbTA=0\n",
    "    nbAG=0\n",
    "    \n",
    "    for i in range (lenliste):\n",
    "        seq=trainSeqs[i]\n",
    "        for j in range(len(seq)-2+1):\n",
    "            motif = seq[j:j+2]\n",
    "            if(motif=='AG'):\n",
    "                nbAG+=1\n",
    "            elif (motif=='TA'):\n",
    "                nbTA+=1\n",
    "        \n",
    "        #On màj les features et ré-initialisons les variables tmp pour la prochaine séquence\n",
    "        X[i,0]=nbAG\n",
    "        X[i,1]=nbTA\n",
    "        \n",
    "        nbTA=0\n",
    "        nbAG=0\n",
    "        \n",
    "    return X\n",
    "\n",
    "#AGTATAG, au minimum dans la liste pos on retrouve pr chaque séquence nbAG=2 et nbTA=2\n",
    "Xpos = createFeatures(pos) #Matrice des caractéristiques par séquences\n",
    "Xneg = createFeatures(neg)\n",
    "\n",
    "yPos = np.ones(num_sample)  #Label à 1 pour tt les séquences avec le motif \n",
    "yNeg = np.zeros(num_sample) #Label à 0 pour tt les séquences avec le motif \n",
    "    \n",
    "#Ploter les données\n",
    "plt.scatter(Xpos[:,0], Xpos[:, 1],c=yPos, s=15) #En abscisse les données concernant AG et en. ordonnée ceux concernant TA\n",
    "plt.show()\n",
    "\n",
    "plt.scatter(Xneg[:,0], Xneg[:, 1], c=yNeg, marker='x', cmap='summer')\n",
    "plt.show()\n",
    "\n",
    "#Normaliser les données entre 0 et 1\n",
    "X = np.vstack((Xpos, Xneg))\n",
    "x_norm = (X-np.min(X))/(np.max(X)-np.min(X))\n",
    "X = x_norm\n"
   ]
  },
  {
   "cell_type": "markdown",
   "metadata": {
    "id": "OMQhDkPTC1XD"
   },
   "source": [
    "## 2. Construction d'un neurone artificiel\n",
    "2.1 Faire une fonction pour initialiser avec des valeurs aléatoires la matrice W et b"
   ]
  },
  {
   "cell_type": "code",
   "execution_count": 6,
   "metadata": {
    "id": "tG3YFKd6Y3jj"
   },
   "outputs": [
    {
     "name": "stdout",
     "output_type": "stream",
     "text": [
      "[[-0.03307148]\n",
      " [ 0.72480942]]\n"
     ]
    }
   ],
   "source": [
    "def initialisation(X):\n",
    "    \"\"\"\n",
    "    Initialiser avec des valeurs aléatoires la matrice W et b\n",
    "    entrée X: matrice de features\n",
    "    sortie W: matrice de poids du reseau\n",
    "    sortie b: bias\n",
    "    \"\"\"\n",
    "    W = np.random.randn(X.shape[1], 1)\n",
    "    b = np.random.randn(1)\n",
    "\n",
    "    return (W, b)\n",
    "\n",
    "W, b = initialisation(X)\n",
    "print(W)"
   ]
  },
  {
   "cell_type": "markdown",
   "metadata": {
    "id": "VAuvpzWKD6r7"
   },
   "source": [
    "2.2 Faire une fonction qui calcule la fonction d'ativation du neurone "
   ]
  },
  {
   "cell_type": "code",
   "execution_count": 7,
   "metadata": {
    "id": "O7GP4WQOZ5RY"
   },
   "outputs": [],
   "source": [
    "def model(X, W, b):\n",
    "    \"\"\"\n",
    "    Calcule Z puis A\n",
    "    entrée X: matrice de features\n",
    "    entrée W: matrice de poids du reseau\n",
    "    entrée b: bias\n",
    "    sortie A: valeur de la fonction d'ativation\n",
    "    \"\"\"\n",
    "    Z = X.dot(W) + b\n",
    "    A = 1/(1 + np.exp(-Z)) #Pour chaque échnatillon on détermine sa proba d'apartennir à la classe 1\n",
    "    return A\n",
    "\n",
    "A = model(X, W, b)\n",
    "#X caractéristiques de notre échantillon de séquence\n",
    "#print(A.shape) 200 échantillons dans X donc 200 activations matrice 200*1"
   ]
  },
  {
   "cell_type": "markdown",
   "metadata": {
    "id": "8nhsFjyOFLid"
   },
   "source": [
    "2.2 Faire la fonction logLoss"
   ]
  },
  {
   "cell_type": "code",
   "execution_count": 8,
   "metadata": {
    "id": "ygDaoWenbUPA"
   },
   "outputs": [],
   "source": [
    "def log_loss(A, y):\n",
    "    \"\"\"\n",
    "    Calcule log_loss basée en A et y\n",
    "    entrée A: vecteur contenant les valeurs de fonctions d'activation pour les num_sample*2\n",
    "    entrée y: vecteur de labels donc sa taille ets le nbr d'échantillons\n",
    "    sortie ll: logLoss\n",
    "    \"\"\"\n",
    "    ll = (1/len(y) * np.sum(-y * np.log(A) - (1 - y) * np.log(1 - A)))\n",
    "    \n",
    "    return ll\n",
    "\n",
    "testlogloss=log_loss(A, y) \n",
    "#Dimension de A activation de l'échantillon et y données de référence : 200*1\n",
    "#print(testlogloss)"
   ]
  },
  {
   "cell_type": "markdown",
   "metadata": {
    "id": "Dc7ppmE9F6In"
   },
   "source": [
    "2.3 Faire la fonction qui calcule les gradients"
   ]
  },
  {
   "cell_type": "code",
   "execution_count": 9,
   "metadata": {
    "id": "F5ALRcpTcQSz"
   },
   "outputs": [],
   "source": [
    "def gradients(A, X, y):\n",
    "    \"\"\"\n",
    "    Calcule les gradients dW et db\n",
    "    entrée A: vecteur contenant les valeurs de fonctions d'activation pour num_sample*2\n",
    "    entrée X: matrice de features\n",
    "    entrée y: vecteur de labels\n",
    "    sortie dW: les gradients de W\n",
    "    sortie db: le gradients de b\n",
    "    \"\"\"\n",
    "    \n",
    "    dW = 1/len(y) * np.dot(X.T, A - y)\n",
    "    db = 1/len(y) * np.sum(A - y)\n",
    "    \n",
    "    return (dW, db)\n",
    "\n",
    "#testdW,testdb = gradients(A, X, y)\n",
    "#dW dimension (2,1) comme W et db un entier "
   ]
  },
  {
   "cell_type": "markdown",
   "metadata": {
    "id": "QvbcNvmPGd4b"
   },
   "source": [
    "2.4 Faire la fonction pour mettre à jours les parametre W et b"
   ]
  },
  {
   "cell_type": "code",
   "execution_count": 10,
   "metadata": {
    "id": "dxGJyWq_dKMe"
   },
   "outputs": [],
   "source": [
    "def update(dW, db, W, b, learning_rate):\n",
    "    \"\"\"\n",
    "    Mettre à jour W et b\n",
    "    entrée dW: les gradients de W\n",
    "    entrée db: le gradient de b\n",
    "    entrée W: matrice de poids W\n",
    "    entrée b: bias\n",
    "    entrée learning_rate: pas d'aprentissage\n",
    "    sortie W: W mis à jour\n",
    "    sortie b: b mis à jour\n",
    "    \"\"\"\n",
    "    \n",
    "    W = W - learning_rate * dW\n",
    "    b = b - learning_rate * db\n",
    "   \n",
    "    return (W, b)"
   ]
  },
  {
   "cell_type": "markdown",
   "metadata": {
    "id": "yV4chOnlHQCH"
   },
   "source": [
    "2.5 Faire la fonction pour entraîner un neurone artificiel"
   ]
  },
  {
   "cell_type": "code",
   "execution_count": 11,
   "metadata": {
    "id": "BE89yQopd5cf"
   },
   "outputs": [
    {
     "name": "stdout",
     "output_type": "stream",
     "text": [
      "(200, 2)\n"
     ]
    }
   ],
   "source": [
    "def backPropagation(X, y, learning_rate = 0.08, n_iter = 30): #On passe les donnée du model X et ceux de référence sous forme d'activation dans y\n",
    "    \"\"\"\n",
    "    Implemente l'algorithme backpropagation\n",
    "    entrée X: matrice de features\n",
    "    entrée y: vecteur de labels\n",
    "    entrée learning_rate: pas d'aprentissage\n",
    "    entrée n_iter: nombre d'iteration ou epoch\n",
    "    sortie W: W à la fin de l'entrainement \n",
    "    sortie b: b à la fin de l'entrainement \n",
    "    sortie Loss: List contenant les valeur de la fonction logLoss à chaque iteration\n",
    "    \"\"\" \n",
    "    # initialisation W, b\n",
    "    W, b = initialisation(X)\n",
    "    Loss = []\n",
    "    \n",
    "    #boucle d'apprentissage pour le neurone artificiel\n",
    "    for i in range(n_iter):\n",
    "        A = model(X, W, b)\n",
    "        Loss.append(log_loss(A, y))\n",
    "        dW, db = gradients(A, X, y)\n",
    "        W, b = update(dW, db, W, b, learning_rate) \n",
    "\n",
    "    return (W, b, Loss)\n",
    "\n",
    "W, b, Loss = backPropagation(X, y, 0.5, 600)\n",
    "print (X.shape)\n"
   ]
  },
  {
   "cell_type": "markdown",
   "metadata": {
    "id": "ir4Pl195LDaD"
   },
   "source": [
    "2.6 Ploter les valeurs de LogLoss pour voir si ça diminue au cours des epochs"
   ]
  },
  {
   "cell_type": "code",
   "execution_count": 12,
   "metadata": {
    "id": "uRbcSdfsyYlg"
   },
   "outputs": [
    {
     "data": {
      "image/png": "[encoded data removed]",
      "text/plain": [
       "<Figure size 640x480 with 1 Axes>"
      ]
     },
     "metadata": {},
     "output_type": "display_data"
    }
   ],
   "source": [
    "plt.plot(Loss)\n",
    "plt.xlabel(\"iteration\")\n",
    "plt.ylabel(\"error\")\n",
    "plt.show()"
   ]
  },
  {
   "cell_type": "markdown",
   "metadata": {
    "id": "KZvBv8AmLToj"
   },
   "source": [
    "2.7 Faire une fonction Predict qui renvoie 1 si la probabilité donnée par le model est supérieure ou égale à 0.5, 0 sinon"
   ]
  },
  {
   "cell_type": "code",
   "execution_count": 13,
   "metadata": {
    "id": "iJM_WeCurSuF"
   },
   "outputs": [],
   "source": [
    "def predict(X, W, b):\n",
    "    \"\"\"\n",
    "    Predire le label de donnees X en ulisant parametre W, b\n",
    "    entrée X: matrice de features\n",
    "    entrée W: matrice de poids W\n",
    "    entrée b: bias\n",
    "    sortie A: 1 si la probalité donnee par le model est superieur ou egale à 0.5, 0 sinon \n",
    "    \"\"\" \n",
    "    A = model(X, W, b)\n",
    "    #print(A)\n",
    "    return A >= 0.5"
   ]
  },
  {
   "cell_type": "markdown",
   "metadata": {
    "id": "U2Iv6tbRTlYO"
   },
   "source": [
    "2.8 Afficher l'accuracy du model sur les données d'entrainement."
   ]
  },
  {
   "cell_type": "code",
   "execution_count": 14,
   "metadata": {
    "id": "4CSwS5fUvd1M"
   },
   "outputs": [
    {
     "name": "stdout",
     "output_type": "stream",
     "text": [
      "0.98\n"
     ]
    }
   ],
   "source": [
    "\"\"\"\n",
    "from sklearn.metrics import accuracy_score\n",
    "\n",
    "y_pred = predict(X, W, b)\n",
    "print(accuracy_score(y, y_pred))\n",
    "\n",
    "\"\"\"\n",
    "    \n",
    "from sklearn.metrics import accuracy_score\n",
    "from sklearn.model_selection import train_test_split\n",
    "\n",
    "y = y.reshape((y.shape[0], 1))\n",
    "X_train, X_test, y_train, y_test = train_test_split(X, y, test_size = 0.2)\n",
    "\n",
    "y_pred = predict(X, W, b)\n",
    "#print(y_pred)\n",
    "print(accuracy_score(y, y_pred))\n",
    "    "
   ]
  },
  {
   "cell_type": "markdown",
   "metadata": {
    "id": "KL2bxGemo8N8"
   },
   "source": [
    "## 3. Amelioration du modèle"
   ]
  },
  {
   "cell_type": "markdown",
   "metadata": {
    "id": "HRnEzgUhn0FX"
   },
   "source": [
    "3.1 Quel est la performance du modèle? Changer les paramètres learning_rate et n_iter pour améliorer la performance. Comment ces deux paramètres influencent la accuracy?"
   ]
  },
  {
   "cell_type": "markdown",
   "metadata": {
    "id": "2wWpeEoTovnX"
   },
   "source": [
    "<font color='blue'>\n",
    "Le modèle est performant puisque dans 98% les décisions prises sont correctes, il s'avère qu'en augmentant learning_rate le neurone artificielle apprend moins rapidement puisque lors des maj avec update les pondérations W = W - learning_rate * dW on soustrait à W courant de plus petite valeur. Ça nous permettrait tout de même de renforcer nos paramètres de pondération avec plus de précision et obtenir ainsi de meilleure prédiction... le nombre d'itérations effectué pour exécuter l'algorithme d'apprentissage back propagation influe également sur l'apprentissage du neurone et plus il est important davantage nous obtenons un résultat pertinent, cela dit si la mearning_rate n'est pas bien choisit meme en itérant un grand nombre de fois nous réduirons pas les erreurs entre le model et y lors de l'apprentissage. learning_rate et y vont de pair.\n",
    "\n",
    "Plus nous augmentons le nombre d'itérations, plus nous nous rapprochons d'un log_loss=0 cad un idéal dans nos prédictions où le neurone prédirait de façon optimale le résultat attendue.\n",
    "\n",
    "Par conséquent, ces deux paramètres sont déterminants pour l'accuracy puisqu'elles permettent au neurone d'apprendre au mieux donc réduire les différences entre les prédictions y_pred du neurone et nos faits actés y, l'accuracy se rapproche donc de 100%.\n",
    "\n",
    "Cependant, nous pouvons ne jamais atteindre 100% puisque nos séquences négatives sont générer aléatoirement donc elles peuvent avoir des carctéristiques X qui font qu'elles se rapproche tout de meme d'un échantillon/séquence de classe 1 et donc mm en essayant de réduire les erreurs log loss avec le gradient et update, l'activation reste incorrect et l'idée serait donc de jouer sur la learning_rate lors des màj avec le gradient pour franchir plus rapidement la barriere de décision pour cet échantillon. \n",
    "\n",
    "</font>"
   ]
  },
  {
   "cell_type": "markdown",
   "metadata": {
    "id": "Xd61l95ApbZc"
   },
   "source": [
    "3.2 Ajouter d'autre features comme par exemple d'autre dinucléotides, ou trinucleotides et réentraîner le modèle. "
   ]
  },
  {
   "cell_type": "code",
   "execution_count": 15,
   "metadata": {
    "id": "TuNxNkaRp7EV"
   },
   "outputs": [],
   "source": [
    "def createFeatures(trainSeqs:list, num_sample=100):\n",
    "    \"\"\"\n",
    "    Create plusieurs features pour représenter le motif\n",
    "    entrée trainSeqs : list de séquences d'entrainement\n",
    "    entrée num_sample : nombre d'échantillons \n",
    "    sortie X : numpy array contenant plusieurs features pour chaque séquence\n",
    "    \"\"\"\n",
    "    dim = (num_sample, 4)\n",
    "    X = np.zeros(dim)\n",
    "    lenliste=len(trainSeqs)\n",
    "    nbTA=0\n",
    "    nbAG=0\n",
    "    nbGT=0 #Y'en a au minimum 1 pour les séquences pos générer artificiellement\n",
    "    nbAT=0 #Au minimum 1 pour les séquences pos\n",
    "    \n",
    "    for i in range (lenliste):\n",
    "        seq=trainSeqs[i]\n",
    "        for j in range(len(seq)-2+1):\n",
    "            motif = seq[j:j+2]\n",
    "            if(motif=='AG'):\n",
    "                nbAG+=1\n",
    "            elif (motif=='TA'):\n",
    "                nbTA+=1\n",
    "            elif(motif=='GT'):\n",
    "                nbGT+=1\n",
    "            elif (motif=='AT'):\n",
    "                nbAT+=1\n",
    "        \n",
    "        #On màj les features et ré-initialisons les variables tmp pour la prochaine séquence\n",
    "        X[i,0]=nbAG\n",
    "        X[i,1]=nbTA\n",
    "        X[i,2]=nbGT\n",
    "        X[i,3]=nbAT\n",
    "        \n",
    "        nbTA=0\n",
    "        nbAG=0\n",
    "        nbGT=0 \n",
    "        nbAT=0\n",
    "\n",
    "    return X\n",
    "\n",
    "Xpos = createFeatures(pos)\n",
    "Xneg = createFeatures(neg)\n",
    "X = np.vstack((Xpos, Xneg))\n",
    "x_norm = (X-np.min(X))/(np.max(X)-np.min(X))\n",
    "X = x_norm\n"
   ]
  },
  {
   "cell_type": "markdown",
   "metadata": {
    "id": "qjr9Cj5RzYwu"
   },
   "source": [
    "3.3 Réentraîner le modèle et comparer les performances."
   ]
  },
  {
   "cell_type": "code",
   "execution_count": 16,
   "metadata": {
    "id": "VO0w8_feqxup"
   },
   "outputs": [
    {
     "name": "stdout",
     "output_type": "stream",
     "text": [
      "(200, 4)\n"
     ]
    },
    {
     "data": {
      "image/png": "[encoded data removed]",
      "text/plain": [
       "<Figure size 640x480 with 1 Axes>"
      ]
     },
     "metadata": {},
     "output_type": "display_data"
    },
    {
     "name": "stdout",
     "output_type": "stream",
     "text": [
      "0.98\n"
     ]
    }
   ],
   "source": [
    "#Entrainer \n",
    "W, b, Loss = backPropagation(X, y, 0.5, 600)\n",
    "print (X.shape)\n",
    "plt.plot(Loss)\n",
    "plt.xlabel(\"iteration\")\n",
    "plt.ylabel(\"error\")\n",
    "plt.show()\n",
    "\n",
    "y_pred1 = predict(X, W, b)\n",
    "print(accuracy_score(y, y_pred1))"
   ]
  },
  {
   "cell_type": "markdown",
   "metadata": {},
   "source": [
    "<font color='blue'>\n",
    "En ajoutant comme features d'autres dinucléotides, en l'occurrence 'GT' et 'AT' qui sont présents dans le motif AGTATAG implanté dans les séquences labélisées 1, on ré-entraine notre neurone.\n",
    "\n",
    "On exécute backPropagation avec différents nombres d'itération, \n",
    "    \n",
    "1/------- nb_iter = 10 ----------- \n",
    "Il n'est ainsi créée que 10 modèles intermédiairement lors du processus d'apprentissage... on a donc à chaque fois des proba d'activation A pour nos séquences qui admettent des erreurs par rapport à nos labels y vérifiés, le nb_iter est trop faible pour permettre aux paramètres de pondération W et b d'être màj et permettre aux neurones d'apprendre. Ainsi pour un autre échantillon ajouté à la liste, il est probable que le neurone prenne une mauvaise décision pour ce qui est de son appartenance à la classe 0 ou 1 car les paramètres de pondérations ne sont toujours pas ceux permettant au neurone d'émettre de bonne prédiction. L'accuracy_score(y, y_pred1) n'est que de 0,73 et log_loss diminue de 0,74 à 0,64.\n",
    "\n",
    "2/ ------- nb_iter = 600 ----------- \n",
    "Les résultats sont bien plus intéressants, les erreurs (log loss) entre le model et y qui initialement était de 1.2 diminue à 0.1 (les erreurs sont drastiquement réduites entre les activations A déterminées par le neurone A et celles vérifiés Y). Les prédictions sont susceptibles d'être plus correcte avec les paramètres de pondération W et b ici déterminer grâce à backPropagation. On pourrait ainsi définir une fonction linéaire avec X les caractéristiques, W les pondérations et b le biais qui nous retournerait ainsi peu importe les séquences d'entrées de bonnes prédictions. 1 = a le motif/séquences d'intérêt ou 0= abs du motif/séquences d'intérêt. L'accuracy entre y et y_pred est ici de 0.985 et témoigne d'une plus grande fiabilité. Noius avons donc un model intéressant ici pour les caractéristiques/Features choicit of course, si on change de feature faut chnager de model.\n",
    "    \n",
    "Pour un meme nb d'itération (600) en augmentant la vitesse d'apprentissage (learning_rate) de 0.5 à 7... on constate que log_loss passe le seuil de 0.1 plus rapidement cad au bout d'une quentaine d'itération, initialement on passait le seuil de 0.1 au bout de 400 itérartion. Les erreurs sont encore plus réduite et l'accuracy est de 0.995 cette fois... on a plus de vraisemblance. \n",
    "\n",
    "#JOUER AUSSI SUR LA VITESSE D'APPRENTISSAGE POUR VOIR COMMENT ÇA ÉVOLUE \n",
    "</font>"
   ]
  },
  {
   "cell_type": "markdown",
   "metadata": {
    "id": "G8w7E3QAR6Y2"
   },
   "source": [
    "## 4. Tester sur vous données de chip-seq\n",
    "4.1 Vous avez peut-être une idée du motif caché dans vos données.\n",
    "Entraîner un modèle spécifique pour reconnaître le motif d'intérêt.\n",
    "Telechargé la matrice de frequence du motif d'intérêt sur le site https://jaspar.genereg.net/, chercher par le nom du motif, puis copie sa matrice de frequence. Voici un exemple pour le motif AFT1"
   ]
  },
  {
   "cell_type": "code",
   "execution_count": 18,
   "metadata": {
    "id": "AKMhXjeHWKME"
   },
   "outputs": [
    {
     "name": "stdout",
     "output_type": "stream",
     "text": [
      "POSSSSSSSS\n",
      " ['TTTGCTCATG', 'AATTTGCTCA', 'CTTTGCTCAT', 'TTTTTGCTCA', 'TTTGCTCAAG', 'ATTTGCTCAA', 'TTTGCTCACA', 'TTTGCTCACC', 'TTTTGCTCAC', 'CTTTGCTCAG', 'GTTTGCTCAC', 'ACTTTGCTCA', 'TTTGCTCATT', 'TTTGCTCAAA', 'ACTTTGCTCA', 'TTTGCTCAAG', 'GTTTGCTCAC', 'TGTTTGCTCA', 'GATTTGCTCA', 'GATTTGCTCA', 'CTTTGCTCAG', 'TATTTGCTCA', 'ATTTGCTCAT', 'CATTTGCTCA', 'AATTTGCTCA', 'CTTTGCTCAG', 'TTTGCTCAAC', 'ATTTTGCTCA', 'TTTGCTCAAA', 'AATTTGCTCA', 'TTTTGCTCAA', 'GTTTGCTCAC', 'TCTTTGCTCA', 'TTTGCTCACG', 'TTTGCTCAGA', 'ATTTGCTCAC', 'TTTGCTCATA', 'ATTTGCTCAT', 'TTTGCTCAGG', 'CTTTGCTCAC', 'CCTTTGCTCA', 'CCTTTGCTCA', 'GTTTGCTCAG', 'ATTTGCTCAC', 'TTTTGCTCAC', 'TTTGCTCACA', 'TTTGCTCAAT', 'CTTTGCTCAT', 'TTTGCTCAAC', 'TTTTTGCTCA', 'ATTTGCTCAG', 'CATTTGCTCA', 'ATTTGCTCAA', 'TTTGCTCAGA', 'GTTTGCTCAT', 'GGTTTGCTCA', 'TTTGCTCATC', 'CTTTGCTCAA', 'TTTGCTCAAG', 'CTTTTGCTCA', 'CATTTGCTCA', 'CTTTGCTCAG', 'ACTTTGCTCA', 'TTTTGCTCAC', 'CTTTTGCTCA', 'GTTTGCTCAA', 'AATTTGCTCA', 'GTTTGCTCAT', 'TTTGCTCAGA', 'TTTTGCTCAC', 'CTTTGCTCAC', 'TTTTGCTCAG', 'TTTGCTCAGC', 'TATTTGCTCA', 'GTTTTGCTCA', 'ACTTTGCTCA', 'TTTGCTCATT', 'TTTTGCTCAG', 'ATTTGCTCAT', 'TTTGCTCAGT', 'TTTGCTCAGG', 'TTTGCTCAAA', 'ATTTGCTCAA', 'TTTGCTCACA', 'GTTTGCTCAA', 'TTTGCTCAAT', 'TTTGCTCAAT', 'GTTTGCTCAA', 'TTTGCTCACT', 'CTTTGCTCAG', 'CTTTGCTCAG', 'GCTTTGCTCA', 'GTTTGCTCAC', 'TATTTGCTCA', 'CTTTGCTCAG', 'TTTGCTCACT', 'TTTTTGCTCA', 'GTTTGCTCAG', 'GATTTGCTCA', 'TTTGCTCAAT']\n",
      "NEGGGGGGGG\n",
      " ['TAGCAGCGAG', 'ATTGCTCCTT', 'AGACATTCGG', 'GATGCGAATT', 'TGAGGCTATT', 'TGCGACGGGT', 'AAAGCTGAAG', 'GTGACTTAGA', 'ATACCACGAC', 'GTCCTCCGCG', 'TTAATAATCT', 'TCGGGAAAGC', 'TTCTTCTGCA', 'TTACTAGGAA', 'CGCTTGCCCC', 'CCCATTACGG', 'TCTTATGGGG', 'TTGTGTTTGG', 'CCGTCGTTCC', 'GTGTTAGCTA', 'GATTTCAAGA', 'CTCGGCGGTG', 'TGCCAAACTG', 'AAAATTCCCC', 'CGGTACTCGC', 'TGAAAGTTTC', 'CAAATCACAT', 'TGGGCTAACC', 'AGACTTAAAA', 'ATGGCGCTAC', 'GGCGTCAATT', 'GTTCCTTTGT', 'GATAGCGATC', 'TATTTTACTT', 'CAGCAAGAGA', 'TCCAATTCGG', 'TCGTCGTCAA', 'CGTCCGAGGT', 'CAGTGATTGT', 'CTACTCGAGG', 'ATCGATTTAC', 'CACGATATCT', 'AGGTCGTCGA', 'GCATGCTTTG', 'CAATGAGCAT', 'CCGCATCTGA', 'CGGCCTGGAT', 'CTACTAAAGA', 'CCTTCCATCA', 'CTTGGGTAGC', 'CGATACGAGC', 'GCGCTATAGG', 'CTCGTCTGCG', 'CTTTAAGAGG', 'CGAATCTCTA', 'AAGCTCCGTA', 'TCTCTTGCCG', 'TTGACTCTTT', 'AAGACCAGGT', 'AGGGACACTT', 'CTCGAACACC', 'TCGTTGACAA', 'GAGGTTACGT', 'GAAGTGTGCG', 'GATAATGTCG', 'CCATGTGTAA', 'GCTAGGTGGA', 'CCTGCTCTAC', 'TAAGAAAGAA', 'GTTAATGAAA', 'GCGAGAACCA', 'AGTATGTCGG', 'GATTGGGCGA', 'CTTCGGCACT', 'ATTCCCGCAT', 'GTCATAGTGA', 'CTTCTGACAC', 'TGATATGCGG', 'TCTTTGCATC', 'GCGTGCCAAT', 'GAGCCGTTGG', 'CCCAAGGTTG', 'GTGATAATTT', 'GAAGCCCCTA', 'TCACACGTCC', 'AGCTTTGGCT', 'ATCATTCTGG', 'GCACAGGCAG', 'AGCCAAGTTG', 'CGTACGCTGA', 'CATCACCAAA', 'GGGAGACTAA', 'ACACATGCGT', 'GGAGCACGGT', 'AATTCTCCTT', 'GTTACGAAGG', 'CAAAGGGAGC', 'TCGTCCTGGA', 'AAAGATGGAT', 'GCCACGTACG']\n"
     ]
    }
   ],
   "source": [
    "#>AFT1 à remplacer par la matrice du motif d'interet\n",
    "\n",
    "\"\"\"\n",
    "freq = np.array([\n",
    "[106,155,362,179,426,136,716,145,34,160,10,961,8,25,19,181,265,287,276,123,154],\n",
    "[205,249,197,396,231,78,25,31,47,10,966,9,972,955,740,257,252,155,180,225,236],\n",
    "[231,220,221,222,154,142,31,288,39,812,11,15,9,2,13,494,241,183,68,357,458],\n",
    "[456,374,218,200,187,641,226,535,878,16,10,14,10,16,225,65,240,373,474,292,150]\n",
    "])\n",
    "\n",
    "motif_length = 21 # à remplacer par taille de la matrice du motif d'interet\n",
    "num_sample = 100\n",
    "\n",
    "\"\"\"\n",
    "\n",
    "#Nos motif d'intérèt sont Mac1 et ATM1. Nous allons entrainer ici un neurone artificielle pour MAC1 ='TTTGCTCA'\n",
    "\n",
    "freq = np.array([\n",
    "[108,89,0,115,0,0,0,958],\n",
    "[0,0,0,0,1714,0,1714,0],\n",
    "[0,219,0,1599,0,0,0,655],\n",
    "[1632,1451,1714,0,0,1714,0,113]\n",
    "])\n",
    "\n",
    "motif_length = 8 # à remplacer par taille de la matrice du motif d'interet\n",
    "num_sample = 100\n",
    "posTest, negTest  = createArtSequences(freq, num_sample)\n",
    "\n",
    "print(\"POSSSSSSSS\\n\", posTest)\n",
    "print(\"NEGGGGGGGG\\n\",negTest)"
   ]
  },
  {
   "cell_type": "markdown",
   "metadata": {
    "id": "HO-OzXaaCELo"
   },
   "source": [
    "4.2 Recoder la fonction ``createFeatures`` pour créer un ensemble de features qui représentent bien le motif d'intérêt. Vous  pouvez utiliser autant de features qui vous souhaitez."
   ]
  },
  {
   "cell_type": "code",
   "execution_count": 19,
   "metadata": {
    "id": "WsHgc3N7z6jG"
   },
   "outputs": [],
   "source": [
    "def createFeatures(trainSeqs:list, num_sample=100):\n",
    "    \"\"\"\n",
    "    Create features pour representer le motif d'interet\n",
    "    entrée trainSeqs : list de séquences \n",
    "    entrée num_sample : nombre d'échantillons \n",
    "    sortie X : numpy array contenant deux feature pour chaque séquence\n",
    "    \"\"\"\n",
    "    #MOTIFMAC1:'TTTGCTCA'\n",
    "    dim = (num_sample, 3)\n",
    "    X = np.zeros(dim)\n",
    "    lenliste=len(trainSeqs)\n",
    "    nbTT=0 \n",
    "    nbTGC=0\n",
    "    nbTCA=0\n",
    "    \n",
    "    for i in range (lenliste):\n",
    "        seq=trainSeqs[i]\n",
    "        for j in range(len(seq)-3+1):\n",
    "            mot3 = seq[j:j+3]\n",
    "            mot2=seq[j:j+2]\n",
    "            if(mot2=='TT'):\n",
    "                nbTT+=1\n",
    "            elif (mot3=='TGC'):\n",
    "                nbTGC+=1\n",
    "            elif (mot3=='TCA'):\n",
    "                nbTCA+=1\n",
    "           \n",
    "            #Si on arrive à la fin de la sequence cad la dernier itération avec j=len(seq)-3+1 il ne faut pas oublier de faire le test pour le dernier motif de taille2 avant de sortir du for\n",
    "            if(j==len(seq)-3):\n",
    "                mot2=seq[-2:]\n",
    "                #print(mot2)\n",
    "            \n",
    "        #On màj les features et ré-initialisons les variables tmp pour la prochaine séquence\n",
    "        X[i,0]=nbTT\n",
    "        X[i,1]=nbTGC\n",
    "        X[i,2]=nbTCA\n",
    "        \n",
    "        nbTT=0\n",
    "        nbTGC=0\n",
    "        nbTCA=0\n",
    "    \n",
    "    return X\n",
    "\n",
    "#Faire des test avec des caracteristiques autres, par exemple x1 = TTTG et x2=CTCA comme features pour voir si ça améliore les perf, je compte mal mon TT ici"
   ]
  },
  {
   "cell_type": "code",
   "execution_count": 20,
   "metadata": {
    "id": "CRvVZb2_z7np"
   },
   "outputs": [],
   "source": [
    "Xpos = createFeatures(posTest)\n",
    "Xneg = createFeatures(negTest)\n",
    "X = np.vstack((Xpos, Xneg))\n",
    "x_norm = (X-np.min(X))/(np.max(X)-np.min(X))\n",
    "X = x_norm"
   ]
  },
  {
   "cell_type": "code",
   "execution_count": 21,
   "metadata": {
    "id": "h2_kAQPYWu55"
   },
   "outputs": [
    {
     "data": {
      "text/plain": [
       "(200, 1)"
      ]
     },
     "execution_count": 21,
     "metadata": {},
     "output_type": "execute_result"
    }
   ],
   "source": [
    "yTest = np.concatenate((np.ones(num_sample), np.zeros(num_sample)))\n",
    "yTest = yTest.reshape((yTest.shape[0], 1))\n",
    "y.shape"
   ]
  },
  {
   "cell_type": "markdown",
   "metadata": {
    "id": "7LNh55CADEq2"
   },
   "source": [
    "4.4 Réentraîner le modèle et ajuster les paramètres à fin d'obtenir la meilleure performance."
   ]
  },
  {
   "cell_type": "code",
   "execution_count": 22,
   "metadata": {
    "id": "oK6MJAvkECp4"
   },
   "outputs": [
    {
     "name": "stdout",
     "output_type": "stream",
     "text": [
      "(200, 3)\n"
     ]
    },
    {
     "data": {
      "image/png": "[encoded data removed]",
      "text/plain": [
       "<Figure size 640x480 with 1 Axes>"
      ]
     },
     "metadata": {},
     "output_type": "display_data"
    },
    {
     "name": "stdout",
     "output_type": "stream",
     "text": [
      "0.965\n"
     ]
    }
   ],
   "source": [
    "#Entrainer \n",
    "W, b, Loss = backPropagation(X, yTest, 0.46, 600)\n",
    "print (X.shape)\n",
    "plt.plot(Loss)\n",
    "plt.xlabel(\"iteration\")\n",
    "plt.ylabel(\"error\")\n",
    "plt.show()\n",
    "\n",
    "y_pred2 = predict(X, W, b)\n",
    "print(accuracy_score(yTest, y_pred2))\n",
    "\n",
    "#Améliorer la perfomarance en jouant sur les itérations, le learning_rate et caractéristique éventuellement à changer"
   ]
  },
  {
   "cell_type": "markdown",
   "metadata": {
    "id": "O5J-eHZIC5Nv"
   },
   "source": [
    "4.5 Lire votre fichier et charger les séquences."
   ]
  },
  {
   "cell_type": "code",
   "execution_count": 23,
   "metadata": {
    "id": "8lhMiYmJ0zI8"
   },
   "outputs": [
    {
     "name": "stdout",
     "output_type": "stream",
     "text": [
      "TTTCAAACTTTGGTCTTCTGAACCTCTTCCAAGTACAACAGAAATCAAGAGAGCCCACAGTAACGTTTTGTTCTTGCTGACTTACTGGAGTGAATGAATGAGTTGAGATGAAACAACTCCCATGGCCCCCAAACATAACCAAAAGAAAACAGCTTTGTTGAAGTTCTCCAGAAGAAGACTACAGAAGTAACACTCGTTAAAACTGCTATAAAACGTGTAACTGTTGTATGGGACTGCAAAATGGATAAGACTTGGCTTTGCCTTTTCAGCACATTTGCTCTTCAAAGAAATTGAATATCCTTCTATCCAATCAGATCATGAAGACTATGGCTTTGAGATGAGAACGGGGGTGCAATTTGAGTGGTGTGCAGCCAATAAAACAGTAGATCCCGTATTTCAAAAATTGCACCCGGTTTTCTTTTCTCGTTCGTACAGCTCTTTCTGAATTGCACCCTTTTTTCATATGAACTGCAGTGTTACCTAGATCAAGTGGGGGGGTGGCAGGTGGCTATTTCTGCCTTCTACAGCGCTTTTAGTGAACTTTTGCTTTGTTGTAATTGTAGTTGTATTTCTGTGTGTTACGTGAAATACCGTGCCTTTGTCTATCATTCTTTCAGTGGTTTTGCTCGCAGAGATGGGGCATTTTGATCCATTGTGTGTTAAAGCACAGTGGGACCCAGGAATAGTAGAGAGAAGGAAAGTGGGGGAAGGGTAGCAGTGGGGCCGGAAGGAGAACGTTCTATTCTACAGCATATCTTGTTCTGTTCTCCTGAATGATATATTCTCTCCTGCCAGTCTTCTAACTTCGGTTCCATTGAACAATAATGATGTCGTTGCGAGTGGTGAAACTC\n"
     ]
    }
   ],
   "source": [
    "def readFasta(genome):\n",
    "    sequence = []\n",
    "    file = open(genome, \"r\")\n",
    "    sequences = []\n",
    "    seq = \"\"\n",
    "    for s in file:\n",
    "        if s[0] != \">\":\n",
    "            seq += s.strip().upper()\n",
    "        else:\n",
    "            sequences.append(seq)\n",
    "            seq = \"\"\n",
    "    return sequences[1:]\n",
    "genome = \"Sequence_by_Peaks_1.fasta\"\n",
    "seq= readFasta(genome)\n",
    "#print(seq)\n",
    "sequence = readFasta(genome)[0] #Juste la première séquence chipseq du fichier\n",
    "print(sequence)"
   ]
  },
  {
   "cell_type": "markdown",
   "metadata": {
    "id": "_AY6wWUWDXeu"
   },
   "source": [
    "4.6 Faire une fonction pour parcourir votre séquence et conter combien de fois le modèle prédire le motif, exprimer en pourcentage."
   ]
  },
  {
   "cell_type": "code",
   "execution_count": 24,
   "metadata": {
    "id": "8CKHHvz21ePg"
   },
   "outputs": [
    {
     "name": "stdout",
     "output_type": "stream",
     "text": [
      "0.5165876777251185\n"
     ]
    }
   ],
   "source": [
    "def predireMotif(sequence:str, motif_length:int, W, b):\n",
    "    \"\"\"\n",
    "    Prédire les positions des motifs et calculer le pourcentage d'apparition du motif.\n",
    "    entrée sequence : sequence de nucleotides \n",
    "    entrée motif_length : taille du motif\n",
    "    entrée W: matrice de poids W\n",
    "    entrée b: bias\n",
    "    sortie perc : pourcentage d'aparission du motif\n",
    "\n",
    "    \"\"\"\n",
    "    countMotif =0; countTotal = 0\n",
    "    lenseq= len(sequence)\n",
    "    listMotifSéquence=[]\n",
    "    \n",
    "   #Création d'une liste avec tout les motifs de meme taille que le motif d’intérêt\n",
    "    for j in range(len(sequence)-motif_length+1):\n",
    "        motif=sequence[j:j+motif_length]\n",
    "        listMotifSéquence.append(motif)\n",
    "        countTotal+=1\n",
    "    #Création des caractéristiques pour chaque motif de la liste de motifs\n",
    "    Xseq= createFeatures(listMotifSéquence,countTotal)\n",
    "    #Pour chaque motif de la liste, détermine si neurone artificiel entrainer renvoie 1 OU 0\n",
    "    y_pred = predict(Xseq, W, b) \n",
    "    \n",
    "    for i in range(len(y_pred)):\n",
    "        if y_pred[i]==True:\n",
    "            countMotif+=1\n",
    "    #print(countMotif)\n",
    "\n",
    "    #Retourne le pourcentage, rapport entre 1 renvoyer par le neurone sur le nombre de motif total\n",
    "    return  (countMotif/countTotal)\n",
    "\n",
    "percMotif = predireMotif(sequence, motif_length,W, b)\n",
    "print (percMotif)  "
   ]
  },
  {
   "cell_type": "markdown",
   "metadata": {
    "id": "DUZefMwa195Z"
   },
   "source": [
    "4.7 Pour contrôler que le pourcentage d'apparition du motif d'intérêt et pas du au hasard, entraîner un modèle avec un autre motif et vérifier si le pourcentage du motif d'intérêt est supérieur."
   ]
  },
  {
   "cell_type": "code",
   "execution_count": 36,
   "metadata": {
    "id": "MjOAIDIK20bP"
   },
   "outputs": [
    {
     "name": "stdout",
     "output_type": "stream",
     "text": [
      "(200, 3)\n"
     ]
    },
    {
     "data": {
      "image/png": "[encoded data removed]",
      "text/plain": [
       "<Figure size 640x480 with 1 Axes>"
      ]
     },
     "metadata": {},
     "output_type": "display_data"
    },
    {
     "name": "stdout",
     "output_type": "stream",
     "text": [
      "0.995\n",
      "0.19451073985680192\n"
     ]
    }
   ],
   "source": [
    "\n",
    "def createFeatures(trainSeqs:list, num_sample=100):\n",
    "    \"\"\"\n",
    "    Create features pour representer le motif d'interet\n",
    "    entrée trainSeqs : list de séquences \n",
    "    entrée num_sample : nombre d'échantillons \n",
    "    sortie X : numpy array contenant deux feature pour chaque séquence\n",
    "    \"\"\"\n",
    "    #MOTIFPdr1:TCCGCGGA\n",
    "    dim = (num_sample, 3)\n",
    "    X = np.zeros(dim)\n",
    "    lenliste=len(trainSeqs)\n",
    "    nbTC=0 \n",
    "    nbCGC=0\n",
    "    nbGGA=0\n",
    "    \n",
    "    for i in range (lenliste):\n",
    "        seq=trainSeqs[i]\n",
    "        for j in range(len(seq)-3+1):\n",
    "            mot3 = seq[j:j+3]\n",
    "            mot2=seq[j:j+2]\n",
    "            if(mot2=='TC'):\n",
    "                nbTC+=1\n",
    "            elif (mot3=='CGC'):\n",
    "                nbCGC+=1\n",
    "            elif (mot3=='GGA'):\n",
    "                nbGGA+=1\n",
    "           \n",
    "            #Si on arrive à la fin de la sequence cad la dernier itération avec j=len(seq)-3+1 il ne faut pas oublier de faire le test pour le dernier motif de taille2 avant de sortir du for\n",
    "            if(j==len(seq)-3):\n",
    "                mot2=seq[-2:]\n",
    "                #print(mot2)\n",
    "            \n",
    "        #On màj les features et ré-initialisons les variables tmp pour la prochaine séquence\n",
    "        X[i,0]=nbTC\n",
    "        X[i,1]=nbCGC\n",
    "        X[i,2]=nbGGA\n",
    "        \n",
    "        nbTC=0\n",
    "        nbCGC=0\n",
    "        nbGGA=0\n",
    "    \n",
    "    return X\n",
    "\n",
    "#Test avec Pdr1 ='TCCG(C/T)GGA'\n",
    "\n",
    "freq = np.array([\n",
    "[8,0,0,13,2,8,10,62],\n",
    "[28,100,100,0,88,2,3,8],\n",
    "[15,0,0,87,8,88,83,22],\n",
    "[48,0,0,0,2,2,3,8]\n",
    "])\n",
    "\n",
    "\"\"\"freq = np.array([\n",
    "[29,29,18,2,1,7,72,0,2,1,132,105,42,45],\n",
    "[47,32,16,9,140,130,1,132,1,1,1,8,38,29],\n",
    "[36,37,6,0,0,3,70,0,138,142,7,19,37,42],\n",
    "[32,46,104,133,3,4,1,12,3,0,4,12,27,28]\n",
    "])\"\"\"\n",
    "\n",
    "motif_length = 14 # à remplacer par taille de la matrice du motif d'interet\n",
    "num_sample = 100\n",
    "posTestt, negTestt  = createArtSequences(freq, num_sample)\n",
    "\n",
    "#print(\"POSSSSSSSS\\n\", posTestt)\n",
    "#print(\"NEGGGGGGGG\\n\",negTestt)\n",
    "\n",
    "#Création des carctéristiques\n",
    "Xposs = createFeatures(posTestt)\n",
    "Xnegg = createFeatures(negTestt)\n",
    "X = np.vstack((Xposs, Xnegg))\n",
    "x_norm = (X-np.min(X))/(np.max(X)-np.min(X))\n",
    "X = x_norm\n",
    "yTestt = np.concatenate((np.ones(num_sample), np.zeros(num_sample)))\n",
    "yTestt = yTestt.reshape((yTestt.shape[0], 1))\n",
    "y.shape\n",
    "\n",
    "#Entrainement\n",
    "W, b, Losss = backPropagation(X, yTestt, 0.46, 600)\n",
    "print (X.shape)\n",
    "plt.plot(Losss)\n",
    "plt.xlabel(\"iteration\")\n",
    "plt.ylabel(\"error\")\n",
    "plt.show()\n",
    "\n",
    "y_pred3 = predict(X, W, b)\n",
    "print(accuracy_score(yTestt, y_pred3))\n",
    "\n",
    "#Test predireMotif\n",
    "percMotiff = predireMotif(sequence, motif_length,W, b)\n",
    "print (percMotiff)  \n"
   ]
  },
  {
   "cell_type": "code",
   "execution_count": null,
   "metadata": {},
   "outputs": [],
   "source": [
    "On obtient en effet un pourcentage moindre "
   ]
  }
 ],
 "metadata": {
  "colab": {
   "provenance": []
  },
  "kernelspec": {
   "display_name": "Python 3 (ipykernel)",
   "language": "python",
   "name": "python3"
  },
  "language_info": {
   "codemirror_mode": {
    "name": "ipython",
    "version": 3
   },
   "file_extension": ".py",
   "mimetype": "text/x-python",
   "name": "python",
   "nbconvert_exporter": "python",
   "pygments_lexer": "ipython3",
   "version": "3.11.2"
  }
 },
 "nbformat": 4,
 "nbformat_minor": 1
}
