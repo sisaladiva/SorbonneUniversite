{
  "cells": [
    {
      "cell_type": "markdown",
      "metadata": {
        "id": "kZ4C6ycPO5V4"
      },
      "source": [
        "# TME 5.2 : Convolutional Neural Network\n",
        "\n",
        "\n",
        "## Recherche de pattern (motifs) en utilisant les modèles d'apprentissage profond\n",
        "\n",
        "Nous allons utiliser l'algorithme Deep Learning Convolutional Neural Network pour la recherche de motifs. \n",
        "Notre objectif est de construire un classifieur capable de prédire si une séquence particulière contient le motif d'intérêt."
      ]
    },
    {
      "cell_type": "markdown",
      "metadata": {
        "id": "G8w7E3QAR6Y2"
      },
      "source": [
        "## 1. Préparation de données\n",
        "\n",
        "1.1 Comme dans le TME précédent nous allons d'abord générer des données artificielles, un jeu de données de séquences ayant le motif (positives = label 1) et un jeu de données de séquences aléatoires (négatives = label 0). Pour générer les séquences positives, utilisez la matrice de fréquence du motif d'intérêt, par exemple, Atf1 ci-dessous.Nous allons générer 1000 séquences positives et 1000 séquences négatives. "
      ]
    },
    {
      "cell_type": "code",
      "execution_count": 1,
      "metadata": {
        "id": "vxjxynlxSfcp",
        "colab": {
          "base_uri": "https://localhost:8080/"
        },
        "outputId": "e453bd88-6d0c-44d0-87cf-6f82253b863c"
      },
      "outputs": [
        {
          "output_type": "stream",
          "name": "stdout",
          "text": [
            "[[0.10621242 0.15531062 0.36272545 0.17953862 0.42685371 0.13640923\n",
            "  0.71743487 0.14514515 0.03406814 0.16032064 0.01003009 0.96196196\n",
            "  0.00800801 0.0250501  0.01905717 0.18154463 0.26553106 0.28757515\n",
            "  0.27655311 0.12337011 0.15430862]\n",
            " [0.20541082 0.249499   0.19739479 0.39719157 0.23146293 0.0782347\n",
            "  0.0250501  0.03103103 0.04709419 0.01002004 0.96890672 0.00900901\n",
            "  0.97297297 0.95691383 0.74222668 0.25777332 0.25250501 0.15531062\n",
            "  0.18036072 0.22567703 0.23647295]\n",
            " [0.23146293 0.22044088 0.22144289 0.222668   0.15430862 0.14242728\n",
            "  0.03106212 0.28828829 0.03907816 0.81362725 0.0110331  0.01501502\n",
            "  0.00900901 0.00200401 0.01303912 0.49548646 0.24148297 0.18336673\n",
            "  0.06813627 0.35807422 0.45891784]\n",
            " [0.45691383 0.3747495  0.21843687 0.20060181 0.18737475 0.64292879\n",
            "  0.22645291 0.53553554 0.87975952 0.01603206 0.01003009 0.01401401\n",
            "  0.01001001 0.01603206 0.22567703 0.06519559 0.24048096 0.37374749\n",
            "  0.4749499  0.29287864 0.1503006 ]]\n"
          ]
        }
      ],
      "source": [
        "import numpy as np\n",
        "import random\n",
        "\n",
        "#>AFT1 à remplacer par la matrice du motif d'interet\n",
        "freq = np.array([\n",
        "[106,155,362,179,426,136,716,145,34,160,10,961,8,25,19,181,265,287,276,123,154],\n",
        "[205,249,197,396,231,78,25,31,47,10,966,9,972,955,740,257,252,155,180,225,236],\n",
        "[231,220,221,222,154,142,31,288,39,812,11,15,9,2,13,494,241,183,68,357,458],\n",
        "[456,374,218,200,187,641,226,535,878,16,10,14,10,16,225,65,240,373,474,292,150]\n",
        "])\n",
        "\n",
        "motif_length = 21 # à remplacer par taille de la matrice du motif d'interet\n",
        "num_sample = 1000\n",
        "\n",
        "def generatePWM(MF):\n",
        "    \"\"\"\n",
        "    Transforme la matrice de fréquence en PWM\n",
        "    entrée MF: matrice de fréquence\n",
        "    sortie PWM: matrice de probabilité (poids positions)\n",
        "    \"\"\"\n",
        "    \n",
        "    nbLigne = len(MF)\n",
        "    nbColonne = len(MF[0])\n",
        "    PWM= np.zeros((nbLigne, nbColonne))\n",
        "   \n",
        "    #Calcule du nombre fréquence par colonne \n",
        "    fr = []\n",
        "    for c in range(nbColonne):\n",
        "        tmp=0\n",
        "        for l in range(nbLigne):\n",
        "            tmp+= MF[l,c]\n",
        "        fr.append(tmp)\n",
        "    \n",
        "    #Pour chaque ligne on boucle sur les colonne et divisons chaque cellule par fréquence de sa colonne\n",
        "    for l in range(nbLigne): \n",
        "        for c in range(nbColonne):\n",
        "            PWM[l,c]=MF[l,c]/fr[c]\n",
        "            \n",
        "    return PWM\n",
        "\n",
        "#Transformer freq en matrice de poids position\n",
        "PWM = generatePWM(freq)\n",
        "print(PWM)"
      ]
    },
    {
      "cell_type": "code",
      "execution_count": 13,
      "metadata": {
        "id": "kkjTWDWKs60v"
      },
      "outputs": [],
      "source": [
        "\n",
        "def createArtSequences(freq, num_sample=100):\n",
        "    \"\"\"\n",
        "    Genere deux jeux de sequences: positives (ayant le motif) et negatives (aleatoires)\n",
        "    entrée PWM : matrice de poids position qui represent le motif d'interet\n",
        "    entrée num_sample : int, nombre d'echantillons\n",
        "    sortie pos : list contenant les sequences positives\n",
        "    sortie neg : list contenant les sequences negatives\n",
        "    \n",
        "    \"\"\"\n",
        "    nuc = ('A', 'C', 'G', 'T')\n",
        "    pos = []\n",
        "    neg = []\n",
        "    PWM = generatePWM(freq)\n",
        "    PWMfreq = np.transpose(PWM)\n",
        "    motif_length = PWM.shape[1]\n",
        "    \n",
        "    for i in range (num_sample) :\n",
        "      sneg = ''\n",
        "      spos = ''\n",
        "      for j in range (motif_length) : #Création de la séquence pos et neg en parallèle\n",
        "        sneg += random.choice(nuc)\n",
        "        spos = spos + (\"\".join(np.random.choice(nuc, 1, p = PWMfreq[j]))) \n",
        "\n",
        "      neg.append(sneg)\n",
        "      pos.append(spos)\n",
        "\n",
        "    return pos, neg\n",
        "\n",
        "pos, neg  = createArtSequences(freq,num_sample)\n",
        "#print(\"POSSSSSSSS\\n\",pos)\n",
        "#print(\"NEGGGGGGGG\\n\",neg)\n",
        "\n",
        "#Aft1 = TTACATATTGCACCCGATTGG et TGCACCC est trés conservé\n"
      ]
    },
    {
      "cell_type": "code",
      "execution_count": 16,
      "metadata": {
        "colab": {
          "base_uri": "https://localhost:8080/"
        },
        "id": "t2wVVOmwRi7K",
        "outputId": "dbc6cf63-dc22-419c-b232-1aae24d300c2"
      },
      "outputs": [
        {
          "output_type": "stream",
          "name": "stdout",
          "text": [
            "(2000, 2)\n",
            "[1. 0.]\n",
            "[0. 1.]\n",
            "(2000, 2)\n",
            "\n",
            "sequencesPos ( 1000 ) : ['TGTTCTTGTACACCCCCTAGG', 'ATGAATGTTGCACCCGTATCG', 'ATATATAGTGCACACGTTTCC', 'TTGAATATTGCACCCGAGGCG', 'ATTGGGTTTGCACCCATTTGG', 'GTATATAGTACACCCGGTCCC', 'TTATCTAGGGCACCTAAATTG', 'ACATATAAAGCACCCGCATTC', 'ACCCGTAGTGCACCCGAATTC', 'TGTCATATTGCACCCGTACGG'] \n",
            "sequencesNeg ( 1000 ) : ['GCGATGAGGGTTAGATGAGTT', 'GTCCCCGGAATATTTTCCGAG', 'GCAGGACCCCCCATATTCGAG', 'GGGAGGGGGGTGGGTGGCTGA', 'AACCTAACGCCCGTTGTTCCC', 'TAACATGATGGAAGTTGCGCG', 'CACGGGACTACAAGTCAATCA', 'GAGCTGTCGCACAGCCCTCAT', 'AAGCTTAGAATTCGTCCATCC', 'ACTTGCCACCAGTTAAACTAT']\n",
            "<class 'list'>\n"
          ]
        }
      ],
      "source": [
        "[''.join(x) for x in pos[1:10:]]\n",
        "[''.join(x) for x in neg[1:10:]]\n",
        "\n",
        "#genere y dans le format attendu numpy array (num_sample*2, 2)\n",
        "#premiere colonne correspond à la prob d'etre positive et deuxiemme d'etre negative\n",
        "s = (num_sample, 2)\n",
        "#print(np.zeros(s)) matrice 1000*2\n",
        "y = np.concatenate((np.zeros(s), np.zeros(s))) #Matrice 2000*2\n",
        "count = 0\n",
        "for i in range(len(y)):\n",
        "  if count < num_sample:\n",
        "    y[i,0] = 1\n",
        "  else:\n",
        "    y[i,1] = 1\n",
        "  count+=1\n",
        "#print(y)\n",
        "\n",
        "print(y.shape)\n",
        "input_labels = y\n",
        "\n",
        "print (input_labels[0]) #positive\n",
        "print (input_labels[-2])#negative\n",
        "\n",
        "print (input_labels.shape)\n",
        "sequencesPos =  [''.join(x) for x in pos]\n",
        "sequencesNeg =  [''.join(x) for x in neg]\n",
        "\n",
        "sequences = sequencesPos + sequencesNeg\n",
        "print(\"\\nsequencesPos (\", len(sequencesPos), \") :\", sequencesPos[0:10], \"\\nsequencesNeg (\", len(sequencesNeg), \") :\", sequencesNeg[0:10])\n",
        "print(type(sequences))\n",
        "\n",
        "#Sequences a ses 1000 1ère seq en positive et les 1000 dernières en négatif \n"
      ]
    },
    {
      "cell_type": "markdown",
      "metadata": {
        "id": "nI35hLHnTqD6"
      },
      "source": [
        "1.2. L'étape suivante consiste à organiser les données dans un format qui peut être transmis à un algorithme d'apprentissage profond. \n",
        "La plupart des algorithmes d'apprentissage profond acceptent les données sous forme de vecteurs ou de matrices \n",
        "(ou plus généralement de tenseurs).\n",
        "\n",
        "Pour obtenir chaque séquence d'ADN sous la forme d'une matrice, nous utilisons une codage (One hot encoding), \n",
        "qui code chaque base d'une séquence sous la forme d'un vecteur à 4 dimensions, avec une dimension distincte pour chaque base. \n",
        "Nous plaçons un \"1\" dans la dimension correspondant à la base trouvée dans la séquence d'ADN, et des \"0\" dans tous les autres emplacements. \n",
        "Nous concaténant ensuite ces vecteurs à 4 dimensions le long des bases de la séquence pour former une matrice.\n",
        "\n",
        "\n",
        "Exemple\n",
        "-----------------------\n",
        "DNA Sequence #1: CCGA\n",
        "<br>\n",
        "One hot encoding de #1:\n",
        "```\n",
        " [[0. 0. 0. 1]\n",
        " [1. 1. 0. 0]\n",
        " [0. 0. 1. 0]\n",
        " [0. 0. 0  0]]\n",
        "```\n",
        "\n"
      ]
    },
    {
      "cell_type": "markdown",
      "metadata": {
        "id": "KPmNw5iYTqK_"
      },
      "source": [
        "Faire une fonction pour encoder les sequences d'ADN en utilisant l'One hot encoding "
      ]
    },
    {
      "cell_type": "code",
      "execution_count": 38,
      "metadata": {
        "id": "JNPvE43iA5T2",
        "colab": {
          "base_uri": "https://localhost:8080/"
        },
        "outputId": "2ecf66ca-61f2-4ffa-b092-4b27adf6527b"
      },
      "outputs": [
        {
          "output_type": "stream",
          "name": "stdout",
          "text": [
            "[[1. 0. 0. 0.]\n",
            " [0. 1. 0. 0.]]\n",
            "[[0. 0. 0. 1.]\n",
            " [0. 0. 1. 0.]\n",
            " [0. 1. 0. 0.]\n",
            " [1. 0. 0. 0.]\n",
            " [0. 1. 0. 0.]\n",
            " [0. 1. 0. 0.]\n",
            " [0. 1. 0. 0.]]\n"
          ]
        }
      ],
      "source": [
        "def one_hot_encode(seq):\n",
        "    \"\"\"\n",
        "    entrée seq: sequence d'ADN\n",
        "    sortie oneHot: numpy array (tmotif_length x 4)\n",
        "    \"\"\"\n",
        "    mapping = dict(zip(\"ACGT\", range(4)))    \n",
        "    seq2 = [mapping[i] for i in seq]\n",
        "    return np.eye(4)[seq2]\n",
        "\n",
        "print (one_hot_encode('AC'))\n",
        "print (one_hot_encode('TGCACCC')) #AFT1\n",
        "#[[1. 0. 0. 0.]\n",
        "# [0. 1. 0. 0.]]"
      ]
    },
    {
      "cell_type": "markdown",
      "metadata": {
        "id": "m0JPdJvdVjT5"
      },
      "source": [
        "Faire une fonction pour générer la matrice que représente les données d'entrée d'un CNNs"
      ]
    },
    {
      "cell_type": "code",
      "execution_count": 39,
      "metadata": {
        "id": "IPJD6PuDnaS6",
        "scrolled": true,
        "colab": {
          "base_uri": "https://localhost:8080/"
        },
        "outputId": "9c9096d0-5052-42a0-cd44-194409cb84e7"
      },
      "outputs": [
        {
          "output_type": "stream",
          "name": "stdout",
          "text": [
            "(2000, 21, 4)\n"
          ]
        }
      ],
      "source": [
        "def encode_sequences(sequences):\n",
        "    \"\"\"\n",
        "    entrée sequences: list de sequences d'entrainement\n",
        "    soirtie input_features: numpy array (numSamples x motif_length x 4)\n",
        "    \"\"\"\n",
        "    input_features = []\n",
        "\n",
        "    for seq in sequences :\n",
        "        matrix = one_hot_encode(seq)\n",
        "        input_features.append(matrix)\n",
        "        \n",
        "    #print(input_features)\n",
        "    return np.stack(input_features)\n",
        "\n",
        "input_features = encode_sequences(sequences)\n",
        "#print(input_features)\n",
        "print (input_features.shape)"
      ]
    },
    {
      "cell_type": "markdown",
      "metadata": {
        "id": "8OvNcog9MhqY"
      },
      "source": [
        "1.3. Nous divisons également les données en deux jeux, l'un pour l'entraînement et l'autre pour le test. L'objectif du jeu de test est de pouvoir mesurer la performance du modèle sur de nouvelles données, qui n'ont pas été vues auparavant pendant l'entraînement. Plus tard, nous diviserons à nouveau le jeu d'entraînement pour avoir deux jeux pour avoir aussi des données de validation."
      ]
    },
    {
      "cell_type": "code",
      "execution_count": 40,
      "metadata": {
        "id": "J6ADrsQ9Nj6j",
        "colab": {
          "base_uri": "https://localhost:8080/"
        },
        "outputId": "e8d42a4f-8481-4355-bb48-6a638ac154d2"
      },
      "outputs": [
        {
          "output_type": "stream",
          "name": "stdout",
          "text": [
            "(2000, 21, 4)\n",
            "(2000, 2)\n",
            "(500, 2)\n"
          ]
        }
      ],
      "source": [
        "from sklearn.model_selection import train_test_split\n",
        "\n",
        "print (input_features.shape)\n",
        "print(input_labels.shape) #y\n",
        "\n",
        "train_features, test_features, train_labels, test_labels = train_test_split(input_features, input_labels, test_size=0.25, random_state=42)\n",
        "#print(train_features[:3])\n",
        "#print(len(train_labels))\n",
        "#print(len(test_features))\n",
        "print(test_labels.shape) #1500 donnéesz pour l'entrainement du CNN et 500 pour le test "
      ]
    },
    {
      "cell_type": "markdown",
      "metadata": {
        "id": "HGqwce-GN0VD"
      },
      "source": [
        "## 2. Select the Architecture and Train\n"
      ]
    },
    {
      "cell_type": "markdown",
      "metadata": {
        "id": "3ZZzVBCUO_o8"
      },
      "source": [
        "![alt text](https://github.com/abidlabs/deep-learning-genomics-primer/blob/master/Screenshot%20from%202018-08-01%2020-31-49.png?raw=true)"
      ]
    },
    {
      "cell_type": "markdown",
      "metadata": {
        "id": "EW_3eiQbPgcL"
      },
      "source": [
        "2.1 - Nous allons  choisir un simple réseau neuronal convolutionnel 2D (CNN), couramment utilisé dans l'apprentissage profond pour les applications en bioinformatique.\n",
        "\n",
        "Nous utiliserons la bibliothèque d'apprentissage profond Keras. Il nous suffit de spécifier les types de couches que nous souhaitons inclure dans notre réseau, ainsi que la dimensionnalité de chaque couche. Le CNN que nous générons dans cet exercice se compose des couches suivantes :\n",
        "\n",
        " - Conv2D : nous définissons notre couche convolutive comme ayant 32 filtres (nodes) de taille 3x3 (kenel_size).\n",
        "\n",
        " - Conv2D : une autre couche convolutive comme ayant 64 filtres (nodes) de taille 3x3 (kenel_size), fonction d'activation=\"relu\".\n",
        "\n",
        " - MaxPooling2D : après la convolution, nous utilisons une couche de pooling pour réduire l'échantillonnage des sorties convolutifs. Bien que cela ne soit pas toujours nécessaire, il s'agit d'une forme typique de sous-échantillonnage non linéaire utilisée dans les CNN. Notre pool_size sera 2x2\n",
        "\n",
        " - Aplatir (Flatten) : Cette couche aplatit la sortie de la couche precedent.\n",
        "\n",
        "- Dense : La première couche Dense crée comprime la représentation de la couche aplatie, ce qui donne une couche plus petite avec 16 tenseurs (function d'activation relu, et la deuxième couche Dense fait converger les tenseurs vers la couche de sortie (dense_2) qui se compose des deux valeurs de réponse possibles (0 ou 1)."
      ]
    },
    {
      "cell_type": "code",
      "execution_count": 33,
      "metadata": {
        "id": "Tej8MKndhnp5",
        "colab": {
          "base_uri": "https://localhost:8080/"
        },
        "outputId": "7c674543-ad2c-4f70-eaff-da56140d4fd6"
      },
      "outputs": [
        {
          "output_type": "stream",
          "name": "stdout",
          "text": [
            "Model: \"sequential_1\"\n",
            "_________________________________________________________________\n",
            " Layer (type)                Output Shape              Param #   \n",
            "=================================================================\n",
            " conv2d_2 (Conv2D)           (None, 19, 2, 32)         320       \n",
            "                                                                 \n",
            " conv2d_3 (Conv2D)           (None, 19, 2, 64)         18496     \n",
            "                                                                 \n",
            " max_pooling2d_1 (MaxPooling  (None, 9, 1, 64)         0         \n",
            " 2D)                                                             \n",
            "                                                                 \n",
            " flatten_1 (Flatten)         (None, 576)               0         \n",
            "                                                                 \n",
            " dense_2 (Dense)             (None, 16)                9232      \n",
            "                                                                 \n",
            " dense_3 (Dense)             (None, 2)                 34        \n",
            "                                                                 \n",
            "=================================================================\n",
            "Total params: 28,082\n",
            "Trainable params: 28,082\n",
            "Non-trainable params: 0\n",
            "_________________________________________________________________\n"
          ]
        }
      ],
      "source": [
        "from tensorflow.keras.layers import Conv2D, MaxPooling2D, Dense, Flatten\n",
        "from tensorflow.keras.models import Sequential\n",
        "\n",
        "model2 = Sequential()\n",
        "#add Conv2,  32 filters, kenel=3\n",
        "model2.add(Conv2D(filters=32, kernel_size=3, input_shape=(motif_length, 4, 1)))\n",
        "\n",
        "#add Conv2,  64 filters, kenel=3, activation=\"relu\")\n",
        "model2.add(Conv2D(64 , (3, 3), padding=\"same\", activation=\"relu\"))\n",
        "\n",
        "#add MaxPooling2D, poolsize (2x2)\n",
        "model2.add(MaxPooling2D(pool_size = (2, 2)))\n",
        "\n",
        "#add Flatten\n",
        "model2.add(Flatten())\n",
        "\n",
        "#add dense 16 nodes  activation='relu'\n",
        "model2.add(Dense(16, activation='relu'))\n",
        "\n",
        "#add dense 2 nodes  activation='softmax'\n",
        "model2.add(Dense(2, activation='softmax'))\n",
        "\n",
        "\n",
        "model2.compile(loss='binary_crossentropy', optimizer='adam', metrics=['binary_accuracy'])\n",
        "model2.summary()\n"
      ]
    },
    {
      "cell_type": "markdown",
      "metadata": {
        "id": "l0G0emgPQb8g"
      },
      "source": [
        "2.2 Nous sommes maintenant prêts à entraîner le réseau CNN. \n",
        "Nous allons diviser le jeu de données d'entraînement en jeux de données d'entraînement et un jeu de validation. \n",
        "Nous n'effectuerons l'entraînement que sur l'ensemble de d'entraînement réduit, \n",
        "mais nous tracerons la courbe d'erreur en utilisant les deux jeux de données de formation et de validation. \n",
        "Lorsque la perte de l'ensemble de validation cesse de s'améliorer ou s'aggraver tout au long des cycles d'apprentissage, \n",
        "il est temps d'arrêter l'entraînement, car le modèle a déjà convergé."
      ]
    },
    {
      "cell_type": "code",
      "execution_count": 34,
      "metadata": {
        "id": "x_DFSeDNVvPf",
        "colab": {
          "base_uri": "https://localhost:8080/"
        },
        "outputId": "bc33ecde-3c48-4568-dca6-005e5f85155d"
      },
      "outputs": [
        {
          "output_type": "stream",
          "name": "stdout",
          "text": [
            "(1500, 21, 4)\n",
            "(1500, 2)\n"
          ]
        }
      ],
      "source": [
        "import matplotlib.pyplot as plt\n",
        "\n",
        "print (train_features.shape)\n",
        "print (train_labels.shape)\n"
      ]
    },
    {
      "cell_type": "code",
      "execution_count": 35,
      "metadata": {
        "id": "nBOYV3JC1qFV",
        "colab": {
          "base_uri": "https://localhost:8080/",
          "height": 472
        },
        "outputId": "edfc64f9-ddf8-4731-89a7-8f4503dc44a4"
      },
      "outputs": [
        {
          "output_type": "display_data",
          "data": {
            "text/plain": [
              "<Figure size 640x480 with 1 Axes>"
            ],
            "image/png": "[encoded data removed]"
          },
          "metadata": {}
        }
      ],
      "source": [
        "history = model2.fit(train_features, train_labels, epochs=50, verbose=0, validation_split=0.25)\n",
        "\n",
        "plt.figure()\n",
        "plt.plot(history.history['loss'])\n",
        "plt.plot(history.history['val_loss'])\n",
        "plt.title('model loss')\n",
        "plt.ylabel('loss')\n",
        "plt.xlabel('epoch')\n",
        "plt.legend(['train', 'validation'])\n",
        "plt.show()"
      ]
    },
    {
      "cell_type": "markdown",
      "metadata": {
        "id": "_vyj_lTMWQ8P"
      },
      "source": [
        "2.3 De même, nous pouvons représenter la précision de notre réseau CNN pour la tâche de classification binaire. \n",
        "La mesure utilisée dans cet exemple est la précision binaire, qui calcule la proportion de prédictions correspondant aux étiquettes \n",
        "ou aux variables de réponse. D'autres mesures peuvent être utilisées dans différentes tâches, par exemple, l'erreur quadratique moyenne est généralement utilisée pour mesurer la précision "
      ]
    },
    {
      "cell_type": "code",
      "execution_count": 36,
      "metadata": {
        "id": "K-oZntfYWSmX",
        "colab": {
          "base_uri": "https://localhost:8080/",
          "height": 472
        },
        "outputId": "c0d6f9d9-d3b4-45ed-9d85-68fd991a10dc"
      },
      "outputs": [
        {
          "output_type": "display_data",
          "data": {
            "text/plain": [
              "<Figure size 640x480 with 1 Axes>"
            ],
            "image/png": "[encoded data removed]"
          },
          "metadata": {}
        }
      ],
      "source": [
        "plt.figure()\n",
        "plt.plot(history.history['binary_accuracy'])\n",
        "plt.plot(history.history['val_binary_accuracy'])\n",
        "plt.title('model accuracy')\n",
        "plt.ylabel('accuracy')\n",
        "plt.xlabel('epoch')\n",
        "plt.legend(['train', 'validation'])\n",
        "plt.show()"
      ]
    },
    {
      "cell_type": "markdown",
      "metadata": {
        "id": "14aFBhuAWe4W"
      },
      "source": [
        "## 3. Evaluation"
      ]
    },
    {
      "cell_type": "markdown",
      "metadata": {
        "id": "k1jVNAJyWkRW"
      },
      "source": [
        "![alt text](https://github.com/abidlabs/deep-learning-genomics-primer/blob/master/Screenshot%20from%202018-08-01%2020-32-12.png?raw=true)"
      ]
    },
    {
      "cell_type": "markdown",
      "metadata": {
        "id": "l7u461CNXAuA"
      },
      "source": [
        "3.1 - La meilleure façon d'évaluer si le réseau a appris à classer les séquences est d'évaluer ses performances sur un nouvel ensemble de test composé de données qu'il n'a pas du tout observées pendant l'entraînement. Nous évaluons ici le modèle sur l'ensemble de test et présentons les résultats sous la forme d'une matrice de confusion. Presque toutes les séquences testées devraient être correctement classées."
      ]
    },
    {
      "cell_type": "code",
      "execution_count": 37,
      "metadata": {
        "id": "06Cv9hXNWpX-",
        "colab": {
          "base_uri": "https://localhost:8080/",
          "height": 540
        },
        "outputId": "6a4a4c1f-3e13-4021-8210-d842f9253ecc"
      },
      "outputs": [
        {
          "output_type": "stream",
          "name": "stdout",
          "text": [
            "16/16 [==============================] - 0s 3ms/step\n",
            "Confusion matrix:\n",
            " [[253   4]\n",
            " [  1 242]]\n"
          ]
        },
        {
          "output_type": "display_data",
          "data": {
            "text/plain": [
              "<Figure size 640x480 with 2 Axes>"
            ],
            "image/png": "[encoded data removed]"
          },
          "metadata": {}
        }
      ],
      "source": [
        "from sklearn.metrics import confusion_matrix\n",
        "import itertools\n",
        "\n",
        "predicted_labels = model2.predict(np.stack(test_features))\n",
        "cm = confusion_matrix(np.argmax(test_labels, axis=1), \n",
        "                      np.argmax(predicted_labels, axis=1))\n",
        "print('Confusion matrix:\\n',cm)\n",
        "\n",
        "cm = cm.astype('float') / cm.sum(axis = 1)[:, np.newaxis]\n",
        "\n",
        "plt.imshow(cm, cmap=plt.cm.Blues)\n",
        "plt.title('Normalized confusion matrix')\n",
        "plt.colorbar()\n",
        "plt.xlabel('True label')\n",
        "plt.ylabel('Predicted label')\n",
        "plt.xticks([0, 1]); plt.yticks([0, 1])\n",
        "plt.grid('off')\n",
        "for i, j in itertools.product(range(cm.shape[0]), range(cm.shape[1])):\n",
        "    plt.text(j, i, format(cm[i, j], '.2f'), horizontalalignment='center', color='white' if cm[i, j] > 0.5 else 'black')"
      ]
    },
    {
      "cell_type": "code",
      "execution_count": null,
      "metadata": {
        "id": "oWspe3oabF8d"
      },
      "outputs": [],
      "source": []
    },
    {
      "cell_type": "markdown",
      "metadata": {
        "id": "D_nEFnRTXUQe"
      },
      "source": [
        "## 4. Application sur vos données"
      ]
    },
    {
      "cell_type": "markdown",
      "metadata": {
        "id": "7jf2xjaLXVI7"
      },
      "source": [
        "Vous pouvez entraîner un réseau CNN pour reconnaître un motif d'intérêt. Par exemple le Mac1 qui figure sur la liste \"Tablemotifs-Etudiants.pdf\". Pour cela, nous avons téléchargé la matrice de fréquence de Mac1 du site JASÄR https://jaspar.genereg.net/matrix/MA0326.1/\n",
        "Vous pouvez entraîner un réseau CNN pour reconnaître un motif d'intérêt. Par exemple le Mac1 qui figure sur la liste \"Tablemotifs-Etudiants.pdf\". Pour cela, nous avons téléchargé la matrice de fréquence de Mac1 du site\n",
        "Et procéder comme avant pour générer les données d'entraînement, validation et test.Une fois le modèle entraîné vous pouvez le tester sur vous séquences et vérifier combien de fois vous avez trouvé le motif d'intérêt sur vous données. Si le nombre d'occurrence est supérieur au hasard vous avez de forte chance que le motif d'intérêt soit représenté dans vos données. Vous pouvez répéter l'expérience pour plusieurs motifs\n",
        " d'intérêt et montrer le(s) quel(s) est(sont) le(s) plus probable."
      ]
    },
    {
      "cell_type": "code",
      "execution_count": 51,
      "metadata": {
        "id": "HePoT5EBX75m",
        "colab": {
          "base_uri": "https://localhost:8080/",
          "height": 73
        },
        "outputId": "7d8ccd26-27ad-4b9c-9cc5-095426db35eb"
      },
      "outputs": [
        {
          "output_type": "display_data",
          "data": {
            "text/plain": [
              "<IPython.core.display.HTML object>"
            ],
            "text/html": [
              "\n",
              "     <input type=\"file\" id=\"files-4988f70e-e195-49be-8ec8-2e07ea20f776\" name=\"files[]\" multiple disabled\n",
              "        style=\"border:none\" />\n",
              "     <output id=\"result-4988f70e-e195-49be-8ec8-2e07ea20f776\">\n",
              "      Upload widget is only available when the cell has been executed in the\n",
              "      current browser session. Please rerun this cell to enable.\n",
              "      </output>\n",
              "      <script>// Copyright 2017 Google LLC\n",
              "//\n",
              "// Licensed under the Apache License, Version 2.0 (the \"License\");\n",
              "// you may not use this file except in compliance with the License.\n",
              "// You may obtain a copy of the License at\n",
              "//\n",
              "//      http://www.apache.org/licenses/LICENSE-2.0\n",
              "//\n",
              "// Unless required by applicable law or agreed to in writing, software\n",
              "// distributed under the License is distributed on an \"AS IS\" BASIS,\n",
              "// WITHOUT WARRANTIES OR CONDITIONS OF ANY KIND, either express or implied.\n",
              "// See the License for the specific language governing permissions and\n",
              "// limitations under the License.\n",
              "\n",
              "/**\n",
              " * @fileoverview Helpers for google.colab Python module.\n",
              " */\n",
              "(function(scope) {\n",
              "function span(text, styleAttributes = {}) {\n",
              "  const element = document.createElement('span');\n",
              "  element.textContent = text;\n",
              "  for (const key of Object.keys(styleAttributes)) {\n",
              "    element.style[key] = styleAttributes[key];\n",
              "  }\n",
              "  return element;\n",
              "}\n",
              "\n",
              "// Max number of bytes which will be uploaded at a time.\n",
              "const MAX_PAYLOAD_SIZE = 100 * 1024;\n",
              "\n",
              "function _uploadFiles(inputId, outputId) {\n",
              "  const steps = uploadFilesStep(inputId, outputId);\n",
              "  const outputElement = document.getElementById(outputId);\n",
              "  // Cache steps on the outputElement to make it available for the next call\n",
              "  // to uploadFilesContinue from Python.\n",
              "  outputElement.steps = steps;\n",
              "\n",
              "  return _uploadFilesContinue(outputId);\n",
              "}\n",
              "\n",
              "// This is roughly an async generator (not supported in the browser yet),\n",
              "// where there are multiple asynchronous steps and the Python side is going\n",
              "// to poll for completion of each step.\n",
              "// This uses a Promise to block the python side on completion of each step,\n",
              "// then passes the result of the previous step as the input to the next step.\n",
              "function _uploadFilesContinue(outputId) {\n",
              "  const outputElement = document.getElementById(outputId);\n",
              "  const steps = outputElement.steps;\n",
              "\n",
              "  const next = steps.next(outputElement.lastPromiseValue);\n",
              "  return Promise.resolve(next.value.promise).then((value) => {\n",
              "    // Cache the last promise value to make it available to the next\n",
              "    // step of the generator.\n",
              "    outputElement.lastPromiseValue = value;\n",
              "    return next.value.response;\n",
              "  });\n",
              "}\n",
              "\n",
              "/**\n",
              " * Generator function which is called between each async step of the upload\n",
              " * process.\n",
              " * @param {string} inputId Element ID of the input file picker element.\n",
              " * @param {string} outputId Element ID of the output display.\n",
              " * @return {!Iterable<!Object>} Iterable of next steps.\n",
              " */\n",
              "function* uploadFilesStep(inputId, outputId) {\n",
              "  const inputElement = document.getElementById(inputId);\n",
              "  inputElement.disabled = false;\n",
              "\n",
              "  const outputElement = document.getElementById(outputId);\n",
              "  outputElement.innerHTML = '';\n",
              "\n",
              "  const pickedPromise = new Promise((resolve) => {\n",
              "    inputElement.addEventListener('change', (e) => {\n",
              "      resolve(e.target.files);\n",
              "    });\n",
              "  });\n",
              "\n",
              "  const cancel = document.createElement('button');\n",
              "  inputElement.parentElement.appendChild(cancel);\n",
              "  cancel.textContent = 'Cancel upload';\n",
              "  const cancelPromise = new Promise((resolve) => {\n",
              "    cancel.onclick = () => {\n",
              "      resolve(null);\n",
              "    };\n",
              "  });\n",
              "\n",
              "  // Wait for the user to pick the files.\n",
              "  const files = yield {\n",
              "    promise: Promise.race([pickedPromise, cancelPromise]),\n",
              "    response: {\n",
              "      action: 'starting',\n",
              "    }\n",
              "  };\n",
              "\n",
              "  cancel.remove();\n",
              "\n",
              "  // Disable the input element since further picks are not allowed.\n",
              "  inputElement.disabled = true;\n",
              "\n",
              "  if (!files) {\n",
              "    return {\n",
              "      response: {\n",
              "        action: 'complete',\n",
              "      }\n",
              "    };\n",
              "  }\n",
              "\n",
              "  for (const file of files) {\n",
              "    const li = document.createElement('li');\n",
              "    li.append(span(file.name, {fontWeight: 'bold'}));\n",
              "    li.append(span(\n",
              "        `(${file.type || 'n/a'}) - ${file.size} bytes, ` +\n",
              "        `last modified: ${\n",
              "            file.lastModifiedDate ? file.lastModifiedDate.toLocaleDateString() :\n",
              "                                    'n/a'} - `));\n",
              "    const percent = span('0% done');\n",
              "    li.appendChild(percent);\n",
              "\n",
              "    outputElement.appendChild(li);\n",
              "\n",
              "    const fileDataPromise = new Promise((resolve) => {\n",
              "      const reader = new FileReader();\n",
              "      reader.onload = (e) => {\n",
              "        resolve(e.target.result);\n",
              "      };\n",
              "      reader.readAsArrayBuffer(file);\n",
              "    });\n",
              "    // Wait for the data to be ready.\n",
              "    let fileData = yield {\n",
              "      promise: fileDataPromise,\n",
              "      response: {\n",
              "        action: 'continue',\n",
              "      }\n",
              "    };\n",
              "\n",
              "    // Use a chunked sending to avoid message size limits. See b/62115660.\n",
              "    let position = 0;\n",
              "    do {\n",
              "      const length = Math.min(fileData.byteLength - position, MAX_PAYLOAD_SIZE);\n",
              "      const chunk = new Uint8Array(fileData, position, length);\n",
              "      position += length;\n",
              "\n",
              "      const base64 = btoa(String.fromCharCode.apply(null, chunk));\n",
              "      yield {\n",
              "        response: {\n",
              "          action: 'append',\n",
              "          file: file.name,\n",
              "          data: base64,\n",
              "        },\n",
              "      };\n",
              "\n",
              "      let percentDone = fileData.byteLength === 0 ?\n",
              "          100 :\n",
              "          Math.round((position / fileData.byteLength) * 100);\n",
              "      percent.textContent = `${percentDone}% done`;\n",
              "\n",
              "    } while (position < fileData.byteLength);\n",
              "  }\n",
              "\n",
              "  // All done.\n",
              "  yield {\n",
              "    response: {\n",
              "      action: 'complete',\n",
              "    }\n",
              "  };\n",
              "}\n",
              "\n",
              "scope.google = scope.google || {};\n",
              "scope.google.colab = scope.google.colab || {};\n",
              "scope.google.colab._files = {\n",
              "  _uploadFiles,\n",
              "  _uploadFilesContinue,\n",
              "};\n",
              "})(self);\n",
              "</script> "
            ]
          },
          "metadata": {}
        },
        {
          "output_type": "stream",
          "name": "stdout",
          "text": [
            "Saving Sequence_by_Peaks_1.fasta to Sequence_by_Peaks_1 (2).fasta\n"
          ]
        }
      ],
      "source": [
        "import numpy as np\n",
        "from google.colab import files\n",
        "import io \n",
        "uploaded = files.upload()\n",
        "\n",
        "motif_length = 21\n",
        "num_sample = 1000\n",
        "\n",
        "# PFM from JASPAR\n",
        "\"\"\"\n",
        "motif = np.array([[   0,   2, 104, 104,   1,   2, 103, 102,   0,   0,  99, 105,   0,   0, 100, 102,   5,   3],\n",
        "                  [   0,   0,   0,   0,   0,   0,   0,   0,   0,   2,   4,   0,   0,   2,   3,   0,   0,   3],\n",
        "                  [ 105, 103,   1,   1, 104, 102,   2,   3, 104, 103,   2,   0, 105, 103,   0,   2,  97,  97],\n",
        "                  [   0,   0,   0,   0,   0,   1,   0,   0,   1,   0,   0,   0,   0,   0,   2,   1,   3,   2]])\"\"\"\n",
        "\n",
        "motif = np.array([\n",
        "[106,155,362,179,426,136,716,145,34,160,10,961,8,25,19,181,265,287,276,123,154],\n",
        "[205,249,197,396,231,78,25,31,47,10,966,9,972,955,740,257,252,155,180,225,236],\n",
        "[231,220,221,222,154,142,31,288,39,812,11,15,9,2,13,494,241,183,68,357,458],\n",
        "[456,374,218,200,187,641,226,535,878,16,10,14,10,16,225,65,240,373,474,292,150]\n",
        "])\n"
      ]
    },
    {
      "cell_type": "code",
      "execution_count": 52,
      "metadata": {
        "id": "yX68QHf8gEDU",
        "colab": {
          "base_uri": "https://localhost:8080/"
        },
        "outputId": "7106d079-9ca0-41d0-cadc-612d14e3dd06"
      },
      "outputs": [
        {
          "output_type": "stream",
          "name": "stdout",
          "text": [
            "TTTCAAACTTTGGTCTTCTGAACCTCTTCCAAGTACAACAGAAATCAAGAGAGCCCACAGTAACGTTTTGTTCTTGCTGACTTACTGGAGTGAATGAATGAGTTGAGATGAAACAACTCCCATGGCCCCCAAACATAACCAAAAGAAAACAGCTTTGTTGAAGTTCTCCAGAAGAAGACTACAGAAGTAACACTCGTTAAAACTGCTATAAAACGTGTAACTGTTGTATGGGACTGCAAAATGGATAAGACTTGGCTTTGCCTTTTCAGCACATTTGCTCTTCAAAGAAATTGAATATCCTTCTATCCAATCAGATCATGAAGACTATGGCTTTGAGATGAGAACGGGGGTGCAATTTGAGTGGTGTGCAGCCAATAAAACAGTAGATCCCGTATTTCAAAAATTGCACCCGGTTTTCTTTTCTCGTTCGTACAGCTCTTTCTGAATTGCACCCTTTTTTCATATGAACTGCAGTGTTACCTAGATCAAGTGGGGGGGTGGCAGGTGGCTATTTCTGCCTTCTACAGCGCTTTTAGTGAACTTTTGCTTTGTTGTAATTGTAGTTGTATTTCTGTGTGTTACGTGAAATACCGTGCCTTTGTCTATCATTCTTTCAGTGGTTTTGCTCGCAGAGATGGGGCATTTTGATCCATTGTGTGTTAAAGCACAGTGGGACCCAGGAATAGTAGAGAGAAGGAAAGTGGGGGAAGGGTAGCAGTGGGGCCGGAAGGAGAACGTTCTATTCTACAGCATATCTTGTTCTGTTCTCCTGAATGATATATTCTCTCCTGCCAGTCTTCTAACTTCGGTTCCATTGAACAATAATGATGTCGTTGCGAGTGGTGAAACTC\n"
          ]
        }
      ],
      "source": [
        "def readFasta(genome):\n",
        "    sequence = []\n",
        "    file = open(genome, \"r\")\n",
        "    sequences = []\n",
        "    seq = \"\"\n",
        "    for s in file:\n",
        "        if s[0] != \">\":\n",
        "            seq += s.strip().upper()\n",
        "        else:\n",
        "            sequences.append(seq)\n",
        "            seq = \"\"\n",
        "    return sequences[1:]\n",
        "genome = \"Sequence_by_Peaks_1.fasta\"\n",
        "sequence = readFasta(genome)[0]\n",
        "print(sequence)"
      ]
    },
    {
      "cell_type": "code",
      "source": [
        "seq = \"\"\n",
        "for i in sequence :\n",
        "  seq += i.strip().upper()\n",
        "\n",
        "sequences = []\n",
        "for i in range (len(seq) - motif_length + 1) :\n",
        "        motif = seq[i : i + motif_length]\n",
        "        sequences.append(motif)\n",
        "\n",
        "def reversecompl(seq:str):\n",
        "    \"\"\"Renvoie le brin complémentaire d’une séquence.\n",
        "    entrée seq : sequence de nucléotides (brin sens)\n",
        "    sortie     : sequence de nucléotides (brin complementaire)\n",
        "    >>> reversecompl('AACGTGGCA')\n",
        "    'TGCCACGTT'\n",
        "    \"\"\"\n",
        "    compl = {'A': 'T', 'C': 'G', 'G': 'C', 'T':'A'}\n",
        "    res = \"\"\n",
        "    \n",
        "    for letter in seq :\n",
        "        res += compl.get(letter)\n",
        "    \n",
        "    return res[::-1]\n",
        "\n",
        "#Brin complémentaire\n",
        "sequence2 = reversecompl(seq)\n",
        "for i in range (len(sequence2) - motif_length + 1) :\n",
        "        motif = sequence2[i : i + motif_length]\n",
        "        sequences.append(motif)\n",
        "\n",
        "print(len(sequences))\n",
        "\n",
        "test_features = encode_sequences(sequences)\n",
        "print (test_features.shape)"
      ],
      "metadata": {
        "colab": {
          "base_uri": "https://localhost:8080/"
        },
        "id": "M1S3f-OtVk-2",
        "outputId": "84a09b92-5f4c-4234-893b-a460164c1d03"
      },
      "execution_count": 53,
      "outputs": [
        {
          "output_type": "stream",
          "name": "stdout",
          "text": [
            "1662\n",
            "(1662, 21, 4)\n"
          ]
        }
      ]
    },
    {
      "cell_type": "code",
      "source": [
        "predicted_labels = model2.predict(np.stack(test_features))\n",
        "#print(predicted_labels[:10])\n",
        "nomotif = 0\n",
        "yesmotif = 0\n",
        "\n",
        "for i in range(len(predicted_labels)) :\n",
        "  elmt = predicted_labels[i]\n",
        "  if elmt[1] >= 0.99 :\n",
        "    yesmotif += 1\n",
        "  else :\n",
        "    nomotif += 1\n",
        "\n",
        "print(nomotif, yesmotif)"
      ],
      "metadata": {
        "colab": {
          "base_uri": "https://localhost:8080/"
        },
        "id": "r7DL4FrVVqVA",
        "outputId": "ea45fbf3-ace7-496a-bb06-b360c9a415f6"
      },
      "execution_count": 63,
      "outputs": [
        {
          "output_type": "stream",
          "name": "stdout",
          "text": [
            "52/52 [==============================] - 0s 4ms/step\n",
            "31 1631\n"
          ]
        }
      ]
    }
  ],
  "metadata": {
    "colab": {
      "provenance": [],
      "collapsed_sections": [
        "G8w7E3QAR6Y2",
        "nI35hLHnTqD6",
        "HGqwce-GN0VD"
      ]
    },
    "kernelspec": {
      "display_name": "Python 3 (ipykernel)",
      "language": "python",
      "name": "python3"
    },
    "language_info": {
      "codemirror_mode": {
        "name": "ipython",
        "version": 3
      },
      "file_extension": ".py",
      "mimetype": "text/x-python",
      "name": "python",
      "nbconvert_exporter": "python",
      "pygments_lexer": "ipython3",
      "version": "3.11.2"
    }
  },
  "nbformat": 4,
  "nbformat_minor": 0
}