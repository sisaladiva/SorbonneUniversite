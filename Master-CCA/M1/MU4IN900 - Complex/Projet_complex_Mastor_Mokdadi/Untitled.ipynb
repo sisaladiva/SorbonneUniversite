{
 "cells": [
  {
   "cell_type": "code",
   "execution_count": 3,
   "id": "3e8c1cf7",
   "metadata": {},
   "outputs": [
    {
     "name": "stdout",
     "output_type": "stream",
     "text": [
      "The autoreload extension is already loaded. To reload it, use:\n",
      "  %reload_ext autoreload\n"
     ]
    }
   ],
   "source": [
    "%load_ext autoreload\n",
    "%autoreload 2\n",
    "    \n",
    "import Projet_Complex_AssiaMastor_AmelMokdadi"
   ]
  },
  {
   "cell_type": "code",
   "execution_count": null,
   "id": "4047b9c9",
   "metadata": {},
   "outputs": [],
   "source": [
    "print(Projet_Complex_AssiaMastor_AmelMokdadi.)"
   ]
  }
 ],
 "metadata": {
  "kernelspec": {
   "display_name": "Python 3 (ipykernel)",
   "language": "python",
   "name": "python3"
  },
  "language_info": {
   "codemirror_mode": {
    "name": "ipython",
    "version": 3
   },
   "file_extension": ".py",
   "mimetype": "text/x-python",
   "name": "python",
   "nbconvert_exporter": "python",
   "pygments_lexer": "ipython3",
   "version": "3.9.0"
  }
 },
 "nbformat": 4,
 "nbformat_minor": 5
}
